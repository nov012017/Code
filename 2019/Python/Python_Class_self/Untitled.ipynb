{
 "cells": [
  {
   "cell_type": "code",
   "execution_count": 3,
   "metadata": {},
   "outputs": [],
   "source": [
    "class person():\n",
    "    def __init__(self,Name,Gender,Age):\n",
    "        self.var1=var1\n",
    "        self.var2=var2\n",
    "        self.var3=var3"
   ]
  },
  {
   "cell_type": "code",
   "execution_count": 10,
   "metadata": {},
   "outputs": [
    {
     "ename": "TypeError",
     "evalue": "__init__() got an unexpected keyword argument 'Name'",
     "output_type": "error",
     "traceback": [
      "\u001b[1;31m---------------------------------------------------------------------------\u001b[0m",
      "\u001b[1;31mTypeError\u001b[0m                                 Traceback (most recent call last)",
      "\u001b[1;32m<ipython-input-10-22bac2fd777f>\u001b[0m in \u001b[0;36m<module>\u001b[1;34m()\u001b[0m\n\u001b[1;32m----> 1\u001b[1;33m \u001b[0mdivya\u001b[0m\u001b[1;33m=\u001b[0m\u001b[0mperson\u001b[0m\u001b[1;33m(\u001b[0m\u001b[0mName\u001b[0m\u001b[1;33m=\u001b[0m\u001b[1;34m'Divya'\u001b[0m\u001b[1;33m,\u001b[0m\u001b[0mGender\u001b[0m\u001b[1;33m=\u001b[0m\u001b[1;34m'Female'\u001b[0m\u001b[1;33m,\u001b[0m\u001b[0mAge\u001b[0m\u001b[1;33m=\u001b[0m\u001b[1;34m'27'\u001b[0m\u001b[1;33m)\u001b[0m\u001b[1;33m\u001b[0m\u001b[0m\n\u001b[0m\u001b[0;32m      2\u001b[0m \u001b[0mdivya\u001b[0m\u001b[1;33m.\u001b[0m\u001b[0mvar1\u001b[0m\u001b[1;33m\u001b[0m\u001b[0m\n\u001b[0;32m      3\u001b[0m \u001b[0mdivya\u001b[0m\u001b[1;33m.\u001b[0m\u001b[0mvar2\u001b[0m\u001b[1;33m\u001b[0m\u001b[0m\n",
      "\u001b[1;31mTypeError\u001b[0m: __init__() got an unexpected keyword argument 'Name'"
     ]
    }
   ],
   "source": [
    "divya=person(Name='Divya',Gender='Female',Age='27')\n",
    "divya.Name, divya.Gender"
   ]
  }
 ],
 "metadata": {
  "kernelspec": {
   "display_name": "Python 3",
   "language": "python",
   "name": "python3"
  },
  "language_info": {
   "codemirror_mode": {
    "name": "ipython",
    "version": 3
   },
   "file_extension": ".py",
   "mimetype": "text/x-python",
   "name": "python",
   "nbconvert_exporter": "python",
   "pygments_lexer": "ipython3",
   "version": "3.6.5"
  }
 },
 "nbformat": 4,
 "nbformat_minor": 2
}
