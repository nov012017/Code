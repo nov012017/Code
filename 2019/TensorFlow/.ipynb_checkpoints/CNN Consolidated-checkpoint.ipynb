{
 "cells": [
  {
   "cell_type": "code",
   "execution_count": 2,
   "metadata": {
    "scrolled": true
   },
   "outputs": [],
   "source": [
    "import keras"
   ]
  },
  {
   "cell_type": "code",
   "execution_count": 3,
   "metadata": {},
   "outputs": [],
   "source": [
    "from keras.datasets import mnist"
   ]
  },
  {
   "cell_type": "code",
   "execution_count": 4,
   "metadata": {},
   "outputs": [],
   "source": [
    "(X_train, y_train), (X_test, y_test) = mnist.load_data('mnist.npz')"
   ]
  },
  {
   "cell_type": "code",
   "execution_count": 5,
   "metadata": {},
   "outputs": [
    {
     "name": "stdout",
     "output_type": "stream",
     "text": [
      "(60000, 28, 28) (60000,) (10000, 28, 28) (10000,)\n"
     ]
    }
   ],
   "source": [
    "print(X_train.shape, y_train.shape, X_test.shape, y_test.shape)"
   ]
  },
  {
   "cell_type": "code",
   "execution_count": 6,
   "metadata": {},
   "outputs": [
    {
     "data": {
      "text/plain": [
       "array([5, 0, 4, 1, 9, 2, 1, 3, 1, 4], dtype=uint8)"
      ]
     },
     "execution_count": 6,
     "metadata": {},
     "output_type": "execute_result"
    }
   ],
   "source": [
    "y_train[:10]"
   ]
  },
  {
   "cell_type": "code",
   "execution_count": 7,
   "metadata": {},
   "outputs": [],
   "source": [
    "X_train=X_train.reshape(-1,28,28,1)\n",
    "X_test=X_test.reshape(-1,28,28,1)"
   ]
  },
  {
   "cell_type": "code",
   "execution_count": 8,
   "metadata": {},
   "outputs": [
    {
     "name": "stdout",
     "output_type": "stream",
     "text": [
      "(60000, 28, 28, 1) (10000, 28, 28, 1)\n"
     ]
    }
   ],
   "source": [
    "print(X_train.shape, X_test.shape)"
   ]
  },
  {
   "cell_type": "code",
   "execution_count": 9,
   "metadata": {},
   "outputs": [],
   "source": [
    "X_train = X_train.astype('float32')\n",
    "X_test = X_test.astype('float32')\n",
    "X_train /= 255.0\n",
    "X_test /= 255.0"
   ]
  },
  {
   "cell_type": "code",
   "execution_count": 10,
   "metadata": {},
   "outputs": [],
   "source": [
    "import matplotlib.pyplot as plt"
   ]
  },
  {
   "cell_type": "code",
   "execution_count": 11,
   "metadata": {},
   "outputs": [
    {
     "data": {
      "text/plain": [
       "(28, 28, 1)"
      ]
     },
     "execution_count": 11,
     "metadata": {},
     "output_type": "execute_result"
    }
   ],
   "source": [
    "X_train[0].shape"
   ]
  },
  {
   "cell_type": "code",
   "execution_count": 12,
   "metadata": {},
   "outputs": [],
   "source": [
    "#plt.imshow(X_train[0])"
   ]
  },
  {
   "cell_type": "code",
   "execution_count": 13,
   "metadata": {},
   "outputs": [],
   "source": [
    "from keras.utils.np_utils import to_categorical\n",
    "y_train_cat = to_categorical(y_train)\n",
    "y_test_cat = to_categorical(y_test)"
   ]
  },
  {
   "cell_type": "code",
   "execution_count": 49,
   "metadata": {},
   "outputs": [],
   "source": [
    "from keras.models import Sequential\n",
    "from keras.layers import Dense\n",
    "import keras.backend as K\n",
    "from keras.layers import MaxPool2D, AvgPool2D\n",
    "from keras.layers import Conv2D\n",
    "from keras.layers import Flatten, Activation, Dropout\n",
    "from keras.callbacks import EarlyStopping\n",
    "from keras.layers import BatchNormalization"
   ]
  },
  {
   "cell_type": "code",
   "execution_count": 52,
   "metadata": {},
   "outputs": [
    {
     "name": "stdout",
     "output_type": "stream",
     "text": [
      "Train on 42000 samples, validate on 18000 samples\n",
      "Epoch 1/2\n",
      "42000/42000 [==============================] - 9s 205us/step - loss: 0.8951 - acc: 0.7190 - val_loss: 0.4013 - val_acc: 0.8858\n",
      "Epoch 2/2\n",
      "42000/42000 [==============================] - 14s 334us/step - loss: 0.3932 - acc: 0.8937 - val_loss: 0.2908 - val_acc: 0.9167\n",
      "_________________________________________________________________\n",
      "Layer (type)                 Output Shape              Param #   \n",
      "=================================================================\n",
      "conv2d_1 (Conv2D)            (None, 10, 10, 32)        320       \n",
      "_________________________________________________________________\n",
      "activation_1 (Activation)    (None, 10, 10, 32)        0         \n",
      "_________________________________________________________________\n",
      "max_pooling2d_1 (MaxPooling2 (None, 5, 5, 32)          0         \n",
      "_________________________________________________________________\n",
      "conv2d_2 (Conv2D)            (None, 3, 3, 16)          4624      \n",
      "_________________________________________________________________\n",
      "activation_2 (Activation)    (None, 3, 3, 16)          0         \n",
      "_________________________________________________________________\n",
      "max_pooling2d_2 (MaxPooling2 (None, 1, 1, 16)          0         \n",
      "_________________________________________________________________\n",
      "flatten_1 (Flatten)          (None, 16)                0         \n",
      "_________________________________________________________________\n",
      "dense_1 (Dense)              (None, 128)               2176      \n",
      "_________________________________________________________________\n",
      "dropout_1 (Dropout)          (None, 128)               0         \n",
      "_________________________________________________________________\n",
      "batch_normalization_1 (Batch (None, 128)               512       \n",
      "_________________________________________________________________\n",
      "dense_2 (Dense)              (None, 10)                1290      \n",
      "=================================================================\n",
      "Total params: 8,922\n",
      "Trainable params: 8,666\n",
      "Non-trainable params: 256\n",
      "_________________________________________________________________\n"
     ]
    }
   ],
   "source": [
    "K.clear_session()\n",
    "\n",
    "model=Sequential()\n",
    "model.add(Conv2D(32,(3,3),strides=(3,3),input_shape=(28,28,1),padding='same'))\n",
    "model.add(Activation('relu'))\n",
    "model.add(MaxPool2D(pool_size=(2,2),padding='valid'))\n",
    "\n",
    "model.add(Conv2D(16, (3, 3),padding='valid'))\n",
    "model.add(Activation('relu'))\n",
    "model.add(MaxPool2D(pool_size=(2, 2),strides=(2,2)))\n",
    "\n",
    "model.add(Flatten())\n",
    "model.add(Dense(128, activation='relu',kernel_regularizer='l2',kernel_initializer='normal'))\n",
    "model.add(Dropout(0.5))\n",
    "model.add(BatchNormalization())\n",
    "model.add(Dense(10, activation='softmax'))\n",
    "\n",
    "model.compile(loss='categorical_crossentropy',\n",
    "              optimizer='adam',\n",
    "              metrics=['accuracy'])\n",
    "\n",
    "history_modle=model.fit(X_train, y_train_cat, batch_size=128,\n",
    "          epochs=2, verbose=1, validation_split=0.3)\n",
    "\n",
    "#model.evaluate(X_test, y_test_cat)\n",
    "model.summary()"
   ]
  },
  {
   "cell_type": "code",
   "execution_count": 48,
   "metadata": {},
   "outputs": [
    {
     "data": {
      "text/plain": [
       "[array([[[[ 0.00748609,  0.097225  , -0.22764961,  0.33023518,\n",
       "            0.14206353,  0.19772962, -0.23413923,  0.06668871,\n",
       "           -0.11661462,  0.09370302,  0.11324956,  0.06969827,\n",
       "            0.3388792 ,  0.21541919,  0.27057305,  0.05301355,\n",
       "           -0.20058694,  0.28138372, -0.01850993,  0.46941045,\n",
       "            0.05606368,  0.17623447, -0.09003447,  0.00536262,\n",
       "           -0.01699181,  0.31340587,  0.02446621,  0.17081437,\n",
       "            0.02454955, -0.2055105 ,  0.07148643,  0.25199574]],\n",
       " \n",
       "         [[ 0.18476951,  0.21471481, -0.12244528,  0.05545159,\n",
       "            0.15578258,  0.11836264, -0.25982788,  0.13558544,\n",
       "           -0.3020292 ,  0.19788477,  0.26194742, -0.06891528,\n",
       "            0.19635476, -0.03923653,  0.3179602 ,  0.22671661,\n",
       "            0.05898552,  0.22828153, -0.30599967,  0.28309765,\n",
       "           -0.12737763, -0.00398744, -0.36243388, -0.05157972,\n",
       "            0.19974285,  0.17427778, -0.2354431 ,  0.1363127 ,\n",
       "            0.07446218, -0.01876748,  0.24705707,  0.03207736]],\n",
       " \n",
       "         [[ 0.11411278,  0.32805395,  0.31493762, -0.00117676,\n",
       "            0.3320192 , -0.10955165, -0.32657516,  0.21962395,\n",
       "           -0.2925515 , -0.24151738,  0.25118303,  0.1476186 ,\n",
       "            0.04477986, -0.39027187,  0.03373922,  0.17450355,\n",
       "            0.09502628,  0.30590105, -0.3906808 ,  0.10022447,\n",
       "            0.18880744, -0.17008808, -0.30850565, -0.04210679,\n",
       "            0.17537613, -0.17092149, -0.43069893,  0.16679409,\n",
       "            0.27581793,  0.2846454 ,  0.30096006, -0.22741717]]],\n",
       " \n",
       " \n",
       "        [[[ 0.19767788,  0.20757698, -0.29357457,  0.15996261,\n",
       "           -0.14624083,  0.30864853, -0.38974738,  0.04382188,\n",
       "           -0.2195142 ,  0.30208522, -0.04004517,  0.20974104,\n",
       "            0.29089937,  0.33746532, -0.08497117,  0.19348264,\n",
       "           -0.1210106 , -0.14200015,  0.30810085,  0.10727368,\n",
       "            0.04566066,  0.20828712,  0.03356288, -0.04061249,\n",
       "           -0.13645501,  0.21268865,  0.12111053,  0.10627081,\n",
       "            0.13346106, -0.24926037, -0.09474026,  0.15574224]],\n",
       " \n",
       "         [[ 0.04360091,  0.0291999 , -0.00733882,  0.15611494,\n",
       "            0.05720364,  0.17094289, -0.13905698, -0.05080051,\n",
       "           -0.06139085,  0.02661698, -0.07486325,  0.14315061,\n",
       "            0.02864975, -0.020969  , -0.06390994,  0.1744691 ,\n",
       "            0.03762906, -0.10285994,  0.14814527, -0.12755029,\n",
       "           -0.09672683,  0.02815543,  0.12361255, -0.09122269,\n",
       "            0.11565083, -0.00886172, -0.06084839, -0.0535285 ,\n",
       "            0.17210662, -0.09917136,  0.06939066,  0.08995574]],\n",
       " \n",
       "         [[ 0.24126361,  0.00353684,  0.08543172,  0.06893507,\n",
       "           -0.08036353,  0.07999333, -0.04963713,  0.15384838,\n",
       "           -0.01642421, -0.38504478,  0.2139646 ,  0.06282068,\n",
       "            0.09565529, -0.24353589, -0.25060448,  0.10698736,\n",
       "            0.22236341,  0.08533084, -0.11114378, -0.41657695,\n",
       "            0.2610957 ,  0.04527023, -0.0014545 , -0.0297616 ,\n",
       "            0.19585589, -0.07982986, -0.17866671,  0.18336585,\n",
       "            0.09068092,  0.19902728,  0.3592077 , -0.36502132]]],\n",
       " \n",
       " \n",
       "        [[[ 0.07844795,  0.08954539, -0.20898966, -0.1843321 ,\n",
       "           -0.2510425 ,  0.25386155,  0.11125013,  0.10874312,\n",
       "           -0.19792588,  0.36368036, -0.3589358 ,  0.17192017,\n",
       "           -0.02675457, -0.0045118 , -0.3676986 ,  0.1589656 ,\n",
       "            0.14307122, -0.24243109,  0.1536197 , -0.09573038,\n",
       "            0.35277772,  0.24874356,  0.24763808, -0.01966131,\n",
       "           -0.18232928,  0.05940788,  0.3674427 ,  0.08078223,\n",
       "           -0.26217347, -0.20028666, -0.44234696,  0.2889448 ]],\n",
       " \n",
       "         [[ 0.15059705,  0.18405549,  0.09994954, -0.04391757,\n",
       "           -0.24216022,  0.07976357,  0.38601667,  0.12051475,\n",
       "           -0.28609118, -0.0477968 , -0.15087269,  0.0963068 ,\n",
       "            0.02293232, -0.27882707, -0.21801805,  0.22630402,\n",
       "            0.07744005, -0.22748089,  0.22393855, -0.3256689 ,\n",
       "            0.23318113, -0.02333942,  0.18979311, -0.13162301,\n",
       "            0.04296635,  0.02381328,  0.32365584,  0.05142837,\n",
       "           -0.1843617 , -0.04765273, -0.3329538 ,  0.0664576 ]],\n",
       " \n",
       "         [[ 0.25965583, -0.03950003,  0.36297724,  0.38573223,\n",
       "           -0.38489437,  0.2388339 ,  0.39871937, -0.084677  ,\n",
       "           -0.216436  , -0.29388282,  0.17469977,  0.32808292,\n",
       "            0.25064975, -0.28219143, -0.08379379,  0.03336282,\n",
       "            0.28042543, -0.2340649 ,  0.25958085, -0.22927698,\n",
       "            0.20477034, -0.05700197,  0.21589296, -0.04187018,\n",
       "            0.15092745,  0.07380082,  0.21953587,  0.24014342,\n",
       "           -0.3502685 ,  0.330928  , -0.15479699, -0.21332021]]]],\n",
       "       dtype=float32),\n",
       " array([ 8.24406161e-04,  1.66693202e-03,  4.58370778e-04, -2.81047029e-03,\n",
       "         3.70547106e-03, -2.86922976e-03,  9.86099988e-03, -6.38699741e-04,\n",
       "         3.75216752e-01, -1.17708119e-02, -6.01594755e-03,  1.26392860e-03,\n",
       "        -1.54275144e-03,  1.34333357e-01,  4.23343033e-02,  2.39943690e-03,\n",
       "        -1.17429551e-02,  8.53929960e-05,  8.00020713e-03, -9.32152470e-05,\n",
       "        -1.80170510e-03, -9.07799229e-03,  1.32147875e-02, -8.72439239e-03,\n",
       "        -9.69423074e-03, -1.22557161e-02,  3.00280959e-03,  5.29403449e-04,\n",
       "         3.50817526e-03,  2.71288957e-03,  2.90941354e-03, -8.54092743e-03],\n",
       "       dtype=float32),\n",
       " array([[[[-1.74047038e-01,  5.56385368e-02, -6.61155507e-02, ...,\n",
       "            1.16273247e-01, -3.60885933e-02, -1.46713592e-02],\n",
       "          [-1.31647274e-01,  9.36012994e-03, -1.33308023e-01, ...,\n",
       "           -3.08337770e-02, -6.91228546e-03, -3.52662653e-02],\n",
       "          [ 5.73336631e-02, -1.37314305e-01, -3.15030254e-02, ...,\n",
       "            1.29287913e-01, -1.00547023e-01,  6.98627234e-02],\n",
       "          ...,\n",
       "          [ 9.06023458e-02, -1.14761263e-01, -1.77274346e-02, ...,\n",
       "            1.33739635e-01, -6.31902814e-02, -7.69324042e-03],\n",
       "          [-1.10752463e-01,  3.60128917e-02, -1.78306311e-01, ...,\n",
       "            2.05915362e-01,  1.50906146e-01, -6.00709878e-02],\n",
       "          [-1.05023816e-01,  1.53910916e-03, -3.32609285e-03, ...,\n",
       "           -7.18731992e-03, -3.28156948e-02,  1.57571584e-01]],\n",
       " \n",
       "         [[-1.54982582e-01,  6.32795244e-02,  7.40956813e-02, ...,\n",
       "            1.32584363e-01, -9.66323540e-02,  9.35233757e-02],\n",
       "          [-1.80976048e-01, -2.10911501e-02,  6.70535862e-02, ...,\n",
       "            4.68613990e-02,  6.76157624e-02,  1.50682285e-01],\n",
       "          [-3.97299863e-02, -1.92788765e-01,  3.69762518e-02, ...,\n",
       "           -4.58132243e-03,  4.68853787e-02,  8.05622861e-02],\n",
       "          ...,\n",
       "          [-2.53328029e-02, -1.94696859e-02,  1.49130628e-01, ...,\n",
       "            6.67390749e-02, -8.11562967e-03,  1.12420909e-01],\n",
       "          [-2.70517766e-01,  2.05356538e-01, -2.12842718e-01, ...,\n",
       "            2.05781549e-01,  1.82486579e-01,  1.56743526e-01],\n",
       "          [-2.36317813e-01, -1.18656889e-01,  8.00971091e-02, ...,\n",
       "            1.09789811e-01, -1.30228996e-01,  4.87224050e-02]],\n",
       " \n",
       "         [[-1.33736566e-01, -1.15863264e-01,  1.87918842e-02, ...,\n",
       "            1.10391364e-01, -7.52341747e-02, -1.18743926e-01],\n",
       "          [-1.55796722e-01, -1.42610185e-02,  4.70067300e-02, ...,\n",
       "            4.31845337e-02, -2.08419887e-03,  7.26941228e-02],\n",
       "          [-8.63637403e-02, -2.00261436e-02,  9.10361856e-02, ...,\n",
       "            2.17786700e-01,  1.99751318e-01,  6.13416024e-02],\n",
       "          ...,\n",
       "          [-2.02936783e-01, -1.52866945e-01,  4.07392532e-02, ...,\n",
       "            1.79249987e-01,  2.14549631e-01,  5.38329221e-02],\n",
       "          [-1.98285460e-01, -7.87855834e-02, -1.95907399e-01, ...,\n",
       "            5.27398624e-02, -1.32102206e-01, -2.43845582e-01],\n",
       "          [-2.96189226e-02,  5.50250411e-02,  1.59639850e-01, ...,\n",
       "            7.47833624e-02,  1.76053584e-01,  7.23861158e-02]]],\n",
       " \n",
       " \n",
       "        [[[ 3.85247208e-02,  5.47304265e-02, -1.90275490e-01, ...,\n",
       "            6.65210187e-03, -6.15426004e-02, -1.78838484e-02],\n",
       "          [-7.50788897e-02,  5.10504730e-02, -2.02932075e-01, ...,\n",
       "           -2.94295140e-02, -3.98317762e-02,  1.26401857e-01],\n",
       "          [ 1.82380125e-01, -4.19750363e-02,  1.11485511e-01, ...,\n",
       "           -8.03090725e-03, -1.01547606e-01,  1.84681743e-01],\n",
       "          ...,\n",
       "          [ 7.65240565e-02, -6.39200509e-02,  5.19280210e-02, ...,\n",
       "            9.86009985e-02, -1.04220361e-02,  9.59031358e-02],\n",
       "          [-9.28171203e-02, -7.08817020e-02, -1.88334987e-01, ...,\n",
       "            8.89224112e-02,  1.86373398e-01,  1.97270378e-01],\n",
       "          [ 1.99417278e-01, -1.70942664e-01, -2.31210351e-01, ...,\n",
       "           -6.43766671e-02, -9.05998610e-03,  2.41442740e-01]],\n",
       " \n",
       "         [[ 1.23354010e-01, -5.25549650e-02,  1.11046091e-01, ...,\n",
       "            6.76862299e-02,  1.21446863e-01,  4.39833328e-02],\n",
       "          [-4.29769345e-02,  6.98965490e-02,  1.25726161e-04, ...,\n",
       "            8.03805888e-03,  6.11263923e-02,  1.38469215e-03],\n",
       "          [-2.12694351e-02,  3.91501859e-02,  2.19707116e-01, ...,\n",
       "            9.30944905e-02, -2.35418491e-02,  2.13024914e-01],\n",
       "          ...,\n",
       "          [ 9.33153331e-02,  4.05033976e-02,  4.70351651e-02, ...,\n",
       "            1.60055175e-01, -4.05387431e-02,  5.21844663e-02],\n",
       "          [-1.26364827e-01, -5.75725511e-02, -3.71686518e-01, ...,\n",
       "            4.23884136e-04, -1.55575331e-02, -2.31866594e-02],\n",
       "          [ 4.89894338e-02, -1.36473894e-01,  1.33130819e-01, ...,\n",
       "           -9.87481400e-02,  2.04710998e-02, -6.89272135e-02]],\n",
       " \n",
       "         [[-6.73184404e-03, -1.36570945e-01, -1.23526134e-01, ...,\n",
       "            6.31875247e-02,  3.53772081e-02,  1.53370246e-01],\n",
       "          [ 8.70213807e-02,  5.38966618e-02,  1.53390784e-03, ...,\n",
       "            1.42117694e-01,  1.32592827e-01,  8.93971100e-02],\n",
       "          [-3.16722453e-01,  3.55487084e-03,  3.37737113e-01, ...,\n",
       "            1.53657570e-01,  2.45271027e-01,  7.57784024e-02],\n",
       "          ...,\n",
       "          [-2.22347856e-01, -2.12662145e-02,  2.25244418e-01, ...,\n",
       "           -9.65330563e-03,  3.37179214e-01, -4.75820974e-02],\n",
       "          [ 3.35996062e-01, -2.91775525e-01, -2.47612596e-01, ...,\n",
       "           -1.08589873e-01, -3.02656014e-02, -4.13289756e-01],\n",
       "          [-2.83054803e-02, -9.07584131e-02,  3.62334773e-02, ...,\n",
       "            1.74771518e-01,  1.08655691e-01,  1.96092427e-01]]],\n",
       " \n",
       " \n",
       "        [[[ 1.12378344e-01,  5.94951399e-03, -6.91686049e-02, ...,\n",
       "           -3.84962223e-02,  1.17371781e-02, -1.02683373e-01],\n",
       "          [ 5.65068275e-02,  1.13418818e-01,  3.94637659e-02, ...,\n",
       "            1.61446314e-02,  7.21529275e-02, -1.01383321e-01],\n",
       "          [ 1.17901750e-01,  2.06815735e-01,  1.19851187e-01, ...,\n",
       "            1.87608451e-01,  1.14037305e-01, -1.07892700e-01],\n",
       "          ...,\n",
       "          [ 1.90282241e-01,  1.17781974e-01,  3.81315090e-02, ...,\n",
       "           -3.52290049e-02,  8.57478976e-02, -2.47691914e-01],\n",
       "          [ 1.47384644e-01,  5.51220886e-02, -1.85811773e-01, ...,\n",
       "           -1.04725920e-01, -1.09186217e-01,  5.79558872e-02],\n",
       "          [ 1.79079592e-01, -4.49384861e-02, -4.91133742e-02, ...,\n",
       "            1.12266943e-01,  4.25824150e-02, -2.71866143e-01]],\n",
       " \n",
       "         [[-1.29707247e-01,  9.59447548e-02,  2.74588764e-02, ...,\n",
       "           -1.88248307e-02, -1.31030843e-01, -3.66314352e-02],\n",
       "          [-2.13041231e-02,  4.67260666e-02,  1.54197857e-01, ...,\n",
       "           -1.38442907e-02, -8.86588693e-02,  3.22413035e-02],\n",
       "          [-1.07829481e-01,  9.12342519e-02, -2.21840646e-02, ...,\n",
       "            2.59994566e-01, -1.10533230e-01,  4.53182869e-02],\n",
       "          ...,\n",
       "          [-4.75126207e-02, -8.00786316e-02,  1.25625551e-01, ...,\n",
       "            2.59319216e-01, -1.88357696e-01,  2.36860272e-02],\n",
       "          [ 1.89440936e-01,  1.40472010e-01,  6.58928230e-02, ...,\n",
       "           -2.11718567e-02, -1.49393097e-01, -1.61280692e-01],\n",
       "          [ 6.96882606e-02, -2.15398688e-02,  1.78605452e-01, ...,\n",
       "            2.01471686e-01,  1.38414025e-01,  7.37693235e-02]],\n",
       " \n",
       "         [[-2.44401265e-02,  1.37299284e-01,  2.16909591e-02, ...,\n",
       "           -1.40710488e-01,  1.07651949e-01, -1.94077700e-01],\n",
       "          [ 1.00206256e-01,  1.56211868e-01,  1.22528762e-01, ...,\n",
       "           -6.49493635e-02,  1.67296484e-01, -1.97639018e-01],\n",
       "          [ 7.15981796e-02, -1.08410574e-01,  4.76469621e-02, ...,\n",
       "           -1.71642840e-01,  2.03603789e-01, -8.84884968e-02],\n",
       "          ...,\n",
       "          [ 7.74554685e-02, -5.95516227e-02, -4.91227992e-02, ...,\n",
       "           -1.75552517e-01,  1.83132380e-01, -2.77829200e-01],\n",
       "          [ 2.64121480e-02,  1.43701792e-01, -5.03585637e-02, ...,\n",
       "           -1.48575366e-01, -2.64800582e-02,  1.25150522e-02],\n",
       "          [ 8.99514630e-02,  2.52163764e-02, -2.34398041e-02, ...,\n",
       "           -2.16486808e-02, -1.11692371e-02, -1.36907026e-01]]]],\n",
       "       dtype=float32),\n",
       " array([-0.03734394, -0.04462402,  0.00578757,  0.02155399,  0.02458866,\n",
       "         0.04132814, -0.04398289,  0.02033655,  0.00186541,  0.05982485,\n",
       "        -0.00544635,  0.0194991 ,  0.0317436 , -0.00654503, -0.00974144,\n",
       "         0.03539939], dtype=float32),\n",
       " array([[ 0.13125148,  0.0918618 , -0.22680776, ..., -0.00194577,\n",
       "         -0.15282458,  0.17828475],\n",
       "        [-0.11994923, -0.06103454, -0.06448163, ..., -0.16314721,\n",
       "         -0.15469652, -0.01412882],\n",
       "        [-0.32281238, -0.2311259 , -0.16324686, ...,  0.0127942 ,\n",
       "         -0.00732751,  0.0428326 ],\n",
       "        ...,\n",
       "        [ 0.12572159, -0.16882433, -0.22504313, ...,  0.08118313,\n",
       "          0.1922151 , -0.0927051 ],\n",
       "        [ 0.00172262,  0.01201143, -0.13045427, ...,  0.14491375,\n",
       "          0.14307946, -0.0385024 ],\n",
       "        [-0.18243289, -0.02080115, -0.11136054, ..., -0.08169654,\n",
       "         -0.03925061, -0.18940009]], dtype=float32),\n",
       " array([ 4.6698920e-02,  8.4757768e-02,  1.7458549e-02, -1.1926218e-02,\n",
       "        -2.7354401e-02,  6.2786289e-02,  3.8556382e-02, -8.3594369e-03,\n",
       "        -1.3843181e-02, -2.0788968e-02,  3.4000263e-02,  6.0464279e-04,\n",
       "        -2.0558804e-02,  2.2330241e-02,  7.4928395e-02,  1.7809450e-03,\n",
       "        -6.6909320e-03,  2.6734652e-02,  5.7923798e-02, -1.6297314e-02,\n",
       "         4.5547333e-02, -6.8028504e-03,  4.6740871e-02,  3.2546144e-02,\n",
       "         4.2890366e-02,  4.7799129e-02,  5.0317552e-03, -2.2626597e-02,\n",
       "         1.3215739e-02,  5.8400922e-02, -6.2810495e-02,  3.8404487e-02,\n",
       "         2.3426516e-03,  3.8029406e-02, -6.5705855e-05,  5.3136047e-02,\n",
       "        -9.2279697e-03,  4.1547683e-03, -1.2436622e-02, -9.4867153e-03,\n",
       "        -7.0933546e-03,  0.0000000e+00,  1.6670421e-02,  4.5180626e-02,\n",
       "        -4.2362139e-03,  4.5818519e-02,  1.6038422e-03,  6.0515314e-02,\n",
       "         3.9896887e-02, -3.0252492e-02,  2.4958758e-03,  5.1714610e-02,\n",
       "         2.0670136e-02, -2.9021362e-03,  4.2446967e-02, -5.5840053e-02,\n",
       "         2.2239767e-02, -8.5597048e-03,  1.2881895e-02, -1.7040608e-02,\n",
       "        -1.6309645e-02,  2.8954562e-02,  4.0454775e-02, -1.5925119e-02,\n",
       "        -1.0572567e-02, -6.8071424e-03,  2.3777904e-03, -4.5064304e-02,\n",
       "        -2.6724126e-02, -1.5513621e-02, -5.9998417e-03,  9.4100665e-03,\n",
       "        -7.9316525e-03, -4.4836480e-02,  1.3746062e-03, -1.3292044e-02,\n",
       "        -3.0143745e-02,  1.3991338e-02, -3.6783852e-02,  4.9552757e-02,\n",
       "         1.5196034e-04,  1.0363861e-02,  0.0000000e+00,  3.2929417e-02,\n",
       "         4.2765699e-02, -1.4488931e-02, -2.8780269e-02, -3.3974826e-02,\n",
       "        -1.1790288e-02, -3.0286258e-02,  7.2409287e-02, -5.9996252e-03,\n",
       "         1.6543431e-03,  9.8755052e-03, -1.9438431e-02, -2.9927416e-02,\n",
       "         2.8591998e-02, -1.4428145e-02,  4.7758035e-02,  6.3761417e-03,\n",
       "         1.9292165e-02,  4.0871147e-02, -1.0783451e-02, -7.3669273e-03,\n",
       "        -5.1015774e-03, -4.5019425e-02, -1.6541809e-02, -1.5181639e-02,\n",
       "         9.2062652e-03, -5.0143819e-02, -1.9098522e-02, -4.8279531e-02,\n",
       "         0.0000000e+00, -4.0581476e-02,  9.9584013e-03,  4.9658358e-02,\n",
       "        -2.4371593e-04,  2.6772956e-03, -2.9048700e-02, -1.7184149e-02,\n",
       "         0.0000000e+00, -2.2410084e-02,  5.3714305e-02,  3.5251537e-03,\n",
       "        -5.9971847e-03, -1.8260166e-02,  9.3098376e-03,  9.3670636e-03],\n",
       "       dtype=float32),\n",
       " array([[ 0.06115006, -0.23672542,  0.0754617 , ...,  0.1069748 ,\n",
       "          0.0747982 , -0.1419286 ],\n",
       "        [-0.09232645, -0.33603463,  0.18629372, ...,  0.01446468,\n",
       "         -0.15118895, -0.258693  ],\n",
       "        [-0.05018967,  0.19324271,  0.14697184, ...,  0.03412851,\n",
       "          0.19555481, -0.3223319 ],\n",
       "        ...,\n",
       "        [-0.17365468, -0.13823096, -0.19932373, ..., -0.10047901,\n",
       "         -0.17501445, -0.11081105],\n",
       "        [ 0.18502575,  0.22275603,  0.17735142, ...,  0.14734411,\n",
       "          0.21489446, -0.05626901],\n",
       "        [ 0.28397042, -0.11115745,  0.04581434, ..., -0.21695046,\n",
       "         -0.288298  ,  0.06472378]], dtype=float32),\n",
       " array([-0.10334802,  0.02048799,  0.05632567,  0.03473758, -0.0085086 ,\n",
       "         0.0326531 , -0.05933917, -0.03315251,  0.05762327, -0.01256888],\n",
       "       dtype=float32)]"
      ]
     },
     "execution_count": 48,
     "metadata": {},
     "output_type": "execute_result"
    }
   ],
   "source": [
    "# store the initial random weights\n",
    "initial_weights = model.get_weights()\n",
    "initial_weights"
   ]
  },
  {
   "cell_type": "code",
   "execution_count": 44,
   "metadata": {},
   "outputs": [
    {
     "data": {
      "text/plain": [
       "<tf.Tensor 'conv2d_1/BiasAdd:0' shape=(?, 10, 10, 32) dtype=float32>"
      ]
     },
     "execution_count": 44,
     "metadata": {},
     "output_type": "execute_result"
    }
   ],
   "source": [
    "input=model.layers[1].input\n",
    "input"
   ]
  },
  {
   "cell_type": "code",
   "execution_count": 41,
   "metadata": {},
   "outputs": [
    {
     "data": {
      "text/plain": [
       "<tf.Tensor 'max_pooling2d_1/MaxPool:0' shape=(?, 5, 5, 32) dtype=float32>"
      ]
     },
     "execution_count": 41,
     "metadata": {},
     "output_type": "execute_result"
    }
   ],
   "source": [
    "output=model.layers[2].output\n",
    "output"
   ]
  },
  {
   "cell_type": "code",
   "execution_count": 42,
   "metadata": {},
   "outputs": [
    {
     "data": {
      "text/plain": [
       "TensorShape([Dimension(None), Dimension(10), Dimension(10), Dimension(32)])"
      ]
     },
     "execution_count": 42,
     "metadata": {},
     "output_type": "execute_result"
    }
   ],
   "source": [
    "input.shape"
   ]
  },
  {
   "cell_type": "code",
   "execution_count": 29,
   "metadata": {},
   "outputs": [
    {
     "data": {
      "text/plain": [
       "TensorShape([Dimension(None), Dimension(5), Dimension(5), Dimension(32)])"
      ]
     },
     "execution_count": 29,
     "metadata": {},
     "output_type": "execute_result"
    }
   ],
   "source": [
    "output.shape"
   ]
  },
  {
   "cell_type": "code",
   "execution_count": 30,
   "metadata": {},
   "outputs": [
    {
     "name": "stdout",
     "output_type": "stream",
     "text": [
      "10000/10000 [==============================] - 1s 61us/step\n"
     ]
    },
    {
     "data": {
      "text/plain": [
       "[0.5320598955154419, 0.8352]"
      ]
     },
     "execution_count": 30,
     "metadata": {},
     "output_type": "execute_result"
    }
   ],
   "source": [
    "model.evaluate(X_test, y_test_cat)"
   ]
  },
  {
   "cell_type": "code",
   "execution_count": 53,
   "metadata": {},
   "outputs": [
    {
     "data": {
      "text/plain": [
       "Text(0.5,0,'Epochs')"
      ]
     },
     "execution_count": 53,
     "metadata": {},
     "output_type": "execute_result"
    },
    {
     "data": {
      "image/png": "[encoded data removed]",
      "text/plain": [
       "<Figure size 432x288 with 1 Axes>"
      ]
     },
     "metadata": {},
     "output_type": "display_data"
    }
   ],
   "source": [
    "plt.plot(history_modle.history['acc'])\n",
    "plt.plot(history_modle.history['val_acc'])\n",
    "plt.legend(['Training', 'Validation'])\n",
    "plt.title('Accuracy')\n",
    "plt.xlabel('Epochs')"
   ]
  },
  {
   "cell_type": "code",
   "execution_count": 35,
   "metadata": {},
   "outputs": [
    {
     "data": {
      "text/plain": [
       "<keras.callbacks.History at 0x4382cc7ac8>"
      ]
     },
     "execution_count": 35,
     "metadata": {},
     "output_type": "execute_result"
    }
   ],
   "source": [
    "model.history"
   ]
  }
 ],
 "metadata": {
  "kernelspec": {
   "display_name": "Python 3",
   "language": "python",
   "name": "python3"
  },
  "language_info": {
   "codemirror_mode": {
    "name": "ipython",
    "version": 3
   },
   "file_extension": ".py",
   "mimetype": "text/x-python",
   "name": "python",
   "nbconvert_exporter": "python",
   "pygments_lexer": "ipython3",
   "version": "3.6.5"
  }
 },
 "nbformat": 4,
 "nbformat_minor": 2
}
