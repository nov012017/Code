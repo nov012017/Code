{
 "cells": [
  {
   "cell_type": "code",
   "execution_count": 6,
   "metadata": {},
   "outputs": [
    {
     "name": "stdout",
     "output_type": "stream",
     "text": [
      "[0.05, 0.05, 0.05, 0.8, 0.05]\n",
      "[0.05 0.05 0.05 0.8  0.05]\n",
      "[0.05 0.05 0.05 0.8  0.05]\n",
      "************************************************************\n",
      "[0.73, 0.05, 0.01, 0.2, 0.02]\n",
      "[0.73 0.05 0.01 0.2  0.02]\n",
      "[0.73 0.05 0.01 0.2  0.02]\n",
      "************************************************************\n",
      "[0.02, 0.03, 0.01, 0.75, 0.19]\n",
      "[0.02 0.03 0.01 0.75 0.19]\n",
      "[0.02 0.03 0.01 0.75 0.19]\n",
      "************************************************************\n",
      "[0.01, 0.02, 0.83, 0.12, 0.02]\n",
      "[0.01 0.02 0.83 0.12 0.02]\n",
      "[0.01 0.02 0.83 0.12 0.02]\n",
      "************************************************************\n",
      "0.09857257085949875\n"
     ]
    }
   ],
   "source": [
    "from __future__ import division\n",
    "\n",
    "import csv\n",
    "import os\n",
    "import scipy as sp\n",
    "\n",
    "def llfun(act, pred):\n",
    "    epsilon = 1e-15\n",
    "    print(pred)\n",
    "    pred = sp.maximum(epsilon, pred)\n",
    "    print(pred)\n",
    "    pred = sp.minimum(1-epsilon, pred)\n",
    "    print(pred)\n",
    "    print('*'*60)\n",
    "    ll = sum(act*sp.log(pred) + sp.subtract(1,act)*sp.log(sp.subtract(1,pred)))\n",
    "    ll = ll * -1.0/len(act)\n",
    "    return ll\n",
    "\n",
    "def main():\n",
    "    pred = [\n",
    "        [0.05,0.05,0.05,0.8,0.05],\n",
    "        [0.73,0.05,0.01,0.20,0.02],\n",
    "        [0.02,0.03,0.01,0.75,0.19],\n",
    "        [0.01,0.02,0.83,0.12,0.02]\n",
    "        ]\n",
    "    act = [\n",
    "           [0,0,0,1,0],\n",
    "           [1,0,0,0,0],\n",
    "           [0,0,0,1,0],\n",
    "           [0,0,1,0,0]\n",
    "           ]\n",
    "\n",
    "    scores = []\n",
    "    for index in range(0, len(pred)):\n",
    "        result = llfun(act[index], pred[index])\n",
    "        scores.append(result)\n",
    "\n",
    "    print(sum(scores) / len(scores)) # 0.0985725708595\n",
    "\n",
    "if __name__ == '__main__':\n",
    "    main()"
   ]
  },
  {
   "cell_type": "code",
   "execution_count": 21,
   "metadata": {},
   "outputs": [
    {
     "name": "stdout",
     "output_type": "stream",
     "text": [
      "[-0.         -0.         -0.         -0.22314355 -0.        ]\n",
      "[-0.31471074 -0.         -0.         -0.         -0.        ]\n",
      "[-0.         -0.         -0.         -0.28768207 -0.        ]\n",
      "[-0.         -0.         -0.18632958 -0.         -0.        ]\n"
     ]
    }
   ],
   "source": [
    "pred = [\n",
    "        [0.05,0.05,0.05,0.8,0.05],\n",
    "        [0.73,0.05,0.01,0.20,0.02],\n",
    "        [0.02,0.03,0.01,0.75,0.19],\n",
    "        [0.01,0.02,0.83,0.12,0.02]\n",
    "        ]\n",
    "act = [[0,0,0,1,0],\n",
    "           [1,0,0,0,0],\n",
    "           [0,0,0,1,0],\n",
    "           [0,0,1,0,0]]\n",
    "\n",
    "for i in range(0,len(pred)):\n",
    "    print(act[i]*sp.log(pred[i]))"
   ]
  },
  {
   "cell_type": "code",
   "execution_count": 27,
   "metadata": {},
   "outputs": [
    {
     "name": "stderr",
     "output_type": "stream",
     "text": [
      "C:\\Users\\prudi\\Anaconda3\\lib\\site-packages\\ipykernel_launcher.py:2: RuntimeWarning: divide by zero encountered in log\n",
      "  \n"
     ]
    },
    {
     "data": {
      "text/plain": [
       "-inf"
      ]
     },
     "execution_count": 27,
     "metadata": {},
     "output_type": "execute_result"
    }
   ],
   "source": []
  }
 ],
 "metadata": {
  "kernelspec": {
   "display_name": "Python 3",
   "language": "python",
   "name": "python3"
  },
  "language_info": {
   "codemirror_mode": {
    "name": "ipython",
    "version": 3
   },
   "file_extension": ".py",
   "mimetype": "text/x-python",
   "name": "python",
   "nbconvert_exporter": "python",
   "pygments_lexer": "ipython3",
   "version": "3.6.8"
  }
 },
 "nbformat": 4,
 "nbformat_minor": 2
}
