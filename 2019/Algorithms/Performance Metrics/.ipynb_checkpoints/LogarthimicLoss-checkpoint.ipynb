{
 "cells": [
  {
   "cell_type": "code",
   "execution_count": 13,
   "metadata": {},
   "outputs": [],
   "source": [
    "import warnings; \n",
    "warnings.simplefilter('ignore')\n",
    "from IPython.display import Image\n",
    "from IPython.core.display import HTML "
   ]
  },
  {
   "cell_type": "markdown",
   "metadata": {},
   "source": [
    "Logarithmic Loss\n",
    "Logarithmic loss (or logloss) is a performance metric for evaluating the predictions of probabilities of membership to a given class.\n",
    "\n",
    "The scalar probability between 0 and 1 can be seen as a measure of confidence for a prediction by an algorithm. Predictions that are correct or incorrect are rewarded or punished proportionally to the confidence of the prediction.\n",
    "\n",
    "You can learn more about logarithmic on the Loss functions for classification Wikipedia article.\n",
    "\n",
    "Below is an example of calculating logloss for Logistic regression predictions on the Pima Indians onset of diabetes dataset."
   ]
  },
  {
   "cell_type": "markdown",
   "metadata": {},
   "source": [
    "Let’s start with 10 random points:\n",
    "x = [-2.2, -1.4, -0.8, 0.2, 0.4, 0.8, 1.2, 2.2, 2.9, 4.6]\n",
    "\n",
    "Now, let’s assign some colors to our points: red and green. These are our labels.\n",
    "    \n",
    "So, our classification problem is quite straightforward: given our feature x, we need to predict its label: red or green.\n",
    "Since this is a binary classification, we can also pose this problem as: “is the point green” or, even better, “what is the probability of the point being green”? Ideally, green points would have a probability of 1.0 (of being green), while red points would have a probability of 0.0 (of being green).\n",
    "In this setting, green points belong to the positive class (YES, they are green), while red points belong to the negative class (NO, they are not green).\n",
    "If we fit a model to perform this classification, it will predict a probability of being green to each one of our points. Given what we know about the color of the points, how can we evaluate how good (or bad) are the predicted probabilities? This is the whole purpose of the loss function! It should return high values for bad predictions and low values for good predictions.\n",
    "For a binary classification like our example, the typical loss function is the binary cross-entropy / log loss.\n",
    "Loss Function: Binary Cross-Entropy / Log Loss\n",
    "If you look this loss function up, this is what you’ll find:\n",
    "Image(url= \"C:\\Users\\prudi\\Documents\\GitHub\\Code\\2019\\Algorithms\\Performance Metric\\LogLoss.png\")\n",
    "Binary Cross-Entropy / Log Loss\n",
    "where y is the label (1 for green points and 0 for red points) and p(y) is the predicted probability of the point being green for all N points."
   ]
  },
  {
   "cell_type": "code",
   "execution_count": 10,
   "metadata": {},
   "outputs": [
    {
     "data": {
      "image/png": "[encoded data removed]",
      "text/plain": [
       "<IPython.core.display.Image object>"
      ]
     },
     "execution_count": 10,
     "metadata": {
      "image/png": {
       "height": 500,
       "width": 500
      }
     },
     "output_type": "execute_result"
    }
   ],
   "source": [
    "#Image(url= \"C:\\Users\\prudi\\Documents\\GitHub\\Code\\2019\\Algorithms\\Performance Metric\\LogLoss.png\")\n",
    "\n",
    "PATH = \"C:\\\\Users\\\\prudi\\\\Documents\\\\GitHub\\\\Code\\\\2019\\\\Algorithms\\\\Performance Metrics\\\\\"\n",
    "Image(filename = PATH + \"LogLoss.png\", width=500, height=500)"
   ]
  },
  {
   "cell_type": "code",
   "execution_count": 24,
   "metadata": {},
   "outputs": [
    {
     "name": "stdout",
     "output_type": "stream",
     "text": [
      "Logloss:  -0.4926551111482703 0.046890273308686774\n"
     ]
    }
   ],
   "source": [
    "import pandas\n",
    "from sklearn import model_selection\n",
    "from sklearn.linear_model import LogisticRegression\n",
    "url = \"https://raw.githubusercontent.com/jbrownlee/Datasets/master/pima-indians-diabetes.data.csv\"\n",
    "names = ['preg', 'plas', 'pres', 'skin', 'test', 'mass', 'pedi', 'age', 'class']\n",
    "dataframe = pandas.read_csv(url, names=names)\n",
    "array = dataframe.values\n",
    "X = array[:,0:8]\n",
    "Y = array[:,8]\n",
    "seed = 7\n",
    "kfold = model_selection.KFold(n_splits=10, random_state=seed)\n",
    "model = LogisticRegression()\n",
    "scoring = 'neg_log_loss'\n",
    "results = model_selection.cross_val_score(model, X, Y, cv=kfold, scoring=scoring)\n",
    "print(\"Logloss: \",results.mean(), results.std())"
   ]
  },
  {
   "cell_type": "code",
   "execution_count": 25,
   "metadata": {},
   "outputs": [
    {
     "name": "stdout",
     "output_type": "stream",
     "text": [
      "Log loss is 0.48013904734169494\n"
     ]
    }
   ],
   "source": [
    "from sklearn.metrics import log_loss\n",
    "model.fit(X,Y)\n",
    "results=model.predict_proba(X)\n",
    "loss=log_loss(Y,results)\n",
    "print('Log loss is',loss)"
   ]
  },
  {
   "cell_type": "code",
   "execution_count": null,
   "metadata": {},
   "outputs": [],
   "source": []
  }
 ],
 "metadata": {
  "kernelspec": {
   "display_name": "Python 3",
   "language": "python",
   "name": "python3"
  },
  "language_info": {
   "codemirror_mode": {
    "name": "ipython",
    "version": 3
   },
   "file_extension": ".py",
   "mimetype": "text/x-python",
   "name": "python",
   "nbconvert_exporter": "python",
   "pygments_lexer": "ipython3",
   "version": "3.6.8"
  }
 },
 "nbformat": 4,
 "nbformat_minor": 2
}
