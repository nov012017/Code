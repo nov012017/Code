{
 "cells": [
  {
   "cell_type": "code",
   "execution_count": null,
   "metadata": {
    "scrolled": true
   },
   "outputs": [],
   "source": [
    "import os\n",
    "# Office\n",
    "os.chdir('C:\\\\Users\\\\Administrator\\\\Desktop\\\\Data')\n",
    "data = pd.read_csv('HousePricingDataset.csv')"
   ]
  },
  {
   "cell_type": "code",
   "execution_count": null,
   "metadata": {},
   "outputs": [],
   "source": [
    "data.shape"
   ]
  },
  {
   "cell_type": "code",
   "execution_count": null,
   "metadata": {},
   "outputs": [],
   "source": [
    "data.head()"
   ]
  },
  {
   "cell_type": "code",
   "execution_count": null,
   "metadata": {},
   "outputs": [],
   "source": [
    "data['LotShape'].unique()"
   ]
  },
  {
   "cell_type": "code",
   "execution_count": null,
   "metadata": {},
   "outputs": [],
   "source": [
    "data1=data.loc[:,['LotShape','MSZoning','SaleType','Street']]"
   ]
  },
  {
   "cell_type": "code",
   "execution_count": null,
   "metadata": {},
   "outputs": [],
   "source": [
    "from sklearn.tree import DecisionTreeClassifier\n",
    "from sklearn import tree\n",
    "import pydotplus\n",
    "from IPython.display import Image, display\n",
    "\n",
    "data2=pd.DataFrame()\n",
    "\n",
    "from sklearn import preprocessing\n",
    "le = preprocessing.LabelEncoder()\n",
    "data2['LotShape']=le.fit_transform(data1['LotShape'])\n",
    "le1 = preprocessing.LabelEncoder()\n",
    "data2['MSZoning']=le1.fit_transform(data1['MSZoning'])\n",
    "le2 = preprocessing.LabelEncoder()\n",
    "data2['Street']=le2.fit_transform(data1['Street'])\n",
    "data2.head()\n",
    "\n",
    "data2_train=data2.loc[:,['LotShape','MSZoning']]\n",
    "data2_train_y=data2.loc[:,['Street']]\n",
    "\n",
    "#data2_train['LotShape'] = data2_train['LotShape'].astype('category',copy=False)\n",
    "#data2_train['MSZoning'] = data2_train['MSZoning'].astype('category',copy=False)\n",
    "\n",
    "model1=DecisionTreeClassifier()\n",
    "model1.fit(data2_train,data2_train_y)\n",
    "print(model1)\n",
    "\n",
    "import os\n",
    "os.environ[\"PATH\"] += os.pathsep + 'C:/Program Files (x86)/Graphviz2.38/bin/'\n",
    "\n",
    "dot_data = tree.export_graphviz(model1, out_file=None)\n",
    " \n",
    "graph = pydotplus.graph_from_dot_data(dot_data)\n",
    "display(Image(data=graph.create_png()))"
   ]
  },
  {
   "cell_type": "code",
   "execution_count": null,
   "metadata": {},
   "outputs": [],
   "source": [
    "from sklearn.preprocessing import OneHotEncoder\n",
    "data3=pd.DataFrame()\n",
    "enc = OneHotEncoder(handle_unknown='ignore')\n",
    "enc.fit_transform(data2_train[['LotShape','MSZoning']])\n"
   ]
  },
  {
   "cell_type": "code",
   "execution_count": null,
   "metadata": {},
   "outputs": [],
   "source": [
    "from sklearn.preprocessing import LabelBinarizer\n",
    "from collections import defaultdict\n",
    "encoding_labelencoder=defaultdict(LabelBinarizer)\n",
    "encoded_df=pd.DataFrame()\n",
    "d=pd.DataFrame(encoding_labelencoder['LotShape'].fit_transform(data2_train['LotShape']))\n",
    "test_column=d.columns.values\n",
    "list_columns=['LostShape'+'_'+str(j) for j in test_column]\n",
    "d.columns=list_columns\n",
    "encoded_df=pd.concat([encoded_df,d],axis=1).reset_index(drop=True)"
   ]
  },
  {
   "cell_type": "code",
   "execution_count": null,
   "metadata": {},
   "outputs": [],
   "source": [
    "encoded_df.columns"
   ]
  },
  {
   "cell_type": "code",
   "execution_count": null,
   "metadata": {},
   "outputs": [],
   "source": [
    "model1=DecisionTreeClassifier()\n",
    "model1.fit(encoded_df,data2_train_y)\n",
    "print(model1)\n",
    "\n",
    "import os\n",
    "os.environ[\"PATH\"] += os.pathsep + 'C:/Program Files (x86)/Graphviz2.38/bin/'\n",
    "\n",
    "dot_data = tree.export_graphviz(model1, out_file=None)\n",
    " \n",
    "graph = pydotplus.graph_from_dot_data(dot_data)\n",
    "display(Image(data=graph.create_png()))"
   ]
  },
  {
   "cell_type": "code",
   "execution_count": null,
   "metadata": {},
   "outputs": [],
   "source": []
  }
 ],
 "metadata": {
  "kernelspec": {
   "display_name": "Python 3",
   "language": "python",
   "name": "python3"
  }
 },
 "nbformat": 4,
 "nbformat_minor": 2
}
