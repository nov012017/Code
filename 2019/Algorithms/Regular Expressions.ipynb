{
 "cells": [
  {
   "cell_type": "code",
   "execution_count": 1,
   "metadata": {},
   "outputs": [],
   "source": [
    "import re"
   ]
  },
  {
   "cell_type": "code",
   "execution_count": 4,
   "metadata": {},
   "outputs": [],
   "source": [
    "txt = \"The rain in Spain\""
   ]
  },
  {
   "cell_type": "markdown",
   "metadata": {},
   "source": [
    "### Search"
   ]
  },
  {
   "cell_type": "code",
   "execution_count": 12,
   "metadata": {},
   "outputs": [
    {
     "name": "stdout",
     "output_type": "stream",
     "text": [
      "Match Found\n"
     ]
    }
   ],
   "source": [
    "txt = \"The rain in Spain\"\n",
    "x=re.search(r'^The.*Spain$',txt)\n",
    "if x:\n",
    "    print('Match Found')\n",
    "else:\n",
    "    print('Match Not Found')"
   ]
  },
  {
   "cell_type": "markdown",
   "metadata": {},
   "source": [
    "### Find ALL"
   ]
  },
  {
   "cell_type": "code",
   "execution_count": 18,
   "metadata": {},
   "outputs": [
    {
     "name": "stdout",
     "output_type": "stream",
     "text": [
      "['ai', 'ai']\n"
     ]
    }
   ],
   "source": [
    "txt = \"The rain in Spain\"\n",
    "x=re.findall(r'ai',txt)\n",
    "print(x)"
   ]
  },
  {
   "cell_type": "markdown",
   "metadata": {},
   "source": [
    "### Split"
   ]
  },
  {
   "cell_type": "code",
   "execution_count": 22,
   "metadata": {},
   "outputs": [
    {
     "name": "stdout",
     "output_type": "stream",
     "text": [
      "['The', 'rain', 'in', 'Spain']\n"
     ]
    }
   ],
   "source": [
    "txt = \"The rain in Spain\"\n",
    "x=re.split(r'\\s',txt)\n",
    "print(x)"
   ]
  },
  {
   "cell_type": "markdown",
   "metadata": {},
   "source": [
    "### Split"
   ]
  },
  {
   "cell_type": "code",
   "execution_count": 27,
   "metadata": {},
   "outputs": [
    {
     "name": "stdout",
     "output_type": "stream",
     "text": [
      "The 9 rain 9 in Spain\n"
     ]
    }
   ],
   "source": [
    "txt = \"The rain in Spain\"\n",
    "x=re.sub(r'\\s',' 9 ',txt,2)\n",
    "print(x)"
   ]
  },
  {
   "cell_type": "code",
   "execution_count": 36,
   "metadata": {},
   "outputs": [
    {
     "name": "stdout",
     "output_type": "stream",
     "text": [
      "['a', 'a']\n",
      "The r[A-D]in in Sp[A-D]in\n",
      "Match Found\n"
     ]
    }
   ],
   "source": [
    "import re\n",
    "\n",
    "str = \"The rain in Spain\"\n",
    "\n",
    "#Find all lower case characters alphabetically between \"a\" and \"m\":\n",
    "\n",
    "x = re.findall(r'[a-d]', str)\n",
    "print(x)\n",
    "\n",
    "x=re.sub(r'[a-d]','[A-D]',str)\n",
    "print(x)\n",
    "\n",
    "x=re.search(r'[a-d]',str)\n",
    "if x:\n",
    "    print('Match Found')\n",
    "else:\n",
    "    print('Match Not Found')"
   ]
  },
  {
   "cell_type": "code",
   "execution_count": 40,
   "metadata": {},
   "outputs": [
    {
     "name": "stdout",
     "output_type": "stream",
     "text": [
      "['9', '5', '5', '6', '6', '7', '1']\n",
      "The rain in Spain [A-D] [A-D] Hello [A-D][A-D][A-D][A-D].[A-D]\n",
      "Match Found\n"
     ]
    }
   ],
   "source": [
    "import re\n",
    "\n",
    "str = \"The rain in Spain 9 5 Hello 5667.1\"\n",
    "\n",
    "#Find all lower case characters alphabetically between \"a\" and \"m\":\n",
    "\n",
    "x = re.findall(r'\\d', str)\n",
    "print(x)\n",
    "\n",
    "x=re.sub(r'\\d','[A-D]',str)\n",
    "print(x)\n",
    "\n",
    "x=re.search(r'\\d',str)\n",
    "if x:\n",
    "    print('Match Found')\n",
    "else:\n",
    "    print('Match Not Found')"
   ]
  },
  {
   "cell_type": "code",
   "execution_count": 41,
   "metadata": {},
   "outputs": [
    {
     "name": "stdout",
     "output_type": "stream",
     "text": [
      "['hello']\n",
      "[A-D] world\n",
      "Match Found\n"
     ]
    }
   ],
   "source": [
    "import re\n",
    "\n",
    "str = \"hello world\"\n",
    "\n",
    "#Search for a sequence that starts with \"he\", followed by two (any) characters, and an \"o\":\n",
    "\n",
    "x = re.findall(\"he..o\", str)\n",
    "print(x)\n",
    "\n",
    "x=re.sub(r'he..o','[A-D]',str)\n",
    "print(x)\n",
    "\n",
    "x=re.search(r'he..o',str)\n",
    "if x:\n",
    "    print('Match Found')\n",
    "else:\n",
    "    print('Match Not Found')"
   ]
  },
  {
   "cell_type": "code",
   "execution_count": 43,
   "metadata": {},
   "outputs": [
    {
     "name": "stdout",
     "output_type": "stream",
     "text": [
      "['hello']\n",
      "[A-D] world\n",
      "Match Found\n"
     ]
    }
   ],
   "source": [
    "import re\n",
    "\n",
    "str = \"hello world\"\n",
    "\n",
    "#Check if the string starts with 'hello':\n",
    "\n",
    "x = re.findall(\"^hello\", str)\n",
    "print(x)\n",
    "\n",
    "\n",
    "x=re.sub(r'^hello','[A-D]',str)\n",
    "print(x)\n",
    "\n",
    "x=re.search(r'^hello',str)\n",
    "if x:\n",
    "    print('Match Found')\n",
    "else:\n",
    "    print('Match Not Found')"
   ]
  },
  {
   "cell_type": "code",
   "execution_count": 62,
   "metadata": {},
   "outputs": [
    {
     "name": "stdout",
     "output_type": "stream",
     "text": [
      "['ai', 'ai', 'ai', 'a', 'ai', 'ai']\n",
      "Yes, there is at least one match!\n",
      "The [A-D]12 r[A-D]n in Sp[A-D]n f[A-D]lls m[A-D]nly in the pl[A-D]n!\n",
      "The [A-D]12 r[A-D]n in Sp[A-D]n falls m[A-D]nly in the pl[A-D]n!\n"
     ]
    }
   ],
   "source": [
    "import re\n",
    "\n",
    "str = \"The ai12 rain in Spain falls mainly in the plain!\"\n",
    "\n",
    "#Check if the string contains \"ai\" followed by 0 or more \"x\" characters:\n",
    "\n",
    "x = re.findall(\"ai*\", str)\n",
    "\n",
    "print(x)\n",
    "\n",
    "if (x):\n",
    "  print(\"Yes, there is at least one match!\")\n",
    "else:\n",
    "  print(\"No match\")\n",
    "\n",
    "x=re.sub(r'ai*','[A-D]',str)\n",
    "print(x)\n",
    "\n",
    "x=re.sub(r'aix*','[A-D]',str)\n",
    "print(x)"
   ]
  },
  {
   "cell_type": "code",
   "execution_count": 65,
   "metadata": {},
   "outputs": [
    {
     "name": "stdout",
     "output_type": "stream",
     "text": [
      "[]\n",
      "No match\n",
      "The ai rain in Spain falls mainly in the plain!\n",
      "The [A-D] r[A-D]n in Sp[A-D]n falls m[A-D]nly in the pl[A-D]n!\n"
     ]
    }
   ],
   "source": [
    "import re\n",
    "\n",
    "str = \"The ai rain in Spain falls mainly in the plain!\"\n",
    "\n",
    "#Check if the string contains \"ai\" followed by 1 or more \"x\" characters:\n",
    "\n",
    "x = re.findall(\"aix+\", str)\n",
    "\n",
    "print(x)\n",
    "\n",
    "if (x):\n",
    "  print(\"Yes, there is at least one match!\")\n",
    "else:\n",
    "  print(\"No match\")\n",
    "\n",
    "x=re.sub(r'aix+','[A-D]',str)\n",
    "print(x)\n",
    "\n",
    "x=re.sub(r'ai+','[A-D]',str)\n",
    "print(x)"
   ]
  },
  {
   "cell_type": "code",
   "execution_count": 59,
   "metadata": {},
   "outputs": [
    {
     "name": "stdout",
     "output_type": "stream",
     "text": [
      "['all']\n",
      "Yes, there is at least one match!\n"
     ]
    }
   ],
   "source": [
    "import re\n",
    "\n",
    "str = \"The rain in Spain falls mainly in the plain!\"\n",
    "\n",
    "#Check if the string contains \"a\" followed by exactly two \"l\" characters:\n",
    "\n",
    "x = re.findall(\"al{2}\", str)\n",
    "\n",
    "print(x)\n",
    "\n",
    "if (x):\n",
    "  print(\"Yes, there is at least one match!\")\n",
    "else:\n",
    "  print(\"No match\")\n"
   ]
  },
  {
   "cell_type": "code",
   "execution_count": 66,
   "metadata": {},
   "outputs": [
    {
     "name": "stdout",
     "output_type": "stream",
     "text": [
      "['falls']\n",
      "Yes, there is at least one match!\n"
     ]
    }
   ],
   "source": [
    "import re\n",
    "\n",
    "str = \"The rain in Spain falls mainly in the plain!\"\n",
    "\n",
    "#Check if the string contains either \"falls\" or \"stays\":\n",
    "\n",
    "x = re.findall(\"falls|stays\", str)\n",
    "\n",
    "print(x)\n",
    "\n",
    "if (x):\n",
    "  print(\"Yes, there is at least one match!\")\n",
    "else:\n",
    "  print(\"No match\")"
   ]
  },
  {
   "cell_type": "code",
   "execution_count": 270,
   "metadata": {},
   "outputs": [
    {
     "name": "stdout",
     "output_type": "stream",
     "text": [
      "The ai12 rain in Spain falls mainly in the plain! Andhra\n",
      "The [A-D]12 r[A-D]n in Sp[A-D]n f[A-D]lls m[A-D]nly in the pl[A-D]n! Andhr[A-D]\n",
      "The [A-D]12 r[A-D]n [A-D]n Sp[A-D]n f[A-D]lls m[A-D]nly [A-D]n the pl[A-D]n! Andhr[A-D]\n",
      "The [A-D]12 r[A-D]n in Sp[A-D]n falls m[A-D]nly in the pl[A-D]n! Andhra\n",
      "The ai12 rain in Spain falls mainly in the plain! [A-D]ndhra\n",
      "The ai12 rain in Spain falls mainly in the plain! Andhra\n"
     ]
    }
   ],
   "source": [
    "str = \"The ai12 rain in Spain falls mainly in the plain! Andhra\"\n",
    "print(str)\n",
    "x=print(re.sub(r'ai*','[A-D]',str))\n",
    "x=print(re.sub(r'([ai])+','[A-D]',str))\n",
    "x=print(re.sub(r'ai','[A-D]',str))\n",
    "x=print(re.sub(r'Ai*','[A-D]',str))\n",
    "x=print(re.sub(r'Ai+','[A-D]',str))"
   ]
  },
  {
   "cell_type": "code",
   "execution_count": 81,
   "metadata": {},
   "outputs": [
    {
     "name": "stdout",
     "output_type": "stream",
     "text": [
      "[A-D] ai12 rain in Spain falls mainly in the plain! Andhra\n",
      "[A-D] ai12 rain in Spain falls mainly in the plain! Andhra\n"
     ]
    }
   ],
   "source": [
    "str = \"The ai12 rain in Spain falls mainly in the plain! Andhra\"\n",
    "print(re.sub(r'^The','[A-D]',str))\n",
    "print(re.sub(r'\\AThe','[A-D]',str))"
   ]
  },
  {
   "cell_type": "code",
   "execution_count": 86,
   "metadata": {},
   "outputs": [
    {
     "name": "stdout",
     "output_type": "stream",
     "text": [
      "[A-D] ai12 rain in Spain falls mainly in the plain! Andhra\n",
      "The ai12 rain in [A-D]ain falls mainly in the plain! Andhra\n",
      "The ai12 rain in Spain falls mainly in the plain! Andh[A-D]\n"
     ]
    }
   ],
   "source": [
    "str = \"The ai12 rain in Spain falls mainly in the plain! Andhra\"\n",
    "print(re.sub(r'^The','[A-D]',str))\n",
    "print(re.sub(r'\\bSp','[A-D]',str))\n",
    "print(re.sub(r'ra\\b','[A-D]',str))"
   ]
  },
  {
   "cell_type": "code",
   "execution_count": 87,
   "metadata": {},
   "outputs": [
    {
     "name": "stdout",
     "output_type": "stream",
     "text": [
      "[A-D] ai12 rain in Spain falls mainly in the plain! Andhra\n",
      "The ai12 r[A-D] in Sp[A-D] falls m[A-D]ly in the pl[A-D]! Andhra\n",
      "The ai12 rain in Spain falls m[A-D]ly in the plain! Andhra\n"
     ]
    }
   ],
   "source": [
    "str = \"The ai12 rain in Spain falls mainly in the plain! Andhra\"\n",
    "print(re.sub(r'^The','[A-D]',str))\n",
    "print(re.sub(r'\\Bain','[A-D]',str))\n",
    "print(re.sub(r'ain\\B','[A-D]',str))"
   ]
  },
  {
   "cell_type": "code",
   "execution_count": 90,
   "metadata": {},
   "outputs": [
    {
     "name": "stdout",
     "output_type": "stream",
     "text": [
      "The ai[A-D][A-D] [A-D][A-D] rain [A-D]E in Spain falls mainly [A-D] [A-D][A-D].[A-D][A-D][A-D]in the plain! Andhra\n",
      "-----\n",
      "[A-D][A-D][A-D][A-D][A-D][A-D]12[A-D]12[A-D][A-D][A-D][A-D][A-D][A-D]4[A-D][A-D][A-D][A-D][A-D][A-D][A-D][A-D][A-D][A-D][A-D][A-D][A-D][A-D][A-D][A-D][A-D][A-D][A-D][A-D][A-D][A-D][A-D][A-D]7[A-D]89[A-D]365[A-D][A-D][A-D][A-D][A-D][A-D][A-D][A-D][A-D][A-D][A-D][A-D][A-D][A-D][A-D][A-D][A-D][A-D][A-D][A-D]\n"
     ]
    }
   ],
   "source": [
    "str = \"The ai12 12 rain 4E in Spain falls mainly 7 89.365in the plain! Andhra\"\n",
    "print(re.sub(r'\\d','[A-D]',str))\n",
    "print('-----')\n",
    "print(re.sub(r'\\D','[A-D]',str))"
   ]
  },
  {
   "cell_type": "code",
   "execution_count": 92,
   "metadata": {},
   "outputs": [
    {
     "data": {
      "text/plain": [
       "['The',\n",
       " 'ai12',\n",
       " '12',\n",
       " 'rain',\n",
       " '4E',\n",
       " 'in',\n",
       " 'Spain',\n",
       " 'falls',\n",
       " 'mainly',\n",
       " '7',\n",
       " '89.365in',\n",
       " 'the',\n",
       " 'plain!',\n",
       " 'Andhra']"
      ]
     },
     "execution_count": 92,
     "metadata": {},
     "output_type": "execute_result"
    }
   ],
   "source": [
    "str = \"The ai12 12 rain 4E in Spain falls mainly 7 89.365in the plain! Andhra\"\n",
    "re.split('\\s',str)"
   ]
  },
  {
   "cell_type": "code",
   "execution_count": 98,
   "metadata": {},
   "outputs": [
    {
     "name": "stdout",
     "output_type": "stream",
     "text": [
      "['T', 'h', 'e', 'r', 'a', 'i', 'n', 'i', 'n', 'S', 'p', 'a', 'i', 'n', '6', '7']\n",
      "Yes, there is at least one match!\n"
     ]
    }
   ],
   "source": [
    "import re\n",
    "\n",
    "str = \"The rain in Spain 67 #\"\n",
    "\n",
    "#Return a match at every word character (characters from a to Z, digits from 0-9, and the underscore _ character):\n",
    "\n",
    "x = re.findall(\"\\w\", str)\n",
    "\n",
    "print(x)\n",
    "\n",
    "if (x):\n",
    "  print(\"Yes, there is at least one match!\")\n",
    "else:\n",
    "  print(\"No match\")"
   ]
  },
  {
   "cell_type": "markdown",
   "metadata": {},
   "source": [
    "### Sets"
   ]
  },
  {
   "cell_type": "code",
   "execution_count": 138,
   "metadata": {},
   "outputs": [
    {
     "name": "stdout",
     "output_type": "stream",
     "text": [
      "@hea rain in @pain @ster ran not he ear\n",
      "None\n",
      "No match\n"
     ]
    }
   ],
   "source": [
    "import re\n",
    "\n",
    "str = \"Thea rain in Spain aster ran not he ear\"\n",
    "\n",
    "#Check if the string has any a, r, or n characters:\n",
    "\n",
    "x = print(re.sub(r'\\b[TaS]+','@',str))\n",
    "\n",
    "print(x)\n",
    "\n",
    "if (x):\n",
    "  print(\"Yes, there is at least one match!\")\n",
    "else:\n",
    "  print(\"No match\")"
   ]
  },
  {
   "cell_type": "code",
   "execution_count": 143,
   "metadata": {},
   "outputs": [
    {
     "name": "stdout",
     "output_type": "stream",
     "text": [
      " @a @a @a @a @a @a @\n",
      "None\n",
      "No match\n"
     ]
    }
   ],
   "source": [
    "import re\n",
    "\n",
    "str = \"Thea rain in Spain aster ran not he ear\"\n",
    "\n",
    "#Check if the string has any a, r, or n characters:\n",
    "\n",
    "x = print(re.sub(r'[^a-d]+',' @',str))\n",
    "\n",
    "print(x)\n",
    "\n",
    "if (x):\n",
    "  print(\"Yes, there is at least one match!\")\n",
    "else:\n",
    "  print(\"No match\")"
   ]
  },
  {
   "cell_type": "code",
   "execution_count": 145,
   "metadata": {},
   "outputs": [
    {
     "name": "stdout",
     "output_type": "stream",
     "text": [
      "Thea rain in Spain aster ran not  @ he ear\n",
      "None\n",
      "No match\n"
     ]
    }
   ],
   "source": [
    "import re\n",
    "\n",
    "str = \"Thea rain in Spain aster ran not + he ear\"\n",
    "\n",
    "#Check if the string has any a, r, or n characters:\n",
    "\n",
    "x = print(re.sub(r'[+]',' @',str))\n",
    "\n",
    "print(x)\n",
    "\n",
    "if (x):\n",
    "  print(\"Yes, there is at least one match!\")\n",
    "else:\n",
    "  print(\"No match\")"
   ]
  },
  {
   "cell_type": "code",
   "execution_count": null,
   "metadata": {},
   "outputs": [],
   "source": []
  },
  {
   "cell_type": "code",
   "execution_count": 157,
   "metadata": {},
   "outputs": [
    {
     "data": {
      "text/plain": [
       "':8888/notebooks/Documents/GitHub/Code/2019/Algorithms/Regular%20Expressions.ipynb'"
      ]
     },
     "execution_count": 157,
     "metadata": {},
     "output_type": "execute_result"
    }
   ],
   "source": [
    "str='http://localhost:8888/notebooks/Documents/GitHub/Code/2019/Algorithms/Regular%20Expressions.ipynb'\n",
    "re.sub(r'^http://?localhost','',str)"
   ]
  },
  {
   "cell_type": "code",
   "execution_count": 176,
   "metadata": {},
   "outputs": [
    {
     "data": {
      "text/plain": [
       "'This is a string with special  charcters'"
      ]
     },
     "execution_count": 176,
     "metadata": {},
     "output_type": "execute_result"
    }
   ],
   "source": [
    "str='This is a string with special @ / charcters'\n",
    "re.sub(r'@ /','',str)"
   ]
  },
  {
   "cell_type": "code",
   "execution_count": 205,
   "metadata": {},
   "outputs": [
    {
     "name": "stdout",
     "output_type": "stream",
     "text": [
      "['pru-div_092343']\n",
      "Match Found\n"
     ]
    }
   ],
   "source": [
    "username='pru-div_092343'\n",
    "x=re.findall(r'^[a-z0-9_-]{3,16}$',username)\n",
    "print(x)\n",
    "if x:\n",
    "    print('Match Found')\n",
    "else:\n",
    "    print('Match Not Found')"
   ]
  },
  {
   "cell_type": "markdown",
   "metadata": {},
   "source": [
    "### Email"
   ]
  },
  {
   "cell_type": "code",
   "execution_count": 306,
   "metadata": {},
   "outputs": [
    {
     "name": "stdout",
     "output_type": "stream",
     "text": [
      "[('prudivds', 'gmail', 'com')]\n",
      "Match Found\n"
     ]
    }
   ],
   "source": [
    "email='prudivds@gmail.com'\n",
    "x=re.findall(r'^([a-z0-9-\\.-]+)@([\\da-z\\.-]+)\\.([a-z\\.]{2,6})$',email)\n",
    "print(x)\n",
    "if x:\n",
    "    print('Match Found')\n",
    "else:\n",
    "    print('Match Not Found')"
   ]
  },
  {
   "cell_type": "markdown",
   "metadata": {},
   "source": [
    "### URL"
   ]
  },
  {
   "cell_type": "code",
   "execution_count": 346,
   "metadata": {},
   "outputs": [
    {
     "name": "stdout",
     "output_type": "stream",
     "text": [
      "[('https://', 'www.tutsplus', 'com', '')]\n",
      "Match Found\n"
     ]
    }
   ],
   "source": [
    "URL='https://www.tutsplus.com/about/'\n",
    "x=re.findall(r'^(https?:\\/\\/)?([\\da-z\\.-]+)\\.([a-z\\.]{2,6})([\\/\\w\\.-]*)*\\/?$',URL)\n",
    "print(x)\n",
    "\n",
    "if x:\n",
    "    print('Match Found')\n",
    "else:\n",
    "    print('Match Not Found')"
   ]
  },
  {
   "cell_type": "code",
   "execution_count": 347,
   "metadata": {},
   "outputs": [],
   "source": [
    "### IP Address"
   ]
  },
  {
   "cell_type": "code",
   "execution_count": null,
   "metadata": {},
   "outputs": [],
   "source": [
    "### HTML Tags"
   ]
  },
  {
   "cell_type": "code",
   "execution_count": null,
   "metadata": {},
   "outputs": [],
   "source": [
    "/^<([a-z]+)([^<]+)*(?:>(.*)<\\/\\1>|\\s+\\/>)$/"
   ]
  },
  {
   "cell_type": "code",
   "execution_count": null,
   "metadata": {},
   "outputs": [],
   "source": [
    "Nettuts\">http://net.tutsplus.com/\">Nettuts+"
   ]
  },
  {
   "cell_type": "code",
   "execution_count": null,
   "metadata": {},
   "outputs": [],
   "source": [
    "<img src=\"img.jpg\" alt=\"My image>\" />"
   ]
  },
  {
   "cell_type": "code",
   "execution_count": 368,
   "metadata": {},
   "outputs": [
    {
     "name": "stdout",
     "output_type": "stream",
     "text": [
      "[('img', ' src=\"img.jpg\" >alt=\"My image>\"', '')]\n",
      "Match Found\n"
     ]
    }
   ],
   "source": [
    "HTMLtag='<img src=\"img.jpg\" alt=\"My image>\" />'\n",
    "x=re.findall(r'^<([a-z]+)([^<]+)*(?:(.*)<\\/\\1>|\\s+\\/>)$',HTMLtag)\n",
    "print(x)\n",
    "\n",
    "if x:\n",
    "    print('Match Found')\n",
    "else:\n",
    "    print('Match Not Found')"
   ]
  },
  {
   "cell_type": "code",
   "execution_count": 349,
   "metadata": {},
   "outputs": [
    {
     "name": "stdout",
     "output_type": "stream",
     "text": [
      "[('img', ' src=\"img.jpg\" alt=\"My image>\"', '')]\n",
      "Match Found\n"
     ]
    }
   ],
   "source": [
    "HTMLtag='<img src=\"img.jpg\" alt=\"My image>\" />'\n",
    "x=re.findall(r'^<([a-z]+)([^<]+)*(?:>(.*)<\\/\\1>|\\s+\\/>)$',HTMLtag)\n",
    "print(x)\n",
    "\n",
    "if x:\n",
    "    print('Match Found')\n",
    "else:\n",
    "    print('Match Not Found')"
   ]
  }
 ],
 "metadata": {
  "kernelspec": {
   "display_name": "Python 3",
   "language": "python",
   "name": "python3"
  },
  "language_info": {
   "codemirror_mode": {
    "name": "ipython",
    "version": 3
   },
   "file_extension": ".py",
   "mimetype": "text/x-python",
   "name": "python",
   "nbconvert_exporter": "python",
   "pygments_lexer": "ipython3",
   "version": "3.6.5"
  }
 },
 "nbformat": 4,
 "nbformat_minor": 2
}
