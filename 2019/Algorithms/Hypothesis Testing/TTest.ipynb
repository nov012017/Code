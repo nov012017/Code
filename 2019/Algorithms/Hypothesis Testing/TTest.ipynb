{
 "cells": [
  {
   "cell_type": "code",
   "execution_count": 3,
   "metadata": {},
   "outputs": [
    {
     "name": "stdout",
     "output_type": "stream",
     "text": [
      "t=-2.262, p=0.025\n"
     ]
    }
   ],
   "source": [
    "# Student's t-test for independent samples\n",
    "from numpy.random import seed\n",
    "from numpy.random import randn\n",
    "import numpy.core.multiarray\n",
    "from scipy.stats import ttest_ind\n",
    "# seed the random number generator\n",
    "seed(1)\n",
    "# generate two independent samples\n",
    "data1 = 5 * randn(100) + 50\n",
    "data2 = 5 * randn(100) + 51\n",
    "# compare samples\n",
    "stat, p = ttest_ind(data1, data2,)\n",
    "print('t=%.3f, p=%.3f' % (stat, p))"
   ]
  },
  {
   "cell_type": "code",
   "execution_count": 15,
   "metadata": {},
   "outputs": [
    {
     "name": "stdout",
     "output_type": "stream",
     "text": [
      "2.801858071685948\n",
      "0.011789685321190109\n"
     ]
    }
   ],
   "source": [
    "from scipy.stats import ttest_ind\n",
    "N = 10\n",
    "#Gaussian distributed data with mean = 2 and var = 1\n",
    "a = np.random.randn(N)+2\n",
    "#Gaussian distributed data with with mean = 0 and var = 1\n",
    "b = np.random.randn(N)\n",
    "t,p=ttest_ind(a,b)\n",
    "\n",
    "print(t)\n",
    "print(p)"
   ]
  },
  {
   "cell_type": "code",
   "execution_count": 7,
   "metadata": {},
   "outputs": [
    {
     "name": "stdout",
     "output_type": "stream",
     "text": [
      "[1.59912181 2.82400562 1.43769457 3.95487808 0.66804833 0.23931144\n",
      " 0.34927873 1.10944442 0.8808846  3.9560789 ]\n",
      "****************************************************************************************************\n",
      "[-0.3264995  -1.34267579  1.11438298 -0.58652394 -1.23685338  0.87583893\n",
      "  0.62336218 -0.43495668  1.40754     0.12910158]\n"
     ]
    }
   ],
   "source": [
    "print(a)\n",
    "print('*'*100)\n",
    "print(b)"
   ]
  },
  {
   "cell_type": "code",
   "execution_count": 2,
   "metadata": {},
   "outputs": [
    {
     "data": {
      "text/plain": [
       "18.3125"
      ]
     },
     "execution_count": 2,
     "metadata": {},
     "output_type": "execute_result"
    }
   ],
   "source": [
    "delivery_time=[14,21,18,17,19,17,19,20,16,19,18,22,19,16,20,18]\n",
    "import numpy as np\n",
    "np.mean(delivery_time)"
   ]
  },
  {
   "cell_type": "code",
   "execution_count": 3,
   "metadata": {},
   "outputs": [
    {
     "data": {
      "text/plain": [
       "Ttest_1sampResult(statistic=-23.099920069619014, pvalue=3.8743099196029535e-13)"
      ]
     },
     "execution_count": 3,
     "metadata": {},
     "output_type": "execute_result"
    }
   ],
   "source": [
    "from scipy.stats.mstats import ttest_1samp\n",
    "ttest_1samp(delivery_time, 30, axis=0)"
   ]
  },
  {
   "cell_type": "code",
   "execution_count": 4,
   "metadata": {},
   "outputs": [],
   "source": [
    "## Import the packages\n",
    "import numpy as np\n",
    "from scipy import stats\n"
   ]
  },
  {
   "cell_type": "code",
   "execution_count": 5,
   "metadata": {},
   "outputs": [
    {
     "name": "stdout",
     "output_type": "stream",
     "text": [
      "[1.59912181 2.82400562 1.43769457 3.95487808 0.66804833 0.23931144\n",
      " 0.34927873 1.10944442 0.8808846  3.9560789 ]\n",
      "[-0.3264995  -1.34267579  1.11438298 -0.58652394 -1.23685338  0.87583893\n",
      "  0.62336218 -0.43495668  1.40754     0.12910158]\n"
     ]
    }
   ],
   "source": [
    "N = 10\n",
    "#Gaussian distributed data with mean = 2 and var = 1\n",
    "a = np.random.randn(N) + 2\n",
    "#Gaussian distributed data with with mean = 0 and var = 1\n",
    "b = np.random.randn(N)\n",
    "\n",
    "print(a)\n",
    "print(b)"
   ]
  },
  {
   "cell_type": "code",
   "execution_count": 2,
   "metadata": {},
   "outputs": [
    {
     "name": "stdout",
     "output_type": "stream",
     "text": [
      "t = 3.1296241850554396\n",
      "p = 0.005791300982734615\n",
      "t = 3.1296241850554387\n",
      "p = 0.005791300982734479\n"
     ]
    }
   ],
   "source": [
    "## Import the packages\n",
    "import numpy as np\n",
    "from scipy import stats\n",
    "\n",
    "\n",
    "## Define 2 random distributions\n",
    "#Sample Size\n",
    "N = 10\n",
    "#Gaussian distributed data with mean = 2 and var = 1\n",
    "a = np.random.randn(N) + 2\n",
    "#Gaussian distributed data with with mean = 0 and var = 1\n",
    "b = np.random.randn(N)\n",
    "\n",
    "\n",
    "## Calculate the Standard Deviation\n",
    "#Calculate the variance to get the standard deviation\n",
    "\n",
    "#For unbiased max likelihood estimate we have to divide the var by N-1, and therefore the parameter ddof = 1\n",
    "var_a = a.var(ddof=1)\n",
    "var_b = b.var(ddof=1)\n",
    "\n",
    "#std deviation\n",
    "s = np.sqrt((var_a + var_b)/2)\n",
    "s\n",
    "\n",
    "## Calculate the t-statistics\n",
    "t = (a.mean() - b.mean())/(s*np.sqrt(2/N))\n",
    "\n",
    "## Compare with the critical t-value\n",
    "#Degrees of freedom\n",
    "df = 2*N - 2\n",
    "\n",
    "#p-value after comparison with the t \n",
    "p = 1 - stats.t.cdf(t,df=df)\n",
    "\n",
    "print(\"t = \" + str(t))\n",
    "print(\"p = \" + str(2*p))\n",
    "### You can see that after comparing the t statistic with the critical t value (computed internally) we get a good p value of 0.0005 and thus we reject the null hypothesis and thus it proves that the mean of the two distributions are different and statistically significant.\n",
    "\n",
    "\n",
    "## Cross Checking with the internal scipy function\n",
    "t2, p2 = stats.ttest_ind(a,b)\n",
    "print(\"t = \" + str(t2))\n",
    "print(\"p = \" + str(p2))"
   ]
  },
  {
   "cell_type": "code",
   "execution_count": 80,
   "metadata": {},
   "outputs": [
    {
     "name": "stdout",
     "output_type": "stream",
     "text": [
      "Mean of M1 is  1.8285859907197939\n",
      "Standard Deviation of a is  0.9359864303672438\n",
      "****************************************\n",
      "Z Value is  -0.10068738689260891\n",
      "P Value is  0.5389970190834527\n",
      "*****************\n",
      "t = -0.10068738689260891\n",
      "p = 0.9220059618330947\n"
     ]
    }
   ],
   "source": [
    "#Implementation of one sample t-test\n",
    "M1= np.mean(a)\n",
    "print('Mean of M1 is ', M1) #1.8285859907197939\n",
    "X_Pop=1.86\n",
    "\n",
    "std1=np.std(a)\n",
    "print('Standard Deviation of a is ',std1)\n",
    "print('*'*40)\n",
    "\n",
    "n1=len(a)\n",
    "\n",
    "#scipy.stats.ttest_1samp(a, popmean, axis=0)[source]\n",
    "\n",
    "z=(M1-X_Pop)/(std1/np.sqrt(n1-1))\n",
    "print('Z Value is ',z)\n",
    "\n",
    "p = 1 - stats.t.cdf(z,df=n1-1)\n",
    "print('P Value is ',p)\n",
    "print('*****************')\n",
    "\n",
    "t2, p2 = stats.ttest_1samp(np.abs(a),X_Pop)\n",
    "print(\"t = \" + str(t2))\n",
    "print(\"p = \" + str(p2))"
   ]
  },
  {
   "cell_type": "code",
   "execution_count": null,
   "metadata": {},
   "outputs": [],
   "source": []
  },
  {
   "cell_type": "code",
   "execution_count": null,
   "metadata": {},
   "outputs": [],
   "source": []
  },
  {
   "cell_type": "code",
   "execution_count": null,
   "metadata": {},
   "outputs": [],
   "source": []
  },
  {
   "cell_type": "code",
   "execution_count": null,
   "metadata": {},
   "outputs": [],
   "source": []
  }
 ],
 "metadata": {
  "kernelspec": {
   "display_name": "Python 3",
   "language": "python",
   "name": "python3"
  },
  "language_info": {
   "codemirror_mode": {
    "name": "ipython",
    "version": 3
   },
   "file_extension": ".py",
   "mimetype": "text/x-python",
   "name": "python",
   "nbconvert_exporter": "python",
   "pygments_lexer": "ipython3",
   "version": "3.6.8"
  }
 },
 "nbformat": 4,
 "nbformat_minor": 2
}
