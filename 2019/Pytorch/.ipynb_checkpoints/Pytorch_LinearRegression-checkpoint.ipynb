{
 "cells": [
  {
   "cell_type": "code",
   "execution_count": 1,
   "metadata": {},
   "outputs": [],
   "source": [
    "import torch\n",
    "import torch.nn as nn\n",
    "import numpy as np"
   ]
  },
  {
   "cell_type": "code",
   "execution_count": 2,
   "metadata": {},
   "outputs": [
    {
     "name": "stdout",
     "output_type": "stream",
     "text": [
      "tensor(22., grad_fn=<AddBackward0>)\n"
     ]
    }
   ],
   "source": [
    "w=torch.tensor(3.0,requires_grad=True)\n",
    "b=torch.tensor(1.0,requires_grad=True)\n",
    "x=7\n",
    "y=w*x+b\n",
    "print(y)"
   ]
  },
  {
   "cell_type": "code",
   "execution_count": 3,
   "metadata": {},
   "outputs": [],
   "source": [
    "def forward(x):\n",
    "    y=w*x+b\n",
    "    return y"
   ]
  },
  {
   "cell_type": "code",
   "execution_count": 4,
   "metadata": {},
   "outputs": [
    {
     "data": {
      "text/plain": [
       "tensor([[ 7],\n",
       "        [22]], grad_fn=<AddBackward0>)"
      ]
     },
     "execution_count": 4,
     "metadata": {},
     "output_type": "execute_result"
    }
   ],
   "source": [
    "x=torch.tensor([[2],[7]])\n",
    "forward(x)"
   ]
  },
  {
   "cell_type": "code",
   "execution_count": 5,
   "metadata": {},
   "outputs": [],
   "source": [
    "## Linear Class"
   ]
  },
  {
   "cell_type": "code",
   "execution_count": 6,
   "metadata": {},
   "outputs": [],
   "source": [
    "import torch\n",
    "from torch.nn import Linear"
   ]
  },
  {
   "cell_type": "code",
   "execution_count": 7,
   "metadata": {},
   "outputs": [
    {
     "name": "stdout",
     "output_type": "stream",
     "text": [
      "Parameter containing:\n",
      "tensor([-0.4414], requires_grad=True) Parameter containing:\n",
      "tensor([[0.5153]], requires_grad=True)\n"
     ]
    }
   ],
   "source": [
    "torch.manual_seed(1)\n",
    "model=Linear(in_features=1,out_features=1)\n",
    "print(model.bias,model.weight)"
   ]
  },
  {
   "cell_type": "code",
   "execution_count": 8,
   "metadata": {},
   "outputs": [
    {
     "data": {
      "text/plain": [
       "tensor([[0.5891],\n",
       "        [1.1044]], grad_fn=<AddmmBackward>)"
      ]
     },
     "execution_count": 8,
     "metadata": {},
     "output_type": "execute_result"
    }
   ],
   "source": [
    "x=torch.tensor([[2.0],[3.0]])\n",
    "model(x)"
   ]
  },
  {
   "cell_type": "code",
   "execution_count": 9,
   "metadata": {},
   "outputs": [],
   "source": [
    "class LR(nn.Module):\n",
    "    def __init__(self,input_size,output_size):\n",
    "        super().__init__()\n",
    "        self.linear=nn.Linear(input_size,output_size)\n",
    "    def forward(self,x):\n",
    "        pred=self.linear(x)\n",
    "        return pred"
   ]
  },
  {
   "cell_type": "code",
   "execution_count": 10,
   "metadata": {},
   "outputs": [
    {
     "name": "stdout",
     "output_type": "stream",
     "text": [
      "LR(\n",
      "  (linear): Linear(in_features=1, out_features=1, bias=True)\n",
      ")\n",
      "[Parameter containing:\n",
      "tensor([[0.5153]], requires_grad=True), Parameter containing:\n",
      "tensor([-0.4414], requires_grad=True)]\n"
     ]
    }
   ],
   "source": [
    "torch.manual_seed(1)\n",
    "model=LR(1,1)\n",
    "print(model)\n",
    "print(list(model.parameters()))"
   ]
  },
  {
   "cell_type": "code",
   "execution_count": 11,
   "metadata": {},
   "outputs": [
    {
     "name": "stdout",
     "output_type": "stream",
     "text": [
      "tensor([0.0739], grad_fn=<AddBackward0>)\n"
     ]
    }
   ],
   "source": [
    "x=torch.tensor([1.0])\n",
    "print(model.forward(x))"
   ]
  },
  {
   "cell_type": "code",
   "execution_count": 12,
   "metadata": {},
   "outputs": [],
   "source": [
    "import matplotlib.pyplot as plt"
   ]
  },
  {
   "cell_type": "code",
   "execution_count": 13,
   "metadata": {},
   "outputs": [
    {
     "data": {
      "text/plain": [
       "Text(0.5,0,'x')"
      ]
     },
     "execution_count": 13,
     "metadata": {},
     "output_type": "execute_result"
    },
    {
     "data": {
      "image/png": "[encoded data removed]",
      "text/plain": [
       "<Figure size 432x288 with 1 Axes>"
      ]
     },
     "metadata": {},
     "output_type": "display_data"
    }
   ],
   "source": [
    "x=torch.randn(100,1)*10\n",
    "y=x+3*torch.randn(100,1)\n",
    "#print(x)\n",
    "plt.plot(x.numpy(),y.numpy(),'o')\n",
    "plt.ylabel('y')\n",
    "plt.xlabel('x')"
   ]
  },
  {
   "cell_type": "code",
   "execution_count": 14,
   "metadata": {},
   "outputs": [],
   "source": [
    "def get_params():\n",
    "    [w,b]=model.parameters()\n",
    "    return w[0][0].item(),b[0].item()"
   ]
  },
  {
   "cell_type": "code",
   "execution_count": 15,
   "metadata": {},
   "outputs": [],
   "source": [
    "def plot_fit(title):\n",
    "    plt.title=title\n",
    "    w1,b1=get_params()\n",
    "    x1=np.array([-30,30])\n",
    "    y1=w1*x1+b1\n",
    "    plt.plot(x1,y1,'r')\n",
    "    #plt.show()\n",
    "    plt.scatter(x,y)\n",
    "    plt.show()"
   ]
  },
  {
   "cell_type": "code",
   "execution_count": 16,
   "metadata": {},
   "outputs": [
    {
     "data": {
      "image/png": "[encoded data removed]",
      "text/plain": [
       "<Figure size 432x288 with 1 Axes>"
      ]
     },
     "metadata": {},
     "output_type": "display_data"
    }
   ],
   "source": [
    "plot_fit('InitialModel')"
   ]
  },
  {
   "cell_type": "code",
   "execution_count": 17,
   "metadata": {},
   "outputs": [],
   "source": [
    "criterion=nn.MSELoss()\n",
    "optimiser=torch.optim.SGD(model.parameters(),lr=0.01)"
   ]
  },
  {
   "cell_type": "code",
   "execution_count": 18,
   "metadata": {},
   "outputs": [
    {
     "name": "stdout",
     "output_type": "stream",
     "text": [
      "Epoch:  0 Loss:  36.44832992553711\n",
      "Epoch:  1 Loss:  43.94552230834961\n",
      "Epoch:  2 Loss:  53.46180725097656\n",
      "Epoch:  3 Loss:  65.54039764404297\n",
      "Epoch:  4 Loss:  80.87047576904297\n",
      "Epoch:  5 Loss:  100.32691192626953\n",
      "Epoch:  6 Loss:  125.01979064941406\n",
      "Epoch:  7 Loss:  156.3578643798828\n",
      "Epoch:  8 Loss:  196.12879943847656\n",
      "Epoch:  9 Loss:  246.6014404296875\n",
      "Epoch:  10 Loss:  310.6551513671875\n",
      "Epoch:  11 Loss:  391.94342041015625\n",
      "Epoch:  12 Loss:  495.104248046875\n",
      "Epoch:  13 Loss:  626.0213623046875\n",
      "Epoch:  14 Loss:  792.1619262695312\n",
      "Epoch:  15 Loss:  1003.0037841796875\n",
      "Epoch:  16 Loss:  1270.572265625\n",
      "Epoch:  17 Loss:  1610.1295166015625\n",
      "Epoch:  18 Loss:  2041.0457763671875\n",
      "Epoch:  19 Loss:  2587.898681640625\n",
      "Epoch:  20 Loss:  3281.88134765625\n",
      "Epoch:  21 Loss:  4162.578125\n",
      "Epoch:  22 Loss:  5280.22216796875\n",
      "Epoch:  23 Loss:  6698.564453125\n",
      "Epoch:  24 Loss:  8498.5\n",
      "Epoch:  25 Loss:  10782.72265625\n",
      "Epoch:  26 Loss:  13681.494140625\n",
      "Epoch:  27 Loss:  17360.16796875\n",
      "Epoch:  28 Loss:  22028.599609375\n",
      "Epoch:  29 Loss:  27953.017578125\n",
      "Epoch:  30 Loss:  35471.390625\n",
      "Epoch:  31 Loss:  45012.5546875\n",
      "Epoch:  32 Loss:  57120.77734375\n",
      "Epoch:  33 Loss:  72486.6484375\n",
      "Epoch:  34 Loss:  91986.640625\n",
      "Epoch:  35 Loss:  116732.9609375\n",
      "Epoch:  36 Loss:  148137.203125\n",
      "Epoch:  37 Loss:  187990.703125\n",
      "Epoch:  38 Loss:  238566.65625\n",
      "Epoch:  39 Loss:  302749.84375\n",
      "Epoch:  40 Loss:  384201.5\n",
      "Epoch:  41 Loss:  487567.125\n",
      "Epoch:  42 Loss:  618743.375\n",
      "Epoch:  43 Loss:  785212.1875\n",
      "Epoch:  44 Loss:  996467.875\n",
      "Epoch:  45 Loss:  1264562.0\n",
      "Epoch:  46 Loss:  1604785.875\n",
      "Epoch:  47 Loss:  2036545.75\n",
      "Epoch:  48 Loss:  2584467.25\n",
      "Epoch:  49 Loss:  3279803.5\n",
      "Epoch:  50 Loss:  4162224.5\n",
      "Epoch:  51 Loss:  5282054.5\n",
      "Epoch:  52 Loss:  6703166.5\n",
      "Epoch:  53 Loss:  8506620.0\n",
      "Epoch:  54 Loss:  10795287.0\n",
      "Epoch:  55 Loss:  13699720.0\n",
      "Epoch:  56 Loss:  17385586.0\n",
      "Epoch:  57 Loss:  22063132.0\n",
      "Epoch:  58 Loss:  27999118.0\n",
      "Epoch:  59 Loss:  35532152.0\n",
      "Epoch:  60 Loss:  45091956.0\n",
      "Epoch:  61 Loss:  57223792.0\n",
      "Epoch:  62 Loss:  72619616.0\n",
      "Epoch:  63 Loss:  92157608.0\n",
      "Epoch:  64 Loss:  116952264.0\n",
      "Epoch:  65 Loss:  148417760.0\n",
      "Epoch:  66 Loss:  188349040.0\n",
      "Epoch:  67 Loss:  239023744.0\n",
      "Epoch:  68 Loss:  303331904.0\n",
      "Epoch:  69 Loss:  384942176.0\n",
      "Epoch:  70 Loss:  488509408.0\n",
      "Epoch:  71 Loss:  619940544.0\n",
      "Epoch:  72 Loss:  786733824.0\n",
      "Epoch:  73 Loss:  998401344.0\n",
      "Epoch:  74 Loss:  1267018624.0\n",
      "Epoch:  75 Loss:  1607905664.0\n",
      "Epoch:  76 Loss:  2040505984.0\n",
      "Epoch:  77 Loss:  2589498880.0\n",
      "Epoch:  78 Loss:  3286193920.0\n",
      "Epoch:  79 Loss:  4170334208.0\n",
      "Epoch:  80 Loss:  5292345344.0\n",
      "Epoch:  81 Loss:  6716233216.0\n",
      "Epoch:  82 Loss:  8523208704.0\n",
      "Epoch:  83 Loss:  10816351232.0\n",
      "Epoch:  84 Loss:  13726439424.0\n",
      "Epoch:  85 Loss:  17419481088.0\n",
      "Epoch:  86 Loss:  22106134528.0\n",
      "Epoch:  87 Loss:  28053721088.0\n",
      "Epoch:  88 Loss:  35601477632.0\n",
      "Epoch:  89 Loss:  45179940864.0\n",
      "Epoch:  90 Loss:  57335406592.0\n",
      "Epoch:  91 Loss:  72761335808.0\n",
      "Epoch:  92 Loss:  92337528832.0\n",
      "Epoch:  93 Loss:  117180637184.0\n",
      "Epoch:  94 Loss:  148707688448.0\n",
      "Epoch:  95 Loss:  188717006848.0\n",
      "Epoch:  96 Loss:  239490613248.0\n",
      "Epoch:  97 Loss:  303924707328.0\n",
      "Epoch:  98 Loss:  385694302208.0\n",
      "Epoch:  99 Loss:  489464135680.0\n"
     ]
    }
   ],
   "source": [
    "epochs=100\n",
    "losses=[]\n",
    "for i in range(epochs):\n",
    "    y_pred=model.forward(x)\n",
    "    loss=criterion(y_pred,y)\n",
    "    print('Epoch: ',i,'Loss: ',loss.item())\n",
    "    \n",
    "    losses.append(loss)\n",
    "    optimiser.zero_grad()\n",
    "    loss.backward()\n",
    "    optimiser.step()"
   ]
  },
  {
   "cell_type": "code",
   "execution_count": 20,
   "metadata": {},
   "outputs": [
    {
     "data": {
      "text/plain": [
       "Text(0,0.5,'Losess')"
      ]
     },
     "execution_count": 20,
     "metadata": {},
     "output_type": "execute_result"
    },
    {
     "data": {
      "image/png": "[encoded data removed]",
      "text/plain": [
       "<Figure size 432x288 with 1 Axes>"
      ]
     },
     "metadata": {},
     "output_type": "display_data"
    }
   ],
   "source": [
    "plt.plot(range(epochs),losses)\n",
    "plt.xlabel('Epochs')\n",
    "plt.ylabel('Losess')"
   ]
  },
  {
   "cell_type": "code",
   "execution_count": 21,
   "metadata": {},
   "outputs": [
    {
     "data": {
      "image/png": "[encoded data removed]",
      "text/plain": [
       "<Figure size 432x288 with 1 Axes>"
      ]
     },
     "metadata": {},
     "output_type": "display_data"
    }
   ],
   "source": [
    "plot_fit('Trained model')"
   ]
  },
  {
   "cell_type": "code",
   "execution_count": 23,
   "metadata": {},
   "outputs": [],
   "source": [
    "import torch\n",
    "import torch.nn as nn\n",
    "import numpy as np\n",
    "import pandas as pd"
   ]
  },
  {
   "cell_type": "code",
   "execution_count": 29,
   "metadata": {},
   "outputs": [],
   "source": [
    "class LR(nn.Module):\n",
    "    def __init__(self,input_size,output_size):\n",
    "        super().__init__()\n",
    "        self.linear=nn.Linear(input_size,output_size)\n",
    "    def forward(self,x):\n",
    "        pred=self.linear(x)\n",
    "        return pred"
   ]
  },
  {
   "cell_type": "code",
   "execution_count": 30,
   "metadata": {},
   "outputs": [
    {
     "name": "stdout",
     "output_type": "stream",
     "text": [
      "LR(\n",
      "  (linear): Linear(in_features=1, out_features=1, bias=True)\n",
      ")\n",
      "[Parameter containing:\n",
      "tensor([[0.5153]], requires_grad=True), Parameter containing:\n",
      "tensor([-0.4414], requires_grad=True)]\n"
     ]
    }
   ],
   "source": [
    "torch.manual_seed(1)\n",
    "model=LR(1,1)\n",
    "print(model)\n",
    "print(list(model.parameters()))"
   ]
  },
  {
   "cell_type": "code",
   "execution_count": 31,
   "metadata": {},
   "outputs": [],
   "source": [
    "def plot_fit(title):\n",
    "    plt.title=title\n",
    "    w1,b1=get_params()\n",
    "    x1=np.array([-30,30])\n",
    "    y1=w1*x1+b1\n",
    "    plt.plot(x1,y1,'r')\n",
    "    #plt.show()\n",
    "    plt.scatter(x,y)\n",
    "    plt.show()"
   ]
  },
  {
   "cell_type": "code",
   "execution_count": 32,
   "metadata": {},
   "outputs": [],
   "source": [
    "criterion=nn.MSELoss()\n",
    "optimiser=torch.optim.SGD(model.parameters(),lr=0.01)"
   ]
  },
  {
   "cell_type": "code",
   "execution_count": 33,
   "metadata": {},
   "outputs": [
    {
     "data": {
      "text/plain": [
       "Text(0.5,0,'x')"
      ]
     },
     "execution_count": 33,
     "metadata": {},
     "output_type": "execute_result"
    },
    {
     "data": {
      "image/png": "[encoded data removed]",
      "text/plain": [
       "<Figure size 432x288 with 1 Axes>"
      ]
     },
     "metadata": {},
     "output_type": "display_data"
    }
   ],
   "source": [
    "x=torch.randn(100,1)*10\n",
    "y=x+3*torch.randn(100,1)\n",
    "#print(x)\n",
    "plt.plot(x.numpy(),y.numpy(),'o')\n",
    "plt.ylabel('y')\n",
    "plt.xlabel('x')"
   ]
  },
  {
   "cell_type": "code",
   "execution_count": 34,
   "metadata": {},
   "outputs": [
    {
     "name": "stdout",
     "output_type": "stream",
     "text": [
      "Epoch:  0 Loss:  36.44832992553711\n",
      "Epoch:  1 Loss:  43.94552230834961\n",
      "Epoch:  2 Loss:  53.46180725097656\n",
      "Epoch:  3 Loss:  65.54039764404297\n",
      "Epoch:  4 Loss:  80.87047576904297\n",
      "Epoch:  5 Loss:  100.32691192626953\n",
      "Epoch:  6 Loss:  125.01979064941406\n",
      "Epoch:  7 Loss:  156.3578643798828\n",
      "Epoch:  8 Loss:  196.12879943847656\n",
      "Epoch:  9 Loss:  246.6014404296875\n",
      "Epoch:  10 Loss:  310.6551513671875\n",
      "Epoch:  11 Loss:  391.94342041015625\n",
      "Epoch:  12 Loss:  495.104248046875\n",
      "Epoch:  13 Loss:  626.0213623046875\n",
      "Epoch:  14 Loss:  792.1619262695312\n",
      "Epoch:  15 Loss:  1003.0037841796875\n",
      "Epoch:  16 Loss:  1270.572265625\n",
      "Epoch:  17 Loss:  1610.1295166015625\n",
      "Epoch:  18 Loss:  2041.0457763671875\n",
      "Epoch:  19 Loss:  2587.898681640625\n",
      "Epoch:  20 Loss:  3281.88134765625\n",
      "Epoch:  21 Loss:  4162.578125\n",
      "Epoch:  22 Loss:  5280.22216796875\n",
      "Epoch:  23 Loss:  6698.564453125\n",
      "Epoch:  24 Loss:  8498.5\n",
      "Epoch:  25 Loss:  10782.72265625\n",
      "Epoch:  26 Loss:  13681.494140625\n",
      "Epoch:  27 Loss:  17360.16796875\n",
      "Epoch:  28 Loss:  22028.599609375\n",
      "Epoch:  29 Loss:  27953.017578125\n",
      "Epoch:  30 Loss:  35471.390625\n",
      "Epoch:  31 Loss:  45012.5546875\n",
      "Epoch:  32 Loss:  57120.77734375\n",
      "Epoch:  33 Loss:  72486.6484375\n",
      "Epoch:  34 Loss:  91986.640625\n",
      "Epoch:  35 Loss:  116732.9609375\n",
      "Epoch:  36 Loss:  148137.203125\n",
      "Epoch:  37 Loss:  187990.703125\n",
      "Epoch:  38 Loss:  238566.65625\n",
      "Epoch:  39 Loss:  302749.84375\n",
      "Epoch:  40 Loss:  384201.5\n",
      "Epoch:  41 Loss:  487567.125\n",
      "Epoch:  42 Loss:  618743.375\n",
      "Epoch:  43 Loss:  785212.1875\n",
      "Epoch:  44 Loss:  996467.875\n",
      "Epoch:  45 Loss:  1264562.0\n",
      "Epoch:  46 Loss:  1604785.875\n",
      "Epoch:  47 Loss:  2036545.75\n",
      "Epoch:  48 Loss:  2584467.25\n",
      "Epoch:  49 Loss:  3279803.5\n",
      "Epoch:  50 Loss:  4162224.5\n",
      "Epoch:  51 Loss:  5282054.5\n",
      "Epoch:  52 Loss:  6703166.5\n",
      "Epoch:  53 Loss:  8506620.0\n",
      "Epoch:  54 Loss:  10795287.0\n",
      "Epoch:  55 Loss:  13699720.0\n",
      "Epoch:  56 Loss:  17385586.0\n",
      "Epoch:  57 Loss:  22063132.0\n",
      "Epoch:  58 Loss:  27999118.0\n",
      "Epoch:  59 Loss:  35532152.0\n",
      "Epoch:  60 Loss:  45091956.0\n",
      "Epoch:  61 Loss:  57223792.0\n",
      "Epoch:  62 Loss:  72619616.0\n",
      "Epoch:  63 Loss:  92157608.0\n",
      "Epoch:  64 Loss:  116952264.0\n",
      "Epoch:  65 Loss:  148417760.0\n",
      "Epoch:  66 Loss:  188349040.0\n",
      "Epoch:  67 Loss:  239023744.0\n",
      "Epoch:  68 Loss:  303331904.0\n",
      "Epoch:  69 Loss:  384942176.0\n",
      "Epoch:  70 Loss:  488509408.0\n",
      "Epoch:  71 Loss:  619940544.0\n",
      "Epoch:  72 Loss:  786733824.0\n",
      "Epoch:  73 Loss:  998401344.0\n",
      "Epoch:  74 Loss:  1267018624.0\n",
      "Epoch:  75 Loss:  1607905664.0\n",
      "Epoch:  76 Loss:  2040505984.0\n",
      "Epoch:  77 Loss:  2589498880.0\n",
      "Epoch:  78 Loss:  3286193920.0\n",
      "Epoch:  79 Loss:  4170334208.0\n",
      "Epoch:  80 Loss:  5292345344.0\n",
      "Epoch:  81 Loss:  6716233216.0\n",
      "Epoch:  82 Loss:  8523208704.0\n",
      "Epoch:  83 Loss:  10816351232.0\n",
      "Epoch:  84 Loss:  13726439424.0\n",
      "Epoch:  85 Loss:  17419481088.0\n",
      "Epoch:  86 Loss:  22106134528.0\n",
      "Epoch:  87 Loss:  28053721088.0\n",
      "Epoch:  88 Loss:  35601477632.0\n",
      "Epoch:  89 Loss:  45179940864.0\n",
      "Epoch:  90 Loss:  57335406592.0\n",
      "Epoch:  91 Loss:  72761335808.0\n",
      "Epoch:  92 Loss:  92337528832.0\n",
      "Epoch:  93 Loss:  117180637184.0\n",
      "Epoch:  94 Loss:  148707688448.0\n",
      "Epoch:  95 Loss:  188717006848.0\n",
      "Epoch:  96 Loss:  239490613248.0\n",
      "Epoch:  97 Loss:  303924707328.0\n",
      "Epoch:  98 Loss:  385694302208.0\n",
      "Epoch:  99 Loss:  489464135680.0\n"
     ]
    }
   ],
   "source": [
    "epochs=100\n",
    "losses=[]\n",
    "for i in range(epochs):\n",
    "    y_pred=model.forward(x)\n",
    "    loss=criterion(y_pred,y)\n",
    "    print('Epoch: ',i,'Loss: ',loss.item())\n",
    "    \n",
    "    losses.append(loss)\n",
    "    optimiser.zero_grad()\n",
    "    loss.backward()\n",
    "    optimiser.step()"
   ]
  }
 ],
 "metadata": {
  "kernelspec": {
   "display_name": "Python 3",
   "language": "python",
   "name": "python3"
  },
  "language_info": {
   "codemirror_mode": {
    "name": "ipython",
    "version": 3
   },
   "file_extension": ".py",
   "mimetype": "text/x-python",
   "name": "python",
   "nbconvert_exporter": "python",
   "pygments_lexer": "ipython3",
   "version": "3.6.5"
  }
 },
 "nbformat": 4,
 "nbformat_minor": 2
}
