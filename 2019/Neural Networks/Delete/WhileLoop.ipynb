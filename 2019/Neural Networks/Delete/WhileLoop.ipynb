{
 "cells": [
  {
   "cell_type": "code",
   "execution_count": 1,
   "metadata": {},
   "outputs": [
    {
     "name": "stdout",
     "output_type": "stream",
     "text": [
      "input a number0\n",
      "ok\n"
     ]
    }
   ],
   "source": [
    "ctr=0\n",
    "while True:\n",
    "    inp=input(\"input a number\")\n",
    "    inp = int (inp)\n",
    "    if (inp!=ctr):\n",
    "        print (\"didn't enter that number yet\")\n",
    "    elif(inp==ctr):\n",
    "        print(\"ok\")\n",
    "        break"
   ]
  },
  {
   "cell_type": "code",
   "execution_count": null,
   "metadata": {},
   "outputs": [],
   "source": [
    "ctr=0\n",
    "while True:\n",
    "    inp=input(\"input a number\")\n",
    "    inp = int (inp)\n",
    "    if (inp!=ctr):\n",
    "        print (\"didn't enter that number yet\")\n",
    "    elif(inp==ctr):\n",
    "        print(\"ok\")\n",
    "        break"
   ]
  },
  {
   "cell_type": "code",
   "execution_count": 8,
   "metadata": {},
   "outputs": [],
   "source": [
    "def sample(inp):\n",
    "    while True:\n",
    "        inp = int (inp)\n",
    "        if (inp!=ctr):\n",
    "            print (\"didn't enter that number yet\")\n",
    "            return inp\n",
    "        elif(inp==ctr):\n",
    "            print(\"ok\")\n",
    "            break"
   ]
  },
  {
   "cell_type": "code",
   "execution_count": 10,
   "metadata": {},
   "outputs": [
    {
     "name": "stdout",
     "output_type": "stream",
     "text": [
      "didn't enter that number yet\n"
     ]
    },
    {
     "data": {
      "text/plain": [
       "1"
      ]
     },
     "execution_count": 10,
     "metadata": {},
     "output_type": "execute_result"
    }
   ],
   "source": [
    "sample(1)"
   ]
  }
 ],
 "metadata": {
  "kernelspec": {
   "display_name": "Python 3",
   "language": "python",
   "name": "python3"
  },
  "language_info": {
   "codemirror_mode": {
    "name": "ipython",
    "version": 3
   },
   "file_extension": ".py",
   "mimetype": "text/x-python",
   "name": "python",
   "nbconvert_exporter": "python",
   "pygments_lexer": "ipython3",
   "version": "3.6.8"
  }
 },
 "nbformat": 4,
 "nbformat_minor": 2
}
