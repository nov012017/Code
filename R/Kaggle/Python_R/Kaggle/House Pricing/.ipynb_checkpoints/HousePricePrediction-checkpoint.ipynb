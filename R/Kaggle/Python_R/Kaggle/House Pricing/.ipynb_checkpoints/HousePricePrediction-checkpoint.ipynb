{
 "cells": [
  {
   "cell_type": "code",
   "execution_count": 18,
   "metadata": {},
   "outputs": [],
   "source": [
    "## Loading the Libraries\n",
    "    library(ggplot2)\n",
    "\n",
    "## Necessaris\n",
    "options(scipen=9999)"
   ]
  },
  {
   "cell_type": "code",
   "execution_count": 54,
   "metadata": {},
   "outputs": [
    {
     "data": {
      "text/html": [
       "'C:/Users/KASTU1/Desktop/Analytics Path/R/Data/Kaggle/HousePricePrediction'"
      ],
      "text/latex": [
       "'C:/Users/KASTU1/Desktop/Analytics Path/R/Data/Kaggle/HousePricePrediction'"
      ],
      "text/markdown": [
       "'C:/Users/KASTU1/Desktop/Analytics Path/R/Data/Kaggle/HousePricePrediction'"
      ],
      "text/plain": [
       "[1] \"C:/Users/KASTU1/Desktop/Analytics Path/R/Data/Kaggle/HousePricePrediction\""
      ]
     },
     "metadata": {},
     "output_type": "display_data"
    }
   ],
   "source": [
    "setwd(\"C:\\\\Users\\\\KASTU1\\\\Desktop\\\\Analytics Path\\\\R\\\\Data\\\\Kaggle\\\\HousePricePrediction\")\n",
    "getwd()\n",
    "\n",
    "## Reading the file\n",
    "home_est=read.csv(\"house_pricing_kaggle.csv\")\n",
    "    "
   ]
  },
  {
   "cell_type": "code",
   "execution_count": 55,
   "metadata": {},
   "outputs": [
    {
     "data": {
      "text/html": [
       "0"
      ],
      "text/latex": [
       "0"
      ],
      "text/markdown": [
       "0"
      ],
      "text/plain": [
       "[1] 0"
      ]
     },
     "metadata": {},
     "output_type": "display_data"
    },
    {
     "data": {},
     "metadata": {},
     "output_type": "display_data"
    },
    {
     "data": {},
     "metadata": {},
     "output_type": "display_data"
    },
    {
     "data": {
      "image/png": "[encoded data removed]",
      "text/plain": [
       "plot without title"
      ]
     },
     "metadata": {},
     "output_type": "display_data"
    },
    {
     "data": {
      "image/png": "[encoded data removed]",
      "text/plain": [
       "plot without title"
      ]
     },
     "metadata": {},
     "output_type": "display_data"
    }
   ],
   "source": [
    "### Handling target SalePrice variable\n",
    "home_est$sp=log(home_est$SalePrice)\n",
    "sum(is.na(home_est$SalePrice))\n",
    "UW=qnorm(0.75,mean(home_est$sp),sd(home_est$sp))+(1.5*IQR(home_est$sp))\n",
    "LW=qnorm(0.25,mean(home_est$sp),sd(home_est$sp))-(1.5*IQR(home_est$sp))\n",
    "ggplot(home_est,aes(1,SalePrice))+geom_boxplot()\n",
    "home_est[home_est$sp>UW,\"SalePrice\"]=quantile(home_est$sp,probs = c(0.95))\n",
    "home_est[home_est$sp<LW,\"SalePrice\"]=quantile(home_est$sp,probs = c(0.05))\n",
    "ggplot(home_est,aes(1,SalePrice))+geom_boxplot()\n"
   ]
  },
  {
   "cell_type": "code",
   "execution_count": 113,
   "metadata": {},
   "outputs": [
    {
     "data": {
      "text/html": [
       "<ol class=list-inline>\n",
       "\t<li>2</li>\n",
       "\t<li>1</li>\n",
       "\t<li>0</li>\n",
       "\t<li>3</li>\n",
       "</ol>\n"
      ],
      "text/latex": [
       "\\begin{enumerate*}\n",
       "\\item 2\n",
       "\\item 1\n",
       "\\item 0\n",
       "\\item 3\n",
       "\\end{enumerate*}\n"
      ],
      "text/markdown": [
       "1. 2\n",
       "2. 1\n",
       "3. 0\n",
       "4. 3\n",
       "\n",
       "\n"
      ],
      "text/plain": [
       "[1] 2 1 0 3\n",
       "Levels: 0 1 2 3"
      ]
     },
     "metadata": {},
     "output_type": "display_data"
    }
   ],
   "source": [
    "## Working on the columns\n",
    "    ## Converting the MSSubclass to Factor\n",
    "        home_est$MSSubClass=as.factor(home_est$MSSubClass)\n",
    "        home_est$BsmtFullBath=as.factor(home_est$BsmtFullBath)\n",
    "        home_est$BsmtHalfBath=as.factor(home_est$BsmtHalfBath)\n",
    "        home_est$FullBath=as.factor(home_est$FullBath)\n",
    "        unique(home_est$FullBath)"
   ]
  },
  {
   "cell_type": "code",
   "execution_count": 108,
   "metadata": {},
   "outputs": [
    {
     "data": {
      "text/html": [
       "<ol class=list-inline>\n",
       "\t<li>'0'</li>\n",
       "\t<li>'1'</li>\n",
       "\t<li>'2'</li>\n",
       "\t<li>'3'</li>\n",
       "</ol>\n"
      ],
      "text/latex": [
       "\\begin{enumerate*}\n",
       "\\item '0'\n",
       "\\item '1'\n",
       "\\item '2'\n",
       "\\item '3'\n",
       "\\end{enumerate*}\n"
      ],
      "text/markdown": [
       "1. '0'\n",
       "2. '1'\n",
       "3. '2'\n",
       "4. '3'\n",
       "\n",
       "\n"
      ],
      "text/plain": [
       "[1] \"0\" \"1\" \"2\" \"3\""
      ]
     },
     "metadata": {},
     "output_type": "display_data"
    },
    {
     "data": {
      "text/html": [
       "0"
      ],
      "text/latex": [
       "0"
      ],
      "text/markdown": [
       "0"
      ],
      "text/plain": [
       "[1] 0"
      ]
     },
     "metadata": {},
     "output_type": "display_data"
    },
    {
     "data": {
      "text/plain": [
       "\n",
       "  0   1   2   3 \n",
       "856 588  15   1 "
      ]
     },
     "metadata": {},
     "output_type": "display_data"
    },
    {
     "data": {},
     "metadata": {},
     "output_type": "display_data"
    },
    {
     "data": {
      "image/png": "[encoded data removed]",
      "text/plain": [
       "plot without title"
      ]
     },
     "metadata": {},
     "output_type": "display_data"
    }
   ],
   "source": [
    "## Working with the BsmtFullBath factor columns\n",
    "levels(home_est$BsmtFullBath)\n",
    "sum(is.na(home_est$BsmtFullBath))\n",
    "table(home_est$BsmtFullBath)\n",
    "ggplot(home_est,aes(BsmtFullBath,SalePrice))+geom_boxplot(col=\"steelblue\")+labs(title=\"BsmtFullBath vs SalePrice\", subtitle=\"From House Pricing Dataset\", y=\"BsmtFullBath\", x=\"SalePrice\", caption=\"SalePrice Variation\")"
   ]
  },
  {
   "cell_type": "code",
   "execution_count": 114,
   "metadata": {},
   "outputs": [
    {
     "data": {
      "text/html": [
       "<ol class=list-inline>\n",
       "\t<li>'0'</li>\n",
       "\t<li>'1'</li>\n",
       "\t<li>'2'</li>\n",
       "\t<li>'3'</li>\n",
       "</ol>\n"
      ],
      "text/latex": [
       "\\begin{enumerate*}\n",
       "\\item '0'\n",
       "\\item '1'\n",
       "\\item '2'\n",
       "\\item '3'\n",
       "\\end{enumerate*}\n"
      ],
      "text/markdown": [
       "1. '0'\n",
       "2. '1'\n",
       "3. '2'\n",
       "4. '3'\n",
       "\n",
       "\n"
      ],
      "text/plain": [
       "[1] \"0\" \"1\" \"2\" \"3\""
      ]
     },
     "metadata": {},
     "output_type": "display_data"
    },
    {
     "data": {
      "text/html": [
       "0"
      ],
      "text/latex": [
       "0"
      ],
      "text/markdown": [
       "0"
      ],
      "text/plain": [
       "[1] 0"
      ]
     },
     "metadata": {},
     "output_type": "display_data"
    },
    {
     "data": {
      "text/plain": [
       "\n",
       "  0   1   2   3 \n",
       "  9 650 768  33 "
      ]
     },
     "metadata": {},
     "output_type": "display_data"
    },
    {
     "data": {},
     "metadata": {},
     "output_type": "display_data"
    },
    {
     "data": {
      "image/png": "[encoded data removed]",
      "text/plain": [
       "plot without title"
      ]
     },
     "metadata": {},
     "output_type": "display_data"
    }
   ],
   "source": [
    "## Working with the BsmtFullBath factor columns\n",
    "levels(home_est$FullBath)\n",
    "sum(is.na(home_est$FullBath))\n",
    "table(home_est$FullBath)\n",
    "ggplot(home_est,aes(FullBath,SalePrice))+geom_boxplot(col=\"steelblue\")+labs(title=\"FullBath vs SalePrice\", subtitle=\"From House Pricing Dataset\", y=\"FullBath\", x=\"SalePrice\", caption=\"SalePrice Variation\")"
   ]
  },
  {
   "cell_type": "code",
   "execution_count": 111,
   "metadata": {},
   "outputs": [
    {
     "data": {
      "text/html": [
       "<ol class=list-inline>\n",
       "\t<li>'0'</li>\n",
       "\t<li>'1'</li>\n",
       "\t<li>'2'</li>\n",
       "</ol>\n"
      ],
      "text/latex": [
       "\\begin{enumerate*}\n",
       "\\item '0'\n",
       "\\item '1'\n",
       "\\item '2'\n",
       "\\end{enumerate*}\n"
      ],
      "text/markdown": [
       "1. '0'\n",
       "2. '1'\n",
       "3. '2'\n",
       "\n",
       "\n"
      ],
      "text/plain": [
       "[1] \"0\" \"1\" \"2\""
      ]
     },
     "metadata": {},
     "output_type": "display_data"
    },
    {
     "data": {
      "text/html": [
       "0"
      ],
      "text/latex": [
       "0"
      ],
      "text/markdown": [
       "0"
      ],
      "text/plain": [
       "[1] 0"
      ]
     },
     "metadata": {},
     "output_type": "display_data"
    },
    {
     "data": {
      "text/plain": [
       "\n",
       "   0    1    2 \n",
       "1378   80    2 "
      ]
     },
     "metadata": {},
     "output_type": "display_data"
    },
    {
     "data": {},
     "metadata": {},
     "output_type": "display_data"
    },
    {
     "data": {
      "image/png": "[encoded data removed]",
      "text/plain": [
       "plot without title"
      ]
     },
     "metadata": {},
     "output_type": "display_data"
    }
   ],
   "source": [
    "## Working with the BsmtHalfBath factor columns\n",
    "levels(home_est$BsmtHalfBath)\n",
    "sum(is.na(home_est$BsmtHalfBath))\n",
    "table(home_est$BsmtHalfBath)\n",
    "ggplot(home_est,aes(BsmtHalfBath,SalePrice))+geom_boxplot(col=\"steelblue\")+labs(title=\"BsmtHalfBath vs SalePrice\", subtitle=\"From House Pricing Dataset\", y=\"BsmtHalfBath\", x=\"SalePrice\", caption=\"SalePrice Variation\")"
   ]
  },
  {
   "cell_type": "code",
   "execution_count": 14,
   "metadata": {
    "scrolled": false
   },
   "outputs": [
    {
     "data": {
      "text/html": [
       "<ol class=list-inline>\n",
       "\t<li>'40'</li>\n",
       "\t<li>'45'</li>\n",
       "\t<li>'50'</li>\n",
       "\t<li>'60'</li>\n",
       "\t<li>'70'</li>\n",
       "\t<li>'75'</li>\n",
       "\t<li>'80'</li>\n",
       "\t<li>'85'</li>\n",
       "\t<li>'90'</li>\n",
       "\t<li>'160'</li>\n",
       "\t<li>'180'</li>\n",
       "\t<li>'190'</li>\n",
       "\t<li>'2000'</li>\n",
       "\t<li>'12000'</li>\n",
       "</ol>\n"
      ],
      "text/latex": [
       "\\begin{enumerate*}\n",
       "\\item '40'\n",
       "\\item '45'\n",
       "\\item '50'\n",
       "\\item '60'\n",
       "\\item '70'\n",
       "\\item '75'\n",
       "\\item '80'\n",
       "\\item '85'\n",
       "\\item '90'\n",
       "\\item '160'\n",
       "\\item '180'\n",
       "\\item '190'\n",
       "\\item '2000'\n",
       "\\item '12000'\n",
       "\\end{enumerate*}\n"
      ],
      "text/markdown": [
       "1. '40'\n",
       "2. '45'\n",
       "3. '50'\n",
       "4. '60'\n",
       "5. '70'\n",
       "6. '75'\n",
       "7. '80'\n",
       "8. '85'\n",
       "9. '90'\n",
       "10. '160'\n",
       "11. '180'\n",
       "12. '190'\n",
       "13. '2000'\n",
       "14. '12000'\n",
       "\n",
       "\n"
      ],
      "text/plain": [
       " [1] \"40\"    \"45\"    \"50\"    \"60\"    \"70\"    \"75\"    \"80\"    \"85\"    \"90\"   \n",
       "[10] \"160\"   \"180\"   \"190\"   \"2000\"  \"12000\""
      ]
     },
     "metadata": {},
     "output_type": "display_data"
    },
    {
     "data": {},
     "metadata": {},
     "output_type": "display_data"
    },
    {
     "data": {
      "image/png": "[encoded data removed]",
      "text/plain": [
       "plot without title"
      ]
     },
     "metadata": {},
     "output_type": "display_data"
    }
   ],
   "source": [
    "## Working with the MSSubclass factor columns\n",
    "levels(home_est$MSSubClass)\n",
    "ggplot(home_est,aes(MSSubClass,SalePrice))+geom_boxplot(col=\"steelblue\")+labs(title=\"MSSubclass vs SalePrice\", subtitle=\"From House Pricing Dataset\", y=\"MSSubclass\", x=\"SalePrice\", caption=\"SalePrice Variation\")\n"
   ]
  },
  {
   "cell_type": "code",
   "execution_count": 16,
   "metadata": {},
   "outputs": [
    {
     "data": {
      "text/html": [
       "<ol class=list-inline>\n",
       "\t<li>'C (all)'</li>\n",
       "\t<li>'FV'</li>\n",
       "\t<li>'RH'</li>\n",
       "\t<li>'RL'</li>\n",
       "\t<li>'RM'</li>\n",
       "</ol>\n"
      ],
      "text/latex": [
       "\\begin{enumerate*}\n",
       "\\item 'C (all)'\n",
       "\\item 'FV'\n",
       "\\item 'RH'\n",
       "\\item 'RL'\n",
       "\\item 'RM'\n",
       "\\end{enumerate*}\n"
      ],
      "text/markdown": [
       "1. 'C (all)'\n",
       "2. 'FV'\n",
       "3. 'RH'\n",
       "4. 'RL'\n",
       "5. 'RM'\n",
       "\n",
       "\n"
      ],
      "text/plain": [
       "[1] \"C (all)\" \"FV\"      \"RH\"      \"RL\"      \"RM\"     "
      ]
     },
     "metadata": {},
     "output_type": "display_data"
    },
    {
     "data": {},
     "metadata": {},
     "output_type": "display_data"
    },
    {
     "data": {
      "image/png": "[encoded data removed]",
      "text/plain": [
       "plot without title"
      ]
     },
     "metadata": {},
     "output_type": "display_data"
    }
   ],
   "source": [
    "## Working with the MSZoning factor columns\n",
    "levels(home_est$MSZoning)\n",
    "ggplot(home_est,aes(MSZoning,SalePrice))+geom_boxplot(col=\"steelblue\")+labs(title=\"MSZoning vs SalePrice\", subtitle=\"From House Pricing Dataset\", y=\"MSZoning\", x=\"SalePrice\", caption=\"SalePrice Variation\")"
   ]
  },
  {
   "cell_type": "code",
   "execution_count": 19,
   "metadata": {},
   "outputs": [
    {
     "data": {
      "text/html": [
       "<ol class=list-inline>\n",
       "\t<li>'Grvl'</li>\n",
       "\t<li>'Pave'</li>\n",
       "</ol>\n"
      ],
      "text/latex": [
       "\\begin{enumerate*}\n",
       "\\item 'Grvl'\n",
       "\\item 'Pave'\n",
       "\\end{enumerate*}\n"
      ],
      "text/markdown": [
       "1. 'Grvl'\n",
       "2. 'Pave'\n",
       "\n",
       "\n"
      ],
      "text/plain": [
       "[1] \"Grvl\" \"Pave\""
      ]
     },
     "metadata": {},
     "output_type": "display_data"
    },
    {
     "data": {},
     "metadata": {},
     "output_type": "display_data"
    },
    {
     "data": {
      "image/png": "[encoded data removed]",
      "text/plain": [
       "plot without title"
      ]
     },
     "metadata": {},
     "output_type": "display_data"
    }
   ],
   "source": [
    "## Working with the Street factor columns\n",
    "levels(home_est$Street)\n",
    "ggplot(home_est,aes(Street,SalePrice))+geom_boxplot(col=\"steelblue\")+labs(title=\"Street vs SalePrice\", subtitle=\"From House Pricing Dataset\", y=\"Street\", x=\"SalePrice\", caption=\"SalePrice Variation\")"
   ]
  },
  {
   "cell_type": "code",
   "execution_count": 27,
   "metadata": {},
   "outputs": [
    {
     "data": {
      "text/html": [
       "<ol class=list-inline>\n",
       "\t<li>'Grvl'</li>\n",
       "\t<li>'Pave'</li>\n",
       "</ol>\n"
      ],
      "text/latex": [
       "\\begin{enumerate*}\n",
       "\\item 'Grvl'\n",
       "\\item 'Pave'\n",
       "\\end{enumerate*}\n"
      ],
      "text/markdown": [
       "1. 'Grvl'\n",
       "2. 'Pave'\n",
       "\n",
       "\n"
      ],
      "text/plain": [
       "[1] \"Grvl\" \"Pave\""
      ]
     },
     "metadata": {},
     "output_type": "display_data"
    },
    {
     "data": {
      "text/html": [
       "1369"
      ],
      "text/latex": [
       "1369"
      ],
      "text/markdown": [
       "1369"
      ],
      "text/plain": [
       "[1] 1369"
      ]
     },
     "metadata": {},
     "output_type": "display_data"
    },
    {
     "data": {
      "text/plain": [
       "\n",
       "Grvl Pave \n",
       "  50   41 "
      ]
     },
     "metadata": {},
     "output_type": "display_data"
    },
    {
     "data": {},
     "metadata": {},
     "output_type": "display_data"
    },
    {
     "data": {
      "image/png": "[encoded data removed]",
      "text/plain": [
       "plot without title"
      ]
     },
     "metadata": {},
     "output_type": "display_data"
    }
   ],
   "source": [
    "## Working with the Alley factor columns\n",
    "levels(home_est$Alley)\n",
    "sum(is.na(home_est$Alley))\n",
    "table(home_est$Alley)\n",
    "ggplot(home_est,aes(Alley,SalePrice))+geom_boxplot(col=\"steelblue\")+labs(title=\"Alley vs SalePrice\", subtitle=\"From House Pricing Dataset\", y=\"Alley\", x=\"SalePrice\", caption=\"SalePrice Variation\")"
   ]
  },
  {
   "cell_type": "code",
   "execution_count": 57,
   "metadata": {},
   "outputs": [
    {
     "data": {
      "text/html": [
       "<ol class=list-inline>\n",
       "\t<li>'IR1'</li>\n",
       "\t<li>'IR2'</li>\n",
       "\t<li>'IR3'</li>\n",
       "\t<li>'Reg'</li>\n",
       "</ol>\n"
      ],
      "text/latex": [
       "\\begin{enumerate*}\n",
       "\\item 'IR1'\n",
       "\\item 'IR2'\n",
       "\\item 'IR3'\n",
       "\\item 'Reg'\n",
       "\\end{enumerate*}\n"
      ],
      "text/markdown": [
       "1. 'IR1'\n",
       "2. 'IR2'\n",
       "3. 'IR3'\n",
       "4. 'Reg'\n",
       "\n",
       "\n"
      ],
      "text/plain": [
       "[1] \"IR1\" \"IR2\" \"IR3\" \"Reg\""
      ]
     },
     "metadata": {},
     "output_type": "display_data"
    },
    {
     "data": {
      "text/html": [
       "0"
      ],
      "text/latex": [
       "0"
      ],
      "text/markdown": [
       "0"
      ],
      "text/plain": [
       "[1] 0"
      ]
     },
     "metadata": {},
     "output_type": "display_data"
    },
    {
     "data": {
      "text/plain": [
       "\n",
       "IR1 IR2 IR3 Reg \n",
       "484  41  10 925 "
      ]
     },
     "metadata": {},
     "output_type": "display_data"
    },
    {
     "data": {},
     "metadata": {},
     "output_type": "display_data"
    },
    {
     "data": {
      "image/png": "[encoded data removed]",
      "text/plain": [
       "plot without title"
      ]
     },
     "metadata": {},
     "output_type": "display_data"
    }
   ],
   "source": [
    "## Working with the LotShape factor columns\n",
    "levels(home_est$LotShape)\n",
    "sum(is.na(home_est$LotShape))\n",
    "table(home_est$LotShape)\n",
    "ggplot(home_est,aes(LotShape,SalePrice))+geom_boxplot(col=\"steelblue\")+labs(title=\"LotShape vs SalePrice\", subtitle=\"From House Pricing Dataset\", y=\"LotShape\", x=\"SalePrice\", caption=\"SalePrice Variation\")"
   ]
  },
  {
   "cell_type": "code",
   "execution_count": 58,
   "metadata": {},
   "outputs": [
    {
     "data": {
      "text/html": [
       "<ol class=list-inline>\n",
       "\t<li>''</li>\n",
       "\t<li>'Bnk'</li>\n",
       "\t<li>'HLS'</li>\n",
       "\t<li>'Low'</li>\n",
       "\t<li>'Lvl'</li>\n",
       "</ol>\n"
      ],
      "text/latex": [
       "\\begin{enumerate*}\n",
       "\\item ''\n",
       "\\item 'Bnk'\n",
       "\\item 'HLS'\n",
       "\\item 'Low'\n",
       "\\item 'Lvl'\n",
       "\\end{enumerate*}\n"
      ],
      "text/markdown": [
       "1. ''\n",
       "2. 'Bnk'\n",
       "3. 'HLS'\n",
       "4. 'Low'\n",
       "5. 'Lvl'\n",
       "\n",
       "\n"
      ],
      "text/plain": [
       "[1] \"\"    \"Bnk\" \"HLS\" \"Low\" \"Lvl\""
      ]
     },
     "metadata": {},
     "output_type": "display_data"
    },
    {
     "data": {
      "text/html": [
       "0"
      ],
      "text/latex": [
       "0"
      ],
      "text/markdown": [
       "0"
      ],
      "text/plain": [
       "[1] 0"
      ]
     },
     "metadata": {},
     "output_type": "display_data"
    },
    {
     "data": {
      "text/plain": [
       "\n",
       "      Bnk  HLS  Low  Lvl \n",
       "   1   63   50   36 1310 "
      ]
     },
     "metadata": {},
     "output_type": "display_data"
    },
    {
     "data": {},
     "metadata": {},
     "output_type": "display_data"
    },
    {
     "data": {
      "image/png": "[encoded data removed]",
      "text/plain": [
       "plot without title"
      ]
     },
     "metadata": {},
     "output_type": "display_data"
    }
   ],
   "source": [
    "## Working with the LandContour factor columns\n",
    "levels(home_est$LandContour)\n",
    "sum(is.na(home_est$LandContour))\n",
    "table(home_est$LandContour)\n",
    "ggplot(home_est,aes(LandContour,SalePrice))+geom_boxplot(col=\"steelblue\")+labs(title=\"LandContour vs SalePrice\", subtitle=\"From House Pricing Dataset\", y=\"LandContour\", x=\"SalePrice\", caption=\"SalePrice Variation\")"
   ]
  },
  {
   "cell_type": "code",
   "execution_count": 59,
   "metadata": {},
   "outputs": [
    {
     "data": {
      "text/html": [
       "<ol class=list-inline>\n",
       "\t<li>'AllPub'</li>\n",
       "\t<li>'NoSeWa'</li>\n",
       "</ol>\n"
      ],
      "text/latex": [
       "\\begin{enumerate*}\n",
       "\\item 'AllPub'\n",
       "\\item 'NoSeWa'\n",
       "\\end{enumerate*}\n"
      ],
      "text/markdown": [
       "1. 'AllPub'\n",
       "2. 'NoSeWa'\n",
       "\n",
       "\n"
      ],
      "text/plain": [
       "[1] \"AllPub\" \"NoSeWa\""
      ]
     },
     "metadata": {},
     "output_type": "display_data"
    },
    {
     "data": {
      "text/html": [
       "0"
      ],
      "text/latex": [
       "0"
      ],
      "text/markdown": [
       "0"
      ],
      "text/plain": [
       "[1] 0"
      ]
     },
     "metadata": {},
     "output_type": "display_data"
    },
    {
     "data": {
      "text/plain": [
       "\n",
       "AllPub NoSeWa \n",
       "  1459      1 "
      ]
     },
     "metadata": {},
     "output_type": "display_data"
    },
    {
     "data": {},
     "metadata": {},
     "output_type": "display_data"
    },
    {
     "data": {
      "image/png": "[encoded data removed]",
      "text/plain": [
       "plot without title"
      ]
     },
     "metadata": {},
     "output_type": "display_data"
    }
   ],
   "source": [
    "## Working with the Utilities factor columns\n",
    "levels(home_est$Utilities)\n",
    "sum(is.na(home_est$Utilities))\n",
    "table(home_est$Utilities)\n",
    "ggplot(home_est,aes(Utilities,SalePrice))+geom_boxplot(col=\"steelblue\")+labs(title=\"Utilities vs SalePrice\", subtitle=\"From House Pricing Dataset\", y=\"Utilities\", x=\"SalePrice\", caption=\"SalePrice Variation\")"
   ]
  },
  {
   "cell_type": "code",
   "execution_count": 60,
   "metadata": {},
   "outputs": [
    {
     "data": {
      "text/html": [
       "<ol class=list-inline>\n",
       "\t<li>'Corner'</li>\n",
       "\t<li>'CulDSac'</li>\n",
       "\t<li>'FR2'</li>\n",
       "\t<li>'FR3'</li>\n",
       "\t<li>'Inside'</li>\n",
       "</ol>\n"
      ],
      "text/latex": [
       "\\begin{enumerate*}\n",
       "\\item 'Corner'\n",
       "\\item 'CulDSac'\n",
       "\\item 'FR2'\n",
       "\\item 'FR3'\n",
       "\\item 'Inside'\n",
       "\\end{enumerate*}\n"
      ],
      "text/markdown": [
       "1. 'Corner'\n",
       "2. 'CulDSac'\n",
       "3. 'FR2'\n",
       "4. 'FR3'\n",
       "5. 'Inside'\n",
       "\n",
       "\n"
      ],
      "text/plain": [
       "[1] \"Corner\"  \"CulDSac\" \"FR2\"     \"FR3\"     \"Inside\" "
      ]
     },
     "metadata": {},
     "output_type": "display_data"
    },
    {
     "data": {
      "text/html": [
       "0"
      ],
      "text/latex": [
       "0"
      ],
      "text/markdown": [
       "0"
      ],
      "text/plain": [
       "[1] 0"
      ]
     },
     "metadata": {},
     "output_type": "display_data"
    },
    {
     "data": {
      "text/plain": [
       "\n",
       " Corner CulDSac     FR2     FR3  Inside \n",
       "    263      94      47       4    1052 "
      ]
     },
     "metadata": {},
     "output_type": "display_data"
    },
    {
     "data": {},
     "metadata": {},
     "output_type": "display_data"
    },
    {
     "data": {
      "image/png": "[encoded data removed]",
      "text/plain": [
       "plot without title"
      ]
     },
     "metadata": {},
     "output_type": "display_data"
    }
   ],
   "source": [
    "## Working with the LotConfig factor columns\n",
    "levels(home_est$LotConfig)\n",
    "sum(is.na(home_est$LotConfig))\n",
    "table(home_est$LotConfig)\n",
    "ggplot(home_est,aes(LotConfig,SalePrice))+geom_boxplot(col=\"steelblue\")+labs(title=\"LotConfig vs SalePrice\", subtitle=\"From House Pricing Dataset\", y=\"LotConfig\", x=\"SalePrice\", caption=\"SalePrice Variation\")"
   ]
  },
  {
   "cell_type": "code",
   "execution_count": 61,
   "metadata": {},
   "outputs": [
    {
     "data": {
      "text/html": [
       "<ol class=list-inline>\n",
       "\t<li>'Gtl'</li>\n",
       "\t<li>'Mod'</li>\n",
       "\t<li>'Sev'</li>\n",
       "</ol>\n"
      ],
      "text/latex": [
       "\\begin{enumerate*}\n",
       "\\item 'Gtl'\n",
       "\\item 'Mod'\n",
       "\\item 'Sev'\n",
       "\\end{enumerate*}\n"
      ],
      "text/markdown": [
       "1. 'Gtl'\n",
       "2. 'Mod'\n",
       "3. 'Sev'\n",
       "\n",
       "\n"
      ],
      "text/plain": [
       "[1] \"Gtl\" \"Mod\" \"Sev\""
      ]
     },
     "metadata": {},
     "output_type": "display_data"
    },
    {
     "data": {
      "text/html": [
       "0"
      ],
      "text/latex": [
       "0"
      ],
      "text/markdown": [
       "0"
      ],
      "text/plain": [
       "[1] 0"
      ]
     },
     "metadata": {},
     "output_type": "display_data"
    },
    {
     "data": {
      "text/plain": [
       "\n",
       " Gtl  Mod  Sev \n",
       "1382   65   13 "
      ]
     },
     "metadata": {},
     "output_type": "display_data"
    },
    {
     "data": {},
     "metadata": {},
     "output_type": "display_data"
    },
    {
     "data": {
      "image/png": "[encoded data removed]",
      "text/plain": [
       "plot without title"
      ]
     },
     "metadata": {},
     "output_type": "display_data"
    }
   ],
   "source": [
    "## Working with the LandSlope factor columns\n",
    "levels(home_est$LandSlope)\n",
    "sum(is.na(home_est$LandSlope))\n",
    "table(home_est$LandSlope)\n",
    "ggplot(home_est,aes(LandSlope,SalePrice))+geom_boxplot(col=\"steelblue\")+labs(title=\"LandSlope vs SalePrice\", subtitle=\"From House Pricing Dataset\", y=\"LandSlope\", x=\"SalePrice\", caption=\"SalePrice Variation\")"
   ]
  },
  {
   "cell_type": "code",
   "execution_count": 62,
   "metadata": {},
   "outputs": [
    {
     "data": {
      "text/html": [
       "<ol class=list-inline>\n",
       "\t<li>'Blmngtn'</li>\n",
       "\t<li>'Blueste'</li>\n",
       "\t<li>'BrDale'</li>\n",
       "\t<li>'BrkSide'</li>\n",
       "\t<li>'ClearCr'</li>\n",
       "\t<li>'CollgCr'</li>\n",
       "\t<li>'Crawfor'</li>\n",
       "\t<li>'Edwards'</li>\n",
       "\t<li>'Gilbert'</li>\n",
       "\t<li>'IDOTRR'</li>\n",
       "\t<li>'MeadowV'</li>\n",
       "\t<li>'Mitchel'</li>\n",
       "\t<li>'NAmes'</li>\n",
       "\t<li>'NoRidge'</li>\n",
       "\t<li>'NPkVill'</li>\n",
       "\t<li>'NridgHt'</li>\n",
       "\t<li>'NWAmes'</li>\n",
       "\t<li>'OldTown'</li>\n",
       "\t<li>'Sawyer'</li>\n",
       "\t<li>'SawyerW'</li>\n",
       "\t<li>'Somerst'</li>\n",
       "\t<li>'StoneBr'</li>\n",
       "\t<li>'SWISU'</li>\n",
       "\t<li>'Timber'</li>\n",
       "\t<li>'Veenker'</li>\n",
       "</ol>\n"
      ],
      "text/latex": [
       "\\begin{enumerate*}\n",
       "\\item 'Blmngtn'\n",
       "\\item 'Blueste'\n",
       "\\item 'BrDale'\n",
       "\\item 'BrkSide'\n",
       "\\item 'ClearCr'\n",
       "\\item 'CollgCr'\n",
       "\\item 'Crawfor'\n",
       "\\item 'Edwards'\n",
       "\\item 'Gilbert'\n",
       "\\item 'IDOTRR'\n",
       "\\item 'MeadowV'\n",
       "\\item 'Mitchel'\n",
       "\\item 'NAmes'\n",
       "\\item 'NoRidge'\n",
       "\\item 'NPkVill'\n",
       "\\item 'NridgHt'\n",
       "\\item 'NWAmes'\n",
       "\\item 'OldTown'\n",
       "\\item 'Sawyer'\n",
       "\\item 'SawyerW'\n",
       "\\item 'Somerst'\n",
       "\\item 'StoneBr'\n",
       "\\item 'SWISU'\n",
       "\\item 'Timber'\n",
       "\\item 'Veenker'\n",
       "\\end{enumerate*}\n"
      ],
      "text/markdown": [
       "1. 'Blmngtn'\n",
       "2. 'Blueste'\n",
       "3. 'BrDale'\n",
       "4. 'BrkSide'\n",
       "5. 'ClearCr'\n",
       "6. 'CollgCr'\n",
       "7. 'Crawfor'\n",
       "8. 'Edwards'\n",
       "9. 'Gilbert'\n",
       "10. 'IDOTRR'\n",
       "11. 'MeadowV'\n",
       "12. 'Mitchel'\n",
       "13. 'NAmes'\n",
       "14. 'NoRidge'\n",
       "15. 'NPkVill'\n",
       "16. 'NridgHt'\n",
       "17. 'NWAmes'\n",
       "18. 'OldTown'\n",
       "19. 'Sawyer'\n",
       "20. 'SawyerW'\n",
       "21. 'Somerst'\n",
       "22. 'StoneBr'\n",
       "23. 'SWISU'\n",
       "24. 'Timber'\n",
       "25. 'Veenker'\n",
       "\n",
       "\n"
      ],
      "text/plain": [
       " [1] \"Blmngtn\" \"Blueste\" \"BrDale\"  \"BrkSide\" \"ClearCr\" \"CollgCr\" \"Crawfor\"\n",
       " [8] \"Edwards\" \"Gilbert\" \"IDOTRR\"  \"MeadowV\" \"Mitchel\" \"NAmes\"   \"NoRidge\"\n",
       "[15] \"NPkVill\" \"NridgHt\" \"NWAmes\"  \"OldTown\" \"Sawyer\"  \"SawyerW\" \"Somerst\"\n",
       "[22] \"StoneBr\" \"SWISU\"   \"Timber\"  \"Veenker\""
      ]
     },
     "metadata": {},
     "output_type": "display_data"
    },
    {
     "data": {
      "text/html": [
       "0"
      ],
      "text/latex": [
       "0"
      ],
      "text/markdown": [
       "0"
      ],
      "text/plain": [
       "[1] 0"
      ]
     },
     "metadata": {},
     "output_type": "display_data"
    },
    {
     "data": {
      "text/plain": [
       "\n",
       "Blmngtn Blueste  BrDale BrkSide ClearCr CollgCr Crawfor Edwards Gilbert  IDOTRR \n",
       "     17       2      16      58      28     150      51     100      79      37 \n",
       "MeadowV Mitchel   NAmes NoRidge NPkVill NridgHt  NWAmes OldTown  Sawyer SawyerW \n",
       "     17      49     225      41       9      77      73     113      74      59 \n",
       "Somerst StoneBr   SWISU  Timber Veenker \n",
       "     86      25      25      38      11 "
      ]
     },
     "metadata": {},
     "output_type": "display_data"
    },
    {
     "data": {},
     "metadata": {},
     "output_type": "display_data"
    },
    {
     "data": {
      "image/png": "[encoded data removed]",
      "text/plain": [
       "plot without title"
      ]
     },
     "metadata": {},
     "output_type": "display_data"
    }
   ],
   "source": [
    "## Working with the Neighborhood factor columns\n",
    "levels(home_est$Neighborhood)\n",
    "sum(is.na(home_est$Neighborhood))\n",
    "table(home_est$Neighborhood)\n",
    "ggplot(home_est,aes(Neighborhood,SalePrice))+geom_boxplot(col=\"steelblue\")+labs(title=\"Neighborhood vs SalePrice\", subtitle=\"From House Pricing Dataset\", y=\"Neighborhood\", x=\"SalePrice\", caption=\"SalePrice Variation\")"
   ]
  },
  {
   "cell_type": "code",
   "execution_count": 63,
   "metadata": {},
   "outputs": [
    {
     "data": {
      "text/html": [
       "<ol class=list-inline>\n",
       "\t<li>'Artery'</li>\n",
       "\t<li>'Feedr'</li>\n",
       "\t<li>'Norm'</li>\n",
       "\t<li>'PosA'</li>\n",
       "\t<li>'PosN'</li>\n",
       "\t<li>'RRAe'</li>\n",
       "\t<li>'RRAn'</li>\n",
       "\t<li>'RRNe'</li>\n",
       "\t<li>'RRNn'</li>\n",
       "</ol>\n"
      ],
      "text/latex": [
       "\\begin{enumerate*}\n",
       "\\item 'Artery'\n",
       "\\item 'Feedr'\n",
       "\\item 'Norm'\n",
       "\\item 'PosA'\n",
       "\\item 'PosN'\n",
       "\\item 'RRAe'\n",
       "\\item 'RRAn'\n",
       "\\item 'RRNe'\n",
       "\\item 'RRNn'\n",
       "\\end{enumerate*}\n"
      ],
      "text/markdown": [
       "1. 'Artery'\n",
       "2. 'Feedr'\n",
       "3. 'Norm'\n",
       "4. 'PosA'\n",
       "5. 'PosN'\n",
       "6. 'RRAe'\n",
       "7. 'RRAn'\n",
       "8. 'RRNe'\n",
       "9. 'RRNn'\n",
       "\n",
       "\n"
      ],
      "text/plain": [
       "[1] \"Artery\" \"Feedr\"  \"Norm\"   \"PosA\"   \"PosN\"   \"RRAe\"   \"RRAn\"   \"RRNe\"  \n",
       "[9] \"RRNn\"  "
      ]
     },
     "metadata": {},
     "output_type": "display_data"
    },
    {
     "data": {
      "text/html": [
       "0"
      ],
      "text/latex": [
       "0"
      ],
      "text/markdown": [
       "0"
      ],
      "text/plain": [
       "[1] 0"
      ]
     },
     "metadata": {},
     "output_type": "display_data"
    },
    {
     "data": {
      "text/plain": [
       "\n",
       "Artery  Feedr   Norm   PosA   PosN   RRAe   RRAn   RRNe   RRNn \n",
       "    48     81   1260      8     19     11     26      2      5 "
      ]
     },
     "metadata": {},
     "output_type": "display_data"
    },
    {
     "data": {},
     "metadata": {},
     "output_type": "display_data"
    },
    {
     "data": {
      "image/png": "[encoded data removed]",
      "text/plain": [
       "plot without title"
      ]
     },
     "metadata": {},
     "output_type": "display_data"
    }
   ],
   "source": [
    "## Working with the Condition1 factor columns\n",
    "levels(home_est$Condition1)\n",
    "sum(is.na(home_est$Condition1))\n",
    "table(home_est$Condition1)\n",
    "ggplot(home_est,aes(Condition1,SalePrice))+geom_boxplot(col=\"steelblue\")+labs(title=\"Condition1 vs SalePrice\", subtitle=\"From House Pricing Dataset\", y=\"Condition1\", x=\"SalePrice\", caption=\"SalePrice Variation\")"
   ]
  },
  {
   "cell_type": "code",
   "execution_count": 64,
   "metadata": {},
   "outputs": [
    {
     "data": {
      "text/html": [
       "<ol class=list-inline>\n",
       "\t<li>'Artery'</li>\n",
       "\t<li>'Feedr'</li>\n",
       "\t<li>'Norm'</li>\n",
       "\t<li>'PosA'</li>\n",
       "\t<li>'PosN'</li>\n",
       "\t<li>'RRAe'</li>\n",
       "\t<li>'RRAn'</li>\n",
       "\t<li>'RRNn'</li>\n",
       "</ol>\n"
      ],
      "text/latex": [
       "\\begin{enumerate*}\n",
       "\\item 'Artery'\n",
       "\\item 'Feedr'\n",
       "\\item 'Norm'\n",
       "\\item 'PosA'\n",
       "\\item 'PosN'\n",
       "\\item 'RRAe'\n",
       "\\item 'RRAn'\n",
       "\\item 'RRNn'\n",
       "\\end{enumerate*}\n"
      ],
      "text/markdown": [
       "1. 'Artery'\n",
       "2. 'Feedr'\n",
       "3. 'Norm'\n",
       "4. 'PosA'\n",
       "5. 'PosN'\n",
       "6. 'RRAe'\n",
       "7. 'RRAn'\n",
       "8. 'RRNn'\n",
       "\n",
       "\n"
      ],
      "text/plain": [
       "[1] \"Artery\" \"Feedr\"  \"Norm\"   \"PosA\"   \"PosN\"   \"RRAe\"   \"RRAn\"   \"RRNn\"  "
      ]
     },
     "metadata": {},
     "output_type": "display_data"
    },
    {
     "data": {
      "text/html": [
       "0"
      ],
      "text/latex": [
       "0"
      ],
      "text/markdown": [
       "0"
      ],
      "text/plain": [
       "[1] 0"
      ]
     },
     "metadata": {},
     "output_type": "display_data"
    },
    {
     "data": {
      "text/plain": [
       "\n",
       "Artery  Feedr   Norm   PosA   PosN   RRAe   RRAn   RRNn \n",
       "     2      6   1445      1      2      1      1      2 "
      ]
     },
     "metadata": {},
     "output_type": "display_data"
    },
    {
     "data": {},
     "metadata": {},
     "output_type": "display_data"
    },
    {
     "data": {
      "image/png": "[encoded data removed]",
      "text/plain": [
       "plot without title"
      ]
     },
     "metadata": {},
     "output_type": "display_data"
    }
   ],
   "source": [
    "## Working with the Condition1 factor columns\n",
    "levels(home_est$Condition2)\n",
    "sum(is.na(home_est$Condition2))\n",
    "table(home_est$Condition2)\n",
    "ggplot(home_est,aes(Condition2,SalePrice))+geom_boxplot(col=\"steelblue\")+labs(title=\"Condition2 vs SalePrice\", subtitle=\"From House Pricing Dataset\", y=\"Condition2\", x=\"SalePrice\", caption=\"SalePrice Variation\")"
   ]
  },
  {
   "cell_type": "code",
   "execution_count": 65,
   "metadata": {
    "scrolled": false
   },
   "outputs": [
    {
     "data": {
      "text/html": [
       "<ol class=list-inline>\n",
       "\t<li>'1Fam'</li>\n",
       "\t<li>'2fmCon'</li>\n",
       "\t<li>'Duplex'</li>\n",
       "\t<li>'Twnhs'</li>\n",
       "\t<li>'TwnhsE'</li>\n",
       "</ol>\n"
      ],
      "text/latex": [
       "\\begin{enumerate*}\n",
       "\\item '1Fam'\n",
       "\\item '2fmCon'\n",
       "\\item 'Duplex'\n",
       "\\item 'Twnhs'\n",
       "\\item 'TwnhsE'\n",
       "\\end{enumerate*}\n"
      ],
      "text/markdown": [
       "1. '1Fam'\n",
       "2. '2fmCon'\n",
       "3. 'Duplex'\n",
       "4. 'Twnhs'\n",
       "5. 'TwnhsE'\n",
       "\n",
       "\n"
      ],
      "text/plain": [
       "[1] \"1Fam\"   \"2fmCon\" \"Duplex\" \"Twnhs\"  \"TwnhsE\""
      ]
     },
     "metadata": {},
     "output_type": "display_data"
    },
    {
     "data": {
      "text/html": [
       "0"
      ],
      "text/latex": [
       "0"
      ],
      "text/markdown": [
       "0"
      ],
      "text/plain": [
       "[1] 0"
      ]
     },
     "metadata": {},
     "output_type": "display_data"
    },
    {
     "data": {
      "text/plain": [
       "\n",
       "  1Fam 2fmCon Duplex  Twnhs TwnhsE \n",
       "  1220     31     52     43    114 "
      ]
     },
     "metadata": {},
     "output_type": "display_data"
    },
    {
     "data": {},
     "metadata": {},
     "output_type": "display_data"
    },
    {
     "data": {
      "image/png": "[encoded data removed]",
      "text/plain": [
       "plot without title"
      ]
     },
     "metadata": {},
     "output_type": "display_data"
    }
   ],
   "source": [
    "## Working with the Condition1 factor columns\n",
    "levels(home_est$BldgType)\n",
    "sum(is.na(home_est$BldgType))\n",
    "table(home_est$BldgType)\n",
    "ggplot(home_est,aes(BldgType,SalePrice))+geom_boxplot(col=\"steelblue\")+labs(title=\"BldgType vs SalePrice\", subtitle=\"From House Pricing Dataset\", y=\"BldgType\", x=\"SalePrice\", caption=\"SalePrice Variation\")"
   ]
  },
  {
   "cell_type": "code",
   "execution_count": 66,
   "metadata": {},
   "outputs": [
    {
     "data": {
      "text/html": [
       "<ol class=list-inline>\n",
       "\t<li>'1.5Fin'</li>\n",
       "\t<li>'1.5Unf'</li>\n",
       "\t<li>'1Story'</li>\n",
       "\t<li>'2.5Fin'</li>\n",
       "\t<li>'2.5Unf'</li>\n",
       "\t<li>'2Story'</li>\n",
       "\t<li>'SFoyer'</li>\n",
       "\t<li>'SLvl'</li>\n",
       "</ol>\n"
      ],
      "text/latex": [
       "\\begin{enumerate*}\n",
       "\\item '1.5Fin'\n",
       "\\item '1.5Unf'\n",
       "\\item '1Story'\n",
       "\\item '2.5Fin'\n",
       "\\item '2.5Unf'\n",
       "\\item '2Story'\n",
       "\\item 'SFoyer'\n",
       "\\item 'SLvl'\n",
       "\\end{enumerate*}\n"
      ],
      "text/markdown": [
       "1. '1.5Fin'\n",
       "2. '1.5Unf'\n",
       "3. '1Story'\n",
       "4. '2.5Fin'\n",
       "5. '2.5Unf'\n",
       "6. '2Story'\n",
       "7. 'SFoyer'\n",
       "8. 'SLvl'\n",
       "\n",
       "\n"
      ],
      "text/plain": [
       "[1] \"1.5Fin\" \"1.5Unf\" \"1Story\" \"2.5Fin\" \"2.5Unf\" \"2Story\" \"SFoyer\" \"SLvl\"  "
      ]
     },
     "metadata": {},
     "output_type": "display_data"
    },
    {
     "data": {
      "text/html": [
       "0"
      ],
      "text/latex": [
       "0"
      ],
      "text/markdown": [
       "0"
      ],
      "text/plain": [
       "[1] 0"
      ]
     },
     "metadata": {},
     "output_type": "display_data"
    },
    {
     "data": {
      "text/plain": [
       "\n",
       "1.5Fin 1.5Unf 1Story 2.5Fin 2.5Unf 2Story SFoyer   SLvl \n",
       "   154     14    726      8     11    445     37     65 "
      ]
     },
     "metadata": {},
     "output_type": "display_data"
    },
    {
     "data": {},
     "metadata": {},
     "output_type": "display_data"
    },
    {
     "data": {
      "image/png": "[encoded data removed]",
      "text/plain": [
       "plot without title"
      ]
     },
     "metadata": {},
     "output_type": "display_data"
    }
   ],
   "source": [
    "## Working with the HouseStyle factor columns\n",
    "levels(home_est$HouseStyle)\n",
    "sum(is.na(home_est$HouseStyle))\n",
    "table(home_est$HouseStyle)\n",
    "ggplot(home_est,aes(HouseStyle,SalePrice))+geom_boxplot(col=\"steelblue\")+labs(title=\"HouseStyle vs SalePrice\", subtitle=\"From House Pricing Dataset\", y=\"HouseStyle\", x=\"SalePrice\", caption=\"SalePrice Variation\")"
   ]
  },
  {
   "cell_type": "code",
   "execution_count": 67,
   "metadata": {},
   "outputs": [
    {
     "data": {
      "text/html": [
       "<ol class=list-inline>\n",
       "\t<li>'Flat'</li>\n",
       "\t<li>'Gable'</li>\n",
       "\t<li>'Gambrel'</li>\n",
       "\t<li>'Hip'</li>\n",
       "\t<li>'Mansard'</li>\n",
       "\t<li>'Shed'</li>\n",
       "</ol>\n"
      ],
      "text/latex": [
       "\\begin{enumerate*}\n",
       "\\item 'Flat'\n",
       "\\item 'Gable'\n",
       "\\item 'Gambrel'\n",
       "\\item 'Hip'\n",
       "\\item 'Mansard'\n",
       "\\item 'Shed'\n",
       "\\end{enumerate*}\n"
      ],
      "text/markdown": [
       "1. 'Flat'\n",
       "2. 'Gable'\n",
       "3. 'Gambrel'\n",
       "4. 'Hip'\n",
       "5. 'Mansard'\n",
       "6. 'Shed'\n",
       "\n",
       "\n"
      ],
      "text/plain": [
       "[1] \"Flat\"    \"Gable\"   \"Gambrel\" \"Hip\"     \"Mansard\" \"Shed\"   "
      ]
     },
     "metadata": {},
     "output_type": "display_data"
    },
    {
     "data": {
      "text/html": [
       "0"
      ],
      "text/latex": [
       "0"
      ],
      "text/markdown": [
       "0"
      ],
      "text/plain": [
       "[1] 0"
      ]
     },
     "metadata": {},
     "output_type": "display_data"
    },
    {
     "data": {
      "text/plain": [
       "\n",
       "   Flat   Gable Gambrel     Hip Mansard    Shed \n",
       "     13    1141      11     286       7       2 "
      ]
     },
     "metadata": {},
     "output_type": "display_data"
    },
    {
     "data": {},
     "metadata": {},
     "output_type": "display_data"
    },
    {
     "data": {
      "image/png": "[encoded data removed]",
      "text/plain": [
       "plot without title"
      ]
     },
     "metadata": {},
     "output_type": "display_data"
    }
   ],
   "source": [
    "## Working with the RoofStyle factor columns\n",
    "levels(home_est$RoofStyle)\n",
    "sum(is.na(home_est$RoofStyle))\n",
    "table(home_est$RoofStyle)\n",
    "ggplot(home_est,aes(RoofStyle,SalePrice))+geom_boxplot(col=\"steelblue\")+labs(title=\"RoofStyle vs SalePrice\", subtitle=\"From House Pricing Dataset\", y=\"RoofStyle\", x=\"SalePrice\", caption=\"SalePrice Variation\")"
   ]
  },
  {
   "cell_type": "code",
   "execution_count": 68,
   "metadata": {},
   "outputs": [
    {
     "data": {
      "text/html": [
       "<ol class=list-inline>\n",
       "\t<li>'ClyTile'</li>\n",
       "\t<li>'CompShg'</li>\n",
       "\t<li>'Membran'</li>\n",
       "\t<li>'Metal'</li>\n",
       "\t<li>'Roll'</li>\n",
       "\t<li>'Tar&amp;Grv'</li>\n",
       "\t<li>'WdShake'</li>\n",
       "\t<li>'WdShngl'</li>\n",
       "</ol>\n"
      ],
      "text/latex": [
       "\\begin{enumerate*}\n",
       "\\item 'ClyTile'\n",
       "\\item 'CompShg'\n",
       "\\item 'Membran'\n",
       "\\item 'Metal'\n",
       "\\item 'Roll'\n",
       "\\item 'Tar\\&Grv'\n",
       "\\item 'WdShake'\n",
       "\\item 'WdShngl'\n",
       "\\end{enumerate*}\n"
      ],
      "text/markdown": [
       "1. 'ClyTile'\n",
       "2. 'CompShg'\n",
       "3. 'Membran'\n",
       "4. 'Metal'\n",
       "5. 'Roll'\n",
       "6. 'Tar&amp;Grv'\n",
       "7. 'WdShake'\n",
       "8. 'WdShngl'\n",
       "\n",
       "\n"
      ],
      "text/plain": [
       "[1] \"ClyTile\" \"CompShg\" \"Membran\" \"Metal\"   \"Roll\"    \"Tar&Grv\" \"WdShake\"\n",
       "[8] \"WdShngl\""
      ]
     },
     "metadata": {},
     "output_type": "display_data"
    },
    {
     "data": {
      "text/html": [
       "0"
      ],
      "text/latex": [
       "0"
      ],
      "text/markdown": [
       "0"
      ],
      "text/plain": [
       "[1] 0"
      ]
     },
     "metadata": {},
     "output_type": "display_data"
    },
    {
     "data": {
      "text/plain": [
       "\n",
       "ClyTile CompShg Membran   Metal    Roll Tar&Grv WdShake WdShngl \n",
       "      1    1434       1       1       1      11       5       6 "
      ]
     },
     "metadata": {},
     "output_type": "display_data"
    },
    {
     "data": {},
     "metadata": {},
     "output_type": "display_data"
    },
    {
     "data": {
      "image/png": "[encoded data removed]",
      "text/plain": [
       "plot without title"
      ]
     },
     "metadata": {},
     "output_type": "display_data"
    }
   ],
   "source": [
    "## Working with the RoofMatl factor columns\n",
    "levels(home_est$RoofMatl)\n",
    "sum(is.na(home_est$RoofMatl))\n",
    "table(home_est$RoofMatl)\n",
    "ggplot(home_est,aes(RoofMatl,SalePrice))+geom_boxplot(col=\"steelblue\")+labs(title=\"RoofMatl vs SalePrice\", subtitle=\"From House Pricing Dataset\", y=\"RoofMatl\", x=\"SalePrice\", caption=\"SalePrice Variation\")"
   ]
  },
  {
   "cell_type": "code",
   "execution_count": 69,
   "metadata": {},
   "outputs": [
    {
     "data": {
      "text/html": [
       "<ol class=list-inline>\n",
       "\t<li>'AsbShng'</li>\n",
       "\t<li>'AsphShn'</li>\n",
       "\t<li>'BrkComm'</li>\n",
       "\t<li>'BrkFace'</li>\n",
       "\t<li>'CBlock'</li>\n",
       "\t<li>'CemntBd'</li>\n",
       "\t<li>'HdBoard'</li>\n",
       "\t<li>'ImStucc'</li>\n",
       "\t<li>'MetalSd'</li>\n",
       "\t<li>'Plywood'</li>\n",
       "\t<li>'Stone'</li>\n",
       "\t<li>'Stucco'</li>\n",
       "\t<li>'VinylSd'</li>\n",
       "\t<li>'Wd Sdng'</li>\n",
       "\t<li>'WdShing'</li>\n",
       "</ol>\n"
      ],
      "text/latex": [
       "\\begin{enumerate*}\n",
       "\\item 'AsbShng'\n",
       "\\item 'AsphShn'\n",
       "\\item 'BrkComm'\n",
       "\\item 'BrkFace'\n",
       "\\item 'CBlock'\n",
       "\\item 'CemntBd'\n",
       "\\item 'HdBoard'\n",
       "\\item 'ImStucc'\n",
       "\\item 'MetalSd'\n",
       "\\item 'Plywood'\n",
       "\\item 'Stone'\n",
       "\\item 'Stucco'\n",
       "\\item 'VinylSd'\n",
       "\\item 'Wd Sdng'\n",
       "\\item 'WdShing'\n",
       "\\end{enumerate*}\n"
      ],
      "text/markdown": [
       "1. 'AsbShng'\n",
       "2. 'AsphShn'\n",
       "3. 'BrkComm'\n",
       "4. 'BrkFace'\n",
       "5. 'CBlock'\n",
       "6. 'CemntBd'\n",
       "7. 'HdBoard'\n",
       "8. 'ImStucc'\n",
       "9. 'MetalSd'\n",
       "10. 'Plywood'\n",
       "11. 'Stone'\n",
       "12. 'Stucco'\n",
       "13. 'VinylSd'\n",
       "14. 'Wd Sdng'\n",
       "15. 'WdShing'\n",
       "\n",
       "\n"
      ],
      "text/plain": [
       " [1] \"AsbShng\" \"AsphShn\" \"BrkComm\" \"BrkFace\" \"CBlock\"  \"CemntBd\" \"HdBoard\"\n",
       " [8] \"ImStucc\" \"MetalSd\" \"Plywood\" \"Stone\"   \"Stucco\"  \"VinylSd\" \"Wd Sdng\"\n",
       "[15] \"WdShing\""
      ]
     },
     "metadata": {},
     "output_type": "display_data"
    },
    {
     "data": {
      "text/html": [
       "0"
      ],
      "text/latex": [
       "0"
      ],
      "text/markdown": [
       "0"
      ],
      "text/plain": [
       "[1] 0"
      ]
     },
     "metadata": {},
     "output_type": "display_data"
    },
    {
     "data": {
      "text/plain": [
       "\n",
       "AsbShng AsphShn BrkComm BrkFace  CBlock CemntBd HdBoard ImStucc MetalSd Plywood \n",
       "     20       1       2      50       1      61     222       1     220     108 \n",
       "  Stone  Stucco VinylSd Wd Sdng WdShing \n",
       "      2      25     515     206      26 "
      ]
     },
     "metadata": {},
     "output_type": "display_data"
    },
    {
     "data": {},
     "metadata": {},
     "output_type": "display_data"
    },
    {
     "data": {
      "image/png": "[encoded data removed]",
      "text/plain": [
       "plot without title"
      ]
     },
     "metadata": {},
     "output_type": "display_data"
    }
   ],
   "source": [
    "## Working with the Exterior1st factor columns\n",
    "levels(home_est$Exterior1st)\n",
    "sum(is.na(home_est$Exterior1st))\n",
    "table(home_est$Exterior1st)\n",
    "ggplot(home_est,aes(Exterior1st,SalePrice))+geom_boxplot(col=\"steelblue\")+labs(title=\"Exterior1st vs SalePrice\", subtitle=\"From House Pricing Dataset\", y=\"Exterior1st\", x=\"SalePrice\", caption=\"SalePrice Variation\")"
   ]
  },
  {
   "cell_type": "code",
   "execution_count": 70,
   "metadata": {},
   "outputs": [
    {
     "data": {
      "text/html": [
       "<ol class=list-inline>\n",
       "\t<li>'AsbShng'</li>\n",
       "\t<li>'AsphShn'</li>\n",
       "\t<li>'Brk Cmn'</li>\n",
       "\t<li>'BrkFace'</li>\n",
       "\t<li>'CBlock'</li>\n",
       "\t<li>'CmentBd'</li>\n",
       "\t<li>'HdBoard'</li>\n",
       "\t<li>'ImStucc'</li>\n",
       "\t<li>'MetalSd'</li>\n",
       "\t<li>'Other'</li>\n",
       "\t<li>'Plywood'</li>\n",
       "\t<li>'Stone'</li>\n",
       "\t<li>'Stucco'</li>\n",
       "\t<li>'VinylSd'</li>\n",
       "\t<li>'Wd Sdng'</li>\n",
       "\t<li>'Wd Shng'</li>\n",
       "</ol>\n"
      ],
      "text/latex": [
       "\\begin{enumerate*}\n",
       "\\item 'AsbShng'\n",
       "\\item 'AsphShn'\n",
       "\\item 'Brk Cmn'\n",
       "\\item 'BrkFace'\n",
       "\\item 'CBlock'\n",
       "\\item 'CmentBd'\n",
       "\\item 'HdBoard'\n",
       "\\item 'ImStucc'\n",
       "\\item 'MetalSd'\n",
       "\\item 'Other'\n",
       "\\item 'Plywood'\n",
       "\\item 'Stone'\n",
       "\\item 'Stucco'\n",
       "\\item 'VinylSd'\n",
       "\\item 'Wd Sdng'\n",
       "\\item 'Wd Shng'\n",
       "\\end{enumerate*}\n"
      ],
      "text/markdown": [
       "1. 'AsbShng'\n",
       "2. 'AsphShn'\n",
       "3. 'Brk Cmn'\n",
       "4. 'BrkFace'\n",
       "5. 'CBlock'\n",
       "6. 'CmentBd'\n",
       "7. 'HdBoard'\n",
       "8. 'ImStucc'\n",
       "9. 'MetalSd'\n",
       "10. 'Other'\n",
       "11. 'Plywood'\n",
       "12. 'Stone'\n",
       "13. 'Stucco'\n",
       "14. 'VinylSd'\n",
       "15. 'Wd Sdng'\n",
       "16. 'Wd Shng'\n",
       "\n",
       "\n"
      ],
      "text/plain": [
       " [1] \"AsbShng\" \"AsphShn\" \"Brk Cmn\" \"BrkFace\" \"CBlock\"  \"CmentBd\" \"HdBoard\"\n",
       " [8] \"ImStucc\" \"MetalSd\" \"Other\"   \"Plywood\" \"Stone\"   \"Stucco\"  \"VinylSd\"\n",
       "[15] \"Wd Sdng\" \"Wd Shng\""
      ]
     },
     "metadata": {},
     "output_type": "display_data"
    },
    {
     "data": {
      "text/html": [
       "0"
      ],
      "text/latex": [
       "0"
      ],
      "text/markdown": [
       "0"
      ],
      "text/plain": [
       "[1] 0"
      ]
     },
     "metadata": {},
     "output_type": "display_data"
    },
    {
     "data": {
      "text/plain": [
       "\n",
       "AsbShng AsphShn Brk Cmn BrkFace  CBlock CmentBd HdBoard ImStucc MetalSd   Other \n",
       "     20       3       7      25       1      60     207      10     214       1 \n",
       "Plywood   Stone  Stucco VinylSd Wd Sdng Wd Shng \n",
       "    142       5      26     504     197      38 "
      ]
     },
     "metadata": {},
     "output_type": "display_data"
    },
    {
     "data": {},
     "metadata": {},
     "output_type": "display_data"
    },
    {
     "data": {
      "image/png": "[encoded data removed]",
      "text/plain": [
       "plot without title"
      ]
     },
     "metadata": {},
     "output_type": "display_data"
    }
   ],
   "source": [
    "## Working with the Exterior1st factor columns\n",
    "levels(home_est$Exterior2nd)\n",
    "sum(is.na(home_est$Exterior2nd))\n",
    "table(home_est$Exterior2nd)\n",
    "ggplot(home_est,aes(Exterior2nd,SalePrice))+geom_boxplot(col=\"steelblue\")+labs(title=\"Exterior2nd vs SalePrice\", subtitle=\"From House Pricing Dataset\", y=\"Exterior2nd\", x=\"SalePrice\", caption=\"SalePrice Variation\")"
   ]
  },
  {
   "cell_type": "code",
   "execution_count": 71,
   "metadata": {},
   "outputs": [
    {
     "data": {
      "text/html": [
       "<ol class=list-inline>\n",
       "\t<li>'BrkCmn'</li>\n",
       "\t<li>'BrkFace'</li>\n",
       "\t<li>'None'</li>\n",
       "\t<li>'Stone'</li>\n",
       "</ol>\n"
      ],
      "text/latex": [
       "\\begin{enumerate*}\n",
       "\\item 'BrkCmn'\n",
       "\\item 'BrkFace'\n",
       "\\item 'None'\n",
       "\\item 'Stone'\n",
       "\\end{enumerate*}\n"
      ],
      "text/markdown": [
       "1. 'BrkCmn'\n",
       "2. 'BrkFace'\n",
       "3. 'None'\n",
       "4. 'Stone'\n",
       "\n",
       "\n"
      ],
      "text/plain": [
       "[1] \"BrkCmn\"  \"BrkFace\" \"None\"    \"Stone\"  "
      ]
     },
     "metadata": {},
     "output_type": "display_data"
    },
    {
     "data": {
      "text/html": [
       "8"
      ],
      "text/latex": [
       "8"
      ],
      "text/markdown": [
       "8"
      ],
      "text/plain": [
       "[1] 8"
      ]
     },
     "metadata": {},
     "output_type": "display_data"
    },
    {
     "data": {
      "text/plain": [
       "\n",
       " BrkCmn BrkFace    None   Stone \n",
       "     15     445     864     128 "
      ]
     },
     "metadata": {},
     "output_type": "display_data"
    },
    {
     "data": {},
     "metadata": {},
     "output_type": "display_data"
    },
    {
     "data": {
      "image/png": "[encoded data removed]",
      "text/plain": [
       "plot without title"
      ]
     },
     "metadata": {},
     "output_type": "display_data"
    }
   ],
   "source": [
    "## Working with the MasVnrType factor columns\n",
    "levels(home_est$MasVnrType)\n",
    "sum(is.na(home_est$MasVnrType))\n",
    "table(home_est$MasVnrType)\n",
    "ggplot(home_est,aes(MasVnrType,SalePrice))+geom_boxplot(col=\"steelblue\")+labs(title=\"MasVnrType vs SalePrice\", subtitle=\"From House Pricing Dataset\", y=\"MasVnrType\", x=\"SalePrice\", caption=\"SalePrice Variation\")"
   ]
  },
  {
   "cell_type": "code",
   "execution_count": 72,
   "metadata": {},
   "outputs": [
    {
     "data": {
      "text/html": [
       "<ol class=list-inline>\n",
       "\t<li>'Ex'</li>\n",
       "\t<li>'Fa'</li>\n",
       "\t<li>'Gd'</li>\n",
       "\t<li>'TA'</li>\n",
       "</ol>\n"
      ],
      "text/latex": [
       "\\begin{enumerate*}\n",
       "\\item 'Ex'\n",
       "\\item 'Fa'\n",
       "\\item 'Gd'\n",
       "\\item 'TA'\n",
       "\\end{enumerate*}\n"
      ],
      "text/markdown": [
       "1. 'Ex'\n",
       "2. 'Fa'\n",
       "3. 'Gd'\n",
       "4. 'TA'\n",
       "\n",
       "\n"
      ],
      "text/plain": [
       "[1] \"Ex\" \"Fa\" \"Gd\" \"TA\""
      ]
     },
     "metadata": {},
     "output_type": "display_data"
    },
    {
     "data": {
      "text/html": [
       "0"
      ],
      "text/latex": [
       "0"
      ],
      "text/markdown": [
       "0"
      ],
      "text/plain": [
       "[1] 0"
      ]
     },
     "metadata": {},
     "output_type": "display_data"
    },
    {
     "data": {
      "text/plain": [
       "\n",
       " Ex  Fa  Gd  TA \n",
       " 52  14 488 906 "
      ]
     },
     "metadata": {},
     "output_type": "display_data"
    },
    {
     "data": {},
     "metadata": {},
     "output_type": "display_data"
    },
    {
     "data": {
      "image/png": "[encoded data removed]",
      "text/plain": [
       "plot without title"
      ]
     },
     "metadata": {},
     "output_type": "display_data"
    }
   ],
   "source": [
    "## Working with the ExterQual factor columns\n",
    "levels(home_est$ExterQual)\n",
    "sum(is.na(home_est$ExterQual))\n",
    "table(home_est$ExterQual)\n",
    "ggplot(home_est,aes(ExterQual,SalePrice))+geom_boxplot(col=\"steelblue\")+labs(title=\"ExterQual vs SalePrice\", subtitle=\"From House Pricing Dataset\", y=\"ExterQual\", x=\"SalePrice\", caption=\"SalePrice Variation\")"
   ]
  },
  {
   "cell_type": "code",
   "execution_count": 73,
   "metadata": {},
   "outputs": [
    {
     "data": {
      "text/html": [
       "<ol class=list-inline>\n",
       "\t<li>'Ex'</li>\n",
       "\t<li>'Fa'</li>\n",
       "\t<li>'Gd'</li>\n",
       "\t<li>'Po'</li>\n",
       "\t<li>'TA'</li>\n",
       "</ol>\n"
      ],
      "text/latex": [
       "\\begin{enumerate*}\n",
       "\\item 'Ex'\n",
       "\\item 'Fa'\n",
       "\\item 'Gd'\n",
       "\\item 'Po'\n",
       "\\item 'TA'\n",
       "\\end{enumerate*}\n"
      ],
      "text/markdown": [
       "1. 'Ex'\n",
       "2. 'Fa'\n",
       "3. 'Gd'\n",
       "4. 'Po'\n",
       "5. 'TA'\n",
       "\n",
       "\n"
      ],
      "text/plain": [
       "[1] \"Ex\" \"Fa\" \"Gd\" \"Po\" \"TA\""
      ]
     },
     "metadata": {},
     "output_type": "display_data"
    },
    {
     "data": {
      "text/html": [
       "0"
      ],
      "text/latex": [
       "0"
      ],
      "text/markdown": [
       "0"
      ],
      "text/plain": [
       "[1] 0"
      ]
     },
     "metadata": {},
     "output_type": "display_data"
    },
    {
     "data": {
      "text/plain": [
       "\n",
       "  Ex   Fa   Gd   Po   TA \n",
       "   3   28  146    1 1282 "
      ]
     },
     "metadata": {},
     "output_type": "display_data"
    },
    {
     "data": {},
     "metadata": {},
     "output_type": "display_data"
    },
    {
     "data": {
      "image/png": "[encoded data removed]",
      "text/plain": [
       "plot without title"
      ]
     },
     "metadata": {},
     "output_type": "display_data"
    }
   ],
   "source": [
    "## Working with the ExterCond factor columns\n",
    "levels(home_est$ExterCond)\n",
    "sum(is.na(home_est$ExterCond))\n",
    "table(home_est$ExterCond)\n",
    "ggplot(home_est,aes(ExterCond,SalePrice))+geom_boxplot(col=\"steelblue\")+labs(title=\"ExterCond vs SalePrice\", subtitle=\"From House Pricing Dataset\", y=\"ExterCond\", x=\"SalePrice\", caption=\"SalePrice Variation\")"
   ]
  },
  {
   "cell_type": "code",
   "execution_count": 74,
   "metadata": {},
   "outputs": [
    {
     "data": {
      "text/html": [
       "<ol class=list-inline>\n",
       "\t<li>'BrkTil'</li>\n",
       "\t<li>'CBlock'</li>\n",
       "\t<li>'PConc'</li>\n",
       "\t<li>'Slab'</li>\n",
       "\t<li>'Stone'</li>\n",
       "\t<li>'Wood'</li>\n",
       "</ol>\n"
      ],
      "text/latex": [
       "\\begin{enumerate*}\n",
       "\\item 'BrkTil'\n",
       "\\item 'CBlock'\n",
       "\\item 'PConc'\n",
       "\\item 'Slab'\n",
       "\\item 'Stone'\n",
       "\\item 'Wood'\n",
       "\\end{enumerate*}\n"
      ],
      "text/markdown": [
       "1. 'BrkTil'\n",
       "2. 'CBlock'\n",
       "3. 'PConc'\n",
       "4. 'Slab'\n",
       "5. 'Stone'\n",
       "6. 'Wood'\n",
       "\n",
       "\n"
      ],
      "text/plain": [
       "[1] \"BrkTil\" \"CBlock\" \"PConc\"  \"Slab\"   \"Stone\"  \"Wood\"  "
      ]
     },
     "metadata": {},
     "output_type": "display_data"
    },
    {
     "data": {
      "text/html": [
       "0"
      ],
      "text/latex": [
       "0"
      ],
      "text/markdown": [
       "0"
      ],
      "text/plain": [
       "[1] 0"
      ]
     },
     "metadata": {},
     "output_type": "display_data"
    },
    {
     "data": {
      "text/plain": [
       "\n",
       "BrkTil CBlock  PConc   Slab  Stone   Wood \n",
       "   146    634    647     24      6      3 "
      ]
     },
     "metadata": {},
     "output_type": "display_data"
    },
    {
     "data": {},
     "metadata": {},
     "output_type": "display_data"
    },
    {
     "data": {
      "image/png": "[encoded data removed]",
      "text/plain": [
       "plot without title"
      ]
     },
     "metadata": {},
     "output_type": "display_data"
    }
   ],
   "source": [
    "## Working with the Foundation factor columns\n",
    "levels(home_est$Foundation)\n",
    "sum(is.na(home_est$Foundation))\n",
    "table(home_est$Foundation)\n",
    "ggplot(home_est,aes(Foundation,SalePrice))+geom_boxplot(col=\"steelblue\")+labs(title=\"Foundation vs SalePrice\", subtitle=\"From House Pricing Dataset\", y=\"Foundation\", x=\"SalePrice\", caption=\"SalePrice Variation\")"
   ]
  },
  {
   "cell_type": "code",
   "execution_count": 75,
   "metadata": {},
   "outputs": [
    {
     "data": {
      "text/html": [
       "<ol class=list-inline>\n",
       "\t<li>'Ex'</li>\n",
       "\t<li>'Fa'</li>\n",
       "\t<li>'Gd'</li>\n",
       "\t<li>'TA'</li>\n",
       "</ol>\n"
      ],
      "text/latex": [
       "\\begin{enumerate*}\n",
       "\\item 'Ex'\n",
       "\\item 'Fa'\n",
       "\\item 'Gd'\n",
       "\\item 'TA'\n",
       "\\end{enumerate*}\n"
      ],
      "text/markdown": [
       "1. 'Ex'\n",
       "2. 'Fa'\n",
       "3. 'Gd'\n",
       "4. 'TA'\n",
       "\n",
       "\n"
      ],
      "text/plain": [
       "[1] \"Ex\" \"Fa\" \"Gd\" \"TA\""
      ]
     },
     "metadata": {},
     "output_type": "display_data"
    },
    {
     "data": {
      "text/html": [
       "37"
      ],
      "text/latex": [
       "37"
      ],
      "text/markdown": [
       "37"
      ],
      "text/plain": [
       "[1] 37"
      ]
     },
     "metadata": {},
     "output_type": "display_data"
    },
    {
     "data": {
      "text/plain": [
       "\n",
       " Ex  Fa  Gd  TA \n",
       "121  35 618 649 "
      ]
     },
     "metadata": {},
     "output_type": "display_data"
    },
    {
     "data": {},
     "metadata": {},
     "output_type": "display_data"
    },
    {
     "data": {
      "image/png": "[encoded data removed]",
      "text/plain": [
       "plot without title"
      ]
     },
     "metadata": {},
     "output_type": "display_data"
    }
   ],
   "source": [
    "## Working with the BsmtQual factor columns\n",
    "levels(home_est$BsmtQual)\n",
    "sum(is.na(home_est$BsmtQual))\n",
    "table(home_est$BsmtQual)\n",
    "ggplot(home_est,aes(BsmtQual,SalePrice))+geom_boxplot(col=\"steelblue\")+labs(title=\"BsmtQual vs SalePrice\", subtitle=\"From House Pricing Dataset\", y=\"BsmtQual\", x=\"SalePrice\", caption=\"SalePrice Variation\")"
   ]
  },
  {
   "cell_type": "code",
   "execution_count": 76,
   "metadata": {},
   "outputs": [
    {
     "data": {
      "text/html": [
       "<ol class=list-inline>\n",
       "\t<li>'Fa'</li>\n",
       "\t<li>'Gd'</li>\n",
       "\t<li>'Po'</li>\n",
       "\t<li>'TA'</li>\n",
       "</ol>\n"
      ],
      "text/latex": [
       "\\begin{enumerate*}\n",
       "\\item 'Fa'\n",
       "\\item 'Gd'\n",
       "\\item 'Po'\n",
       "\\item 'TA'\n",
       "\\end{enumerate*}\n"
      ],
      "text/markdown": [
       "1. 'Fa'\n",
       "2. 'Gd'\n",
       "3. 'Po'\n",
       "4. 'TA'\n",
       "\n",
       "\n"
      ],
      "text/plain": [
       "[1] \"Fa\" \"Gd\" \"Po\" \"TA\""
      ]
     },
     "metadata": {},
     "output_type": "display_data"
    },
    {
     "data": {
      "text/html": [
       "37"
      ],
      "text/latex": [
       "37"
      ],
      "text/markdown": [
       "37"
      ],
      "text/plain": [
       "[1] 37"
      ]
     },
     "metadata": {},
     "output_type": "display_data"
    },
    {
     "data": {
      "text/plain": [
       "\n",
       "  Fa   Gd   Po   TA \n",
       "  45   65    2 1311 "
      ]
     },
     "metadata": {},
     "output_type": "display_data"
    },
    {
     "data": {},
     "metadata": {},
     "output_type": "display_data"
    },
    {
     "data": {
      "image/png": "[encoded data removed]",
      "text/plain": [
       "plot without title"
      ]
     },
     "metadata": {},
     "output_type": "display_data"
    }
   ],
   "source": [
    "## Working with the BsmtCond factor columns\n",
    "levels(home_est$BsmtCond)\n",
    "sum(is.na(home_est$BsmtCond))\n",
    "table(home_est$BsmtCond)\n",
    "ggplot(home_est,aes(BsmtCond,SalePrice))+geom_boxplot(col=\"steelblue\")+labs(title=\"BsmtCond vs SalePrice\", subtitle=\"From House Pricing Dataset\", y=\"BsmtCond\", x=\"SalePrice\", caption=\"SalePrice Variation\")"
   ]
  },
  {
   "cell_type": "code",
   "execution_count": 77,
   "metadata": {},
   "outputs": [
    {
     "data": {
      "text/html": [
       "<ol class=list-inline>\n",
       "\t<li>'Av'</li>\n",
       "\t<li>'Gd'</li>\n",
       "\t<li>'Mn'</li>\n",
       "\t<li>'No'</li>\n",
       "</ol>\n"
      ],
      "text/latex": [
       "\\begin{enumerate*}\n",
       "\\item 'Av'\n",
       "\\item 'Gd'\n",
       "\\item 'Mn'\n",
       "\\item 'No'\n",
       "\\end{enumerate*}\n"
      ],
      "text/markdown": [
       "1. 'Av'\n",
       "2. 'Gd'\n",
       "3. 'Mn'\n",
       "4. 'No'\n",
       "\n",
       "\n"
      ],
      "text/plain": [
       "[1] \"Av\" \"Gd\" \"Mn\" \"No\""
      ]
     },
     "metadata": {},
     "output_type": "display_data"
    },
    {
     "data": {
      "text/html": [
       "38"
      ],
      "text/latex": [
       "38"
      ],
      "text/markdown": [
       "38"
      ],
      "text/plain": [
       "[1] 38"
      ]
     },
     "metadata": {},
     "output_type": "display_data"
    },
    {
     "data": {
      "text/plain": [
       "\n",
       " Av  Gd  Mn  No \n",
       "221 134 114 953 "
      ]
     },
     "metadata": {},
     "output_type": "display_data"
    },
    {
     "data": {},
     "metadata": {},
     "output_type": "display_data"
    },
    {
     "data": {
      "image/png": "[encoded data removed]",
      "text/plain": [
       "plot without title"
      ]
     },
     "metadata": {},
     "output_type": "display_data"
    }
   ],
   "source": [
    "## Working with the BsmtExposure factor columns\n",
    "levels(home_est$BsmtExposure)\n",
    "sum(is.na(home_est$BsmtExposure))\n",
    "table(home_est$BsmtExposure)\n",
    "ggplot(home_est,aes(BsmtExposure,SalePrice))+geom_boxplot(col=\"steelblue\")+labs(title=\"BsmtExposure vs SalePrice\", subtitle=\"From House Pricing Dataset\", y=\"BsmtExposure\", x=\"SalePrice\", caption=\"SalePrice Variation\")"
   ]
  },
  {
   "cell_type": "code",
   "execution_count": 78,
   "metadata": {},
   "outputs": [
    {
     "data": {
      "text/html": [
       "<ol class=list-inline>\n",
       "\t<li>'ALQ'</li>\n",
       "\t<li>'BLQ'</li>\n",
       "\t<li>'GLQ'</li>\n",
       "\t<li>'LwQ'</li>\n",
       "\t<li>'Rec'</li>\n",
       "\t<li>'Unf'</li>\n",
       "</ol>\n"
      ],
      "text/latex": [
       "\\begin{enumerate*}\n",
       "\\item 'ALQ'\n",
       "\\item 'BLQ'\n",
       "\\item 'GLQ'\n",
       "\\item 'LwQ'\n",
       "\\item 'Rec'\n",
       "\\item 'Unf'\n",
       "\\end{enumerate*}\n"
      ],
      "text/markdown": [
       "1. 'ALQ'\n",
       "2. 'BLQ'\n",
       "3. 'GLQ'\n",
       "4. 'LwQ'\n",
       "5. 'Rec'\n",
       "6. 'Unf'\n",
       "\n",
       "\n"
      ],
      "text/plain": [
       "[1] \"ALQ\" \"BLQ\" \"GLQ\" \"LwQ\" \"Rec\" \"Unf\""
      ]
     },
     "metadata": {},
     "output_type": "display_data"
    },
    {
     "data": {
      "text/html": [
       "37"
      ],
      "text/latex": [
       "37"
      ],
      "text/markdown": [
       "37"
      ],
      "text/plain": [
       "[1] 37"
      ]
     },
     "metadata": {},
     "output_type": "display_data"
    },
    {
     "data": {
      "text/plain": [
       "\n",
       "ALQ BLQ GLQ LwQ Rec Unf \n",
       "220 148 418  74 133 430 "
      ]
     },
     "metadata": {},
     "output_type": "display_data"
    },
    {
     "data": {},
     "metadata": {},
     "output_type": "display_data"
    },
    {
     "data": {
      "image/png": "[encoded data removed]",
      "text/plain": [
       "plot without title"
      ]
     },
     "metadata": {},
     "output_type": "display_data"
    }
   ],
   "source": [
    "## Working with the BsmtFinType1 factor columns\n",
    "levels(home_est$BsmtFinType1)\n",
    "sum(is.na(home_est$BsmtFinType1))\n",
    "table(home_est$BsmtFinType1)\n",
    "ggplot(home_est,aes(BsmtFinType1,SalePrice))+geom_boxplot(col=\"steelblue\")+labs(title=\"BsmtFinType1 vs SalePrice\", subtitle=\"From House Pricing Dataset\", y=\"BsmtFinType1\", x=\"SalePrice\", caption=\"SalePrice Variation\")"
   ]
  },
  {
   "cell_type": "code",
   "execution_count": 79,
   "metadata": {},
   "outputs": [
    {
     "data": {
      "text/html": [
       "<ol class=list-inline>\n",
       "\t<li>'ALQ'</li>\n",
       "\t<li>'BLQ'</li>\n",
       "\t<li>'GLQ'</li>\n",
       "\t<li>'LwQ'</li>\n",
       "\t<li>'Rec'</li>\n",
       "\t<li>'Unf'</li>\n",
       "</ol>\n"
      ],
      "text/latex": [
       "\\begin{enumerate*}\n",
       "\\item 'ALQ'\n",
       "\\item 'BLQ'\n",
       "\\item 'GLQ'\n",
       "\\item 'LwQ'\n",
       "\\item 'Rec'\n",
       "\\item 'Unf'\n",
       "\\end{enumerate*}\n"
      ],
      "text/markdown": [
       "1. 'ALQ'\n",
       "2. 'BLQ'\n",
       "3. 'GLQ'\n",
       "4. 'LwQ'\n",
       "5. 'Rec'\n",
       "6. 'Unf'\n",
       "\n",
       "\n"
      ],
      "text/plain": [
       "[1] \"ALQ\" \"BLQ\" \"GLQ\" \"LwQ\" \"Rec\" \"Unf\""
      ]
     },
     "metadata": {},
     "output_type": "display_data"
    },
    {
     "data": {
      "text/html": [
       "38"
      ],
      "text/latex": [
       "38"
      ],
      "text/markdown": [
       "38"
      ],
      "text/plain": [
       "[1] 38"
      ]
     },
     "metadata": {},
     "output_type": "display_data"
    },
    {
     "data": {
      "text/plain": [
       "\n",
       " ALQ  BLQ  GLQ  LwQ  Rec  Unf \n",
       "  19   33   14   46   54 1256 "
      ]
     },
     "metadata": {},
     "output_type": "display_data"
    },
    {
     "data": {},
     "metadata": {},
     "output_type": "display_data"
    },
    {
     "data": {
      "image/png": "[encoded data removed]",
      "text/plain": [
       "plot without title"
      ]
     },
     "metadata": {},
     "output_type": "display_data"
    }
   ],
   "source": [
    "## Working with the BsmtFinType2 factor columns\n",
    "levels(home_est$BsmtFinType2)\n",
    "sum(is.na(home_est$BsmtFinType2))\n",
    "table(home_est$BsmtFinType2)\n",
    "ggplot(home_est,aes(BsmtFinType2,SalePrice))+geom_boxplot(col=\"steelblue\")+labs(title=\"BsmtFinType2 vs SalePrice\", subtitle=\"From House Pricing Dataset\", y=\"BsmtFinType2\", x=\"SalePrice\", caption=\"SalePrice Variation\")"
   ]
  },
  {
   "cell_type": "code",
   "execution_count": 80,
   "metadata": {},
   "outputs": [
    {
     "data": {
      "text/html": [
       "<ol class=list-inline>\n",
       "\t<li>'Floor'</li>\n",
       "\t<li>'GasA'</li>\n",
       "\t<li>'GasW'</li>\n",
       "\t<li>'Grav'</li>\n",
       "\t<li>'OthW'</li>\n",
       "\t<li>'Wall'</li>\n",
       "</ol>\n"
      ],
      "text/latex": [
       "\\begin{enumerate*}\n",
       "\\item 'Floor'\n",
       "\\item 'GasA'\n",
       "\\item 'GasW'\n",
       "\\item 'Grav'\n",
       "\\item 'OthW'\n",
       "\\item 'Wall'\n",
       "\\end{enumerate*}\n"
      ],
      "text/markdown": [
       "1. 'Floor'\n",
       "2. 'GasA'\n",
       "3. 'GasW'\n",
       "4. 'Grav'\n",
       "5. 'OthW'\n",
       "6. 'Wall'\n",
       "\n",
       "\n"
      ],
      "text/plain": [
       "[1] \"Floor\" \"GasA\"  \"GasW\"  \"Grav\"  \"OthW\"  \"Wall\" "
      ]
     },
     "metadata": {},
     "output_type": "display_data"
    },
    {
     "data": {
      "text/html": [
       "0"
      ],
      "text/latex": [
       "0"
      ],
      "text/markdown": [
       "0"
      ],
      "text/plain": [
       "[1] 0"
      ]
     },
     "metadata": {},
     "output_type": "display_data"
    },
    {
     "data": {
      "text/plain": [
       "\n",
       "Floor  GasA  GasW  Grav  OthW  Wall \n",
       "    1  1428    18     7     2     4 "
      ]
     },
     "metadata": {},
     "output_type": "display_data"
    },
    {
     "data": {},
     "metadata": {},
     "output_type": "display_data"
    },
    {
     "data": {
      "image/png": "[encoded data removed]",
      "text/plain": [
       "plot without title"
      ]
     },
     "metadata": {},
     "output_type": "display_data"
    }
   ],
   "source": [
    "## Working with the Heating factor columns\n",
    "levels(home_est$Heating)\n",
    "sum(is.na(home_est$Heating))\n",
    "table(home_est$Heating)\n",
    "ggplot(home_est,aes(Heating,SalePrice))+geom_boxplot(col=\"steelblue\")+labs(title=\"Heating vs SalePrice\", subtitle=\"From House Pricing Dataset\", y=\"Heating\", x=\"SalePrice\", caption=\"SalePrice Variation\")"
   ]
  },
  {
   "cell_type": "code",
   "execution_count": 81,
   "metadata": {},
   "outputs": [
    {
     "data": {
      "text/html": [
       "<ol class=list-inline>\n",
       "\t<li>'Ex'</li>\n",
       "\t<li>'Fa'</li>\n",
       "\t<li>'Gd'</li>\n",
       "\t<li>'Po'</li>\n",
       "\t<li>'TA'</li>\n",
       "</ol>\n"
      ],
      "text/latex": [
       "\\begin{enumerate*}\n",
       "\\item 'Ex'\n",
       "\\item 'Fa'\n",
       "\\item 'Gd'\n",
       "\\item 'Po'\n",
       "\\item 'TA'\n",
       "\\end{enumerate*}\n"
      ],
      "text/markdown": [
       "1. 'Ex'\n",
       "2. 'Fa'\n",
       "3. 'Gd'\n",
       "4. 'Po'\n",
       "5. 'TA'\n",
       "\n",
       "\n"
      ],
      "text/plain": [
       "[1] \"Ex\" \"Fa\" \"Gd\" \"Po\" \"TA\""
      ]
     },
     "metadata": {},
     "output_type": "display_data"
    },
    {
     "data": {
      "text/html": [
       "0"
      ],
      "text/latex": [
       "0"
      ],
      "text/markdown": [
       "0"
      ],
      "text/plain": [
       "[1] 0"
      ]
     },
     "metadata": {},
     "output_type": "display_data"
    },
    {
     "data": {
      "text/plain": [
       "\n",
       " Ex  Fa  Gd  Po  TA \n",
       "741  49 241   1 428 "
      ]
     },
     "metadata": {},
     "output_type": "display_data"
    },
    {
     "data": {},
     "metadata": {},
     "output_type": "display_data"
    },
    {
     "data": {
      "image/png": "[encoded data removed]",
      "text/plain": [
       "plot without title"
      ]
     },
     "metadata": {},
     "output_type": "display_data"
    }
   ],
   "source": [
    "## Working with the HeatingQC factor columns\n",
    "levels(home_est$HeatingQC)\n",
    "sum(is.na(home_est$HeatingQC))\n",
    "table(home_est$HeatingQC)\n",
    "ggplot(home_est,aes(HeatingQC,SalePrice))+geom_boxplot(col=\"steelblue\")+labs(title=\"HeatingQC vs SalePrice\", subtitle=\"From House Pricing Dataset\", y=\"HeatingQC\", x=\"SalePrice\", caption=\"SalePrice Variation\")"
   ]
  },
  {
   "cell_type": "code",
   "execution_count": 82,
   "metadata": {},
   "outputs": [
    {
     "data": {
      "text/html": [
       "<ol class=list-inline>\n",
       "\t<li>'N'</li>\n",
       "\t<li>'Y'</li>\n",
       "</ol>\n"
      ],
      "text/latex": [
       "\\begin{enumerate*}\n",
       "\\item 'N'\n",
       "\\item 'Y'\n",
       "\\end{enumerate*}\n"
      ],
      "text/markdown": [
       "1. 'N'\n",
       "2. 'Y'\n",
       "\n",
       "\n"
      ],
      "text/plain": [
       "[1] \"N\" \"Y\""
      ]
     },
     "metadata": {},
     "output_type": "display_data"
    },
    {
     "data": {
      "text/html": [
       "0"
      ],
      "text/latex": [
       "0"
      ],
      "text/markdown": [
       "0"
      ],
      "text/plain": [
       "[1] 0"
      ]
     },
     "metadata": {},
     "output_type": "display_data"
    },
    {
     "data": {
      "text/plain": [
       "\n",
       "   N    Y \n",
       "  95 1365 "
      ]
     },
     "metadata": {},
     "output_type": "display_data"
    },
    {
     "data": {},
     "metadata": {},
     "output_type": "display_data"
    },
    {
     "data": {
      "image/png": "[encoded data removed]",
      "text/plain": [
       "plot without title"
      ]
     },
     "metadata": {},
     "output_type": "display_data"
    }
   ],
   "source": [
    "## Working with the CentralAir factor columns\n",
    "levels(home_est$CentralAir)\n",
    "sum(is.na(home_est$CentralAir))\n",
    "table(home_est$CentralAir)\n",
    "ggplot(home_est,aes(CentralAir,SalePrice))+geom_boxplot(col=\"steelblue\")+labs(title=\"CentralAir vs SalePrice\", subtitle=\"From House Pricing Dataset\", y=\"CentralAir\", x=\"SalePrice\", caption=\"SalePrice Variation\")"
   ]
  },
  {
   "cell_type": "code",
   "execution_count": 83,
   "metadata": {},
   "outputs": [
    {
     "data": {
      "text/html": [
       "<ol class=list-inline>\n",
       "\t<li>'FuseA'</li>\n",
       "\t<li>'FuseF'</li>\n",
       "\t<li>'FuseP'</li>\n",
       "\t<li>'Mix'</li>\n",
       "\t<li>'SBrkr'</li>\n",
       "</ol>\n"
      ],
      "text/latex": [
       "\\begin{enumerate*}\n",
       "\\item 'FuseA'\n",
       "\\item 'FuseF'\n",
       "\\item 'FuseP'\n",
       "\\item 'Mix'\n",
       "\\item 'SBrkr'\n",
       "\\end{enumerate*}\n"
      ],
      "text/markdown": [
       "1. 'FuseA'\n",
       "2. 'FuseF'\n",
       "3. 'FuseP'\n",
       "4. 'Mix'\n",
       "5. 'SBrkr'\n",
       "\n",
       "\n"
      ],
      "text/plain": [
       "[1] \"FuseA\" \"FuseF\" \"FuseP\" \"Mix\"   \"SBrkr\""
      ]
     },
     "metadata": {},
     "output_type": "display_data"
    },
    {
     "data": {
      "text/html": [
       "1"
      ],
      "text/latex": [
       "1"
      ],
      "text/markdown": [
       "1"
      ],
      "text/plain": [
       "[1] 1"
      ]
     },
     "metadata": {},
     "output_type": "display_data"
    },
    {
     "data": {
      "text/plain": [
       "\n",
       "FuseA FuseF FuseP   Mix SBrkr \n",
       "   94    27     3     1  1334 "
      ]
     },
     "metadata": {},
     "output_type": "display_data"
    },
    {
     "data": {},
     "metadata": {},
     "output_type": "display_data"
    },
    {
     "data": {
      "image/png": "[encoded data removed]",
      "text/plain": [
       "plot without title"
      ]
     },
     "metadata": {},
     "output_type": "display_data"
    }
   ],
   "source": [
    "## Working with the Electrical factor columns\n",
    "levels(home_est$Electrical)\n",
    "sum(is.na(home_est$Electrical))\n",
    "table(home_est$Electrical)\n",
    "ggplot(home_est,aes(Electrical,SalePrice))+geom_boxplot(col=\"steelblue\")+labs(title=\"Electrical vs SalePrice\", subtitle=\"From House Pricing Dataset\", y=\"Electrical\", x=\"SalePrice\", caption=\"SalePrice Variation\")"
   ]
  },
  {
   "cell_type": "code",
   "execution_count": 84,
   "metadata": {},
   "outputs": [
    {
     "data": {
      "text/html": [
       "<ol class=list-inline>\n",
       "\t<li>'Ex'</li>\n",
       "\t<li>'Fa'</li>\n",
       "\t<li>'Gd'</li>\n",
       "\t<li>'TA'</li>\n",
       "</ol>\n"
      ],
      "text/latex": [
       "\\begin{enumerate*}\n",
       "\\item 'Ex'\n",
       "\\item 'Fa'\n",
       "\\item 'Gd'\n",
       "\\item 'TA'\n",
       "\\end{enumerate*}\n"
      ],
      "text/markdown": [
       "1. 'Ex'\n",
       "2. 'Fa'\n",
       "3. 'Gd'\n",
       "4. 'TA'\n",
       "\n",
       "\n"
      ],
      "text/plain": [
       "[1] \"Ex\" \"Fa\" \"Gd\" \"TA\""
      ]
     },
     "metadata": {},
     "output_type": "display_data"
    },
    {
     "data": {
      "text/html": [
       "0"
      ],
      "text/latex": [
       "0"
      ],
      "text/markdown": [
       "0"
      ],
      "text/plain": [
       "[1] 0"
      ]
     },
     "metadata": {},
     "output_type": "display_data"
    },
    {
     "data": {
      "text/plain": [
       "\n",
       " Ex  Fa  Gd  TA \n",
       "100  39 586 735 "
      ]
     },
     "metadata": {},
     "output_type": "display_data"
    },
    {
     "data": {},
     "metadata": {},
     "output_type": "display_data"
    },
    {
     "data": {
      "image/png": "[encoded data removed]",
      "text/plain": [
       "plot without title"
      ]
     },
     "metadata": {},
     "output_type": "display_data"
    }
   ],
   "source": [
    "## Working with the KitchenQual factor columns\n",
    "levels(home_est$KitchenQual)\n",
    "sum(is.na(home_est$KitchenQual))\n",
    "table(home_est$KitchenQual)\n",
    "ggplot(home_est,aes(KitchenQual,SalePrice))+geom_boxplot(col=\"steelblue\")+labs(title=\"KitchenQual vs SalePrice\", subtitle=\"From House Pricing Dataset\", y=\"KitchenQual\", x=\"SalePrice\", caption=\"SalePrice Variation\")"
   ]
  },
  {
   "cell_type": "code",
   "execution_count": 86,
   "metadata": {},
   "outputs": [
    {
     "data": {
      "text/html": [
       "<ol class=list-inline>\n",
       "\t<li>'Maj1'</li>\n",
       "\t<li>'Maj2'</li>\n",
       "\t<li>'Min1'</li>\n",
       "\t<li>'Min2'</li>\n",
       "\t<li>'Mod'</li>\n",
       "\t<li>'Sev'</li>\n",
       "\t<li>'Typ'</li>\n",
       "</ol>\n"
      ],
      "text/latex": [
       "\\begin{enumerate*}\n",
       "\\item 'Maj1'\n",
       "\\item 'Maj2'\n",
       "\\item 'Min1'\n",
       "\\item 'Min2'\n",
       "\\item 'Mod'\n",
       "\\item 'Sev'\n",
       "\\item 'Typ'\n",
       "\\end{enumerate*}\n"
      ],
      "text/markdown": [
       "1. 'Maj1'\n",
       "2. 'Maj2'\n",
       "3. 'Min1'\n",
       "4. 'Min2'\n",
       "5. 'Mod'\n",
       "6. 'Sev'\n",
       "7. 'Typ'\n",
       "\n",
       "\n"
      ],
      "text/plain": [
       "[1] \"Maj1\" \"Maj2\" \"Min1\" \"Min2\" \"Mod\"  \"Sev\"  \"Typ\" "
      ]
     },
     "metadata": {},
     "output_type": "display_data"
    },
    {
     "data": {
      "text/html": [
       "0"
      ],
      "text/latex": [
       "0"
      ],
      "text/markdown": [
       "0"
      ],
      "text/plain": [
       "[1] 0"
      ]
     },
     "metadata": {},
     "output_type": "display_data"
    },
    {
     "data": {
      "text/plain": [
       "\n",
       "Maj1 Maj2 Min1 Min2  Mod  Sev  Typ \n",
       "  14    5   31   34   15    1 1360 "
      ]
     },
     "metadata": {},
     "output_type": "display_data"
    },
    {
     "data": {},
     "metadata": {},
     "output_type": "display_data"
    },
    {
     "data": {
      "image/png": "[encoded data removed]",
      "text/plain": [
       "plot without title"
      ]
     },
     "metadata": {},
     "output_type": "display_data"
    }
   ],
   "source": [
    "## Working with the Functional factor columns\n",
    "levels(home_est$Functional)\n",
    "sum(is.na(home_est$Functional))\n",
    "table(home_est$Functional)\n",
    "ggplot(home_est,aes(Functional,SalePrice))+geom_boxplot(col=\"steelblue\")+labs(title=\"Functional vs SalePrice\", subtitle=\"From House Pricing Dataset\", y=\"Functional\", x=\"SalePrice\", caption=\"SalePrice Variation\")"
   ]
  },
  {
   "cell_type": "code",
   "execution_count": 85,
   "metadata": {},
   "outputs": [
    {
     "data": {
      "text/html": [
       "<ol class=list-inline>\n",
       "\t<li>'Ex'</li>\n",
       "\t<li>'Fa'</li>\n",
       "\t<li>'Gd'</li>\n",
       "\t<li>'Po'</li>\n",
       "\t<li>'TA'</li>\n",
       "</ol>\n"
      ],
      "text/latex": [
       "\\begin{enumerate*}\n",
       "\\item 'Ex'\n",
       "\\item 'Fa'\n",
       "\\item 'Gd'\n",
       "\\item 'Po'\n",
       "\\item 'TA'\n",
       "\\end{enumerate*}\n"
      ],
      "text/markdown": [
       "1. 'Ex'\n",
       "2. 'Fa'\n",
       "3. 'Gd'\n",
       "4. 'Po'\n",
       "5. 'TA'\n",
       "\n",
       "\n"
      ],
      "text/plain": [
       "[1] \"Ex\" \"Fa\" \"Gd\" \"Po\" \"TA\""
      ]
     },
     "metadata": {},
     "output_type": "display_data"
    },
    {
     "data": {
      "text/html": [
       "690"
      ],
      "text/latex": [
       "690"
      ],
      "text/markdown": [
       "690"
      ],
      "text/plain": [
       "[1] 690"
      ]
     },
     "metadata": {},
     "output_type": "display_data"
    },
    {
     "data": {
      "text/plain": [
       "\n",
       " Ex  Fa  Gd  Po  TA \n",
       " 24  33 380  20 313 "
      ]
     },
     "metadata": {},
     "output_type": "display_data"
    },
    {
     "data": {},
     "metadata": {},
     "output_type": "display_data"
    },
    {
     "data": {
      "image/png": "[encoded data removed]",
      "text/plain": [
       "plot without title"
      ]
     },
     "metadata": {},
     "output_type": "display_data"
    }
   ],
   "source": [
    "## Working with the FireplaceQu factor columns\n",
    "levels(home_est$FireplaceQu)\n",
    "sum(is.na(home_est$FireplaceQu))\n",
    "table(home_est$FireplaceQu)\n",
    "ggplot(home_est,aes(FireplaceQu,SalePrice))+geom_boxplot(col=\"steelblue\")+labs(title=\"FireplaceQu vs SalePrice\", subtitle=\"From House Pricing Dataset\", y=\"FireplaceQu\", x=\"SalePrice\", caption=\"SalePrice Variation\")"
   ]
  },
  {
   "cell_type": "code",
   "execution_count": null,
   "metadata": {},
   "outputs": [],
   "source": [
    "## Working with the FireplaceQu factor columns\n",
    "levels(home_est$FireplaceQu)\n",
    "sum(is.na(home_est$FireplaceQu))\n",
    "table(home_est$FireplaceQu)\n",
    "ggplot(home_est,aes(FireplaceQu,SalePrice))+geom_boxplot(col=\"steelblue\")+labs(title=\"FireplaceQu vs SalePrice\", subtitle=\"From House Pricing Dataset\", y=\"FireplaceQu\", x=\"SalePrice\", caption=\"SalePrice Variation\")"
   ]
  },
  {
   "cell_type": "code",
   "execution_count": 87,
   "metadata": {},
   "outputs": [
    {
     "data": {
      "text/html": [
       "<ol class=list-inline>\n",
       "\t<li>'2Types'</li>\n",
       "\t<li>'Attchd'</li>\n",
       "\t<li>'Basment'</li>\n",
       "\t<li>'BuiltIn'</li>\n",
       "\t<li>'CarPort'</li>\n",
       "\t<li>'Detchd'</li>\n",
       "</ol>\n"
      ],
      "text/latex": [
       "\\begin{enumerate*}\n",
       "\\item '2Types'\n",
       "\\item 'Attchd'\n",
       "\\item 'Basment'\n",
       "\\item 'BuiltIn'\n",
       "\\item 'CarPort'\n",
       "\\item 'Detchd'\n",
       "\\end{enumerate*}\n"
      ],
      "text/markdown": [
       "1. '2Types'\n",
       "2. 'Attchd'\n",
       "3. 'Basment'\n",
       "4. 'BuiltIn'\n",
       "5. 'CarPort'\n",
       "6. 'Detchd'\n",
       "\n",
       "\n"
      ],
      "text/plain": [
       "[1] \"2Types\"  \"Attchd\"  \"Basment\" \"BuiltIn\" \"CarPort\" \"Detchd\" "
      ]
     },
     "metadata": {},
     "output_type": "display_data"
    },
    {
     "data": {
      "text/html": [
       "81"
      ],
      "text/latex": [
       "81"
      ],
      "text/markdown": [
       "81"
      ],
      "text/plain": [
       "[1] 81"
      ]
     },
     "metadata": {},
     "output_type": "display_data"
    },
    {
     "data": {
      "text/plain": [
       "\n",
       " 2Types  Attchd Basment BuiltIn CarPort  Detchd \n",
       "      6     870      19      88       9     387 "
      ]
     },
     "metadata": {},
     "output_type": "display_data"
    },
    {
     "data": {},
     "metadata": {},
     "output_type": "display_data"
    },
    {
     "data": {
      "image/png": "[encoded data removed]",
      "text/plain": [
       "plot without title"
      ]
     },
     "metadata": {},
     "output_type": "display_data"
    }
   ],
   "source": [
    "## Working with the GarageType factor columns\n",
    "levels(home_est$GarageType)\n",
    "sum(is.na(home_est$GarageType))\n",
    "table(home_est$GarageType)\n",
    "ggplot(home_est,aes(GarageType,SalePrice))+geom_boxplot(col=\"steelblue\")+labs(title=\"GarageType vs SalePrice\", subtitle=\"From House Pricing Dataset\", y=\"GarageType\", x=\"SalePrice\", caption=\"SalePrice Variation\")"
   ]
  },
  {
   "cell_type": "code",
   "execution_count": 88,
   "metadata": {},
   "outputs": [
    {
     "data": {
      "text/html": [
       "<ol class=list-inline>\n",
       "\t<li>'Fin'</li>\n",
       "\t<li>'RFn'</li>\n",
       "\t<li>'Unf'</li>\n",
       "</ol>\n"
      ],
      "text/latex": [
       "\\begin{enumerate*}\n",
       "\\item 'Fin'\n",
       "\\item 'RFn'\n",
       "\\item 'Unf'\n",
       "\\end{enumerate*}\n"
      ],
      "text/markdown": [
       "1. 'Fin'\n",
       "2. 'RFn'\n",
       "3. 'Unf'\n",
       "\n",
       "\n"
      ],
      "text/plain": [
       "[1] \"Fin\" \"RFn\" \"Unf\""
      ]
     },
     "metadata": {},
     "output_type": "display_data"
    },
    {
     "data": {
      "text/html": [
       "81"
      ],
      "text/latex": [
       "81"
      ],
      "text/markdown": [
       "81"
      ],
      "text/plain": [
       "[1] 81"
      ]
     },
     "metadata": {},
     "output_type": "display_data"
    },
    {
     "data": {
      "text/plain": [
       "\n",
       "Fin RFn Unf \n",
       "352 422 605 "
      ]
     },
     "metadata": {},
     "output_type": "display_data"
    },
    {
     "data": {},
     "metadata": {},
     "output_type": "display_data"
    },
    {
     "data": {
      "image/png": "[encoded data removed]",
      "text/plain": [
       "plot without title"
      ]
     },
     "metadata": {},
     "output_type": "display_data"
    }
   ],
   "source": [
    "## Working with the GarageFinish factor columns\n",
    "levels(home_est$GarageFinish)\n",
    "sum(is.na(home_est$GarageFinish))\n",
    "table(home_est$GarageFinish)\n",
    "ggplot(home_est,aes(GarageFinish,SalePrice))+geom_boxplot(col=\"steelblue\")+labs(title=\"GarageFinish vs SalePrice\", subtitle=\"From House Pricing Dataset\", y=\"GarageFinish\", x=\"SalePrice\", caption=\"SalePrice Variation\")"
   ]
  },
  {
   "cell_type": "code",
   "execution_count": 89,
   "metadata": {},
   "outputs": [
    {
     "data": {
      "text/html": [
       "<ol class=list-inline>\n",
       "\t<li>'Ex'</li>\n",
       "\t<li>'Fa'</li>\n",
       "\t<li>'Gd'</li>\n",
       "\t<li>'Po'</li>\n",
       "\t<li>'TA'</li>\n",
       "</ol>\n"
      ],
      "text/latex": [
       "\\begin{enumerate*}\n",
       "\\item 'Ex'\n",
       "\\item 'Fa'\n",
       "\\item 'Gd'\n",
       "\\item 'Po'\n",
       "\\item 'TA'\n",
       "\\end{enumerate*}\n"
      ],
      "text/markdown": [
       "1. 'Ex'\n",
       "2. 'Fa'\n",
       "3. 'Gd'\n",
       "4. 'Po'\n",
       "5. 'TA'\n",
       "\n",
       "\n"
      ],
      "text/plain": [
       "[1] \"Ex\" \"Fa\" \"Gd\" \"Po\" \"TA\""
      ]
     },
     "metadata": {},
     "output_type": "display_data"
    },
    {
     "data": {
      "text/html": [
       "81"
      ],
      "text/latex": [
       "81"
      ],
      "text/markdown": [
       "81"
      ],
      "text/plain": [
       "[1] 81"
      ]
     },
     "metadata": {},
     "output_type": "display_data"
    },
    {
     "data": {
      "text/plain": [
       "\n",
       "  Ex   Fa   Gd   Po   TA \n",
       "   3   48   14    3 1311 "
      ]
     },
     "metadata": {},
     "output_type": "display_data"
    },
    {
     "data": {},
     "metadata": {},
     "output_type": "display_data"
    },
    {
     "data": {
      "image/png": "[encoded data removed]",
      "text/plain": [
       "plot without title"
      ]
     },
     "metadata": {},
     "output_type": "display_data"
    }
   ],
   "source": [
    "## Working with the GarageQual factor columns\n",
    "levels(home_est$GarageQual)\n",
    "sum(is.na(home_est$GarageQual))\n",
    "table(home_est$GarageQual)\n",
    "ggplot(home_est,aes(GarageQual,SalePrice))+geom_boxplot(col=\"steelblue\")+labs(title=\"GarageQual vs SalePrice\", subtitle=\"From House Pricing Dataset\", y=\"GarageQual\", x=\"SalePrice\", caption=\"SalePrice Variation\")"
   ]
  },
  {
   "cell_type": "code",
   "execution_count": 90,
   "metadata": {},
   "outputs": [
    {
     "data": {
      "text/html": [
       "<ol class=list-inline>\n",
       "\t<li>'Ex'</li>\n",
       "\t<li>'Fa'</li>\n",
       "\t<li>'Gd'</li>\n",
       "\t<li>'Po'</li>\n",
       "\t<li>'TA'</li>\n",
       "</ol>\n"
      ],
      "text/latex": [
       "\\begin{enumerate*}\n",
       "\\item 'Ex'\n",
       "\\item 'Fa'\n",
       "\\item 'Gd'\n",
       "\\item 'Po'\n",
       "\\item 'TA'\n",
       "\\end{enumerate*}\n"
      ],
      "text/markdown": [
       "1. 'Ex'\n",
       "2. 'Fa'\n",
       "3. 'Gd'\n",
       "4. 'Po'\n",
       "5. 'TA'\n",
       "\n",
       "\n"
      ],
      "text/plain": [
       "[1] \"Ex\" \"Fa\" \"Gd\" \"Po\" \"TA\""
      ]
     },
     "metadata": {},
     "output_type": "display_data"
    },
    {
     "data": {
      "text/html": [
       "81"
      ],
      "text/latex": [
       "81"
      ],
      "text/markdown": [
       "81"
      ],
      "text/plain": [
       "[1] 81"
      ]
     },
     "metadata": {},
     "output_type": "display_data"
    },
    {
     "data": {
      "text/plain": [
       "\n",
       "  Ex   Fa   Gd   Po   TA \n",
       "   2   35    9    7 1326 "
      ]
     },
     "metadata": {},
     "output_type": "display_data"
    },
    {
     "data": {},
     "metadata": {},
     "output_type": "display_data"
    },
    {
     "data": {
      "image/png": "[encoded data removed]",
      "text/plain": [
       "plot without title"
      ]
     },
     "metadata": {},
     "output_type": "display_data"
    }
   ],
   "source": [
    "## Working with the GarageCond factor columns\n",
    "levels(home_est$GarageCond)\n",
    "sum(is.na(home_est$GarageCond))\n",
    "table(home_est$GarageCond)\n",
    "ggplot(home_est,aes(GarageCond,SalePrice))+geom_boxplot(col=\"steelblue\")+labs(title=\"GarageCond vs SalePrice\", subtitle=\"From House Pricing Dataset\", y=\"GarageCond\", x=\"SalePrice\", caption=\"SalePrice Variation\")"
   ]
  },
  {
   "cell_type": "code",
   "execution_count": 91,
   "metadata": {},
   "outputs": [
    {
     "data": {
      "text/html": [
       "<ol class=list-inline>\n",
       "\t<li>'N'</li>\n",
       "\t<li>'P'</li>\n",
       "\t<li>'Y'</li>\n",
       "</ol>\n"
      ],
      "text/latex": [
       "\\begin{enumerate*}\n",
       "\\item 'N'\n",
       "\\item 'P'\n",
       "\\item 'Y'\n",
       "\\end{enumerate*}\n"
      ],
      "text/markdown": [
       "1. 'N'\n",
       "2. 'P'\n",
       "3. 'Y'\n",
       "\n",
       "\n"
      ],
      "text/plain": [
       "[1] \"N\" \"P\" \"Y\""
      ]
     },
     "metadata": {},
     "output_type": "display_data"
    },
    {
     "data": {
      "text/html": [
       "0"
      ],
      "text/latex": [
       "0"
      ],
      "text/markdown": [
       "0"
      ],
      "text/plain": [
       "[1] 0"
      ]
     },
     "metadata": {},
     "output_type": "display_data"
    },
    {
     "data": {
      "text/plain": [
       "\n",
       "   N    P    Y \n",
       "  90   30 1340 "
      ]
     },
     "metadata": {},
     "output_type": "display_data"
    },
    {
     "data": {},
     "metadata": {},
     "output_type": "display_data"
    },
    {
     "data": {
      "image/png": "[encoded data removed]",
      "text/plain": [
       "plot without title"
      ]
     },
     "metadata": {},
     "output_type": "display_data"
    }
   ],
   "source": [
    "## Working with the PavedDrive factor columns\n",
    "levels(home_est$PavedDrive)\n",
    "sum(is.na(home_est$PavedDrive))\n",
    "table(home_est$PavedDrive)\n",
    "ggplot(home_est,aes(PavedDrive,SalePrice))+geom_boxplot(col=\"steelblue\")+labs(title=\"PavedDrive vs SalePrice\", subtitle=\"From House Pricing Dataset\", y=\"PavedDrive\", x=\"SalePrice\", caption=\"SalePrice Variation\")"
   ]
  },
  {
   "cell_type": "code",
   "execution_count": 92,
   "metadata": {},
   "outputs": [
    {
     "data": {
      "text/html": [
       "<ol class=list-inline>\n",
       "\t<li>'Ex'</li>\n",
       "\t<li>'Fa'</li>\n",
       "\t<li>'Gd'</li>\n",
       "</ol>\n"
      ],
      "text/latex": [
       "\\begin{enumerate*}\n",
       "\\item 'Ex'\n",
       "\\item 'Fa'\n",
       "\\item 'Gd'\n",
       "\\end{enumerate*}\n"
      ],
      "text/markdown": [
       "1. 'Ex'\n",
       "2. 'Fa'\n",
       "3. 'Gd'\n",
       "\n",
       "\n"
      ],
      "text/plain": [
       "[1] \"Ex\" \"Fa\" \"Gd\""
      ]
     },
     "metadata": {},
     "output_type": "display_data"
    },
    {
     "data": {
      "text/html": [
       "1453"
      ],
      "text/latex": [
       "1453"
      ],
      "text/markdown": [
       "1453"
      ],
      "text/plain": [
       "[1] 1453"
      ]
     },
     "metadata": {},
     "output_type": "display_data"
    },
    {
     "data": {
      "text/plain": [
       "\n",
       "Ex Fa Gd \n",
       " 2  2  3 "
      ]
     },
     "metadata": {},
     "output_type": "display_data"
    },
    {
     "data": {},
     "metadata": {},
     "output_type": "display_data"
    },
    {
     "data": {
      "image/png": "[encoded data removed]",
      "text/plain": [
       "plot without title"
      ]
     },
     "metadata": {},
     "output_type": "display_data"
    }
   ],
   "source": [
    "## Working with the PoolQC factor columns\n",
    "levels(home_est$PoolQC)\n",
    "sum(is.na(home_est$PoolQC))\n",
    "table(home_est$PoolQC)\n",
    "ggplot(home_est,aes(PoolQC,SalePrice))+geom_boxplot(col=\"steelblue\")+labs(title=\"PoolQC vs SalePrice\", subtitle=\"From House Pricing Dataset\", y=\"PoolQC\", x=\"SalePrice\", caption=\"SalePrice Variation\")"
   ]
  },
  {
   "cell_type": "code",
   "execution_count": 93,
   "metadata": {},
   "outputs": [
    {
     "data": {
      "text/html": [
       "<ol class=list-inline>\n",
       "\t<li>'Gar2'</li>\n",
       "\t<li>'Othr'</li>\n",
       "\t<li>'Shed'</li>\n",
       "\t<li>'TenC'</li>\n",
       "</ol>\n"
      ],
      "text/latex": [
       "\\begin{enumerate*}\n",
       "\\item 'Gar2'\n",
       "\\item 'Othr'\n",
       "\\item 'Shed'\n",
       "\\item 'TenC'\n",
       "\\end{enumerate*}\n"
      ],
      "text/markdown": [
       "1. 'Gar2'\n",
       "2. 'Othr'\n",
       "3. 'Shed'\n",
       "4. 'TenC'\n",
       "\n",
       "\n"
      ],
      "text/plain": [
       "[1] \"Gar2\" \"Othr\" \"Shed\" \"TenC\""
      ]
     },
     "metadata": {},
     "output_type": "display_data"
    },
    {
     "data": {
      "text/html": [
       "1406"
      ],
      "text/latex": [
       "1406"
      ],
      "text/markdown": [
       "1406"
      ],
      "text/plain": [
       "[1] 1406"
      ]
     },
     "metadata": {},
     "output_type": "display_data"
    },
    {
     "data": {
      "text/plain": [
       "\n",
       "Gar2 Othr Shed TenC \n",
       "   2    2   49    1 "
      ]
     },
     "metadata": {},
     "output_type": "display_data"
    },
    {
     "data": {},
     "metadata": {},
     "output_type": "display_data"
    },
    {
     "data": {
      "image/png": "[encoded data removed]",
      "text/plain": [
       "plot without title"
      ]
     },
     "metadata": {},
     "output_type": "display_data"
    }
   ],
   "source": [
    "## Working with the MiscFeature factor columns\n",
    "levels(home_est$MiscFeature)\n",
    "sum(is.na(home_est$MiscFeature))\n",
    "table(home_est$MiscFeature)\n",
    "ggplot(home_est,aes(MiscFeature,SalePrice))+geom_boxplot(col=\"steelblue\")+labs(title=\"MiscFeature vs SalePrice\", subtitle=\"From House Pricing Dataset\", y=\"MiscFeature\", x=\"SalePrice\", caption=\"SalePrice Variation\")"
   ]
  },
  {
   "cell_type": "code",
   "execution_count": 94,
   "metadata": {},
   "outputs": [
    {
     "data": {
      "text/html": [
       "<ol class=list-inline>\n",
       "\t<li>'COD'</li>\n",
       "\t<li>'Con'</li>\n",
       "\t<li>'ConLD'</li>\n",
       "\t<li>'ConLI'</li>\n",
       "\t<li>'ConLw'</li>\n",
       "\t<li>'CWD'</li>\n",
       "\t<li>'New'</li>\n",
       "\t<li>'Oth'</li>\n",
       "\t<li>'WD'</li>\n",
       "</ol>\n"
      ],
      "text/latex": [
       "\\begin{enumerate*}\n",
       "\\item 'COD'\n",
       "\\item 'Con'\n",
       "\\item 'ConLD'\n",
       "\\item 'ConLI'\n",
       "\\item 'ConLw'\n",
       "\\item 'CWD'\n",
       "\\item 'New'\n",
       "\\item 'Oth'\n",
       "\\item 'WD'\n",
       "\\end{enumerate*}\n"
      ],
      "text/markdown": [
       "1. 'COD'\n",
       "2. 'Con'\n",
       "3. 'ConLD'\n",
       "4. 'ConLI'\n",
       "5. 'ConLw'\n",
       "6. 'CWD'\n",
       "7. 'New'\n",
       "8. 'Oth'\n",
       "9. 'WD'\n",
       "\n",
       "\n"
      ],
      "text/plain": [
       "[1] \"COD\"   \"Con\"   \"ConLD\" \"ConLI\" \"ConLw\" \"CWD\"   \"New\"   \"Oth\"   \"WD\"   "
      ]
     },
     "metadata": {},
     "output_type": "display_data"
    },
    {
     "data": {
      "text/html": [
       "0"
      ],
      "text/latex": [
       "0"
      ],
      "text/markdown": [
       "0"
      ],
      "text/plain": [
       "[1] 0"
      ]
     },
     "metadata": {},
     "output_type": "display_data"
    },
    {
     "data": {
      "text/plain": [
       "\n",
       "  COD   Con ConLD ConLI ConLw   CWD   New   Oth    WD \n",
       "   43     2     9     5     5     4   122     3  1267 "
      ]
     },
     "metadata": {},
     "output_type": "display_data"
    },
    {
     "data": {},
     "metadata": {},
     "output_type": "display_data"
    },
    {
     "data": {
      "image/png": "[encoded data removed]",
      "text/plain": [
       "plot without title"
      ]
     },
     "metadata": {},
     "output_type": "display_data"
    }
   ],
   "source": [
    "## Working with the SaleType factor columns\n",
    "levels(home_est$SaleType)\n",
    "sum(is.na(home_est$SaleType))\n",
    "table(home_est$SaleType)\n",
    "ggplot(home_est,aes(SaleType,SalePrice))+geom_boxplot(col=\"steelblue\")+labs(title=\"SaleType vs SalePrice\", subtitle=\"From House Pricing Dataset\", y=\"SaleType\", x=\"SalePrice\", caption=\"SalePrice Variation\")"
   ]
  },
  {
   "cell_type": "code",
   "execution_count": 95,
   "metadata": {
    "scrolled": true
   },
   "outputs": [
    {
     "data": {
      "text/html": [
       "<ol class=list-inline>\n",
       "\t<li>'Abnorml'</li>\n",
       "\t<li>'AdjLand'</li>\n",
       "\t<li>'Alloca'</li>\n",
       "\t<li>'Family'</li>\n",
       "\t<li>'Normal'</li>\n",
       "\t<li>'Partial'</li>\n",
       "</ol>\n"
      ],
      "text/latex": [
       "\\begin{enumerate*}\n",
       "\\item 'Abnorml'\n",
       "\\item 'AdjLand'\n",
       "\\item 'Alloca'\n",
       "\\item 'Family'\n",
       "\\item 'Normal'\n",
       "\\item 'Partial'\n",
       "\\end{enumerate*}\n"
      ],
      "text/markdown": [
       "1. 'Abnorml'\n",
       "2. 'AdjLand'\n",
       "3. 'Alloca'\n",
       "4. 'Family'\n",
       "5. 'Normal'\n",
       "6. 'Partial'\n",
       "\n",
       "\n"
      ],
      "text/plain": [
       "[1] \"Abnorml\" \"AdjLand\" \"Alloca\"  \"Family\"  \"Normal\"  \"Partial\""
      ]
     },
     "metadata": {},
     "output_type": "display_data"
    },
    {
     "data": {
      "text/html": [
       "0"
      ],
      "text/latex": [
       "0"
      ],
      "text/markdown": [
       "0"
      ],
      "text/plain": [
       "[1] 0"
      ]
     },
     "metadata": {},
     "output_type": "display_data"
    },
    {
     "data": {
      "text/plain": [
       "\n",
       "Abnorml AdjLand  Alloca  Family  Normal Partial \n",
       "    101       4      12      20    1198     125 "
      ]
     },
     "metadata": {},
     "output_type": "display_data"
    },
    {
     "data": {},
     "metadata": {},
     "output_type": "display_data"
    },
    {
     "data": {
      "image/png": "[encoded data removed]",
      "text/plain": [
       "plot without title"
      ]
     },
     "metadata": {},
     "output_type": "display_data"
    }
   ],
   "source": [
    "## Working with the SaleCondition factor columns\n",
    "levels(home_est$SaleCondition)\n",
    "sum(is.na(home_est$SaleCondition))\n",
    "table(home_est$SaleCondition)\n",
    "ggplot(home_est,aes(SaleCondition,SalePrice))+geom_boxplot(col=\"steelblue\")+labs(title=\"SaleCondition vs SalePrice\", subtitle=\"From House Pricing Dataset\", y=\"SaleCondition\", x=\"SalePrice\", caption=\"SalePrice Variation\")"
   ]
  },
  {
   "cell_type": "code",
   "execution_count": 102,
   "metadata": {},
   "outputs": [
    {
     "data": {
      "text/plain": [
       "   MSSubClass     MSZoning     LotFrontage        LotArea        Street    \n",
       " 2000   :605   C (all):  10   Min.   : 21.00   Min.   :  1300   Grvl:   6  \n",
       " 60     :299   FV     :  65   1st Qu.: 59.00   1st Qu.:  7554   Pave:1454  \n",
       " 50     :144   RH     :  16   Median : 69.00   Median :  9478              \n",
       " 12000  : 87   RL     :1151   Mean   : 70.05   Mean   : 10517              \n",
       " 160    : 63   RM     : 218   3rd Qu.: 80.00   3rd Qu.: 11602              \n",
       " 70     : 60                  Max.   :313.00   Max.   :215245              \n",
       " (Other):202                  NA's   :259                                  \n",
       " LotShape    LotConfig     Neighborhood   BldgType      HouseStyle \n",
       " IR1:484   Corner : 263   NAmes  :225   1Fam  :1220   1Story :726  \n",
       " IR2: 41   CulDSac:  94   CollgCr:150   2fmCon:  31   2Story :445  \n",
       " IR3: 10   FR2    :  47   OldTown:113   Duplex:  52   1.5Fin :154  \n",
       " Reg:925   FR3    :   4   Edwards:100   Twnhs :  43   SLvl   : 65  \n",
       "           Inside :1052   Somerst: 86   TwnhsE: 114   SFoyer : 37  \n",
       "                          Gilbert: 79                 1.5Unf : 14  \n",
       "                          (Other):707                 (Other): 19  \n",
       "  OverallQual      OverallCond      YearBuilt     YearRemodAdd    RoofStyle   \n",
       " Min.   : 1.000   Min.   :1.000   Min.   :1872   Min.   :1950   Flat   :  13  \n",
       " 1st Qu.: 5.000   1st Qu.:5.000   1st Qu.:1954   1st Qu.:1967   Gable  :1141  \n",
       " Median : 6.000   Median :5.000   Median :1973   Median :1994   Gambrel:  11  \n",
       " Mean   : 6.099   Mean   :5.575   Mean   :1971   Mean   :1985   Hip    : 286  \n",
       " 3rd Qu.: 7.000   3rd Qu.:6.000   3rd Qu.:2000   3rd Qu.:2004   Mansard:   7  \n",
       " Max.   :10.000   Max.   :9.000   Max.   :2010   Max.   :2010   Shed   :   2  \n",
       "                                                                              \n",
       "  Exterior1st   Exterior2nd    MasVnrType    MasVnrArea     ExterQual ExterCond\n",
       " VinylSd:515   VinylSd:504   BrkCmn : 15   Min.   :   0.0   Ex: 52    Ex:   3  \n",
       " HdBoard:222   MetalSd:214   BrkFace:445   1st Qu.:   0.0   Fa: 14    Fa:  28  \n",
       " MetalSd:220   HdBoard:207   None   :864   Median :   0.0   Gd:488    Gd: 146  \n",
       " Wd Sdng:206   Wd Sdng:197   Stone  :128   Mean   : 103.7   TA:906    Po:   1  \n",
       " Plywood:108   Plywood:142   NA's   :  8   3rd Qu.: 166.0             TA:1282  \n",
       " CemntBd: 61   CmentBd: 60                 Max.   :1600.0                      \n",
       " (Other):128   (Other):136                 NA's   :8                           \n",
       "  Foundation  BsmtQual   BsmtExposure BsmtFinType1   BsmtFinSF1    \n",
       " BrkTil:146   Ex  :121   Av  :221     ALQ :220     Min.   :   0.0  \n",
       " CBlock:634   Fa  : 35   Gd  :134     BLQ :148     1st Qu.:   0.0  \n",
       " PConc :647   Gd  :618   Mn  :114     GLQ :418     Median : 383.5  \n",
       " Slab  : 24   TA  :649   No  :953     LwQ : 74     Mean   : 443.6  \n",
       " Stone :  6   NA's: 37   NA's: 38     Rec :133     3rd Qu.: 712.2  \n",
       " Wood  :  3                           Unf :430     Max.   :5644.0  \n",
       "                                      NA's: 37                     \n",
       "   BsmtFinSF2        BsmtUnfSF       TotalBsmtSF     HeatingQC   X1stFlrSF   \n",
       " Min.   :   0.00   Min.   :   0.0   Min.   :   0.0   Ex:741    Min.   : 334  \n",
       " 1st Qu.:   0.00   1st Qu.: 223.0   1st Qu.: 795.8   Fa: 49    1st Qu.: 882  \n",
       " Median :   0.00   Median : 477.5   Median : 991.5   Gd:241    Median :1087  \n",
       " Mean   :  46.55   Mean   : 567.2   Mean   :1057.4   Po:  1    Mean   :1163  \n",
       " 3rd Qu.:   0.00   3rd Qu.: 808.0   3rd Qu.:1298.2   TA:428    3rd Qu.:1391  \n",
       " Max.   :1474.00   Max.   :2336.0   Max.   :6110.0             Max.   :4692  \n",
       "                                                                             \n",
       "   X2ndFlrSF     LowQualFinSF       GrLivArea     BsmtFullBath   \n",
       " Min.   :   0   Min.   :  0.000   Min.   : 334   Min.   :0.0000  \n",
       " 1st Qu.:   0   1st Qu.:  0.000   1st Qu.:1130   1st Qu.:0.0000  \n",
       " Median :   0   Median :  0.000   Median :1464   Median :0.0000  \n",
       " Mean   : 347   Mean   :  5.845   Mean   :1515   Mean   :0.4253  \n",
       " 3rd Qu.: 728   3rd Qu.:  0.000   3rd Qu.:1777   3rd Qu.:1.0000  \n",
       " Max.   :2065   Max.   :572.000   Max.   :5642   Max.   :3.0000  \n",
       "                                                                 \n",
       "  BsmtHalfBath        FullBath        HalfBath       BedroomAbvGr  \n",
       " Min.   :0.00000   Min.   :0.000   Min.   :0.0000   Min.   :0.000  \n",
       " 1st Qu.:0.00000   1st Qu.:1.000   1st Qu.:0.0000   1st Qu.:2.000  \n",
       " Median :0.00000   Median :2.000   Median :0.0000   Median :3.000  \n",
       " Mean   :0.05753   Mean   :1.565   Mean   :0.3829   Mean   :2.866  \n",
       " 3rd Qu.:0.00000   3rd Qu.:2.000   3rd Qu.:1.0000   3rd Qu.:3.000  \n",
       " Max.   :2.00000   Max.   :3.000   Max.   :2.0000   Max.   :8.000  \n",
       "                                                                   \n",
       "  KitchenAbvGr   KitchenQual  TotRmsAbvGrd      Fireplaces    FireplaceQu\n",
       " Min.   :0.000   Ex:100      Min.   : 2.000   Min.   :0.000   Ex  : 24   \n",
       " 1st Qu.:1.000   Fa: 39      1st Qu.: 5.000   1st Qu.:0.000   Fa  : 33   \n",
       " Median :1.000   Gd:586      Median : 6.000   Median :1.000   Gd  :380   \n",
       " Mean   :1.047   TA:735      Mean   : 6.518   Mean   :0.613   Po  : 20   \n",
       " 3rd Qu.:1.000               3rd Qu.: 7.000   3rd Qu.:1.000   TA  :313   \n",
       " Max.   :3.000               Max.   :14.000   Max.   :3.000   NA's:690   \n",
       "                                                                         \n",
       "   GarageType   GarageYrBlt   GarageFinish   GarageCars      GarageArea    \n",
       " 2Types :  6   Min.   :1900   Fin :352     Min.   :0.000   Min.   :   0.0  \n",
       " Attchd :870   1st Qu.:1961   RFn :422     1st Qu.:1.000   1st Qu.: 334.5  \n",
       " Basment: 19   Median :1980   Unf :605     Median :2.000   Median : 480.0  \n",
       " BuiltIn: 88   Mean   :1979   NA's: 81     Mean   :1.767   Mean   : 473.0  \n",
       " CarPort:  9   3rd Qu.:2002                3rd Qu.:2.000   3rd Qu.: 576.0  \n",
       " Detchd :387   Max.   :2010                Max.   :4.000   Max.   :1418.0  \n",
       " NA's   : 81   NA's   :81                                                  \n",
       "   WoodDeckSF      OpenPorchSF     EnclosedPorch      X3SsnPorch    \n",
       " Min.   :  0.00   Min.   :  0.00   Min.   :  0.00   Min.   :  0.00  \n",
       " 1st Qu.:  0.00   1st Qu.:  0.00   1st Qu.:  0.00   1st Qu.:  0.00  \n",
       " Median :  0.00   Median : 25.00   Median :  0.00   Median :  0.00  \n",
       " Mean   : 94.24   Mean   : 46.66   Mean   : 21.95   Mean   :  3.41  \n",
       " 3rd Qu.:168.00   3rd Qu.: 68.00   3rd Qu.:  0.00   3rd Qu.:  0.00  \n",
       " Max.   :857.00   Max.   :547.00   Max.   :552.00   Max.   :508.00  \n",
       "                                                                    \n",
       "  ScreenPorch        PoolArea          MiscVal             MoSold      \n",
       " Min.   :  0.00   Min.   :  0.000   Min.   :    0.00   Min.   : 1.000  \n",
       " 1st Qu.:  0.00   1st Qu.:  0.000   1st Qu.:    0.00   1st Qu.: 5.000  \n",
       " Median :  0.00   Median :  0.000   Median :    0.00   Median : 6.000  \n",
       " Mean   : 15.06   Mean   :  2.759   Mean   :   43.49   Mean   : 6.322  \n",
       " 3rd Qu.:  0.00   3rd Qu.:  0.000   3rd Qu.:    0.00   3rd Qu.: 8.000  \n",
       " Max.   :480.00   Max.   :738.000   Max.   :15500.00   Max.   :12.000  \n",
       "                                                                       \n",
       "     YrSold       SalePrice              sp       \n",
       " Min.   :2006   Min.   :    11.4   Min.   :10.46  \n",
       " 1st Qu.:2007   1st Qu.:129000.0   1st Qu.:11.78  \n",
       " Median :2008   Median :161000.0   Median :12.00  \n",
       " Mean   :2008   Mean   :175401.6   Mean   :12.02  \n",
       " 3rd Qu.:2009   3rd Qu.:211250.0   3rd Qu.:12.27  \n",
       " Max.   :2010   Max.   :451950.0   Max.   :13.53  \n",
       "                                                  "
      ]
     },
     "metadata": {},
     "output_type": "display_data"
    },
    {
     "data": {
      "text/html": [
       "<ol class=list-inline>\n",
       "\t<li>1460</li>\n",
       "\t<li>60</li>\n",
       "</ol>\n"
      ],
      "text/latex": [
       "\\begin{enumerate*}\n",
       "\\item 1460\n",
       "\\item 60\n",
       "\\end{enumerate*}\n"
      ],
      "text/markdown": [
       "1. 1460\n",
       "2. 60\n",
       "\n",
       "\n"
      ],
      "text/plain": [
       "[1] 1460   60"
      ]
     },
     "metadata": {},
     "output_type": "display_data"
    }
   ],
   "source": [
    "summary(home_est)\n",
    "dim(home_est)"
   ]
  },
  {
   "cell_type": "code",
   "execution_count": 101,
   "metadata": {},
   "outputs": [],
   "source": [
    "# Removed all the below columns as there is a class imbalance\n",
    "\n",
    "home_est$Alley=NULL\n",
    "home_est$Utilities=NULL\n",
    "home_est$LandContour=NULL\n",
    "home_est$LandSlope=NULL\n",
    "home_est$Condition1=NULL\n",
    "home_est$Condition2=NULL\n",
    "home_est$RoofMatl=NULL\n",
    "home_est$BsmtCond=NULL\n",
    "home_est$BsmtFinType2=NULL\n",
    "home_est$Heating=NULL\n",
    "home_est$CentralAir=NULL\n",
    "home_est$Electrical=NULL\n",
    "home_est$Functional=NULL\n",
    "home_est$GarageQual=NULL\n",
    "home_est$GarageCond=NULL\n",
    "home_est$PavedDrive=NULL\n",
    "home_est$PoolQC=NULL\n",
    "home_est$Fence=NULL\n",
    "home_est$MiscFeature=NULL\n",
    "home_est$SaleType=NULL\n",
    "home_est$SaleCondition=NULL"
   ]
  },
  {
   "cell_type": "code",
   "execution_count": 104,
   "metadata": {},
   "outputs": [
    {
     "name": "stdout",
     "output_type": "stream",
     "text": [
      "Deleted : MSSubClass , which as a significance level  0 \n",
      "Deleted : MSZoning , which as a significance level  0 \n",
      "Deleted : Street , which as a significance level  0.06639131 \n",
      "Deleted : LotShape , which as a significance level  0 \n",
      "Deleted : LotConfig , which as a significance level  0.0006163537 \n",
      "Deleted : Neighborhood , which as a significance level  0 \n",
      "Deleted : BldgType , which as a significance level  0.0000000007 \n",
      "Deleted : HouseStyle , which as a significance level  0 \n",
      "Deleted : RoofStyle , which as a significance level  0.0000001051 \n",
      "Deleted : Exterior1st , which as a significance level  0 \n",
      "Deleted : Exterior2nd , which as a significance level  0 \n",
      "Deleted : MasVnrType , which as a significance level  0 \n",
      "Deleted : ExterQual , which as a significance level  0 \n",
      "Deleted : ExterCond , which as a significance level  0.0000000008 \n",
      "Deleted : Foundation , which as a significance level  0 \n",
      "Deleted : BsmtQual , which as a significance level  0 \n",
      "Deleted : BsmtExposure , which as a significance level  0 \n",
      "Deleted : BsmtFinType1 , which as a significance level  0 \n",
      "Deleted : HeatingQC , which as a significance level  0 \n",
      "Deleted : KitchenQual , which as a significance level  0 \n",
      "Deleted : FireplaceQu , which as a significance level  0 \n",
      "Deleted : GarageType , which as a significance level  0 \n",
      "Deleted : GarageFinish , which as a significance level  0 \n"
     ]
    }
   ],
   "source": [
    "for (col in colnames(home_est)){\n",
    "  if (is.factor(home_est[,col])==\"TRUE\"){\n",
    "    a=summary(aov(home_est$SalePrice~home_est[,col]))\n",
    "    b=a[[1]][5]\n",
    "    c=round(b[[1]][1],10)\n",
    "    cat(\"Deleted :\",col,\", which as a significance level \",c,\"\\n\")  \n",
    "  }\n",
    "}"
   ]
  },
  {
   "cell_type": "code",
   "execution_count": 105,
   "metadata": {},
   "outputs": [
    {
     "data": {},
     "metadata": {},
     "output_type": "display_data"
    },
    {
     "data": {
      "image/png": "[encoded data removed]",
      "text/plain": [
       "plot without title"
      ]
     },
     "metadata": {},
     "output_type": "display_data"
    }
   ],
   "source": [
    "ggplot(home_est,aes(SalePrice,BsmtFullBath))+geom_point()\n",
    "summary()"
   ]
  },
  {
   "cell_type": "code",
   "execution_count": null,
   "metadata": {},
   "outputs": [],
   "source": []
  }
 ],
 "metadata": {
  "kernelspec": {
   "display_name": "R",
   "language": "R",
   "name": "ir"
  },
  "language_info": {
   "codemirror_mode": "r",
   "file_extension": ".r",
   "mimetype": "text/x-r-source",
   "name": "R",
   "pygments_lexer": "r",
   "version": "3.4.3"
  }
 },
 "nbformat": 4,
 "nbformat_minor": 2
}
