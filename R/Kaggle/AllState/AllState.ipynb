{
 "cells": [
  {
   "cell_type": "code",
   "execution_count": 1,
   "metadata": {},
   "outputs": [
    {
     "name": "stderr",
     "output_type": "stream",
     "text": [
      "Installing package into 'C:/Users/KASTU1/Documents/R/win-library/3.4'\n",
      "(as 'lib' is unspecified)\n",
      "also installing the dependencies 'minqa', 'nloptr', 'RcppEigen', 'lme4', 'SparseM', 'MatrixModels', 'pbkrtest', 'quantreg', 'car'\n",
      "\n"
     ]
    },
    {
     "name": "stdout",
     "output_type": "stream",
     "text": [
      "package 'minqa' successfully unpacked and MD5 sums checked\n",
      "package 'nloptr' successfully unpacked and MD5 sums checked\n",
      "package 'RcppEigen' successfully unpacked and MD5 sums checked\n",
      "package 'lme4' successfully unpacked and MD5 sums checked\n",
      "package 'SparseM' successfully unpacked and MD5 sums checked\n",
      "package 'MatrixModels' successfully unpacked and MD5 sums checked\n",
      "package 'pbkrtest' successfully unpacked and MD5 sums checked\n",
      "package 'quantreg' successfully unpacked and MD5 sums checked\n",
      "package 'car' successfully unpacked and MD5 sums checked\n",
      "package 'caret' successfully unpacked and MD5 sums checked\n",
      "\n",
      "The downloaded binary packages are in\n",
      "\tC:\\Users\\KASTU1\\AppData\\Local\\Temp\\Rtmpcraeco\\downloaded_packages\n"
     ]
    },
    {
     "name": "stderr",
     "output_type": "stream",
     "text": [
      "Installing package into 'C:/Users/KASTU1/Documents/R/win-library/3.4'\n",
      "(as 'lib' is unspecified)\n"
     ]
    },
    {
     "name": "stdout",
     "output_type": "stream",
     "text": [
      "package 'ROCR' successfully unpacked and MD5 sums checked\n",
      "\n",
      "The downloaded binary packages are in\n",
      "\tC:\\Users\\KASTU1\\AppData\\Local\\Temp\\Rtmpcraeco\\downloaded_packages\n"
     ]
    },
    {
     "name": "stderr",
     "output_type": "stream",
     "text": [
      "Installing package into 'C:/Users/KASTU1/Documents/R/win-library/3.4'\n",
      "(as 'lib' is unspecified)\n"
     ]
    },
    {
     "name": "stdout",
     "output_type": "stream",
     "text": [
      "package 'randomForest' successfully unpacked and MD5 sums checked\n",
      "\n",
      "The downloaded binary packages are in\n",
      "\tC:\\Users\\KASTU1\\AppData\\Local\\Temp\\Rtmpcraeco\\downloaded_packages\n"
     ]
    },
    {
     "name": "stderr",
     "output_type": "stream",
     "text": [
      "Installing package into 'C:/Users/KASTU1/Documents/R/win-library/3.4'\n",
      "(as 'lib' is unspecified)\n"
     ]
    },
    {
     "name": "stdout",
     "output_type": "stream",
     "text": [
      "package 'nnet' successfully unpacked and MD5 sums checked\n",
      "\n",
      "The downloaded binary packages are in\n",
      "\tC:\\Users\\KASTU1\\AppData\\Local\\Temp\\Rtmpcraeco\\downloaded_packages\n"
     ]
    },
    {
     "name": "stderr",
     "output_type": "stream",
     "text": [
      "Installing package into 'C:/Users/KASTU1/Documents/R/win-library/3.4'\n",
      "(as 'lib' is unspecified)\n"
     ]
    },
    {
     "name": "stdout",
     "output_type": "stream",
     "text": [
      "package 'ggplot2' successfully unpacked and MD5 sums checked\n",
      "\n",
      "The downloaded binary packages are in\n",
      "\tC:\\Users\\KASTU1\\AppData\\Local\\Temp\\Rtmpcraeco\\downloaded_packages\n"
     ]
    }
   ],
   "source": [
    "install.packages(\"caret\")\n",
    "install.packages(\"ROCR\")\n",
    "install.packages(\"randomForest\")\n",
    "install.packages(\"nnet\")\n",
    "install.packages(\"ggplot2\")"
   ]
  },
  {
   "cell_type": "code",
   "execution_count": 2,
   "metadata": {},
   "outputs": [
    {
     "name": "stderr",
     "output_type": "stream",
     "text": [
      "\n",
      "Attaching package: 'dplyr'\n",
      "\n",
      "The following objects are masked from 'package:stats':\n",
      "\n",
      "    filter, lag\n",
      "\n",
      "The following objects are masked from 'package:base':\n",
      "\n",
      "    intersect, setdiff, setequal, union\n",
      "\n",
      "Loading required package: lattice\n",
      "Loading required package: ggplot2\n",
      "Loading required package: gplots\n",
      "Warning message:\n",
      "\"package 'gplots' was built under R version 3.4.4\"\n",
      "Attaching package: 'gplots'\n",
      "\n",
      "The following object is masked from 'package:stats':\n",
      "\n",
      "    lowess\n",
      "\n",
      "randomForest 4.6-12\n",
      "Type rfNews() to see new features/changes/bug fixes.\n",
      "\n",
      "Attaching package: 'randomForest'\n",
      "\n",
      "The following object is masked from 'package:ggplot2':\n",
      "\n",
      "    margin\n",
      "\n",
      "The following object is masked from 'package:dplyr':\n",
      "\n",
      "    combine\n",
      "\n"
     ]
    }
   ],
   "source": [
    "library(dplyr)\n",
    "library(caret)\n",
    "library(ROCR)\n",
    "library(randomForest)\n",
    "library(nnet)\n",
    "library(ggplot2)"
   ]
  },
  {
   "cell_type": "code",
   "execution_count": 12,
   "metadata": {},
   "outputs": [
    {
     "data": {
      "text/html": [
       "<table>\n",
       "<thead><tr><th scope=col>customer_ID</th><th scope=col>shopping_pt</th><th scope=col>record_type</th><th scope=col>day</th><th scope=col>time</th><th scope=col>state</th><th scope=col>location</th><th scope=col>group_size</th><th scope=col>homeowner</th><th scope=col>car_age</th><th scope=col>...</th><th scope=col>C_previous</th><th scope=col>duration_previous</th><th scope=col>A</th><th scope=col>B</th><th scope=col>C</th><th scope=col>D</th><th scope=col>E</th><th scope=col>F</th><th scope=col>G</th><th scope=col>cost</th></tr></thead>\n",
       "<tbody>\n",
       "\t<tr><td>10000001</td><td>1       </td><td>0       </td><td>1       </td><td>12:35   </td><td>OK      </td><td>10002   </td><td>1       </td><td>0       </td><td>9       </td><td>...     </td><td>3       </td><td> 9      </td><td>0       </td><td>0       </td><td>1       </td><td>1       </td><td>0       </td><td>0       </td><td>4       </td><td>543     </td></tr>\n",
       "\t<tr><td>10000001</td><td>2       </td><td>0       </td><td>1       </td><td>12:36   </td><td>OK      </td><td>10002   </td><td>1       </td><td>0       </td><td>9       </td><td>...     </td><td>3       </td><td> 9      </td><td>2       </td><td>1       </td><td>1       </td><td>3       </td><td>1       </td><td>3       </td><td>2       </td><td>611     </td></tr>\n",
       "\t<tr><td>10000002</td><td>1       </td><td>0       </td><td>4       </td><td>12:19   </td><td>PA      </td><td>10003   </td><td>1       </td><td>1       </td><td>7       </td><td>...     </td><td>2       </td><td>15      </td><td>2       </td><td>0       </td><td>2       </td><td>3       </td><td>1       </td><td>2       </td><td>2       </td><td>691     </td></tr>\n",
       "\t<tr><td>10000002</td><td>2       </td><td>0       </td><td>4       </td><td>12:21   </td><td>PA      </td><td>10003   </td><td>1       </td><td>1       </td><td>7       </td><td>...     </td><td>2       </td><td>15      </td><td>2       </td><td>0       </td><td>2       </td><td>3       </td><td>1       </td><td>2       </td><td>2       </td><td>695     </td></tr>\n",
       "\t<tr><td>10000003</td><td>1       </td><td>0       </td><td>3       </td><td>17:12   </td><td>AR      </td><td>10004   </td><td>1       </td><td>0       </td><td>4       </td><td>...     </td><td>3       </td><td> 1      </td><td>1       </td><td>0       </td><td>1       </td><td>1       </td><td>0       </td><td>2       </td><td>2       </td><td>628     </td></tr>\n",
       "\t<tr><td>10000003</td><td>2       </td><td>0       </td><td>3       </td><td>17:12   </td><td>AR      </td><td>10004   </td><td>1       </td><td>0       </td><td>4       </td><td>...     </td><td>3       </td><td> 1      </td><td>1       </td><td>0       </td><td>2       </td><td>1       </td><td>0       </td><td>2       </td><td>2       </td><td>625     </td></tr>\n",
       "</tbody>\n",
       "</table>\n"
      ],
      "text/latex": [
       "\\begin{tabular}{r|lllllllllllllllllllllllll}\n",
       " customer\\_ID & shopping\\_pt & record\\_type & day & time & state & location & group\\_size & homeowner & car\\_age & ... & C\\_previous & duration\\_previous & A & B & C & D & E & F & G & cost\\\\\n",
       "\\hline\n",
       "\t 10000001 & 1        & 0        & 1        & 12:35    & OK       & 10002    & 1        & 0        & 9        & ...      & 3        &  9       & 0        & 0        & 1        & 1        & 0        & 0        & 4        & 543     \\\\\n",
       "\t 10000001 & 2        & 0        & 1        & 12:36    & OK       & 10002    & 1        & 0        & 9        & ...      & 3        &  9       & 2        & 1        & 1        & 3        & 1        & 3        & 2        & 611     \\\\\n",
       "\t 10000002 & 1        & 0        & 4        & 12:19    & PA       & 10003    & 1        & 1        & 7        & ...      & 2        & 15       & 2        & 0        & 2        & 3        & 1        & 2        & 2        & 691     \\\\\n",
       "\t 10000002 & 2        & 0        & 4        & 12:21    & PA       & 10003    & 1        & 1        & 7        & ...      & 2        & 15       & 2        & 0        & 2        & 3        & 1        & 2        & 2        & 695     \\\\\n",
       "\t 10000003 & 1        & 0        & 3        & 17:12    & AR       & 10004    & 1        & 0        & 4        & ...      & 3        &  1       & 1        & 0        & 1        & 1        & 0        & 2        & 2        & 628     \\\\\n",
       "\t 10000003 & 2        & 0        & 3        & 17:12    & AR       & 10004    & 1        & 0        & 4        & ...      & 3        &  1       & 1        & 0        & 2        & 1        & 0        & 2        & 2        & 625     \\\\\n",
       "\\end{tabular}\n"
      ],
      "text/markdown": [
       "\n",
       "customer_ID | shopping_pt | record_type | day | time | state | location | group_size | homeowner | car_age | ... | C_previous | duration_previous | A | B | C | D | E | F | G | cost | \n",
       "|---|---|---|---|---|---|\n",
       "| 10000001 | 1        | 0        | 1        | 12:35    | OK       | 10002    | 1        | 0        | 9        | ...      | 3        |  9       | 0        | 0        | 1        | 1        | 0        | 0        | 4        | 543      | \n",
       "| 10000001 | 2        | 0        | 1        | 12:36    | OK       | 10002    | 1        | 0        | 9        | ...      | 3        |  9       | 2        | 1        | 1        | 3        | 1        | 3        | 2        | 611      | \n",
       "| 10000002 | 1        | 0        | 4        | 12:19    | PA       | 10003    | 1        | 1        | 7        | ...      | 2        | 15       | 2        | 0        | 2        | 3        | 1        | 2        | 2        | 691      | \n",
       "| 10000002 | 2        | 0        | 4        | 12:21    | PA       | 10003    | 1        | 1        | 7        | ...      | 2        | 15       | 2        | 0        | 2        | 3        | 1        | 2        | 2        | 695      | \n",
       "| 10000003 | 1        | 0        | 3        | 17:12    | AR       | 10004    | 1        | 0        | 4        | ...      | 3        |  1       | 1        | 0        | 1        | 1        | 0        | 2        | 2        | 628      | \n",
       "| 10000003 | 2        | 0        | 3        | 17:12    | AR       | 10004    | 1        | 0        | 4        | ...      | 3        |  1       | 1        | 0        | 2        | 1        | 0        | 2        | 2        | 625      | \n",
       "\n",
       "\n"
      ],
      "text/plain": [
       "  customer_ID shopping_pt record_type day time  state location group_size\n",
       "1 10000001    1           0           1   12:35 OK    10002    1         \n",
       "2 10000001    2           0           1   12:36 OK    10002    1         \n",
       "3 10000002    1           0           4   12:19 PA    10003    1         \n",
       "4 10000002    2           0           4   12:21 PA    10003    1         \n",
       "5 10000003    1           0           3   17:12 AR    10004    1         \n",
       "6 10000003    2           0           3   17:12 AR    10004    1         \n",
       "  homeowner car_age ... C_previous duration_previous A B C D E F G cost\n",
       "1 0         9       ... 3           9                0 0 1 1 0 0 4 543 \n",
       "2 0         9       ... 3           9                2 1 1 3 1 3 2 611 \n",
       "3 1         7       ... 2          15                2 0 2 3 1 2 2 691 \n",
       "4 1         7       ... 2          15                2 0 2 3 1 2 2 695 \n",
       "5 0         4       ... 3           1                1 0 1 1 0 2 2 628 \n",
       "6 0         4       ... 3           1                1 0 2 1 0 2 2 625 "
      ]
     },
     "metadata": {},
     "output_type": "display_data"
    }
   ],
   "source": [
    "setwd(\"C:\\\\Users\\\\KASTU1\\\\Desktop\\\\Analytics Path\\\\R\\\\Data\\\\Kaggle\\\\AllStateInsurance\")\n",
    "train=read.csv(\"Allstate_test.csv\", sep=\"|\")\n",
    "head(train)"
   ]
  },
  {
   "cell_type": "code",
   "execution_count": 4,
   "metadata": {},
   "outputs": [],
   "source": [
    "# Define column classes for reading in the data sets\n",
    "colClasses <- c(rep(\"integer\", 4), \"character\", rep(\"factor\", 2),\n",
    "                \"integer\", \"factor\", \"integer\", \"factor\", rep(\"integer\", 3),\n",
    "                rep(\"factor\", 2), \"integer\", rep(\"factor\", 7), \"integer\")"
   ]
  },
  {
   "cell_type": "code",
   "execution_count": 7,
   "metadata": {},
   "outputs": [],
   "source": [
    "preprocess <- function(data) {\n",
    "  \n",
    "  # add features\n",
    "  data$plan <- paste0(data$A, data$B, data$C, data$D, data$E, data$F, data$G)  ## Concatenating all the columns from A to G\n",
    "  data$hour <- as.integer(substr(data$time, 1, 2))\n",
    "  data$timeofday <- as.factor(ifelse(data$hour %in% 6:15, \"day\",\n",
    "                                     ifelse(data$hour %in% 16:18, \"evening\",\n",
    "                                            \"night\")))\n",
    "  data$weekend <- as.factor(ifelse(data$day %in% 0:4, \"No\", \"Yes\"))\n",
    "  data$family <- as.factor(ifelse(data$group_size > 2 & data$age_youngest <\n",
    "                                    25 & data$married_couple==1, \"Yes\", \"No\"))\n",
    "  data$agediff <- data$age_oldest-data$age_youngest\n",
    "  data$individual <- as.factor(ifelse(data$agediff==0 & data$group_size==1,\n",
    "                                      \"Yes\", \"No\"))\n",
    "  data$stategroup <- as.factor(ifelse(data$state %in% c(\"SD\",\"ND\"), \"g1\",\n",
    "                                      ifelse(data$state %in% c(\"AL\",\"WY\"), \"g2\",\n",
    "                                             ifelse(data$state %in% c(\"OK\",\"ME\",\"AR\",\n",
    "                                                                      \"WV\"), \"g3\",\n",
    "                                                    ifelse(data$state %in% c(\"DC\",\"NE\",\"GA\"),\n",
    "                                                           \"g5\", \"g4\")))))\n",
    "  \n",
    "  # fix NA's for duration_previous and C_previous\n",
    "  data$duration_previous[is.na(data$duration_previous)] <- 0\n",
    "  levels(data$C_previous) <- c(\"1\", \"2\", \"3\", \"4\", \"none\")\n",
    "  data$C_previous[is.na(data$C_previous)] <- \"none\"\n",
    "  \n",
    "  # replace risk_factor NA's by predicting a value\n",
    "  datanorisk <- data[is.na(data$risk_factor), ]\n",
    "  datarisk <- data[!is.na(data$risk_factor), ]\n",
    "  lm.fit <- lm(risk_factor ~ age_youngest*group_size+married_couple+\n",
    "                 homeowner, data=datarisk)\n",
    "  lm.pred <- predict(lm.fit, newdata=datanorisk)\n",
    "  data$risk_factor[is.na(data$risk_factor)] <- round(lm.pred, 0)\n",
    "  \n",
    "  # for car_age greater than 30, \"round down\" to 30\n",
    "  data$car_age[data$car_age > 30] <- 30\n",
    "  \n",
    "  return(data)\n",
    "}"
   ]
  },
  {
   "cell_type": "code",
   "execution_count": 15,
   "metadata": {},
   "outputs": [
    {
     "name": "stderr",
     "output_type": "stream",
     "text": [
      "Warning message in eval(expr, envir, enclos):\n",
      "\"NAs introduced by coercion\""
     ]
    }
   ],
   "source": [
    " train$hour <- as.integer(substr(train$time, 1, 2))"
   ]
  },
  {
   "cell_type": "code",
   "execution_count": 16,
   "metadata": {},
   "outputs": [
    {
     "data": {
      "text/html": [
       "<ol class=list-inline>\n",
       "\t<li>12:35</li>\n",
       "\t<li>12:36</li>\n",
       "\t<li>12:19</li>\n",
       "\t<li>12:21</li>\n",
       "\t<li>17:12</li>\n",
       "\t<li>17:12</li>\n",
       "</ol>\n"
      ],
      "text/latex": [
       "\\begin{enumerate*}\n",
       "\\item 12:35\n",
       "\\item 12:36\n",
       "\\item 12:19\n",
       "\\item 12:21\n",
       "\\item 17:12\n",
       "\\item 17:12\n",
       "\\end{enumerate*}\n"
      ],
      "text/markdown": [
       "1. 12:35\n",
       "2. 12:36\n",
       "3. 12:19\n",
       "4. 12:21\n",
       "5. 17:12\n",
       "6. 17:12\n",
       "\n",
       "\n"
      ],
      "text/plain": [
       "[1] 12:35 12:36 12:19 12:21 17:12 17:12\n",
       "1045 Levels: 0:02 0:19 0:23 0:25 0:26 0:28 0:54 0:56 0:57 1:03 1:04 1:05 ... 9:59"
      ]
     },
     "metadata": {},
     "output_type": "display_data"
    }
   ],
   "source": [
    "head(train$time)"
   ]
  },
  {
   "cell_type": "code",
   "execution_count": null,
   "metadata": {},
   "outputs": [],
   "source": []
  }
 ],
 "metadata": {
  "kernelspec": {
   "display_name": "R",
   "language": "R",
   "name": "ir"
  },
  "language_info": {
   "codemirror_mode": "r",
   "file_extension": ".r",
   "mimetype": "text/x-r-source",
   "name": "R",
   "pygments_lexer": "r",
   "version": "3.4.3"
  }
 },
 "nbformat": 4,
 "nbformat_minor": 2
}
