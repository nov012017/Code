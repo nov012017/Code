{
 "cells": [
  {
   "cell_type": "code",
   "execution_count": 16,
   "metadata": {},
   "outputs": [
    {
     "name": "stderr",
     "output_type": "stream",
     "text": [
      "Installing package into 'C:/Users/KASTU1/Documents/R/win-library/3.4'\n",
      "(as 'lib' is unspecified)\n",
      "Warning message:\n",
      "\"package 'ISLR' is in use and will not be installed\"Installing package into 'C:/Users/KASTU1/Documents/R/win-library/3.4'\n",
      "(as 'lib' is unspecified)\n",
      "Warning message:\n",
      "\"package 'rpart' is in use and will not be installed\"Installing package into 'C:/Users/KASTU1/Documents/R/win-library/3.4'\n",
      "(as 'lib' is unspecified)\n",
      "Warning message:\n",
      "\"package 'rattle' is in use and will not be installed\"Installing package into 'C:/Users/KASTU1/Documents/R/win-library/3.4'\n",
      "(as 'lib' is unspecified)\n",
      "Warning message:\n",
      "\"package 'rpart.plot' is in use and will not be installed\"Installing package into 'C:/Users/KASTU1/Documents/R/win-library/3.4'\n",
      "(as 'lib' is unspecified)\n",
      "Warning message:\n",
      "\"package 'RColorBrewer' is in use and will not be installed\"Installing package into 'C:/Users/KASTU1/Documents/R/win-library/3.4'\n",
      "(as 'lib' is unspecified)\n",
      "Warning message:\n",
      "\"package 'party' is in use and will not be installed\"Installing package into 'C:/Users/KASTU1/Documents/R/win-library/3.4'\n",
      "(as 'lib' is unspecified)\n",
      "Warning message:\n",
      "\"package 'partykit' is in use and will not be installed\"Installing package into 'C:/Users/KASTU1/Documents/R/win-library/3.4'\n",
      "(as 'lib' is unspecified)\n",
      "Warning message:\n",
      "\"package 'caret' is in use and will not be installed\"Installing package into 'C:/Users/KASTU1/Documents/R/win-library/3.4'\n",
      "(as 'lib' is unspecified)\n"
     ]
    },
    {
     "name": "stdout",
     "output_type": "stream",
     "text": [
      "package 'randomForest' successfully unpacked and MD5 sums checked\n"
     ]
    },
    {
     "name": "stderr",
     "output_type": "stream",
     "text": [
      "Warning message:\n",
      "\"cannot remove prior installation of package 'randomForest'\""
     ]
    },
    {
     "name": "stdout",
     "output_type": "stream",
     "text": [
      "\n",
      "The downloaded binary packages are in\n",
      "\tC:\\Users\\KASTU1\\AppData\\Local\\Temp\\Rtmp46GGDl\\downloaded_packages\n"
     ]
    }
   ],
   "source": [
    "install.packages(\"ISLR\")\n",
    "install.packages(\"rpart\")\n",
    "install.packages(\"rattle\")\n",
    "install.packages(\"rpart.plot\")\n",
    "install.packages(\"RColorBrewer\")\n",
    "install.packages(\"party\")\n",
    "install.packages(\"partykit\")\n",
    "install.packages(\"caret\")\n",
    "install.packages(\"randomForest\")"
   ]
  },
  {
   "cell_type": "code",
   "execution_count": 4,
   "metadata": {},
   "outputs": [
    {
     "name": "stderr",
     "output_type": "stream",
     "text": [
      "Rattle: A free graphical interface for data mining with R.\n",
      "Version 4.1.0 Copyright (c) 2006-2015 Togaware Pty Ltd.\n",
      "Type 'rattle()' to shake, rattle, and roll your data.\n",
      "Loading required package: grid\n",
      "Loading required package: mvtnorm\n",
      "Loading required package: modeltools\n",
      "Loading required package: stats4\n",
      "Loading required package: strucchange\n",
      "Warning message:\n",
      "\"package 'strucchange' was built under R version 3.4.4\"Loading required package: zoo\n",
      "Warning message:\n",
      "\"package 'zoo' was built under R version 3.4.4\"\n",
      "Attaching package: 'zoo'\n",
      "\n",
      "The following objects are masked from 'package:base':\n",
      "\n",
      "    as.Date, as.Date.numeric\n",
      "\n",
      "Loading required package: sandwich\n",
      "Warning message:\n",
      "\"package 'sandwich' was built under R version 3.4.4\"\n",
      "Attaching package: 'partykit'\n",
      "\n",
      "The following objects are masked from 'package:party':\n",
      "\n",
      "    cforest, ctree, ctree_control, edge_simple, mob, mob_control,\n",
      "    node_barplot, node_bivplot, node_boxplot, node_inner, node_surv,\n",
      "    node_terminal\n",
      "\n",
      "Loading required package: lattice\n"
     ]
    }
   ],
   "source": [
    "library(ISLR)\n",
    "library(ggplot2)\n",
    "library(rpart)\t\t\t\t        # Popular decision tree algorithm\n",
    "library(rattle)\t\t\t\t\t# Fancy tree plot\n",
    "library(rpart.plot)\t\t\t\t# Enhanced tree plots\n",
    "library(RColorBrewer)\t\t\t\t# Color selection for fancy tree plot\n",
    "library(party)\t\t\t\t\t# Alternative decision tree algorithm\n",
    "library(partykit)\t\t\t\t# Convert rpart object to BinaryTree\n",
    "library(caret)"
   ]
  },
  {
   "cell_type": "code",
   "execution_count": 5,
   "metadata": {},
   "outputs": [
    {
     "data": {
      "text/html": [
       "<table>\n",
       "<thead><tr><th scope=col>checking_balance</th><th scope=col>months_loan_duration</th><th scope=col>credit_history</th><th scope=col>purpose</th><th scope=col>amount</th><th scope=col>savings_balance</th><th scope=col>employment_duration</th><th scope=col>percent_of_income</th><th scope=col>years_at_residence</th><th scope=col>age</th><th scope=col>other_credit</th><th scope=col>housing</th><th scope=col>existing_loans_count</th><th scope=col>job</th><th scope=col>dependents</th><th scope=col>phone</th><th scope=col>default</th></tr></thead>\n",
       "<tbody>\n",
       "\t<tr><td><span style=white-space:pre-wrap>&lt; 0 DM    </span> </td><td> 6                                                    </td><td>critical                                              </td><td>furniture/appliances                                  </td><td>1169                                                  </td><td>unknown                                               </td><td><span style=white-space:pre-wrap>&gt; 7 years  </span></td><td>4                                                     </td><td>4                                                     </td><td>67                                                    </td><td>none                                                  </td><td><span style=white-space:pre-wrap>own  </span>         </td><td>2                                                     </td><td><span style=white-space:pre-wrap>skilled  </span>     </td><td>1                                                     </td><td>yes                                                   </td><td>no                                                    </td></tr>\n",
       "\t<tr><td>1 - 200 DM                                       </td><td>48                                               </td><td><span style=white-space:pre-wrap>good    </span> </td><td>furniture/appliances                             </td><td>5951                                             </td><td>&lt; 100 DM                                      </td><td>1 - 4 years                                      </td><td>2                                                </td><td>2                                                </td><td>22                                               </td><td>none                                             </td><td><span style=white-space:pre-wrap>own  </span>    </td><td>1                                                </td><td><span style=white-space:pre-wrap>skilled  </span></td><td>1                                                </td><td>no                                               </td><td>yes                                              </td></tr>\n",
       "\t<tr><td><span style=white-space:pre-wrap>unknown   </span>          </td><td>12                                                          </td><td>critical                                                    </td><td><span style=white-space:pre-wrap>education           </span></td><td>2096                                                        </td><td>&lt; 100 DM                                                 </td><td>4 - 7 years                                                 </td><td>2                                                           </td><td>3                                                           </td><td>49                                                          </td><td>none                                                        </td><td><span style=white-space:pre-wrap>own  </span>               </td><td>1                                                           </td><td>unskilled                                                   </td><td>2                                                           </td><td>no                                                          </td><td>no                                                          </td></tr>\n",
       "\t<tr><td><span style=white-space:pre-wrap>&lt; 0 DM    </span></td><td>42                                                   </td><td><span style=white-space:pre-wrap>good    </span>     </td><td>furniture/appliances                                 </td><td>7882                                                 </td><td>&lt; 100 DM                                          </td><td>4 - 7 years                                          </td><td>2                                                    </td><td>4                                                    </td><td>45                                                   </td><td>none                                                 </td><td>other                                                </td><td>1                                                    </td><td><span style=white-space:pre-wrap>skilled  </span>    </td><td>2                                                    </td><td>no                                                   </td><td>no                                                   </td></tr>\n",
       "\t<tr><td><span style=white-space:pre-wrap>&lt; 0 DM    </span>       </td><td>24                                                          </td><td><span style=white-space:pre-wrap>poor    </span>            </td><td><span style=white-space:pre-wrap>car                 </span></td><td>4870                                                        </td><td>&lt; 100 DM                                                 </td><td>1 - 4 years                                                 </td><td>3                                                           </td><td>4                                                           </td><td>53                                                          </td><td>none                                                        </td><td>other                                                       </td><td>2                                                           </td><td><span style=white-space:pre-wrap>skilled  </span>           </td><td>2                                                           </td><td>no                                                          </td><td>yes                                                         </td></tr>\n",
       "\t<tr><td>unknown             </td><td>36                  </td><td>good                </td><td>education           </td><td>9055                </td><td>unknown             </td><td>1 - 4 years         </td><td>2                   </td><td>4                   </td><td>35                  </td><td>none                </td><td>other               </td><td>1                   </td><td>unskilled           </td><td>2                   </td><td>yes                 </td><td>no                  </td></tr>\n",
       "</tbody>\n",
       "</table>\n"
      ],
      "text/latex": [
       "\\begin{tabular}{r|lllllllllllllllll}\n",
       " checking\\_balance & months\\_loan\\_duration & credit\\_history & purpose & amount & savings\\_balance & employment\\_duration & percent\\_of\\_income & years\\_at\\_residence & age & other\\_credit & housing & existing\\_loans\\_count & job & dependents & phone & default\\\\\n",
       "\\hline\n",
       "\t < 0 DM               &  6                   & critical             & furniture/appliances & 1169                 & unknown              & > 7 years            & 4                    & 4                    & 67                   & none                 & own                  & 2                    & skilled              & 1                    & yes                  & no                  \\\\\n",
       "\t 1 - 200 DM           & 48                   & good                 & furniture/appliances & 5951                 & < 100 DM             & 1 - 4 years          & 2                    & 2                    & 22                   & none                 & own                  & 1                    & skilled              & 1                    & no                   & yes                 \\\\\n",
       "\t unknown              & 12                   & critical             & education            & 2096                 & < 100 DM             & 4 - 7 years          & 2                    & 3                    & 49                   & none                 & own                  & 1                    & unskilled            & 2                    & no                   & no                  \\\\\n",
       "\t < 0 DM               & 42                   & good                 & furniture/appliances & 7882                 & < 100 DM             & 4 - 7 years          & 2                    & 4                    & 45                   & none                 & other                & 1                    & skilled              & 2                    & no                   & no                  \\\\\n",
       "\t < 0 DM               & 24                   & poor                 & car                  & 4870                 & < 100 DM             & 1 - 4 years          & 3                    & 4                    & 53                   & none                 & other                & 2                    & skilled              & 2                    & no                   & yes                 \\\\\n",
       "\t unknown              & 36                   & good                 & education            & 9055                 & unknown              & 1 - 4 years          & 2                    & 4                    & 35                   & none                 & other                & 1                    & unskilled            & 2                    & yes                  & no                  \\\\\n",
       "\\end{tabular}\n"
      ],
      "text/markdown": [
       "\n",
       "checking_balance | months_loan_duration | credit_history | purpose | amount | savings_balance | employment_duration | percent_of_income | years_at_residence | age | other_credit | housing | existing_loans_count | job | dependents | phone | default | \n",
       "|---|---|---|---|---|---|\n",
       "| < 0 DM               |  6                   | critical             | furniture/appliances | 1169                 | unknown              | > 7 years            | 4                    | 4                    | 67                   | none                 | own                  | 2                    | skilled              | 1                    | yes                  | no                   | \n",
       "| 1 - 200 DM           | 48                   | good                 | furniture/appliances | 5951                 | < 100 DM             | 1 - 4 years          | 2                    | 2                    | 22                   | none                 | own                  | 1                    | skilled              | 1                    | no                   | yes                  | \n",
       "| unknown              | 12                   | critical             | education            | 2096                 | < 100 DM             | 4 - 7 years          | 2                    | 3                    | 49                   | none                 | own                  | 1                    | unskilled            | 2                    | no                   | no                   | \n",
       "| < 0 DM               | 42                   | good                 | furniture/appliances | 7882                 | < 100 DM             | 4 - 7 years          | 2                    | 4                    | 45                   | none                 | other                | 1                    | skilled              | 2                    | no                   | no                   | \n",
       "| < 0 DM               | 24                   | poor                 | car                  | 4870                 | < 100 DM             | 1 - 4 years          | 3                    | 4                    | 53                   | none                 | other                | 2                    | skilled              | 2                    | no                   | yes                  | \n",
       "| unknown              | 36                   | good                 | education            | 9055                 | unknown              | 1 - 4 years          | 2                    | 4                    | 35                   | none                 | other                | 1                    | unskilled            | 2                    | yes                  | no                   | \n",
       "\n",
       "\n"
      ],
      "text/plain": [
       "  checking_balance months_loan_duration credit_history purpose             \n",
       "1 < 0 DM            6                   critical       furniture/appliances\n",
       "2 1 - 200 DM       48                   good           furniture/appliances\n",
       "3 unknown          12                   critical       education           \n",
       "4 < 0 DM           42                   good           furniture/appliances\n",
       "5 < 0 DM           24                   poor           car                 \n",
       "6 unknown          36                   good           education           \n",
       "  amount savings_balance employment_duration percent_of_income\n",
       "1 1169   unknown         > 7 years           4                \n",
       "2 5951   < 100 DM        1 - 4 years         2                \n",
       "3 2096   < 100 DM        4 - 7 years         2                \n",
       "4 7882   < 100 DM        4 - 7 years         2                \n",
       "5 4870   < 100 DM        1 - 4 years         3                \n",
       "6 9055   unknown         1 - 4 years         2                \n",
       "  years_at_residence age other_credit housing existing_loans_count job      \n",
       "1 4                  67  none         own     2                    skilled  \n",
       "2 2                  22  none         own     1                    skilled  \n",
       "3 3                  49  none         own     1                    unskilled\n",
       "4 4                  45  none         other   1                    skilled  \n",
       "5 4                  53  none         other   2                    skilled  \n",
       "6 4                  35  none         other   1                    unskilled\n",
       "  dependents phone default\n",
       "1 1          yes   no     \n",
       "2 1          no    yes    \n",
       "3 2          no    no     \n",
       "4 2          no    no     \n",
       "5 2          no    yes    \n",
       "6 2          yes   no     "
      ]
     },
     "metadata": {},
     "output_type": "display_data"
    },
    {
     "data": {
      "text/plain": [
       "\n",
       " no yes \n",
       "0.7 0.3 "
      ]
     },
     "metadata": {},
     "output_type": "display_data"
    }
   ],
   "source": [
    "setwd(\"C:\\\\Users\\\\KASTU1\\\\Desktop\\\\Analytics Path\\\\R\\\\Data\")\n",
    "credit = read.csv(\"credit.csv\")\n",
    "head(credit)\n",
    "prop.table(table(credit$default))"
   ]
  },
  {
   "cell_type": "code",
   "execution_count": 7,
   "metadata": {},
   "outputs": [
    {
     "data": {
      "text/html": [
       "800"
      ],
      "text/latex": [
       "800"
      ],
      "text/markdown": [
       "800"
      ],
      "text/plain": [
       "[1] 800"
      ]
     },
     "metadata": {},
     "output_type": "display_data"
    },
    {
     "data": {
      "text/html": [
       "200"
      ],
      "text/latex": [
       "200"
      ],
      "text/markdown": [
       "200"
      ],
      "text/plain": [
       "[1] 200"
      ]
     },
     "metadata": {},
     "output_type": "display_data"
    }
   ],
   "source": [
    "set.seed(1324)\n",
    "\n",
    "idx = sample( nrow(credit), nrow(credit)*0.8) \n",
    "\n",
    "train = credit[ idx, ]\n",
    "test = credit[ -idx, ]\n",
    "nrow(train)\n",
    "nrow(test)"
   ]
  },
  {
   "cell_type": "code",
   "execution_count": 11,
   "metadata": {},
   "outputs": [
    {
     "data": {
      "image/png": "[encoded data removed]",
      "text/plain": [
       "Plot with title \"\""
      ]
     },
     "metadata": {},
     "output_type": "display_data"
    }
   ],
   "source": [
    "dtree1 = rpart(default ~ ., data=train, method=\"class\")\n",
    "\n",
    "fancyRpartPlot(dtree1 )"
   ]
  },
  {
   "cell_type": "code",
   "execution_count": 13,
   "metadata": {},
   "outputs": [
    {
     "name": "stdout",
     "output_type": "stream",
     "text": [
      "\n",
      "Classification tree:\n",
      "rpart(formula = default ~ ., data = train, method = \"class\")\n",
      "\n",
      "Variables actually used in tree construction:\n",
      "[1] amount               checking_balance     credit_history      \n",
      "[4] employment_duration  existing_loans_count months_loan_duration\n",
      "[7] other_credit         purpose              savings_balance     \n",
      "\n",
      "Root node error: 236/800 = 0.295\n",
      "\n",
      "n= 800 \n",
      "\n",
      "        CP nsplit rel error  xerror     xstd\n",
      "1 0.055085      0   1.00000 1.00000 0.054656\n",
      "2 0.029661      3   0.82203 0.89407 0.052813\n",
      "3 0.024011      5   0.76271 0.85593 0.052068\n",
      "4 0.021186      8   0.69068 0.86441 0.052237\n",
      "5 0.011299      9   0.66949 0.88559 0.052651\n",
      "6 0.010000     12   0.63559 0.92797 0.053438\n"
     ]
    }
   ],
   "source": [
    "\n",
    "printcp(dtree1)\n",
    "test$pred = predict(dtree1, newdata = test, type=\"class\")"
   ]
  },
  {
   "cell_type": "code",
   "execution_count": 14,
   "metadata": {},
   "outputs": [
    {
     "data": {
      "text/plain": [
       "     \n",
       "       no yes\n",
       "  no  117  19\n",
       "  yes  45  19"
      ]
     },
     "metadata": {},
     "output_type": "display_data"
    }
   ],
   "source": [
    "#### confusion matrix \n",
    "\n",
    "table( test$default, test$pred)"
   ]
  },
  {
   "cell_type": "code",
   "execution_count": 15,
   "metadata": {},
   "outputs": [
    {
     "data": {
      "text/plain": [
       "     \n",
       "       no yes\n",
       "  no  117  19\n",
       "  yes  45  19"
      ]
     },
     "metadata": {},
     "output_type": "display_data"
    },
    {
     "data": {
      "image/png": "[encoded data removed]",
      "text/plain": [
       "Plot with title \"\""
      ]
     },
     "metadata": {},
     "output_type": "display_data"
    }
   ],
   "source": [
    "## Pruning\n",
    "tree2 = prune( dtree1, cp = 0.011299)\n",
    "fancyRpartPlot(tree2)\n",
    "\n",
    "### performance of pruned tree \n",
    "\n",
    "test$pred2 = predict( tree2 , newdata = test , type=\"class\")\n",
    "\n",
    "table( test$default, test$pred2)"
   ]
  },
  {
   "cell_type": "code",
   "execution_count": 17,
   "metadata": {},
   "outputs": [
    {
     "name": "stderr",
     "output_type": "stream",
     "text": [
      "Installing package into 'C:/Users/KASTU1/Documents/R/win-library/3.4'\n",
      "(as 'lib' is unspecified)\n"
     ]
    },
    {
     "name": "stdout",
     "output_type": "stream",
     "text": [
      "package 'randomForest' successfully unpacked and MD5 sums checked\n"
     ]
    },
    {
     "name": "stderr",
     "output_type": "stream",
     "text": [
      "Warning message:\n",
      "\"cannot remove prior installation of package 'randomForest'\""
     ]
    },
    {
     "name": "stdout",
     "output_type": "stream",
     "text": [
      "\n",
      "The downloaded binary packages are in\n",
      "\tC:\\Users\\KASTU1\\AppData\\Local\\Temp\\Rtmp46GGDl\\downloaded_packages\n"
     ]
    }
   ],
   "source": []
  }
 ],
 "metadata": {
  "kernelspec": {
   "display_name": "R",
   "language": "R",
   "name": "ir"
  },
  "language_info": {
   "codemirror_mode": "r",
   "file_extension": ".r",
   "mimetype": "text/x-r-source",
   "name": "R",
   "pygments_lexer": "r",
   "version": "3.4.3"
  }
 },
 "nbformat": 4,
 "nbformat_minor": 2
}
