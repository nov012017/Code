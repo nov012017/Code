{
 "cells": [
  {
   "cell_type": "code",
   "execution_count": 37,
   "metadata": {},
   "outputs": [],
   "source": [
    "library(ISLR)\n",
    "library(ggplot2)\n",
    "library(rpart)\t\t\t\t        # Popular decision tree algorithm\n",
    "library(rattle)\t\t\t\t\t# Fancy tree plot\n",
    "library(rpart.plot)\t\t\t\t# Enhanced tree plots\n",
    "library(RColorBrewer)\t\t\t\t# Color selection for fancy tree plot\n",
    "library(party)\t\t\t\t\t# Alternative decision tree algorithm\n",
    "library(partykit)\t\t\t\t# Convert rpart object to BinaryTree\n",
    "library(caret)\n",
    "library(randomForest)\n"
   ]
  },
  {
   "cell_type": "code",
   "execution_count": null,
   "metadata": {},
   "outputs": [],
   "source": []
  },
  {
   "cell_type": "code",
   "execution_count": null,
   "metadata": {},
   "outputs": [],
   "source": []
  },
  {
   "cell_type": "code",
   "execution_count": 17,
   "metadata": {},
   "outputs": [
    {
     "data": {
      "text/html": [
       "<table>\n",
       "<thead><tr><th scope=col>Account.Length</th><th scope=col>VMail.Message</th><th scope=col>Day.Mins</th><th scope=col>Eve.Mins</th><th scope=col>Night.Mins</th><th scope=col>Intl.Mins</th><th scope=col>CustServ.Calls</th><th scope=col>Churn</th><th scope=col>Intl.Plan</th><th scope=col>VMail.Plan</th><th scope=col>...</th><th scope=col>Day.Charge</th><th scope=col>Eve.Calls</th><th scope=col>Eve.Charge</th><th scope=col>Night.Calls</th><th scope=col>Night.Charge</th><th scope=col>Intl.Calls</th><th scope=col>Intl.Charge</th><th scope=col>State</th><th scope=col>Area.Code</th><th scope=col>Phone</th></tr></thead>\n",
       "<tbody>\n",
       "\t<tr><td>128     </td><td>25      </td><td>265.1   </td><td>197.4   </td><td>244.7   </td><td>10.0    </td><td>1       </td><td>0       </td><td>0       </td><td>1       </td><td>...     </td><td>45.07   </td><td> 99     </td><td>16.78   </td><td> 91     </td><td>11.01   </td><td>3       </td><td>2.70    </td><td>KS      </td><td>415     </td><td>382-4657</td></tr>\n",
       "\t<tr><td>107     </td><td>26      </td><td>161.6   </td><td>195.5   </td><td>254.4   </td><td>13.7    </td><td>1       </td><td>0       </td><td>0       </td><td>1       </td><td>...     </td><td>27.47   </td><td>103     </td><td>16.62   </td><td>103     </td><td>11.45   </td><td>3       </td><td>3.70    </td><td>OH      </td><td>415     </td><td>371-7191</td></tr>\n",
       "\t<tr><td>137     </td><td> 0      </td><td>243.4   </td><td>121.2   </td><td>162.6   </td><td>12.2    </td><td>0       </td><td>0       </td><td>0       </td><td>0       </td><td>...     </td><td>41.38   </td><td>110     </td><td>10.30   </td><td>104     </td><td> 7.32   </td><td>5       </td><td>3.29    </td><td>NJ      </td><td>415     </td><td>358-1921</td></tr>\n",
       "\t<tr><td> 84     </td><td> 0      </td><td>299.4   </td><td> 61.9   </td><td>196.9   </td><td> 6.6    </td><td>2       </td><td>0       </td><td>1       </td><td>0       </td><td>...     </td><td>50.90   </td><td> 88     </td><td> 5.26   </td><td> 89     </td><td> 8.86   </td><td>7       </td><td>1.78    </td><td>OH      </td><td>408     </td><td>375-9999</td></tr>\n",
       "\t<tr><td> 75     </td><td> 0      </td><td>166.7   </td><td>148.3   </td><td>186.9   </td><td>10.1    </td><td>3       </td><td>0       </td><td>1       </td><td>0       </td><td>...     </td><td>28.34   </td><td>122     </td><td>12.61   </td><td>121     </td><td> 8.41   </td><td>3       </td><td>2.73    </td><td>OK      </td><td>415     </td><td>330-6626</td></tr>\n",
       "\t<tr><td>118     </td><td> 0      </td><td>223.4   </td><td>220.6   </td><td>203.9   </td><td> 6.3    </td><td>0       </td><td>0       </td><td>1       </td><td>0       </td><td>...     </td><td>37.98   </td><td>101     </td><td>18.75   </td><td>118     </td><td> 9.18   </td><td>6       </td><td>1.70    </td><td>AL      </td><td>510     </td><td>391-8027</td></tr>\n",
       "</tbody>\n",
       "</table>\n"
      ],
      "text/latex": [
       "\\begin{tabular}{r|lllllllllllllllllllll}\n",
       " Account.Length & VMail.Message & Day.Mins & Eve.Mins & Night.Mins & Intl.Mins & CustServ.Calls & Churn & Intl.Plan & VMail.Plan & ... & Day.Charge & Eve.Calls & Eve.Charge & Night.Calls & Night.Charge & Intl.Calls & Intl.Charge & State & Area.Code & Phone\\\\\n",
       "\\hline\n",
       "\t 128      & 25       & 265.1    & 197.4    & 244.7    & 10.0     & 1        & 0        & 0        & 1        & ...      & 45.07    &  99      & 16.78    &  91      & 11.01    & 3        & 2.70     & KS       & 415      & 382-4657\\\\\n",
       "\t 107      & 26       & 161.6    & 195.5    & 254.4    & 13.7     & 1        & 0        & 0        & 1        & ...      & 27.47    & 103      & 16.62    & 103      & 11.45    & 3        & 3.70     & OH       & 415      & 371-7191\\\\\n",
       "\t 137      &  0       & 243.4    & 121.2    & 162.6    & 12.2     & 0        & 0        & 0        & 0        & ...      & 41.38    & 110      & 10.30    & 104      &  7.32    & 5        & 3.29     & NJ       & 415      & 358-1921\\\\\n",
       "\t  84      &  0       & 299.4    &  61.9    & 196.9    &  6.6     & 2        & 0        & 1        & 0        & ...      & 50.90    &  88      &  5.26    &  89      &  8.86    & 7        & 1.78     & OH       & 408      & 375-9999\\\\\n",
       "\t  75      &  0       & 166.7    & 148.3    & 186.9    & 10.1     & 3        & 0        & 1        & 0        & ...      & 28.34    & 122      & 12.61    & 121      &  8.41    & 3        & 2.73     & OK       & 415      & 330-6626\\\\\n",
       "\t 118      &  0       & 223.4    & 220.6    & 203.9    &  6.3     & 0        & 0        & 1        & 0        & ...      & 37.98    & 101      & 18.75    & 118      &  9.18    & 6        & 1.70     & AL       & 510      & 391-8027\\\\\n",
       "\\end{tabular}\n"
      ],
      "text/markdown": [
       "\n",
       "Account.Length | VMail.Message | Day.Mins | Eve.Mins | Night.Mins | Intl.Mins | CustServ.Calls | Churn | Intl.Plan | VMail.Plan | ... | Day.Charge | Eve.Calls | Eve.Charge | Night.Calls | Night.Charge | Intl.Calls | Intl.Charge | State | Area.Code | Phone | \n",
       "|---|---|---|---|---|---|\n",
       "| 128      | 25       | 265.1    | 197.4    | 244.7    | 10.0     | 1        | 0        | 0        | 1        | ...      | 45.07    |  99      | 16.78    |  91      | 11.01    | 3        | 2.70     | KS       | 415      | 382-4657 | \n",
       "| 107      | 26       | 161.6    | 195.5    | 254.4    | 13.7     | 1        | 0        | 0        | 1        | ...      | 27.47    | 103      | 16.62    | 103      | 11.45    | 3        | 3.70     | OH       | 415      | 371-7191 | \n",
       "| 137      |  0       | 243.4    | 121.2    | 162.6    | 12.2     | 0        | 0        | 0        | 0        | ...      | 41.38    | 110      | 10.30    | 104      |  7.32    | 5        | 3.29     | NJ       | 415      | 358-1921 | \n",
       "|  84      |  0       | 299.4    |  61.9    | 196.9    |  6.6     | 2        | 0        | 1        | 0        | ...      | 50.90    |  88      |  5.26    |  89      |  8.86    | 7        | 1.78     | OH       | 408      | 375-9999 | \n",
       "|  75      |  0       | 166.7    | 148.3    | 186.9    | 10.1     | 3        | 0        | 1        | 0        | ...      | 28.34    | 122      | 12.61    | 121      |  8.41    | 3        | 2.73     | OK       | 415      | 330-6626 | \n",
       "| 118      |  0       | 223.4    | 220.6    | 203.9    |  6.3     | 0        | 0        | 1        | 0        | ...      | 37.98    | 101      | 18.75    | 118      |  9.18    | 6        | 1.70     | AL       | 510      | 391-8027 | \n",
       "\n",
       "\n"
      ],
      "text/plain": [
       "  Account.Length VMail.Message Day.Mins Eve.Mins Night.Mins Intl.Mins\n",
       "1 128            25            265.1    197.4    244.7      10.0     \n",
       "2 107            26            161.6    195.5    254.4      13.7     \n",
       "3 137             0            243.4    121.2    162.6      12.2     \n",
       "4  84             0            299.4     61.9    196.9       6.6     \n",
       "5  75             0            166.7    148.3    186.9      10.1     \n",
       "6 118             0            223.4    220.6    203.9       6.3     \n",
       "  CustServ.Calls Churn Intl.Plan VMail.Plan ... Day.Charge Eve.Calls Eve.Charge\n",
       "1 1              0     0         1          ... 45.07       99       16.78     \n",
       "2 1              0     0         1          ... 27.47      103       16.62     \n",
       "3 0              0     0         0          ... 41.38      110       10.30     \n",
       "4 2              0     1         0          ... 50.90       88        5.26     \n",
       "5 3              0     1         0          ... 28.34      122       12.61     \n",
       "6 0              0     1         0          ... 37.98      101       18.75     \n",
       "  Night.Calls Night.Charge Intl.Calls Intl.Charge State Area.Code Phone   \n",
       "1  91         11.01        3          2.70        KS    415       382-4657\n",
       "2 103         11.45        3          3.70        OH    415       371-7191\n",
       "3 104          7.32        5          3.29        NJ    415       358-1921\n",
       "4  89          8.86        7          1.78        OH    408       375-9999\n",
       "5 121          8.41        3          2.73        OK    415       330-6626\n",
       "6 118          9.18        6          1.70        AL    510       391-8027"
      ]
     },
     "metadata": {},
     "output_type": "display_data"
    },
    {
     "data": {
      "text/html": [
       "<ol class=list-inline>\n",
       "\t<li>'Account.Length'</li>\n",
       "\t<li>'VMail.Message'</li>\n",
       "\t<li>'Day.Mins'</li>\n",
       "\t<li>'Eve.Mins'</li>\n",
       "\t<li>'Night.Mins'</li>\n",
       "\t<li>'Intl.Mins'</li>\n",
       "\t<li>'CustServ.Calls'</li>\n",
       "\t<li>'Churn'</li>\n",
       "\t<li>'Intl.Plan'</li>\n",
       "\t<li>'VMail.Plan'</li>\n",
       "\t<li>'Day.Calls'</li>\n",
       "\t<li>'Day.Charge'</li>\n",
       "\t<li>'Eve.Calls'</li>\n",
       "\t<li>'Eve.Charge'</li>\n",
       "\t<li>'Night.Calls'</li>\n",
       "\t<li>'Night.Charge'</li>\n",
       "\t<li>'Intl.Calls'</li>\n",
       "\t<li>'Intl.Charge'</li>\n",
       "\t<li>'State'</li>\n",
       "\t<li>'Area.Code'</li>\n",
       "\t<li>'Phone'</li>\n",
       "</ol>\n"
      ],
      "text/latex": [
       "\\begin{enumerate*}\n",
       "\\item 'Account.Length'\n",
       "\\item 'VMail.Message'\n",
       "\\item 'Day.Mins'\n",
       "\\item 'Eve.Mins'\n",
       "\\item 'Night.Mins'\n",
       "\\item 'Intl.Mins'\n",
       "\\item 'CustServ.Calls'\n",
       "\\item 'Churn'\n",
       "\\item 'Intl.Plan'\n",
       "\\item 'VMail.Plan'\n",
       "\\item 'Day.Calls'\n",
       "\\item 'Day.Charge'\n",
       "\\item 'Eve.Calls'\n",
       "\\item 'Eve.Charge'\n",
       "\\item 'Night.Calls'\n",
       "\\item 'Night.Charge'\n",
       "\\item 'Intl.Calls'\n",
       "\\item 'Intl.Charge'\n",
       "\\item 'State'\n",
       "\\item 'Area.Code'\n",
       "\\item 'Phone'\n",
       "\\end{enumerate*}\n"
      ],
      "text/markdown": [
       "1. 'Account.Length'\n",
       "2. 'VMail.Message'\n",
       "3. 'Day.Mins'\n",
       "4. 'Eve.Mins'\n",
       "5. 'Night.Mins'\n",
       "6. 'Intl.Mins'\n",
       "7. 'CustServ.Calls'\n",
       "8. 'Churn'\n",
       "9. 'Intl.Plan'\n",
       "10. 'VMail.Plan'\n",
       "11. 'Day.Calls'\n",
       "12. 'Day.Charge'\n",
       "13. 'Eve.Calls'\n",
       "14. 'Eve.Charge'\n",
       "15. 'Night.Calls'\n",
       "16. 'Night.Charge'\n",
       "17. 'Intl.Calls'\n",
       "18. 'Intl.Charge'\n",
       "19. 'State'\n",
       "20. 'Area.Code'\n",
       "21. 'Phone'\n",
       "\n",
       "\n"
      ],
      "text/plain": [
       " [1] \"Account.Length\" \"VMail.Message\"  \"Day.Mins\"       \"Eve.Mins\"      \n",
       " [5] \"Night.Mins\"     \"Intl.Mins\"      \"CustServ.Calls\" \"Churn\"         \n",
       " [9] \"Intl.Plan\"      \"VMail.Plan\"     \"Day.Calls\"      \"Day.Charge\"    \n",
       "[13] \"Eve.Calls\"      \"Eve.Charge\"     \"Night.Calls\"    \"Night.Charge\"  \n",
       "[17] \"Intl.Calls\"     \"Intl.Charge\"    \"State\"          \"Area.Code\"     \n",
       "[21] \"Phone\"         "
      ]
     },
     "metadata": {},
     "output_type": "display_data"
    }
   ],
   "source": [
    "setwd(\"C:\\\\Users\\\\KASTU1\\\\Desktop\\\\Analytics Path\\\\R\\\\Data\")\n",
    "df1 = read.csv(\"Churn.csv\")\n",
    "head(df1)\n",
    "names(df1)"
   ]
  },
  {
   "cell_type": "code",
   "execution_count": 18,
   "metadata": {},
   "outputs": [],
   "source": [
    "df1 = df1[,-c(19:21)]"
   ]
  },
  {
   "cell_type": "code",
   "execution_count": 19,
   "metadata": {},
   "outputs": [],
   "source": [
    "\n",
    "df1$Churn = ifelse(df1$Churn == 1, \"Yes\", \"No\")"
   ]
  },
  {
   "cell_type": "code",
   "execution_count": 20,
   "metadata": {},
   "outputs": [
    {
     "data": {
      "text/plain": [
       "\n",
       "       No       Yes \n",
       "0.8550855 0.1449145 "
      ]
     },
     "metadata": {},
     "output_type": "display_data"
    },
    {
     "data": {
      "text/plain": [
       "\n",
       "  No  Yes \n",
       "2850  483 "
      ]
     },
     "metadata": {},
     "output_type": "display_data"
    }
   ],
   "source": [
    "prop.table(table(df1$Churn))\n",
    "table(df1$Churn)"
   ]
  },
  {
   "cell_type": "code",
   "execution_count": 22,
   "metadata": {},
   "outputs": [],
   "source": [
    "set.seed(1234)\n",
    "\n",
    "ids = sample(nrow(df1), nrow(df1)*0.8)\n",
    "\n",
    "train = df1[ids,]\n",
    "test = df1[-ids,]"
   ]
  },
  {
   "cell_type": "code",
   "execution_count": 23,
   "metadata": {},
   "outputs": [
    {
     "data": {
      "image/png": "[encoded data removed]",
      "text/plain": [
       "Plot with title \"\""
      ]
     },
     "metadata": {},
     "output_type": "display_data"
    }
   ],
   "source": [
    "# Cart Model\n",
    "churntree = rpart( Churn ~ ., data=train, method=\"class\")\n",
    "fancyRpartPlot(churntree)"
   ]
  },
  {
   "cell_type": "code",
   "execution_count": 30,
   "metadata": {},
   "outputs": [
    {
     "data": {
      "text/plain": [
       "     \n",
       "       No Yes\n",
       "  No  557  11\n",
       "  Yes  32  67"
      ]
     },
     "metadata": {},
     "output_type": "display_data"
    },
    {
     "name": "stdout",
     "output_type": "stream",
     "text": [
      "[1] 0.8589744\n",
      "[1] 0.6767677\n",
      "[1] 0.7570621\n"
     ]
    }
   ],
   "source": [
    "\n",
    "test$pred = predict( churntree, newdata = test, type=\"class\")\n",
    "### [Performance on test]\n",
    "table(test$Churn, test$pred)\n",
    "\n",
    "precision = 67/78\n",
    "recall = 67/(67+32)\n",
    "f_1 = 2*precision*recall/(precision+recall)\n",
    "print(precision)\n",
    "print(recall)\n",
    "print(f_1)\n"
   ]
  },
  {
   "cell_type": "code",
   "execution_count": 26,
   "metadata": {},
   "outputs": [
    {
     "data": {
      "text/plain": [
       "     trainpred\n",
       "        No  Yes\n",
       "  No  2259   23\n",
       "  Yes   97  287"
      ]
     },
     "metadata": {},
     "output_type": "display_data"
    }
   ],
   "source": [
    "trainpred = predict( churntree, newdata = train, type=\"class\")\n",
    "### performance on train\n",
    "table(train$Churn, trainpred)"
   ]
  },
  {
   "cell_type": "code",
   "execution_count": 31,
   "metadata": {},
   "outputs": [
    {
     "name": "stdout",
     "output_type": "stream",
     "text": [
      "\n",
      "Classification tree:\n",
      "rpart(formula = Churn ~ ., data = train, method = \"class\")\n",
      "\n",
      "Variables actually used in tree construction:\n",
      "[1] CustServ.Calls Day.Mins       Eve.Mins       Intl.Calls     Intl.Mins     \n",
      "[6] Intl.Plan      Night.Mins     VMail.Message \n",
      "\n",
      "Root node error: 384/2666 = 0.14404\n",
      "\n",
      "n= 2666 \n",
      "\n",
      "        CP nsplit rel error  xerror     xstd\n",
      "1 0.092448      0   1.00000 1.00000 0.047213\n",
      "2 0.080729      2   0.81510 0.83073 0.043641\n",
      "3 0.055990      4   0.65365 0.66927 0.039685\n",
      "4 0.018229      7   0.45312 0.46875 0.033738\n",
      "5 0.013021     14   0.32552 0.44792 0.033033\n",
      "6 0.010000     15   0.31250 0.41927 0.032030\n"
     ]
    }
   ],
   "source": [
    "### CP matrix to check the cp and relative error \n",
    "printcp(churntree)"
   ]
  },
  {
   "cell_type": "code",
   "execution_count": 38,
   "metadata": {},
   "outputs": [
    {
     "name": "stdout",
     "output_type": "stream",
     "text": [
      "\n",
      "Classification tree:\n",
      "rpart(formula = Churn ~ ., data = train, method = \"class\")\n",
      "\n",
      "Variables actually used in tree construction:\n",
      "[1] CustServ.Calls Day.Mins       Eve.Mins       Intl.Calls     Intl.Mins     \n",
      "[6] Intl.Plan      Night.Mins     VMail.Message \n",
      "\n",
      "Root node error: 384/2666 = 0.14404\n",
      "\n",
      "n= 2666 \n",
      "\n",
      "        CP nsplit rel error  xerror     xstd\n",
      "1 0.092448      0   1.00000 1.00000 0.047213\n",
      "2 0.080729      2   0.81510 0.83073 0.043641\n",
      "3 0.055990      4   0.65365 0.66927 0.039685\n",
      "4 0.018229      7   0.45312 0.46875 0.033738\n",
      "5 0.013021     14   0.32552 0.44792 0.033033\n"
     ]
    },
    {
     "data": {
      "text/plain": [
       "     \n",
       "       No Yes\n",
       "  No  556  12\n",
       "  Yes  32  67"
      ]
     },
     "metadata": {},
     "output_type": "display_data"
    },
    {
     "data": {
      "image/png": "[encoded data removed]",
      "text/plain": [
       "Plot with title \"\""
      ]
     },
     "metadata": {},
     "output_type": "display_data"
    }
   ],
   "source": [
    "\n",
    "prunedtree = prune(churntree, cp = 0.013021)\n",
    "\n",
    "printcp(prunedtree)"
   ]
  },
  {
   "cell_type": "code",
   "execution_count": 33,
   "metadata": {},
   "outputs": [
    {
     "data": {
      "image/png": "[encoded data removed]",
      "text/plain": [
       "Plot with title \"\""
      ]
     },
     "metadata": {},
     "output_type": "display_data"
    }
   ],
   "source": [
    "fancyRpartPlot(prunedtree)"
   ]
  },
  {
   "cell_type": "code",
   "execution_count": 34,
   "metadata": {},
   "outputs": [
    {
     "name": "stdout",
     "output_type": "stream",
     "text": [
      "\n",
      "Classification tree:\n",
      "rpart(formula = Churn ~ ., data = train, method = \"class\")\n",
      "\n",
      "Variables actually used in tree construction:\n",
      "[1] CustServ.Calls Day.Mins       Eve.Mins       Intl.Calls     Intl.Mins     \n",
      "[6] Intl.Plan      Night.Mins     VMail.Message \n",
      "\n",
      "Root node error: 384/2666 = 0.14404\n",
      "\n",
      "n= 2666 \n",
      "\n",
      "        CP nsplit rel error  xerror     xstd\n",
      "1 0.092448      0   1.00000 1.00000 0.047213\n",
      "2 0.080729      2   0.81510 0.83073 0.043641\n",
      "3 0.055990      4   0.65365 0.66927 0.039685\n",
      "4 0.018229      7   0.45312 0.46875 0.033738\n",
      "5 0.013021     14   0.32552 0.44792 0.033033\n"
     ]
    }
   ],
   "source": [
    "printcp(prunedtree)"
   ]
  },
  {
   "cell_type": "code",
   "execution_count": 35,
   "metadata": {},
   "outputs": [
    {
     "data": {
      "text/plain": [
       "     \n",
       "       No Yes\n",
       "  No  556  12\n",
       "  Yes  32  67"
      ]
     },
     "metadata": {},
     "output_type": "display_data"
    }
   ],
   "source": [
    "## performance of pruned tree \n",
    "\n",
    "\n",
    "test$pruned_pred = predict(prunedtree, newdata = test, type=\"class\")\n",
    "\n",
    "\n",
    "table(test$Churn, test$pruned_pred)"
   ]
  },
  {
   "cell_type": "code",
   "execution_count": null,
   "metadata": {},
   "outputs": [],
   "source": [
    "### randomforest "
   ]
  },
  {
   "cell_type": "code",
   "execution_count": 41,
   "metadata": {},
   "outputs": [
    {
     "data": {
      "text/plain": [
       "     \n",
       "       No Yes\n",
       "  No  561   7\n",
       "  Yes  30  69"
      ]
     },
     "metadata": {},
     "output_type": "display_data"
    }
   ],
   "source": [
    "rftrees = randomForest(as.factor(Churn) ~ ., data=train )\n",
    "test$pred_rf = predict(rftrees, newdata = test )\n",
    "table(test$Churn, test$pred_rf)"
   ]
  },
  {
   "cell_type": "code",
   "execution_count": 43,
   "metadata": {},
   "outputs": [
    {
     "name": "stdout",
     "output_type": "stream",
     "text": [
      "[1] 0.9078947\n",
      "[1] 0.6969697\n",
      "[1] 0.7885714\n"
     ]
    }
   ],
   "source": [
    "precision = 69/76\n",
    "recall = 69/(99)\n",
    "\n",
    "F1_S=2*precision*recall/(precision+recall)\n",
    "print(precision)\n",
    "print(recall)\n",
    "print(F1_S)"
   ]
  },
  {
   "cell_type": "code",
   "execution_count": 44,
   "metadata": {},
   "outputs": [
    {
     "data": {
      "text/html": [
       "<ol class=list-inline>\n",
       "\t<li>'call'</li>\n",
       "\t<li>'type'</li>\n",
       "\t<li>'predicted'</li>\n",
       "\t<li>'err.rate'</li>\n",
       "\t<li>'confusion'</li>\n",
       "\t<li>'votes'</li>\n",
       "\t<li>'oob.times'</li>\n",
       "\t<li>'classes'</li>\n",
       "\t<li>'importance'</li>\n",
       "\t<li>'importanceSD'</li>\n",
       "\t<li>'localImportance'</li>\n",
       "\t<li>'proximity'</li>\n",
       "\t<li>'ntree'</li>\n",
       "\t<li>'mtry'</li>\n",
       "\t<li>'forest'</li>\n",
       "\t<li>'y'</li>\n",
       "\t<li>'test'</li>\n",
       "\t<li>'inbag'</li>\n",
       "\t<li>'terms'</li>\n",
       "</ol>\n"
      ],
      "text/latex": [
       "\\begin{enumerate*}\n",
       "\\item 'call'\n",
       "\\item 'type'\n",
       "\\item 'predicted'\n",
       "\\item 'err.rate'\n",
       "\\item 'confusion'\n",
       "\\item 'votes'\n",
       "\\item 'oob.times'\n",
       "\\item 'classes'\n",
       "\\item 'importance'\n",
       "\\item 'importanceSD'\n",
       "\\item 'localImportance'\n",
       "\\item 'proximity'\n",
       "\\item 'ntree'\n",
       "\\item 'mtry'\n",
       "\\item 'forest'\n",
       "\\item 'y'\n",
       "\\item 'test'\n",
       "\\item 'inbag'\n",
       "\\item 'terms'\n",
       "\\end{enumerate*}\n"
      ],
      "text/markdown": [
       "1. 'call'\n",
       "2. 'type'\n",
       "3. 'predicted'\n",
       "4. 'err.rate'\n",
       "5. 'confusion'\n",
       "6. 'votes'\n",
       "7. 'oob.times'\n",
       "8. 'classes'\n",
       "9. 'importance'\n",
       "10. 'importanceSD'\n",
       "11. 'localImportance'\n",
       "12. 'proximity'\n",
       "13. 'ntree'\n",
       "14. 'mtry'\n",
       "15. 'forest'\n",
       "16. 'y'\n",
       "17. 'test'\n",
       "18. 'inbag'\n",
       "19. 'terms'\n",
       "\n",
       "\n"
      ],
      "text/plain": [
       " [1] \"call\"            \"type\"            \"predicted\"       \"err.rate\"       \n",
       " [5] \"confusion\"       \"votes\"           \"oob.times\"       \"classes\"        \n",
       " [9] \"importance\"      \"importanceSD\"    \"localImportance\" \"proximity\"      \n",
       "[13] \"ntree\"           \"mtry\"            \"forest\"          \"y\"              \n",
       "[17] \"test\"            \"inbag\"           \"terms\"          "
      ]
     },
     "metadata": {},
     "output_type": "display_data"
    }
   ],
   "source": [
    "\n",
    "names(rftrees)"
   ]
  },
  {
   "cell_type": "code",
   "execution_count": 45,
   "metadata": {},
   "outputs": [
    {
     "data": {
      "text/html": [
       "500"
      ],
      "text/latex": [
       "500"
      ],
      "text/markdown": [
       "500"
      ],
      "text/plain": [
       "[1] 500"
      ]
     },
     "metadata": {},
     "output_type": "display_data"
    }
   ],
   "source": [
    "rftrees$ntree"
   ]
  },
  {
   "cell_type": "code",
   "execution_count": 47,
   "metadata": {},
   "outputs": [],
   "source": [
    "### parameter tuning of randomforest \n",
    "rftree2 = randomForest(as.factor(Churn) ~ ., data=train, ntree=40, mtry=5, classwt = c(0.7, 0.3), nodesize = 20  )"
   ]
  },
  {
   "cell_type": "code",
   "execution_count": 48,
   "metadata": {},
   "outputs": [],
   "source": [
    "pred = predict(rftree2, newdata = test)"
   ]
  },
  {
   "cell_type": "code",
   "execution_count": 49,
   "metadata": {},
   "outputs": [
    {
     "data": {
      "text/plain": [
       "     pred\n",
       "       No Yes\n",
       "  No  552  16\n",
       "  Yes  26  73"
      ]
     },
     "metadata": {},
     "output_type": "display_data"
    }
   ],
   "source": [
    "table(test$Churn, pred)"
   ]
  },
  {
   "cell_type": "code",
   "execution_count": 50,
   "metadata": {},
   "outputs": [
    {
     "name": "stdout",
     "output_type": "stream",
     "text": [
      "[1] 0.8202247\n",
      "[1] 0.7373737\n",
      "[1] 0.7765957\n"
     ]
    }
   ],
   "source": [
    "precision = 73/89\n",
    "recall = 73/(99)\n",
    "\n",
    "F1_S=2*precision*recall/(precision+recall)\n",
    "print(precision)\n",
    "print(recall)\n",
    "print(F1_S)"
   ]
  },
  {
   "cell_type": "code",
   "execution_count": 55,
   "metadata": {},
   "outputs": [
    {
     "data": {
      "text/html": [
       "<ol class=list-inline>\n",
       "\t<li>'call'</li>\n",
       "\t<li>'type'</li>\n",
       "\t<li>'predicted'</li>\n",
       "\t<li>'err.rate'</li>\n",
       "\t<li>'confusion'</li>\n",
       "\t<li>'votes'</li>\n",
       "\t<li>'oob.times'</li>\n",
       "\t<li>'classes'</li>\n",
       "\t<li>'importance'</li>\n",
       "\t<li>'importanceSD'</li>\n",
       "\t<li>'localImportance'</li>\n",
       "\t<li>'proximity'</li>\n",
       "\t<li>'ntree'</li>\n",
       "\t<li>'mtry'</li>\n",
       "\t<li>'forest'</li>\n",
       "\t<li>'y'</li>\n",
       "\t<li>'test'</li>\n",
       "\t<li>'inbag'</li>\n",
       "\t<li>'terms'</li>\n",
       "</ol>\n"
      ],
      "text/latex": [
       "\\begin{enumerate*}\n",
       "\\item 'call'\n",
       "\\item 'type'\n",
       "\\item 'predicted'\n",
       "\\item 'err.rate'\n",
       "\\item 'confusion'\n",
       "\\item 'votes'\n",
       "\\item 'oob.times'\n",
       "\\item 'classes'\n",
       "\\item 'importance'\n",
       "\\item 'importanceSD'\n",
       "\\item 'localImportance'\n",
       "\\item 'proximity'\n",
       "\\item 'ntree'\n",
       "\\item 'mtry'\n",
       "\\item 'forest'\n",
       "\\item 'y'\n",
       "\\item 'test'\n",
       "\\item 'inbag'\n",
       "\\item 'terms'\n",
       "\\end{enumerate*}\n"
      ],
      "text/markdown": [
       "1. 'call'\n",
       "2. 'type'\n",
       "3. 'predicted'\n",
       "4. 'err.rate'\n",
       "5. 'confusion'\n",
       "6. 'votes'\n",
       "7. 'oob.times'\n",
       "8. 'classes'\n",
       "9. 'importance'\n",
       "10. 'importanceSD'\n",
       "11. 'localImportance'\n",
       "12. 'proximity'\n",
       "13. 'ntree'\n",
       "14. 'mtry'\n",
       "15. 'forest'\n",
       "16. 'y'\n",
       "17. 'test'\n",
       "18. 'inbag'\n",
       "19. 'terms'\n",
       "\n",
       "\n"
      ],
      "text/plain": [
       " [1] \"call\"            \"type\"            \"predicted\"       \"err.rate\"       \n",
       " [5] \"confusion\"       \"votes\"           \"oob.times\"       \"classes\"        \n",
       " [9] \"importance\"      \"importanceSD\"    \"localImportance\" \"proximity\"      \n",
       "[13] \"ntree\"           \"mtry\"            \"forest\"          \"y\"              \n",
       "[17] \"test\"            \"inbag\"           \"terms\"          "
      ]
     },
     "metadata": {},
     "output_type": "display_data"
    },
    {
     "data": {
      "text/html": [
       "40"
      ],
      "text/latex": [
       "40"
      ],
      "text/markdown": [
       "40"
      ],
      "text/plain": [
       "[1] 40"
      ]
     },
     "metadata": {},
     "output_type": "display_data"
    },
    {
     "data": {
      "text/html": [
       "<table>\n",
       "<thead><tr><th></th><th scope=col>MeanDecreaseGini</th></tr></thead>\n",
       "<tbody>\n",
       "\t<tr><th scope=row>Account.Length</th><td>20.20172</td></tr>\n",
       "\t<tr><th scope=row>VMail.Message</th><td>20.10234</td></tr>\n",
       "\t<tr><th scope=row>Day.Mins</th><td>93.59384</td></tr>\n",
       "\t<tr><th scope=row>Eve.Mins</th><td>43.14696</td></tr>\n",
       "\t<tr><th scope=row>Night.Mins</th><td>23.14299</td></tr>\n",
       "\t<tr><th scope=row>Intl.Mins</th><td>29.01167</td></tr>\n",
       "\t<tr><th scope=row>CustServ.Calls</th><td>77.13920</td></tr>\n",
       "\t<tr><th scope=row>Intl.Plan</th><td>54.69207</td></tr>\n",
       "\t<tr><th scope=row>VMail.Plan</th><td>15.71715</td></tr>\n",
       "\t<tr><th scope=row>Day.Calls</th><td>20.05788</td></tr>\n",
       "\t<tr><th scope=row>Day.Charge</th><td>92.10550</td></tr>\n",
       "\t<tr><th scope=row>Eve.Calls</th><td>18.41312</td></tr>\n",
       "\t<tr><th scope=row>Eve.Charge</th><td>43.13778</td></tr>\n",
       "\t<tr><th scope=row>Night.Calls</th><td>19.09672</td></tr>\n",
       "\t<tr><th scope=row>Night.Charge</th><td>23.87412</td></tr>\n",
       "\t<tr><th scope=row>Intl.Calls</th><td>34.75108</td></tr>\n",
       "\t<tr><th scope=row>Intl.Charge</th><td>27.96347</td></tr>\n",
       "</tbody>\n",
       "</table>\n"
      ],
      "text/latex": [
       "\\begin{tabular}{r|l}\n",
       "  & MeanDecreaseGini\\\\\n",
       "\\hline\n",
       "\tAccount.Length & 20.20172\\\\\n",
       "\tVMail.Message & 20.10234\\\\\n",
       "\tDay.Mins & 93.59384\\\\\n",
       "\tEve.Mins & 43.14696\\\\\n",
       "\tNight.Mins & 23.14299\\\\\n",
       "\tIntl.Mins & 29.01167\\\\\n",
       "\tCustServ.Calls & 77.13920\\\\\n",
       "\tIntl.Plan & 54.69207\\\\\n",
       "\tVMail.Plan & 15.71715\\\\\n",
       "\tDay.Calls & 20.05788\\\\\n",
       "\tDay.Charge & 92.10550\\\\\n",
       "\tEve.Calls & 18.41312\\\\\n",
       "\tEve.Charge & 43.13778\\\\\n",
       "\tNight.Calls & 19.09672\\\\\n",
       "\tNight.Charge & 23.87412\\\\\n",
       "\tIntl.Calls & 34.75108\\\\\n",
       "\tIntl.Charge & 27.96347\\\\\n",
       "\\end{tabular}\n"
      ],
      "text/markdown": [
       "\n",
       "| <!--/--> | MeanDecreaseGini | \n",
       "|---|---|---|---|---|---|---|---|---|---|---|---|---|---|---|---|---|\n",
       "| Account.Length | 20.20172 | \n",
       "| VMail.Message | 20.10234 | \n",
       "| Day.Mins | 93.59384 | \n",
       "| Eve.Mins | 43.14696 | \n",
       "| Night.Mins | 23.14299 | \n",
       "| Intl.Mins | 29.01167 | \n",
       "| CustServ.Calls | 77.13920 | \n",
       "| Intl.Plan | 54.69207 | \n",
       "| VMail.Plan | 15.71715 | \n",
       "| Day.Calls | 20.05788 | \n",
       "| Day.Charge | 92.10550 | \n",
       "| Eve.Calls | 18.41312 | \n",
       "| Eve.Charge | 43.13778 | \n",
       "| Night.Calls | 19.09672 | \n",
       "| Night.Charge | 23.87412 | \n",
       "| Intl.Calls | 34.75108 | \n",
       "| Intl.Charge | 27.96347 | \n",
       "\n",
       "\n"
      ],
      "text/plain": [
       "               MeanDecreaseGini\n",
       "Account.Length 20.20172        \n",
       "VMail.Message  20.10234        \n",
       "Day.Mins       93.59384        \n",
       "Eve.Mins       43.14696        \n",
       "Night.Mins     23.14299        \n",
       "Intl.Mins      29.01167        \n",
       "CustServ.Calls 77.13920        \n",
       "Intl.Plan      54.69207        \n",
       "VMail.Plan     15.71715        \n",
       "Day.Calls      20.05788        \n",
       "Day.Charge     92.10550        \n",
       "Eve.Calls      18.41312        \n",
       "Eve.Charge     43.13778        \n",
       "Night.Calls    19.09672        \n",
       "Night.Charge   23.87412        \n",
       "Intl.Calls     34.75108        \n",
       "Intl.Charge    27.96347        "
      ]
     },
     "metadata": {},
     "output_type": "display_data"
    },
    {
     "data": {
      "image/png": "[encoded data removed]",
      "text/plain": [
       "Plot with title \"rftrees\""
      ]
     },
     "metadata": {},
     "output_type": "display_data"
    }
   ],
   "source": [
    "names(rftree2)\n",
    "rftree2$ntree\n",
    "importance(rftrees, decreasing = T)\n",
    "varImpPlot(rftrees)"
   ]
  }
 ],
 "metadata": {
  "kernelspec": {
   "display_name": "R",
   "language": "R",
   "name": "ir"
  },
  "language_info": {
   "codemirror_mode": "r",
   "file_extension": ".r",
   "mimetype": "text/x-r-source",
   "name": "R",
   "pygments_lexer": "r",
   "version": "3.4.3"
  }
 },
 "nbformat": 4,
 "nbformat_minor": 2
}
