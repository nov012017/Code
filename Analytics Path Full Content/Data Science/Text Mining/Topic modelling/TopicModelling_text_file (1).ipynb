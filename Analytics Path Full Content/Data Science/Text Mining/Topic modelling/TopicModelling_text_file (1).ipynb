{
 "cells": [
  {
   "cell_type": "markdown",
   "metadata": {},
   "source": [
    "# Topic Modelling in python - data source is a textfile"
   ]
  },
  {
   "cell_type": "code",
   "execution_count": 27,
   "metadata": {},
   "outputs": [],
   "source": [
    "# coding: utf-8 \n",
    "#encoding=utf-8\n",
    "import pandas as pd\n",
    "from textblob import TextBlob\n",
    "from sklearn.feature_extraction.text import TfidfVectorizer\n",
    "import nltk \n",
    "import unicodedata\n",
    "import re\n",
    "from nltk.stem import PorterStemmer\n",
    "from nltk.stem import WordNetLemmatizer\n",
    "from sklearn.decomposition import NMF, LatentDirichletAllocation\n",
    "%matplotlib inline\n",
    "import pyLDAvis\n",
    "import pyLDAvis.sklearn"
   ]
  },
  {
   "cell_type": "markdown",
   "metadata": {},
   "source": [
    "### Set working directory ( only if not using a vitual environment)"
   ]
  },
  {
   "cell_type": "code",
   "execution_count": 33,
   "metadata": {},
   "outputs": [],
   "source": [
    "\n",
    "import os\n",
    "os.chdir('/home/visa/Topic')"
   ]
  },
  {
   "cell_type": "code",
   "execution_count": 3,
   "metadata": {},
   "outputs": [],
   "source": [
    "df = pd.DataFrame()\n",
    "f = open(\"polarity_pos.txt\", \"r+\", encoding=\"latin1\")\n",
    "txt = f.readlines()\n"
   ]
  },
  {
   "cell_type": "code",
   "execution_count": 4,
   "metadata": {},
   "outputs": [],
   "source": [
    "imd = pd.DataFrame(txt, columns=[\"comments\"])\n",
    "imd[\"row\"] = imd.index"
   ]
  },
  {
   "cell_type": "code",
   "execution_count": 5,
   "metadata": {},
   "outputs": [
    {
     "data": {
      "text/html": [
       "<div>\n",
       "<style scoped>\n",
       "    .dataframe tbody tr th:only-of-type {\n",
       "        vertical-align: middle;\n",
       "    }\n",
       "\n",
       "    .dataframe tbody tr th {\n",
       "        vertical-align: top;\n",
       "    }\n",
       "\n",
       "    .dataframe thead th {\n",
       "        text-align: right;\n",
       "    }\n",
       "</style>\n",
       "<table border=\"1\" class=\"dataframe\">\n",
       "  <thead>\n",
       "    <tr style=\"text-align: right;\">\n",
       "      <th></th>\n",
       "      <th>comments</th>\n",
       "      <th>row</th>\n",
       "    </tr>\n",
       "  </thead>\n",
       "  <tbody>\n",
       "    <tr>\n",
       "      <th>0</th>\n",
       "      <td>the rock is destined to be the 21st century's ...</td>\n",
       "      <td>0</td>\n",
       "    </tr>\n",
       "    <tr>\n",
       "      <th>1</th>\n",
       "      <td>the gorgeously elaborate continuation of \" the...</td>\n",
       "      <td>1</td>\n",
       "    </tr>\n",
       "    <tr>\n",
       "      <th>2</th>\n",
       "      <td>effective but too-tepid biopic\\n</td>\n",
       "      <td>2</td>\n",
       "    </tr>\n",
       "    <tr>\n",
       "      <th>3</th>\n",
       "      <td>if you sometimes like to go to the movies to h...</td>\n",
       "      <td>3</td>\n",
       "    </tr>\n",
       "    <tr>\n",
       "      <th>4</th>\n",
       "      <td>emerges as something rare , an issue movie tha...</td>\n",
       "      <td>4</td>\n",
       "    </tr>\n",
       "  </tbody>\n",
       "</table>\n",
       "</div>"
      ],
      "text/plain": [
       "                                            comments  row\n",
       "0  the rock is destined to be the 21st century's ...    0\n",
       "1  the gorgeously elaborate continuation of \" the...    1\n",
       "2                   effective but too-tepid biopic\\n    2\n",
       "3  if you sometimes like to go to the movies to h...    3\n",
       "4  emerges as something rare , an issue movie tha...    4"
      ]
     },
     "execution_count": 5,
     "metadata": {},
     "output_type": "execute_result"
    }
   ],
   "source": [
    "imd.head()"
   ]
  },
  {
   "cell_type": "code",
   "execution_count": 6,
   "metadata": {},
   "outputs": [],
   "source": [
    "stop_words = nltk.corpus.stopwords.words('english')\n",
    "extended_stopwords = ['\\'ll','\\'d','\\'m','\\'re','\\'s','\\'ve','ca n\\'t','r','n\\'t','ca','see','get','movies','movie','go','say','come','many','another','could','would','made','really','want','even','odd','films','plot','ever','actually','also','movie','film']\n",
    "stops = stop_words + extended_stopwords"
   ]
  },
  {
   "cell_type": "markdown",
   "metadata": {},
   "source": [
    "#### Check with stemming and lemmatization to clean the data"
   ]
  },
  {
   "cell_type": "code",
   "execution_count": 35,
   "metadata": {},
   "outputs": [
    {
     "name": "stdout",
     "output_type": "stream",
     "text": [
      "['this', 'is', 'a', 'test', 'for', 'stemmer', 'and', 'stemming']\n"
     ]
    }
   ],
   "source": [
    "text = \" this is a test for stemmer and stemming \"\n",
    "\n",
    "from nltk.tokenize import word_tokenize\n",
    "tokens = [word.lower() for sent in nltk.sent_tokenize(text) for word in nltk.word_tokenize(sent)]\n",
    "stm = PorterStemmer()\n",
    "lemm = WordNetLemmatizer()\n",
    "\n",
    "#tokens = [stm.stem(w) for w in tokens]\n",
    "tokens = [lemm.lemmatize(w) for w in tokens]\n",
    "#tokens = lemm.lemmatize(tokens)\n",
    "print(tokens)"
   ]
  },
  {
   "cell_type": "markdown",
   "metadata": {},
   "source": [
    "#### Define function to tokenize and lemmatize the data"
   ]
  },
  {
   "cell_type": "code",
   "execution_count": 36,
   "metadata": {},
   "outputs": [],
   "source": [
    "def tokenize(text):\n",
    "    # first tokenize by sentence, then by word to ensure that punctuation is caught as it's own token\n",
    "    tokens = [word.lower() for sent in nltk.sent_tokenize(text) for word in nltk.word_tokenize(sent)]\n",
    "    stm = PorterStemmer()\n",
    "    lemm = WordNetLemmatizer()\n",
    "    #tokens = [stm.stem(w) for w in tokens]\n",
    "    tokens = [lemm.lemmatize(w) for w in tokens]\n",
    "    filtered_tokens = []\n",
    "    # filter out any tokens not containing letters (e.g., numeric tokens, raw punctuation)\n",
    "    for token in tokens:\n",
    "        if re.search('[a-zA-Z]', token):\n",
    "            filtered_tokens.append(token)\n",
    "    #import pdb;pdb.set_trace()\n",
    "    return filtered_tokens"
   ]
  },
  {
   "cell_type": "markdown",
   "metadata": {},
   "source": [
    "##### Texblob sentiment analysis"
   ]
  },
  {
   "cell_type": "code",
   "execution_count": 39,
   "metadata": {},
   "outputs": [
    {
     "data": {
      "text/plain": [
       "0.7749999999999999"
      ]
     },
     "execution_count": 39,
     "metadata": {},
     "output_type": "execute_result"
    }
   ],
   "source": [
    "comm = \" This is a beautiful phone, good performance\" \n",
    "\n",
    "comm_blob = TextBlob(comm)\n",
    "\n",
    "comm_blob.sentiment.polarity\n"
   ]
  },
  {
   "cell_type": "markdown",
   "metadata": {},
   "source": [
    "#### Setiment Analysis with textblob "
   ]
  },
  {
   "cell_type": "code",
   "execution_count": 40,
   "metadata": {},
   "outputs": [],
   "source": [
    "imd['polarity'] = imd.comments.apply(lambda s: TextBlob(s).sentiment.polarity)"
   ]
  },
  {
   "cell_type": "code",
   "execution_count": 42,
   "metadata": {},
   "outputs": [
    {
     "data": {
      "text/html": [
       "<div>\n",
       "<style scoped>\n",
       "    .dataframe tbody tr th:only-of-type {\n",
       "        vertical-align: middle;\n",
       "    }\n",
       "\n",
       "    .dataframe tbody tr th {\n",
       "        vertical-align: top;\n",
       "    }\n",
       "\n",
       "    .dataframe thead th {\n",
       "        text-align: right;\n",
       "    }\n",
       "</style>\n",
       "<table border=\"1\" class=\"dataframe\">\n",
       "  <thead>\n",
       "    <tr style=\"text-align: right;\">\n",
       "      <th></th>\n",
       "      <th>comments</th>\n",
       "      <th>row</th>\n",
       "      <th>polarity</th>\n",
       "    </tr>\n",
       "  </thead>\n",
       "  <tbody>\n",
       "    <tr>\n",
       "      <th>10657</th>\n",
       "      <td>a terrible movie that some people will neverth...</td>\n",
       "      <td>10657</td>\n",
       "      <td>-1.000000</td>\n",
       "    </tr>\n",
       "    <tr>\n",
       "      <th>10658</th>\n",
       "      <td>there are many definitions of 'time waster' bu...</td>\n",
       "      <td>10658</td>\n",
       "      <td>0.500000</td>\n",
       "    </tr>\n",
       "    <tr>\n",
       "      <th>10659</th>\n",
       "      <td>as it stands , crocodile hunter has the hurrie...</td>\n",
       "      <td>10659</td>\n",
       "      <td>-0.350000</td>\n",
       "    </tr>\n",
       "    <tr>\n",
       "      <th>10660</th>\n",
       "      <td>the thing looks like a made-for-home-video qui...</td>\n",
       "      <td>10660</td>\n",
       "      <td>0.000000</td>\n",
       "    </tr>\n",
       "    <tr>\n",
       "      <th>10661</th>\n",
       "      <td>enigma is well-made , but it's just too dry an...</td>\n",
       "      <td>10661</td>\n",
       "      <td>-0.183333</td>\n",
       "    </tr>\n",
       "  </tbody>\n",
       "</table>\n",
       "</div>"
      ],
      "text/plain": [
       "                                                comments    row  polarity\n",
       "10657  a terrible movie that some people will neverth...  10657 -1.000000\n",
       "10658  there are many definitions of 'time waster' bu...  10658  0.500000\n",
       "10659  as it stands , crocodile hunter has the hurrie...  10659 -0.350000\n",
       "10660  the thing looks like a made-for-home-video qui...  10660  0.000000\n",
       "10661  enigma is well-made , but it's just too dry an...  10661 -0.183333"
      ]
     },
     "execution_count": 42,
     "metadata": {},
     "output_type": "execute_result"
    }
   ],
   "source": [
    "#imd.head()\n",
    "imd.tail()"
   ]
  },
  {
   "cell_type": "markdown",
   "metadata": {},
   "source": [
    "#### Document term matrix with TF-IDF values "
   ]
  },
  {
   "cell_type": "code",
   "execution_count": 43,
   "metadata": {},
   "outputs": [
    {
     "name": "stdout",
     "output_type": "stream",
     "text": [
      "CPU times: user 4.06 s, sys: 3.55 ms, total: 4.06 s\n",
      "Wall time: 4.07 s\n"
     ]
    },
    {
     "data": {
      "text/plain": [
       "(10662, 268)"
      ]
     },
     "execution_count": 43,
     "metadata": {},
     "output_type": "execute_result"
    }
   ],
   "source": [
    "term_idf_vectorizer       = TfidfVectorizer(max_df=0.99, max_features=2000,min_df=0.005, stop_words=stops, use_idf=True, tokenizer=tokenize, ngram_range=(1,1))\n",
    "%time term_idf_matrix     = term_idf_vectorizer.fit_transform(imd.comments) \n",
    "term_idf_feature_names    = term_idf_vectorizer.get_feature_names()\n",
    "term_idf_matrix.shape\n"
   ]
  },
  {
   "cell_type": "code",
   "execution_count": 44,
   "metadata": {},
   "outputs": [
    {
     "data": {
      "text/plain": [
       "['acting',\n",
       " 'action',\n",
       " 'actor',\n",
       " 'almost',\n",
       " 'although',\n",
       " 'always',\n",
       " 'american',\n",
       " 'amusing',\n",
       " 'anyone',\n",
       " 'anything',\n",
       " 'around',\n",
       " 'art',\n",
       " 'attempt',\n",
       " 'audience',\n",
       " 'away',\n",
       " 'back',\n",
       " 'bad',\n",
       " 'beautiful',\n",
       " 'beautifully',\n",
       " 'becomes',\n",
       " 'best',\n",
       " 'better',\n",
       " 'big',\n",
       " 'bit',\n",
       " 'book',\n",
       " 'boring',\n",
       " 'boy',\n",
       " 'care',\n",
       " 'cast',\n",
       " 'certainly',\n",
       " 'character',\n",
       " 'charm',\n",
       " 'charming',\n",
       " 'child',\n",
       " 'cinema',\n",
       " 'cinematic',\n",
       " 'classic',\n",
       " 'clever',\n",
       " 'comedy',\n",
       " 'comic',\n",
       " 'compelling',\n",
       " 'culture',\n",
       " 'dark',\n",
       " 'day',\n",
       " 'de',\n",
       " 'debut',\n",
       " 'despite',\n",
       " 'dialogue',\n",
       " 'direction',\n",
       " 'director',\n",
       " 'documentary',\n",
       " 'doe',\n",
       " 'done',\n",
       " 'drama',\n",
       " 'dull',\n",
       " 'easy',\n",
       " 'effect',\n",
       " 'effort',\n",
       " 'else',\n",
       " 'emotional',\n",
       " 'end',\n",
       " 'ending',\n",
       " 'engaging',\n",
       " 'enjoy',\n",
       " 'enjoyable',\n",
       " 'enough',\n",
       " 'entertaining',\n",
       " 'entertainment',\n",
       " 'especially',\n",
       " 'every',\n",
       " 'everything',\n",
       " 'exercise',\n",
       " 'experience',\n",
       " 'eye',\n",
       " 'face',\n",
       " 'fall',\n",
       " 'familiar',\n",
       " 'family',\n",
       " 'fan',\n",
       " 'far',\n",
       " 'fascinating',\n",
       " 'feature',\n",
       " 'feel',\n",
       " 'feeling',\n",
       " 'filmmaker',\n",
       " 'find',\n",
       " 'first',\n",
       " 'flick',\n",
       " 'full',\n",
       " 'fun',\n",
       " 'funny',\n",
       " 'genre',\n",
       " 'girl',\n",
       " 'give',\n",
       " 'going',\n",
       " 'good',\n",
       " 'great',\n",
       " 'guy',\n",
       " 'ha',\n",
       " 'half',\n",
       " 'hard',\n",
       " 'heart',\n",
       " 'high',\n",
       " 'history',\n",
       " 'hollywood',\n",
       " 'home',\n",
       " 'horror',\n",
       " 'hour',\n",
       " 'human',\n",
       " 'humor',\n",
       " 'idea',\n",
       " 'instead',\n",
       " 'intelligent',\n",
       " 'interest',\n",
       " 'interesting',\n",
       " 'john',\n",
       " 'joke',\n",
       " 'keep',\n",
       " 'kid',\n",
       " 'kind',\n",
       " 'know',\n",
       " 'lack',\n",
       " 'last',\n",
       " 'laugh',\n",
       " 'le',\n",
       " 'lead',\n",
       " 'least',\n",
       " 'level',\n",
       " 'life',\n",
       " 'like',\n",
       " 'likely',\n",
       " 'line',\n",
       " 'little',\n",
       " 'long',\n",
       " 'look',\n",
       " 'lot',\n",
       " 'love',\n",
       " 'make',\n",
       " 'making',\n",
       " 'man',\n",
       " 'manages',\n",
       " 'material',\n",
       " 'matter',\n",
       " 'may',\n",
       " 'men',\n",
       " 'message',\n",
       " 'might',\n",
       " 'mind',\n",
       " 'minute',\n",
       " 'moment',\n",
       " 'mostly',\n",
       " 'moving',\n",
       " 'mr',\n",
       " 'much',\n",
       " 'music',\n",
       " 'narrative',\n",
       " 'nearly',\n",
       " 'need',\n",
       " 'never',\n",
       " 'new',\n",
       " 'nothing',\n",
       " 'offer',\n",
       " 'often',\n",
       " 'old',\n",
       " 'one',\n",
       " 'original',\n",
       " 'part',\n",
       " 'people',\n",
       " 'performance',\n",
       " 'picture',\n",
       " 'piece',\n",
       " 'place',\n",
       " 'play',\n",
       " 'pleasure',\n",
       " 'point',\n",
       " 'portrait',\n",
       " 'power',\n",
       " 'predictable',\n",
       " 'premise',\n",
       " 'pretty',\n",
       " 'probably',\n",
       " 'problem',\n",
       " 'put',\n",
       " 'quite',\n",
       " 'rather',\n",
       " 'real',\n",
       " 'reason',\n",
       " 'right',\n",
       " 'role',\n",
       " 'romance',\n",
       " 'romantic',\n",
       " 'scene',\n",
       " 'screen',\n",
       " 'screenplay',\n",
       " 'script',\n",
       " 'seem',\n",
       " 'seems',\n",
       " 'seen',\n",
       " 'sense',\n",
       " 'series',\n",
       " 'set',\n",
       " 'short',\n",
       " 'shot',\n",
       " 'show',\n",
       " 'silly',\n",
       " 'simply',\n",
       " 'since',\n",
       " 'smart',\n",
       " 'solid',\n",
       " 'something',\n",
       " 'sometimes',\n",
       " 'sort',\n",
       " 'special',\n",
       " 'star',\n",
       " 'start',\n",
       " 'still',\n",
       " 'story',\n",
       " 'strong',\n",
       " 'study',\n",
       " 'style',\n",
       " 'subject',\n",
       " 'surprise',\n",
       " 'surprisingly',\n",
       " 'sweet',\n",
       " 'take',\n",
       " 'tale',\n",
       " 'talent',\n",
       " 'tell',\n",
       " 'theater',\n",
       " 'thing',\n",
       " 'think',\n",
       " 'though',\n",
       " 'three',\n",
       " 'thriller',\n",
       " 'time',\n",
       " 'title',\n",
       " 'together',\n",
       " 'tone',\n",
       " 'true',\n",
       " 'try',\n",
       " 'trying',\n",
       " 'turn',\n",
       " 'two',\n",
       " 'u',\n",
       " 'ultimately',\n",
       " 'version',\n",
       " 'video',\n",
       " 'viewer',\n",
       " 'visual',\n",
       " 'wa',\n",
       " 'war',\n",
       " 'watch',\n",
       " 'watching',\n",
       " 'way',\n",
       " 'well',\n",
       " 'whole',\n",
       " 'whose',\n",
       " 'wit',\n",
       " 'without',\n",
       " 'wo',\n",
       " 'woman',\n",
       " 'work',\n",
       " 'world',\n",
       " 'worst',\n",
       " 'worth',\n",
       " 'year',\n",
       " 'yet',\n",
       " 'young']"
      ]
     },
     "execution_count": 44,
     "metadata": {},
     "output_type": "execute_result"
    }
   ],
   "source": [
    "term_idf_feature_names"
   ]
  },
  {
   "cell_type": "code",
   "execution_count": 18,
   "metadata": {},
   "outputs": [],
   "source": [
    "def print_top_words(model, feature_names, n_top_words):\n",
    "    for topic_idx, topic in enumerate(model.components_):\n",
    "        print(\"Topic #%d:\" % topic_idx)\n",
    "        print(\" \".join([feature_names[i]\n",
    "                        for i in topic.argsort()[:-n_top_words - 1:-1]]))\n",
    "    print()"
   ]
  },
  {
   "cell_type": "markdown",
   "metadata": {},
   "source": [
    "#### Topic Modelling using LDA "
   ]
  },
  {
   "cell_type": "code",
   "execution_count": 45,
   "metadata": {},
   "outputs": [
    {
     "name": "stderr",
     "output_type": "stream",
     "text": [
      "/home/visa/.local/lib/python3.5/site-packages/sklearn/decomposition/online_lda.py:294: DeprecationWarning: n_topics has been renamed to n_components in version 0.19 and will be removed in 0.21\n",
      "  DeprecationWarning)\n"
     ]
    },
    {
     "name": "stdout",
     "output_type": "stream",
     "text": [
      "CPU times: user 7.33 s, sys: 0 ns, total: 7.33 s\n",
      "Wall time: 7.33 s\n",
      "\n",
      "Topics using Latent Dirichlet Allocation model with Term frequencies: \n",
      "\n",
      "Topic #0:\n",
      "ha comedy work doe much audience way thing thriller le\n",
      "Topic #1:\n",
      "good feel never bad time director something better every like\n",
      "Topic #2:\n",
      "one performance funny u best well sense make often yet\n",
      "Topic #3:\n",
      "little life character drama take like story script big give\n",
      "Topic #4:\n",
      "wa love nothing action enough fun kind moment de first\n",
      "\n"
     ]
    }
   ],
   "source": [
    "lda = LatentDirichletAllocation(n_topics=5, max_iter=10,learning_method='online',learning_offset=10.,random_state=1)\n",
    "%time lda.fit(term_idf_matrix)\n",
    "print(\"\\nTopics using Latent Dirichlet Allocation model with Term frequencies: \\n\")\n",
    "print_top_words(lda, term_idf_feature_names, 10)"
   ]
  },
  {
   "cell_type": "markdown",
   "metadata": {
    "collapsed": true
   },
   "source": [
    "#### Avoid noise in unigrams, TFIDF matrix on bigrams and trigrams"
   ]
  },
  {
   "cell_type": "code",
   "execution_count": 46,
   "metadata": {},
   "outputs": [
    {
     "name": "stdout",
     "output_type": "stream",
     "text": [
      "CPU times: user 4.77 s, sys: 43.7 ms, total: 4.82 s\n",
      "Wall time: 4.82 s\n"
     ]
    },
    {
     "data": {
      "text/plain": [
       "(10662, 395)"
      ]
     },
     "execution_count": 46,
     "metadata": {},
     "output_type": "execute_result"
    }
   ],
   "source": [
    "term_idf_vectorizer       = TfidfVectorizer(max_df=0.99, max_features=2000,min_df=0.0005, stop_words=stops, use_idf=True, tokenizer=tokenize, ngram_range=(2,3))\n",
    "%time term_idf_matrix     = term_idf_vectorizer.fit_transform(imd.comments) \n",
    "term_idf_feature_names    = term_idf_vectorizer.get_feature_names()\n",
    "term_idf_matrix.shape"
   ]
  },
  {
   "cell_type": "markdown",
   "metadata": {},
   "source": [
    "#### Topic Modelling using LDA ( with bigrams and trigams)"
   ]
  },
  {
   "cell_type": "code",
   "execution_count": 53,
   "metadata": {},
   "outputs": [
    {
     "name": "stderr",
     "output_type": "stream",
     "text": [
      "/home/visa/.local/lib/python3.5/site-packages/sklearn/decomposition/online_lda.py:294: DeprecationWarning: n_topics has been renamed to n_components in version 0.19 and will be removed in 0.21\n",
      "  DeprecationWarning)\n"
     ]
    },
    {
     "name": "stdout",
     "output_type": "stream",
     "text": [
      "CPU times: user 5.42 s, sys: 3.89 ms, total: 5.43 s\n",
      "Wall time: 5.42 s\n",
      "\n",
      "Topics using Latent Dirichlet Allocation model with Term frequencies: \n",
      "\n",
      "Topic #0:\n",
      "soap opera running time character study one thing sense humor young woman good intention enough make much better ha done\n",
      "Topic #1:\n",
      "love story worth seeing blue crush long time stealing harvard doe make woody allen motion picture every bit home video\n",
      "Topic #2:\n",
      "romantic comedy play like look like two hour new york make u high school whole lot try hard waste time\n",
      "Topic #3:\n",
      "big screen action sequence give u whole thing may find reign fire guilty pleasure doe much seem like human nature\n",
      "Topic #4:\n",
      "feel like special effect subject matter never quite good time de niro one best year ago high crime pretty much\n",
      "\n"
     ]
    }
   ],
   "source": [
    "lda = LatentDirichletAllocation(n_topics=5, max_iter=10,learning_method='online',learning_offset=10.,random_state=1)\n",
    "%time lda.fit(term_idf_matrix)\n",
    "print(\"\\nTopics using Latent Dirichlet Allocation model with Term frequencies: \\n\")\n",
    "print_top_words(lda, term_idf_feature_names, 10)"
   ]
  },
  {
   "cell_type": "code",
   "execution_count": 49,
   "metadata": {},
   "outputs": [],
   "source": [
    "pyLDAvis.enable_notebook()"
   ]
  },
  {
   "cell_type": "code",
   "execution_count": 54,
   "metadata": {
    "scrolled": true
   },
   "outputs": [
    {
     "name": "stderr",
     "output_type": "stream",
     "text": [
      "/home/visa/.local/lib/python3.5/site-packages/pyLDAvis/_prepare.py:387: DeprecationWarning: \n",
      ".ix is deprecated. Please use\n",
      ".loc for label based indexing or\n",
      ".iloc for positional indexing\n",
      "\n",
      "See the documentation here:\n",
      "http://pandas.pydata.org/pandas-docs/stable/indexing.html#ix-indexer-is-deprecated\n",
      "  topic_term_dists = topic_term_dists.ix[topic_order]\n"
     ]
    },
    {
     "data": {
      "text/html": [
       "\n",
       "<link rel=\"stylesheet\" type=\"text/css\" href=\"https://cdn.rawgit.com/bmabey/pyLDAvis/files/ldavis.v1.0.0.css\">\n",
       "\n",
       "\n",
       "<div id=\"ldavis_el46461404915530906807286436347\"></div>\n",
       "<script type=\"text/javascript\">\n",
       "\n",
       "var ldavis_el46461404915530906807286436347_data = {\"mdsDat\": {\"cluster\": [1, 1, 1, 1, 1], \"Freq\": [20.82418883378955, 20.66310583338321, 20.09387413894791, 19.675636478219598, 18.743194715659744], \"x\": [0.31359666231783123, -0.23156142742501362, -0.03857703593238723, -0.0254998659065605, -0.017958333053870266], \"y\": [0.1462872548693383, 0.2523016061307076, -0.22284598451448, -0.10546112393150359, -0.07028175255406227], \"topics\": [1, 2, 3, 4, 5]}, \"lambda.step\": 0.01, \"plot.opts\": {\"ylab\": \"PC2\", \"xlab\": \"PC1\"}, \"token.table\": {\"Freq\": [0.9244275573147207, 0.9533439958573552, 0.9226100882455436, 0.906000720600729, 0.9443371559434008, 0.9597967051517807, 0.8803310192938854, 0.9238600989476057, 0.9399189092140023, 0.9613646381337357, 0.9432883981095179, 0.9747687997721591, 0.8725875513508573, 0.916629612538846, 0.943678782344984, 0.9435232406794218, 0.9750176610272537, 0.9423135868457205, 0.9694194043908001, 0.927126382489939, 0.9224463917665723, 0.8588451247291418, 0.9598979777620671, 0.8960448756180115, 0.8863385107084203, 0.9580949027814745, 0.9285272951193391, 0.884827332457712, 0.9691340060152724, 0.9389775728811539, 0.9621918213947889, 0.9015619827180958, 0.9174146868575411, 0.9791961663876342, 0.911815939920449, 0.9066905215335795, 0.9650617066180847, 0.9142875669035064, 0.8705089671106347, 0.86245986471423, 0.8870877751014915, 0.9908121009023236, 0.9293254367448323, 0.8597748677935265, 0.8685608637445679, 0.9503474846094382, 0.8746672086171987, 0.9682787521899923, 0.8657451262595515, 0.9340501088976574, 0.9272479895210785, 0.9330315724494411, 0.9094373771133778, 0.868970279948994, 0.8702588565095238, 0.9564989183694835, 0.9682148702773601, 0.9175223569646392, 0.9703702521838252, 0.9247120799521049, 0.917226637118957, 0.9116723449464009, 0.9095643815776842, 0.954174640047069, 0.8341806079802329, 0.910696105529302, 0.8723164645304494, 0.9207434835433682, 0.8598889010442051, 0.8803083735268422, 0.9486395150970143, 0.871474898210315, 0.9626986812857199, 0.9646044380816309, 0.9789700089062849, 0.9668579100946478, 0.9665241894753864, 0.9453882186884822, 0.9538858953517884, 0.9637272066195709, 0.9371056782286517, 0.951646228623403, 0.9419259935846449, 0.9220502808376849, 0.8520895441376333, 0.9037891542495177, 0.9372711680968735, 0.9114203389614324, 0.8924973831408892, 0.8983743335433887, 0.9042522845263844, 0.9201159579667552, 0.9439637718971056, 0.9393736275784691, 0.9740277514653053, 0.9396178420290403, 0.9659663811283367, 0.9080099668817729, 0.8521960759879225, 0.9547887766186215, 0.8821021014384873, 0.9400375483597783, 0.907207339256438, 0.9817454602239192, 0.9531446788428762, 0.9160547458225498, 0.9222109678911128, 0.9145728320198171, 0.895694716484448, 0.9079121787591247, 0.9804972204763244, 0.9714430856962321, 0.9846938794737204, 0.9602214973521824, 0.9164590576470009, 0.9774810426325901, 0.9439359336011416, 0.924820741217517, 0.8720193551430833, 0.9671208442430558, 0.8906031204130623, 0.952131828765359, 0.9697148976035239, 0.9499077677603067, 0.9526907017279167, 0.893854508142697, 0.970843051628138, 0.9498497476238126, 0.9675952354204895, 0.8618185982651229, 0.9728405353061274, 0.9329656995962624, 0.9302935481329702, 0.8832002922838608, 0.8820046739266816, 0.9361068328399481, 0.9694558748934176, 0.8526747252189896, 0.9260329582006115, 0.9439513369056898, 0.9513042903638125, 0.8979515744414623, 0.9318776142746346, 0.9827906506014753, 0.9433980768127767, 0.9712698563241492, 0.9322986902101268, 0.9398708428934042, 0.9601540989426973, 0.9410760893826577], \"Topic\": [2, 4, 1, 5, 4, 3, 4, 4, 5, 4, 5, 1, 4, 5, 5, 2, 3, 3, 1, 1, 4, 3, 2, 5, 4, 2, 5, 5, 5, 4, 1, 1, 3, 3, 3, 5, 5, 1, 3, 3, 2, 2, 5, 5, 2, 4, 3, 4, 3, 3, 5, 2, 4, 2, 2, 3, 4, 4, 3, 1, 4, 5, 2, 1, 2, 5, 4, 4, 4, 1, 4, 2, 2, 5, 1, 5, 4, 4, 3, 1, 5, 4, 2, 5, 2, 5, 3, 5, 2, 1, 1, 2, 2, 1, 1, 2, 2, 3, 3, 3, 4, 4, 1, 1, 1, 2, 2, 5, 1, 5, 4, 3, 1, 3, 2, 4, 4, 3, 3, 3, 1, 2, 1, 3, 5, 3, 2, 3, 5, 5, 3, 2, 2, 2, 1, 1, 1, 1, 1, 3, 1, 5, 1, 4, 4, 5, 4, 5, 2, 3], \"Term\": [\"action flick\", \"action sequence\", \"adam sandler\", \"almost every\", \"anyone else\", \"austin power\", \"best work\", \"best year\", \"big fat\", \"big screen\", \"birthday girl\", \"black comedy\", \"blade ii\", \"blair witch\", \"blue crush\", \"cautionary tale\", \"character development\", \"character study\", \"cletis tout\", \"collateral damage\", \"country bear\", \"crime drama\", \"de niro\", \"de palma\", \"deuce wild\", \"directorial debut\", \"doe give\", \"doe know\", \"doe make\", \"doe much\", \"doe quite\", \"doe work\", \"eddie murphy\", \"enough make\", \"ensemble cast\", \"every bit\", \"everything else\", \"fall short\", \"far le\", \"fatal attraction\", \"feature debut\", \"feel like\", \"find way\", \"first time\", \"full frontal\", \"full monty\", \"fun watch\", \"give u\", \"good actor\", \"good intention\", \"good job\", \"good time\", \"guilty pleasure\", \"ha become\", \"ha created\", \"ha done\", \"ha enough\", \"ha little\", \"ha lost\", \"ha moment\", \"ha much\", \"ha something\", \"high crime\", \"high school\", \"hollywood ending\", \"home video\", \"hong kong\", \"human nature\", \"james bond\", \"kung pow\", \"le like\", \"lead performance\", \"like one\", \"long time\", \"look like\", \"love story\", \"love triangle\", \"main character\", \"make one\", \"make u\", \"master disguise\", \"may find\", \"may well\", \"men black\", \"mildly amusing\", \"motion picture\", \"much better\", \"much fun\", \"much like\", \"much time\", \"murder number\", \"nearly every\", \"never quite\", \"never rise\", \"new york\", \"nothing else\", \"one best\", \"one long\", \"one man\", \"one thing\", \"one worst\", \"one year\", \"piece work\", \"play like\", \"point view\", \"pretty much\", \"psychological thriller\", \"put together\", \"queen damned\", \"recent memory\", \"reign fire\", \"robin williams\", \"romantic comedy\", \"running time\", \"second half\", \"seem like\", \"seems like\", \"sense humor\", \"serving sara\", \"soap opera\", \"something like\", \"special effect\", \"spy kid\", \"start finish\", \"stealing harvard\", \"still feel\", \"subject matter\", \"sum fear\", \"take place\", \"take u\", \"target audience\", \"tell story\", \"three hour\", \"title character\", \"true story\", \"try hard\", \"two hour\", \"van wilder\", \"video game\", \"visual style\", \"waste time\", \"well worth\", \"whole lot\", \"whole thing\", \"without much\", \"woody allen\", \"world traveler\", \"worth seeing\", \"year ago\", \"young woman\"]}, \"topic.order\": [3, 5, 1, 4, 2], \"tinfo\": {\"Term\": [\"feel like\", \"romantic comedy\", \"play like\", \"soap opera\", \"love story\", \"look like\", \"special effect\", \"subject matter\", \"running time\", \"big screen\", \"two hour\", \"new york\", \"never quite\", \"worth seeing\", \"good time\", \"de niro\", \"action sequence\", \"character study\", \"give u\", \"blue crush\", \"long time\", \"one best\", \"one thing\", \"make u\", \"sense humor\", \"young woman\", \"whole thing\", \"stealing harvard\", \"doe make\", \"good intention\", \"romantic comedy\", \"play like\", \"look like\", \"two hour\", \"new york\", \"make u\", \"high school\", \"whole lot\", \"try hard\", \"waste time\", \"doe work\", \"piece work\", \"fall short\", \"adam sandler\", \"collateral damage\", \"point view\", \"doe quite\", \"black comedy\", \"much time\", \"murder number\", \"ha moment\", \"video game\", \"never rise\", \"cletis tout\", \"spy kid\", \"van wilder\", \"true story\", \"kung pow\", \"something like\", \"queen damned\", \"feel like\", \"special effect\", \"subject matter\", \"never quite\", \"good time\", \"de niro\", \"one best\", \"year ago\", \"high crime\", \"pretty much\", \"psychological thriller\", \"tell story\", \"title character\", \"much like\", \"action flick\", \"cautionary tale\", \"full frontal\", \"lead performance\", \"nothing else\", \"may well\", \"directorial debut\", \"mildly amusing\", \"ha become\", \"ha created\", \"feature debut\", \"second half\", \"nearly every\", \"three hour\", \"like one\", \"hollywood ending\", \"soap opera\", \"running time\", \"character study\", \"one thing\", \"sense humor\", \"young woman\", \"good intention\", \"enough make\", \"much better\", \"ha done\", \"austin power\", \"sum fear\", \"start finish\", \"character development\", \"far le\", \"one long\", \"ensemble cast\", \"eddie murphy\", \"visual style\", \"make one\", \"ha lost\", \"robin williams\", \"target audience\", \"one man\", \"crime drama\", \"fatal attraction\", \"good actor\", \"serving sara\", \"fun watch\", \"still feel\", \"big screen\", \"action sequence\", \"give u\", \"whole thing\", \"may find\", \"reign fire\", \"guilty pleasure\", \"doe much\", \"seem like\", \"human nature\", \"country bear\", \"full monty\", \"best work\", \"ha little\", \"ha much\", \"best year\", \"one year\", \"without much\", \"main character\", \"le like\", \"love triangle\", \"ha enough\", \"james bond\", \"hong kong\", \"blade ii\", \"one worst\", \"deuce wild\", \"world traveler\", \"anyone else\", \"seems like\", \"love story\", \"worth seeing\", \"blue crush\", \"long time\", \"stealing harvard\", \"doe make\", \"woody allen\", \"motion picture\", \"every bit\", \"home video\", \"much fun\", \"doe know\", \"de palma\", \"blair witch\", \"doe give\", \"master disguise\", \"big fat\", \"everything else\", \"almost every\", \"recent memory\", \"ha something\", \"men black\", \"birthday girl\", \"take place\", \"take u\", \"first time\", \"well worth\", \"put together\", \"good job\", \"find way\"], \"logprob\": [30.0, 29.0, 28.0, 27.0, 26.0, 25.0, 24.0, 23.0, 22.0, 21.0, 20.0, 19.0, 18.0, 17.0, 16.0, 15.0, 14.0, 13.0, 12.0, 11.0, 10.0, 9.0, 8.0, 7.0, 6.0, 5.0, 4.0, 3.0, 2.0, 1.0, -2.5775, -2.9975, -3.239, -3.5528, -3.6139, -3.8657, -4.0181, -4.1873, -4.1921, -4.2095, -4.265, -4.2717, -4.2802, -4.2901, -4.2952, -4.3251, -4.3353, -4.3494, -4.3887, -4.3958, -4.4202, -4.4218, -4.4374, -4.4718, -4.4722, -4.4775, -4.5146, -4.5127, -4.5255, -4.5317, -2.3745, -3.2847, -3.3047, -3.6327, -3.6838, -3.7135, -3.7877, -4.0166, -4.0514, -4.1608, -4.1679, -4.1802, -4.2346, -4.2459, -4.2839, -4.3058, -4.3438, -4.3473, -4.4294, -4.4321, -4.4508, -4.4684, -4.49, -4.4916, -4.5126, -4.5485, -4.5532, -4.5655, -4.6035, -4.6154, -3.1144, -3.3551, -3.7335, -3.8197, -3.8642, -3.8825, -3.9592, -4.0094, -4.0553, -4.0769, -4.1826, -4.2848, -4.285, -4.3133, -4.3179, -4.3641, -4.3684, -4.3752, -4.4061, -4.4176, -4.4363, -4.4376, -4.4391, -4.4405, -4.4489, -4.4537, -4.4576, -4.4658, -4.4689, -4.493, -3.3832, -3.7245, -3.7408, -3.9071, -3.9577, -3.9893, -4.1035, -4.1377, -4.1809, -4.2299, -4.2319, -4.2641, -4.3087, -4.3538, -4.3535, -4.3613, -4.3803, -4.3841, -4.3865, -4.3901, -4.4105, -4.4125, -4.4288, -4.4446, -4.4449, -4.4571, -4.462, -4.5177, -4.5318, -4.5317, -3.1602, -3.6601, -3.7366, -3.7597, -3.9092, -3.9274, -4.0222, -4.047, -4.0504, -4.055, -4.056, -4.137, -4.1505, -4.175, -4.1891, -4.1989, -4.202, -4.2306, -4.2897, -4.2921, -4.2965, -4.3088, -4.3336, -4.3614, -4.3807, -4.3786, -4.4259, -4.4459, -4.4612, -4.4636], \"loglift\": [30.0, 29.0, 28.0, 27.0, 26.0, 25.0, 24.0, 23.0, 22.0, 21.0, 20.0, 19.0, 18.0, 17.0, 16.0, 15.0, 14.0, 13.0, 12.0, 11.0, 10.0, 9.0, 8.0, 7.0, 6.0, 5.0, 4.0, 3.0, 2.0, 1.0, 1.5547, 1.5472, 1.5413, 1.5314, 1.5291, 1.518, 1.5098, 1.4992, 1.4989, 1.4977, 1.4938, 1.4934, 1.4927, 1.4918, 1.4916, 1.4893, 1.4886, 1.4875, 1.4844, 1.4838, 1.4818, 1.4816, 1.4803, 1.4773, 1.4773, 1.4769, 1.4736, 1.4736, 1.4725, 1.4719, 1.5651, 1.5478, 1.5473, 1.5361, 1.534, 1.5326, 1.5293, 1.5176, 1.5156, 1.5087, 1.5083, 1.5075, 1.5036, 1.5028, 1.5, 1.4986, 1.4956, 1.4953, 1.4886, 1.4883, 1.4867, 1.4853, 1.4833, 1.4832, 1.4814, 1.478, 1.4773, 1.476, 1.4722, 1.4712, 1.5797, 1.573, 1.5587, 1.5546, 1.5524, 1.5515, 1.5474, 1.5444, 1.5417, 1.5404, 1.5335, 1.5262, 1.5261, 1.5238, 1.5236, 1.5197, 1.5195, 1.5188, 1.5164, 1.5155, 1.5139, 1.5137, 1.5136, 1.5134, 1.5127, 1.5121, 1.512, 1.511, 1.5109, 1.5085, 1.5925, 1.5793, 1.5786, 1.5703, 1.5676, 1.5658, 1.5587, 1.5564, 1.5535, 1.55, 1.5498, 1.5475, 1.5441, 1.5403, 1.5403, 1.5398, 1.5381, 1.5379, 1.5376, 1.5374, 1.5357, 1.5354, 1.5341, 1.5326, 1.5325, 1.5312, 1.5311, 1.5259, 1.5247, 1.5244, 1.6469, 1.6295, 1.626, 1.6249, 1.6171, 1.616, 1.6105, 1.6089, 1.6088, 1.6085, 1.6083, 1.6031, 1.6021, 1.6004, 1.5992, 1.5986, 1.5985, 1.5963, 1.5918, 1.5916, 1.5913, 1.5903, 1.5882, 1.5859, 1.5843, 1.5841, 1.5802, 1.5785, 1.577, 1.5769], \"Freq\": [61.0, 50.0, 33.0, 28.0, 25.0, 26.0, 25.0, 24.0, 22.0, 21.0, 19.0, 18.0, 18.0, 15.0, 17.0, 16.0, 15.0, 15.0, 15.0, 14.0, 14.0, 15.0, 14.0, 14.0, 14.0, 13.0, 13.0, 12.0, 12.0, 12.0, 50.053013007928875, 32.88838264938395, 25.832722157664687, 18.875066914293143, 17.755595378232535, 13.803211320902255, 11.85217831852654, 10.007056920292223, 9.95907036962316, 9.788077754012306, 9.259384601033123, 9.19786199872469, 9.119652652641653, 9.029465042872653, 8.984211444330308, 8.718922113378593, 8.630324894257832, 8.509525768772876, 8.181807861418905, 8.123869042565055, 7.928222910825866, 7.91563716607949, 7.793036197790847, 7.529139422792978, 7.526303628177059, 7.486736869513603, 7.213760730762524, 7.2275738629650705, 7.136138084121089, 7.091938121320404, 60.845717564297935, 24.48674285994329, 24.001656924249097, 17.289860792649336, 16.42963609336627, 15.947994449831798, 14.807945792880249, 11.778891164415686, 11.375211876166098, 10.197031195818983, 10.12493999348072, 10.0005398360073, 9.471069039811038, 9.364961205557982, 9.015977108706222, 8.820740966273805, 8.491741945347329, 8.461453111212743, 7.794842837291075, 7.7738791794064115, 7.630165892370861, 7.4966766914152405, 7.3362190857667295, 7.325043992963387, 7.1725342447520015, 6.919603489792145, 6.887116076510285, 6.80272447291973, 6.549247944321874, 6.471553822929847, 28.23527815882008, 22.194714665869334, 15.201971707386233, 13.946299035675478, 13.339477845013558, 13.096978067008946, 12.131023278521656, 11.536862205143175, 11.018939776987335, 10.783935304439076, 9.702134824912658, 8.759226907371776, 8.757532170546467, 8.513125485818692, 8.474080098102228, 8.092011593863614, 8.056925158225928, 8.001953997373178, 7.7587159153376835, 7.670474997791239, 7.528341822428291, 7.518330918688087, 7.506866533178829, 7.496769340679008, 7.433797117543195, 7.398425361225722, 7.368989757192637, 7.30913657662264, 7.2862276682978315, 7.112897000283261, 21.1294474093291, 15.0197593346927, 14.777001032350064, 12.513766924570001, 11.896477583589181, 11.525755036669084, 10.282170859466033, 9.935874439945826, 9.516459341342289, 9.061188218509876, 9.043073929688893, 8.756873350589595, 8.374565489823183, 8.004933834862113, 8.007316022572878, 7.945479975096865, 7.796076303936685, 7.766544256910755, 7.747610129387385, 7.7200410799190795, 7.564118013114616, 7.548782151797657, 7.427024199750033, 7.310707304200652, 7.307896074340702, 7.219457450094987, 7.184162397553506, 6.794836611675661, 6.699662141216832, 6.700927063798795, 25.15720471665324, 15.260137076907931, 14.136058913980259, 13.813110879763396, 11.895397351289494, 11.681018873819578, 10.624648742706372, 10.364006100776157, 10.329248803805266, 10.281313419864878, 10.2708952534909, 9.472187525295102, 9.344583559956575, 9.118580525920812, 8.9908480180401, 8.903339249355328, 8.875733366750254, 8.62531163662336, 8.130310040563506, 8.111602042664408, 8.075823735171493, 7.977049488904085, 7.781312547101374, 7.567753958560501, 7.4231070967290815, 7.439308193519681, 7.095479060647932, 6.95457485958971, 6.849301628160194, 6.832987266653804], \"Total\": [61.0, 50.0, 33.0, 28.0, 25.0, 26.0, 25.0, 24.0, 22.0, 21.0, 19.0, 18.0, 18.0, 15.0, 17.0, 16.0, 15.0, 15.0, 15.0, 14.0, 14.0, 15.0, 14.0, 14.0, 14.0, 13.0, 13.0, 12.0, 12.0, 12.0, 50.777201973391975, 33.61360081305929, 26.55852555590284, 19.59862278630151, 18.479966277060594, 14.526932418051437, 12.576314121498813, 10.73102287984878, 10.682541403594007, 10.511883633128203, 9.982674705144657, 9.920554663255421, 9.843730053642801, 9.754933437932166, 9.70741440431145, 9.442427996268162, 9.353644252508445, 9.232958627834257, 8.90497390819951, 8.847088513788073, 8.65134150774191, 8.639001375874267, 8.516313174154693, 8.252362149721295, 8.249847475552414, 8.20946111449734, 7.9364658792974705, 7.9517589636861015, 7.8598422120432225, 7.815162768263958, 61.56565906335606, 25.206593535604302, 24.720782581439043, 18.0091657181236, 17.14840148227353, 16.66843807432832, 15.528490735338671, 12.497993825380908, 12.09370136165618, 10.91637813744498, 10.843505822607739, 10.718507662529785, 10.190214018982003, 10.08406318047351, 9.735754769300929, 9.538715753858048, 9.210638348946716, 9.179839851301537, 8.514099713905548, 8.493236256868508, 8.34990351871715, 8.215099044648445, 8.055511404153982, 8.043583754006178, 7.890989140504311, 7.638093531392911, 7.6077367633840325, 7.524506661417226, 7.271226330809179, 7.192686982412062, 28.951914506521657, 22.911380406151242, 15.918267771359071, 14.662928956476545, 14.056778163177475, 13.813973329752697, 12.847276485157847, 12.254949939468577, 11.736197990956523, 11.500274374331115, 10.418873024177152, 9.475182809191464, 9.474604067319301, 9.230602028806155, 9.190025952924232, 8.810475976902616, 8.773700535107949, 8.720156887179051, 8.475013157165835, 8.386747344712168, 8.244275813274307, 8.235171074655815, 8.223341554618312, 8.214072086503254, 8.150479985792112, 8.116319711085223, 8.085520539103088, 8.027344758708276, 8.003043821737206, 7.831252106727088, 21.843948869147695, 15.734089756877628, 15.49140675252239, 13.227639062341407, 12.60972789999758, 12.238688442350112, 10.995809334053046, 10.64988162530448, 10.230377433272373, 9.774709417833298, 9.756664539349703, 9.470220257065979, 9.087490755939521, 8.719133587617108, 8.721944693111288, 8.659319748859183, 8.510298353463408, 8.479983367177937, 8.462132108117697, 8.433129626886632, 8.277082029723715, 8.262628725902832, 8.14058652402602, 8.024610659811357, 8.022117653596208, 7.935589302626935, 7.8976597715529, 7.508323323314227, 7.41260677496793, 7.415757522117849, 25.85695347680684, 15.959639681791076, 14.835556613036118, 14.513721321708488, 12.595903348521539, 12.382188557534626, 11.325379788507394, 11.06452755377855, 11.02912158283729, 10.980611357932556, 10.971885937277904, 10.171476026855366, 10.04413980247653, 9.818578711495192, 9.692768373430825, 9.604039554014975, 9.575294115027603, 9.32582853332681, 8.830015051969886, 8.811424923205546, 8.775082456263753, 8.676316429004263, 8.480969357868835, 8.26792000120115, 8.122358944319947, 8.141666222419795, 7.7955206040527205, 7.653846424172288, 7.549221005715509, 7.532345207852103], \"Category\": [\"Default\", \"Default\", \"Default\", \"Default\", \"Default\", \"Default\", \"Default\", \"Default\", \"Default\", \"Default\", \"Default\", \"Default\", \"Default\", \"Default\", \"Default\", \"Default\", \"Default\", \"Default\", \"Default\", \"Default\", \"Default\", \"Default\", \"Default\", \"Default\", \"Default\", \"Default\", \"Default\", \"Default\", \"Default\", \"Default\", \"Topic1\", \"Topic1\", \"Topic1\", \"Topic1\", \"Topic1\", \"Topic1\", \"Topic1\", \"Topic1\", \"Topic1\", \"Topic1\", \"Topic1\", \"Topic1\", \"Topic1\", \"Topic1\", \"Topic1\", \"Topic1\", \"Topic1\", \"Topic1\", \"Topic1\", \"Topic1\", \"Topic1\", \"Topic1\", \"Topic1\", \"Topic1\", \"Topic1\", \"Topic1\", \"Topic1\", \"Topic1\", \"Topic1\", \"Topic1\", \"Topic2\", \"Topic2\", \"Topic2\", \"Topic2\", \"Topic2\", \"Topic2\", \"Topic2\", \"Topic2\", \"Topic2\", \"Topic2\", \"Topic2\", \"Topic2\", \"Topic2\", \"Topic2\", \"Topic2\", \"Topic2\", \"Topic2\", \"Topic2\", \"Topic2\", \"Topic2\", \"Topic2\", \"Topic2\", \"Topic2\", \"Topic2\", \"Topic2\", \"Topic2\", \"Topic2\", \"Topic2\", \"Topic2\", \"Topic2\", \"Topic3\", \"Topic3\", \"Topic3\", \"Topic3\", \"Topic3\", \"Topic3\", \"Topic3\", \"Topic3\", \"Topic3\", \"Topic3\", \"Topic3\", \"Topic3\", \"Topic3\", \"Topic3\", \"Topic3\", \"Topic3\", \"Topic3\", \"Topic3\", \"Topic3\", \"Topic3\", \"Topic3\", \"Topic3\", \"Topic3\", \"Topic3\", \"Topic3\", \"Topic3\", \"Topic3\", \"Topic3\", \"Topic3\", \"Topic3\", \"Topic4\", \"Topic4\", \"Topic4\", \"Topic4\", \"Topic4\", \"Topic4\", \"Topic4\", \"Topic4\", \"Topic4\", \"Topic4\", \"Topic4\", \"Topic4\", \"Topic4\", \"Topic4\", \"Topic4\", \"Topic4\", \"Topic4\", \"Topic4\", \"Topic4\", \"Topic4\", \"Topic4\", \"Topic4\", \"Topic4\", \"Topic4\", \"Topic4\", \"Topic4\", \"Topic4\", \"Topic4\", \"Topic4\", \"Topic4\", \"Topic5\", \"Topic5\", \"Topic5\", \"Topic5\", \"Topic5\", \"Topic5\", \"Topic5\", \"Topic5\", \"Topic5\", \"Topic5\", \"Topic5\", \"Topic5\", \"Topic5\", \"Topic5\", \"Topic5\", \"Topic5\", \"Topic5\", \"Topic5\", \"Topic5\", \"Topic5\", \"Topic5\", \"Topic5\", \"Topic5\", \"Topic5\", \"Topic5\", \"Topic5\", \"Topic5\", \"Topic5\", \"Topic5\", \"Topic5\"]}, \"R\": 30};\n",
       "\n",
       "function LDAvis_load_lib(url, callback){\n",
       "  var s = document.createElement('script');\n",
       "  s.src = url;\n",
       "  s.async = true;\n",
       "  s.onreadystatechange = s.onload = callback;\n",
       "  s.onerror = function(){console.warn(\"failed to load library \" + url);};\n",
       "  document.getElementsByTagName(\"head\")[0].appendChild(s);\n",
       "}\n",
       "\n",
       "if(typeof(LDAvis) !== \"undefined\"){\n",
       "   // already loaded: just create the visualization\n",
       "   !function(LDAvis){\n",
       "       new LDAvis(\"#\" + \"ldavis_el46461404915530906807286436347\", ldavis_el46461404915530906807286436347_data);\n",
       "   }(LDAvis);\n",
       "}else if(typeof define === \"function\" && define.amd){\n",
       "   // require.js is available: use it to load d3/LDAvis\n",
       "   require.config({paths: {d3: \"https://cdnjs.cloudflare.com/ajax/libs/d3/3.5.5/d3.min\"}});\n",
       "   require([\"d3\"], function(d3){\n",
       "      window.d3 = d3;\n",
       "      LDAvis_load_lib(\"https://cdn.rawgit.com/bmabey/pyLDAvis/files/ldavis.v1.0.0.js\", function(){\n",
       "        new LDAvis(\"#\" + \"ldavis_el46461404915530906807286436347\", ldavis_el46461404915530906807286436347_data);\n",
       "      });\n",
       "    });\n",
       "}else{\n",
       "    // require.js not available: dynamically load d3 & LDAvis\n",
       "    LDAvis_load_lib(\"https://cdnjs.cloudflare.com/ajax/libs/d3/3.5.5/d3.min.js\", function(){\n",
       "         LDAvis_load_lib(\"https://cdn.rawgit.com/bmabey/pyLDAvis/files/ldavis.v1.0.0.js\", function(){\n",
       "                 new LDAvis(\"#\" + \"ldavis_el46461404915530906807286436347\", ldavis_el46461404915530906807286436347_data);\n",
       "            })\n",
       "         });\n",
       "}\n",
       "</script>"
      ],
      "text/plain": [
       "PreparedData(topic_coordinates=            Freq  cluster  topics         x         y\n",
       "topic                                                \n",
       "2      20.824189        1       1  0.313597  0.146287\n",
       "4      20.663106        1       2 -0.231561  0.252302\n",
       "0      20.093874        1       3 -0.038577 -0.222846\n",
       "3      19.675636        1       4 -0.025500 -0.105461\n",
       "1      18.743195        1       5 -0.017958 -0.070282, topic_info=     Category       Freq              Term      Total  loglift  logprob\n",
       "term                                                                   \n",
       "104   Default  61.000000         feel like  61.000000  30.0000  30.0000\n",
       "293   Default  50.000000   romantic comedy  50.000000  29.0000  29.0000\n",
       "269   Default  33.000000         play like  33.000000  28.0000  28.0000\n",
       "309   Default  28.000000        soap opera  28.000000  27.0000  27.0000\n",
       "203   Default  25.000000        love story  25.000000  26.0000  26.0000\n",
       "200   Default  26.000000         look like  26.000000  25.0000  25.0000\n",
       "316   Default  25.000000    special effect  25.000000  24.0000  24.0000\n",
       "331   Default  24.000000    subject matter  24.000000  23.0000  23.0000\n",
       "294   Default  22.000000      running time  22.000000  22.0000  22.0000\n",
       "23    Default  21.000000        big screen  21.000000  21.0000  21.0000\n",
       "360   Default  19.000000          two hour  19.000000  20.0000  20.0000\n",
       "243   Default  18.000000          new york  18.000000  19.0000  19.0000\n",
       "240   Default  18.000000       never quite  18.000000  18.0000  18.0000\n",
       "388   Default  15.000000      worth seeing  15.000000  17.0000  17.0000\n",
       "127   Default  17.000000         good time  17.000000  16.0000  16.0000\n",
       "53    Default  16.000000           de niro  16.000000  15.0000  15.0000\n",
       "1     Default  15.000000   action sequence  15.000000  14.0000  14.0000\n",
       "38    Default  15.000000   character study  15.000000  13.0000  13.0000\n",
       "120   Default  15.000000            give u  15.000000  12.0000  12.0000\n",
       "29    Default  14.000000        blue crush  14.000000  11.0000  11.0000\n",
       "198   Default  14.000000         long time  14.000000  10.0000  10.0000\n",
       "252   Default  15.000000          one best  15.000000   9.0000   9.0000\n",
       "262   Default  14.000000         one thing  14.000000   8.0000   8.0000\n",
       "211   Default  14.000000            make u  14.000000   7.0000   7.0000\n",
       "304   Default  14.000000       sense humor  14.000000   6.0000   6.0000\n",
       "394   Default  13.000000       young woman  13.000000   5.0000   5.0000\n",
       "376   Default  13.000000       whole thing  13.000000   4.0000   4.0000\n",
       "322   Default  12.000000  stealing harvard  12.000000   3.0000   3.0000\n",
       "73    Default  12.000000          doe make  12.000000   2.0000   2.0000\n",
       "124   Default  12.000000    good intention  12.000000   1.0000   1.0000\n",
       "...       ...        ...               ...        ...      ...      ...\n",
       "203    Topic5  25.157205        love story  25.856953   1.6469  -3.1602\n",
       "388    Topic5  15.260137      worth seeing  15.959640   1.6295  -3.6601\n",
       "29     Topic5  14.136059        blue crush  14.835557   1.6260  -3.7366\n",
       "198    Topic5  13.813111         long time  14.513721   1.6249  -3.7597\n",
       "322    Topic5  11.895397  stealing harvard  12.595903   1.6171  -3.9092\n",
       "73     Topic5  11.681019          doe make  12.382189   1.6160  -3.9274\n",
       "379    Topic5  10.624649       woody allen  11.325380   1.6105  -4.0222\n",
       "229    Topic5  10.364006    motion picture  11.064528   1.6089  -4.0470\n",
       "89     Topic5  10.329249         every bit  11.029122   1.6088  -4.0504\n",
       "162    Topic5  10.281313        home video  10.980611   1.6085  -4.0550\n",
       "232    Topic5  10.270895          much fun  10.971886   1.6083  -4.0560\n",
       "71     Topic5   9.472188          doe know  10.171476   1.6031  -4.1370\n",
       "54     Topic5   9.344584          de palma  10.044140   1.6021  -4.1505\n",
       "28     Topic5   9.118581       blair witch   9.818579   1.6004  -4.1750\n",
       "70     Topic5   8.990848          doe give   9.692768   1.5992  -4.1891\n",
       "216    Topic5   8.903339   master disguise   9.604040   1.5986  -4.1989\n",
       "21     Topic5   8.875733           big fat   9.575294   1.5985  -4.2020\n",
       "93     Topic5   8.625312   everything else   9.325829   1.5963  -4.2306\n",
       "4      Topic5   8.130310      almost every   8.830015   1.5918  -4.2897\n",
       "285    Topic5   8.111602     recent memory   8.811425   1.5916  -4.2921\n",
       "149    Topic5   8.075824      ha something   8.775082   1.5913  -4.2965\n",
       "220    Topic5   7.977049         men black   8.676316   1.5903  -4.3088\n",
       "25     Topic5   7.781313     birthday girl   8.480969   1.5882  -4.3336\n",
       "338    Topic5   7.567754        take place   8.267920   1.5859  -4.3614\n",
       "340    Topic5   7.423107            take u   8.122359   1.5843  -4.3807\n",
       "112    Topic5   7.439308        first time   8.141666   1.5841  -4.3786\n",
       "374    Topic5   7.095479        well worth   7.795521   1.5802  -4.4259\n",
       "278    Topic5   6.954575      put together   7.653846   1.5785  -4.4459\n",
       "125    Topic5   6.849302          good job   7.549221   1.5770  -4.4612\n",
       "107    Topic5   6.832987          find way   7.532345   1.5769  -4.4636\n",
       "\n",
       "[180 rows x 6 columns], token_table=      Topic      Freq                   Term\n",
       "term                                        \n",
       "0         2  0.924428           action flick\n",
       "1         4  0.953344        action sequence\n",
       "2         1  0.922610           adam sandler\n",
       "4         5  0.906001           almost every\n",
       "9         4  0.944337            anyone else\n",
       "11        3  0.959797           austin power\n",
       "18        4  0.880331              best work\n",
       "19        4  0.923860              best year\n",
       "21        5  0.939919                big fat\n",
       "23        4  0.961365             big screen\n",
       "25        5  0.943288          birthday girl\n",
       "26        1  0.974769           black comedy\n",
       "27        4  0.872588               blade ii\n",
       "28        5  0.916630            blair witch\n",
       "29        5  0.943679             blue crush\n",
       "35        2  0.943523        cautionary tale\n",
       "36        3  0.975018  character development\n",
       "38        3  0.942314        character study\n",
       "41        1  0.969419            cletis tout\n",
       "42        1  0.927126      collateral damage\n",
       "45        4  0.922446           country bear\n",
       "48        3  0.858845            crime drama\n",
       "53        2  0.959898                de niro\n",
       "54        5  0.896045               de palma\n",
       "58        4  0.886339             deuce wild\n",
       "65        2  0.958095      directorial debut\n",
       "70        5  0.928527               doe give\n",
       "71        5  0.884827               doe know\n",
       "73        5  0.969134               doe make\n",
       "74        4  0.938978               doe much\n",
       "...     ...       ...                    ...\n",
       "311       1  0.890603         something like\n",
       "316       2  0.952132         special effect\n",
       "317       1  0.969715                spy kid\n",
       "320       3  0.949908           start finish\n",
       "322       5  0.952691       stealing harvard\n",
       "325       3  0.893855             still feel\n",
       "331       2  0.970843         subject matter\n",
       "332       3  0.949850               sum fear\n",
       "338       5  0.967595             take place\n",
       "340       5  0.861819                 take u\n",
       "341       3  0.972841        target audience\n",
       "343       2  0.932966             tell story\n",
       "346       2  0.930294             three hour\n",
       "349       2  0.883200        title character\n",
       "356       1  0.882005             true story\n",
       "357       1  0.936107               try hard\n",
       "360       1  0.969456               two hour\n",
       "365       1  0.852675             van wilder\n",
       "366       1  0.926033             video game\n",
       "368       3  0.943951           visual style\n",
       "371       1  0.951304             waste time\n",
       "374       5  0.897952             well worth\n",
       "375       1  0.931878              whole lot\n",
       "376       4  0.982791            whole thing\n",
       "378       4  0.943398           without much\n",
       "379       5  0.971270            woody allen\n",
       "382       4  0.932299         world traveler\n",
       "388       5  0.939871           worth seeing\n",
       "391       2  0.960154               year ago\n",
       "394       3  0.941076            young woman\n",
       "\n",
       "[150 rows x 3 columns], R=30, lambda_step=0.01, plot_opts={'ylab': 'PC2', 'xlab': 'PC1'}, topic_order=[3, 5, 1, 4, 2])"
      ]
     },
     "execution_count": 54,
     "metadata": {},
     "output_type": "execute_result"
    }
   ],
   "source": [
    "pyLDAvis.sklearn.prepare(lda, term_idf_matrix, term_idf_vectorizer)"
   ]
  },
  {
   "cell_type": "markdown",
   "metadata": {},
   "source": [
    "#### Topic modeling using NMF "
   ]
  },
  {
   "cell_type": "code",
   "execution_count": 55,
   "metadata": {
    "scrolled": true
   },
   "outputs": [
    {
     "name": "stdout",
     "output_type": "stream",
     "text": [
      "CPU times: user 243 ms, sys: 288 ms, total: 531 ms\n",
      "Wall time: 200 ms\n",
      "\n",
      "Fitting the Non-negative Matrix Factorization model with tf-idf features: \n",
      "\n",
      "Topic #0:\n",
      "romantic comedy sandra bullock hugh grant interesting character new york much fun start finish point view might well one greatest\n",
      "Topic #1:\n",
      "feel like still feel doe feel make feel one feel like one two hour spy kid tv series three hour\n",
      "Topic #2:\n",
      "play like like one like bad big screen young woman seem like whole thing point view never seen after-school special\n",
      "Topic #3:\n",
      "love story lan yu story one birthday girl edge seat one best like bad good intention good job good thing\n",
      "Topic #4:\n",
      "special effect action sequence jackie chan minority report hollywood ending queen damned time machine funny moment after-school special harry potter\n",
      "\n"
     ]
    }
   ],
   "source": [
    "# Fit the NMF model\n",
    "%time nmf = NMF(n_components=5, random_state=1,alpha=.1, l1_ratio=.5).fit(term_idf_matrix)\n",
    "print(\"\\nFitting the Non-negative Matrix Factorization model with tf-idf features: \\n\")\n",
    "print_top_words(nmf, term_idf_feature_names, 10)"
   ]
  }
 ],
 "metadata": {
  "kernelspec": {
   "display_name": "Python 3",
   "language": "python",
   "name": "python3"
  },
  "language_info": {
   "codemirror_mode": {
    "name": "ipython",
    "version": 3
   },
   "file_extension": ".py",
   "mimetype": "text/x-python",
   "name": "python",
   "nbconvert_exporter": "python",
   "pygments_lexer": "ipython3",
   "version": "3.5.2"
  }
 },
 "nbformat": 4,
 "nbformat_minor": 2
}
