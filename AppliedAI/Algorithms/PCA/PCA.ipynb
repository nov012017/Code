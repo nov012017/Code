{
 "cells": [
  {
   "cell_type": "code",
   "execution_count": 2,
   "metadata": {},
   "outputs": [],
   "source": [
    "## LOAD MNIST DATA\n",
    "import numpy as np\n",
    "import pandas as pd\n",
    "import matplotlib.pyplot as plt\n",
    "import os\n",
    "os.chdir('C:\\\\Users\\\\Admin\\\\Documents\\\\GitHub\\\\Code\\\\AppliedAI\\\\Content\\\\14. PCA')"
   ]
  },
  {
   "cell_type": "code",
   "execution_count": 3,
   "metadata": {},
   "outputs": [],
   "source": [
    "d0=pd.read_csv('mnist_train.csv')"
   ]
  },
  {
   "cell_type": "code",
   "execution_count": 4,
   "metadata": {},
   "outputs": [],
   "source": [
    "l=d0['label']"
   ]
  },
  {
   "cell_type": "code",
   "execution_count": 5,
   "metadata": {},
   "outputs": [],
   "source": [
    "d0=d0.drop('label',axis=1)"
   ]
  },
  {
   "cell_type": "code",
   "execution_count": 6,
   "metadata": {},
   "outputs": [
    {
     "name": "stdout",
     "output_type": "stream",
     "text": [
      "(42000,)\n",
      "(42000, 784)\n"
     ]
    }
   ],
   "source": [
    "print(l.shape)\n",
    "print(d0.shape)"
   ]
  },
  {
   "cell_type": "code",
   "execution_count": 7,
   "metadata": {},
   "outputs": [
    {
     "data": {
      "image/png": "[encoded data removed]",
      "text/plain": [
       "<matplotlib.figure.Figure at 0x922d128>"
      ]
     },
     "metadata": {},
     "output_type": "display_data"
    }
   ],
   "source": [
    "plt.figure(figsize=(7,7))\n",
    "idx=100\n",
    "grid_data=d0.iloc[idx].as_matrix().reshape(28,28)\n",
    "plt.imshow(grid_data,interpolation='none',cmap='gray')\n",
    "plt.show()"
   ]
  },
  {
   "cell_type": "code",
   "execution_count": 9,
   "metadata": {},
   "outputs": [
    {
     "name": "stdout",
     "output_type": "stream",
     "text": [
      "the shape of sample data= (15000, 784)\n"
     ]
    }
   ],
   "source": [
    "# 2D Visualization Using PCA\n",
    "labels=l.head(15000)\n",
    "data=d0.head(15000)\n",
    "\n",
    "print(\"the shape of sample data=\",data.shape)"
   ]
  },
  {
   "cell_type": "code",
   "execution_count": 11,
   "metadata": {},
   "outputs": [
    {
     "name": "stdout",
     "output_type": "stream",
     "text": [
      "(15000, 784)\n"
     ]
    }
   ],
   "source": [
    "# Data preprocessing : Standardizing the data\n",
    "from sklearn.preprocessing import StandardScaler\n",
    "standardized_data=StandardScaler().fit_transform(data)\n",
    "print(standardized_data.shape)"
   ]
  },
  {
   "cell_type": "code",
   "execution_count": 16,
   "metadata": {},
   "outputs": [
    {
     "name": "stdout",
     "output_type": "stream",
     "text": [
      "shape of covariance matrix is  (784, 784)\n"
     ]
    }
   ],
   "source": [
    "## Find the co-vairance matrix which is : AT*A\n",
    "sample_data=standardized_data\n",
    "\n",
    "## Matrix multiplication using numpy\n",
    "covar_matrix=np.matmul(sample_data.T,sample_data)\n",
    "\n",
    "print('shape of covariance matrix is ',covar_matrix.shape)"
   ]
  },
  {
   "cell_type": "code",
   "execution_count": 19,
   "metadata": {},
   "outputs": [
    {
     "name": "stdout",
     "output_type": "stream",
     "text": [
      "shape of eigh vectors = (784, 2)\n",
      "updated shape of eigh vectors = (2, 784)\n",
      "shpe of values = [435532.55785282 605719.29173629]\n"
     ]
    }
   ],
   "source": [
    "from scipy.linalg import eigh\n",
    "values,vectors=eigh(covar_matrix,eigvals=(782,783))\n",
    "print(\"shape of eigh vectors =\",vectors.shape)\n",
    "vectors=vectors.T\n",
    "print('updated shape of eigh vectors =',vectors.shape)\n",
    "print('shpe of values =',values)"
   ]
  },
  {
   "cell_type": "code",
   "execution_count": 44,
   "metadata": {},
   "outputs": [
    {
     "name": "stdout",
     "output_type": "stream",
     "text": [
      "resultant new data points shape (2, 784) x (784, 15000) = (2, 15000)\n"
     ]
    }
   ],
   "source": [
    "import matplotlib.pyplot as plt\n",
    "new_coordinates=np.matmul(vectors,sample_data.T)\n",
    "print(\"resultant new data points shape\",vectors.shape,\"x\",sample_data.T.shape,\"=\",new_coordinates.shape)\n"
   ]
  },
  {
   "cell_type": "code",
   "execution_count": 45,
   "metadata": {},
   "outputs": [
    {
     "data": {
      "text/plain": [
       "(15000, 3)"
      ]
     },
     "execution_count": 45,
     "metadata": {},
     "output_type": "execute_result"
    }
   ],
   "source": [
    "import pandas as pd\n",
    "import numpy as np\n",
    "## appending label to 2d projected data\n",
    "new_coordinates=np.vstack((new_coordinates,labels)).T\n",
    "\n",
    "dataframe=pd.DataFrame(data=new_coordinates,columns=('1st principal','2nd principal','output'))\n",
    "dataframe.shape"
   ]
  }
 ],
 "metadata": {
  "kernelspec": {
   "display_name": "Python 3",
   "language": "python",
   "name": "python3"
  },
  "language_info": {
   "codemirror_mode": {
    "name": "ipython",
    "version": 3
   },
   "file_extension": ".py",
   "mimetype": "text/x-python",
   "name": "python",
   "nbconvert_exporter": "python",
   "pygments_lexer": "ipython3",
   "version": "3.6.4"
  }
 },
 "nbformat": 4,
 "nbformat_minor": 2
}
