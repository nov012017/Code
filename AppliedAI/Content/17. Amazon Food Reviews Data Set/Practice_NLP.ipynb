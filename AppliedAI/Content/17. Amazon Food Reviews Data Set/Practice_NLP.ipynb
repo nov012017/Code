{
 "cells": [
  {
   "cell_type": "code",
   "execution_count": null,
   "metadata": {},
   "outputs": [],
   "source": [
    "import nltk"
   ]
  },
  {
   "cell_type": "code",
   "execution_count": null,
   "metadata": {},
   "outputs": [],
   "source": [
    "Text=\"Hi Divya. How are you, doing\"\n",
    "sent=nltk.sent_tokenize(Text)\n",
    "sent"
   ]
  },
  {
   "cell_type": "code",
   "execution_count": null,
   "metadata": {},
   "outputs": [],
   "source": [
    "sent=Text.split(\".\")\n",
    "sent"
   ]
  },
  {
   "cell_type": "code",
   "execution_count": null,
   "metadata": {},
   "outputs": [],
   "source": [
    "text={'hello':1,'divya':2,'prudhvi':3}\n",
    "text1={'hello':1,'divya':2,'prudhvi':3}\n",
    "text['hello']+=1\n",
    "text"
   ]
  },
  {
   "cell_type": "code",
   "execution_count": null,
   "metadata": {},
   "outputs": [],
   "source": [
    "\n",
    "len(text)\n",
    "str(text)\n",
    "type(text)\n",
    "#cmp(text,text1)\n",
    "a=text.fromkeys()"
   ]
  },
  {
   "cell_type": "code",
   "execution_count": null,
   "metadata": {},
   "outputs": [],
   "source": [
    "import pandas as pd\n",
    "data = [{'a': 1, 'b': 2},{'a': 5, 'b': 10, 'c': 20}]\n",
    "for i in data:\n",
    "    print(i)\n",
    "    for j in i:\n",
    "        \n",
    "    "
   ]
  },
  {
   "cell_type": "code",
   "execution_count": null,
   "metadata": {},
   "outputs": [],
   "source": [
    "tup1=[(1,2,3,4),(5,6,7,8)]\n",
    "list1=[[1,2,3,4],[5,6,7,8],[9,10,11,12]]"
   ]
  },
  {
   "cell_type": "code",
   "execution_count": null,
   "metadata": {},
   "outputs": [],
   "source": [
    "list1=[1,2,3,4]\n",
    "list1.index(1)"
   ]
  },
  {
   "cell_type": "code",
   "execution_count": null,
   "metadata": {},
   "outputs": [],
   "source": [
    "dict={'name':'prudhvi','age':29,'gender':'male'}\n",
    "seq=('name','gender')\n",
    "dict.fromkeys(seq,10)"
   ]
  },
  {
   "cell_type": "code",
   "execution_count": null,
   "metadata": {},
   "outputs": [],
   "source": [
    "import pandas as pd\n",
    "df=pd.DataFrame(tup1)\n",
    "df"
   ]
  },
  {
   "cell_type": "code",
   "execution_count": null,
   "metadata": {},
   "outputs": [],
   "source": [
    "df=pd.DataFrame(list1)\n",
    "df"
   ]
  },
  {
   "cell_type": "code",
   "execution_count": null,
   "metadata": {},
   "outputs": [],
   "source": [
    "paragraph=\"\"\"On Video, Rajasthan BJP Lawmaker's Son Drags Man Out Of Car, Slaps Him\n",
    "BJP lawmaker thrashed a man on a busy road after he allegedly did not let his vehicle pass by.\n",
    "All India | Edited by Arun Nair (with inputs from ANI) | Updated: July 01, 2018 08:27 IST\n",
    "  by Taboola Sponsored Links Sponsored\n",
    "PG Diploma in Machine Learning & AI - Start Application (Amity & Arizona State University)\n",
    "Do You Know - How Your Term Insurance Premium is Calculated? (Coverfox.com)\n",
    " \n",
    "SHARE\n",
    "EMAIL\n",
    "PRINT\n",
    "4\n",
    "COMMENTS\n",
    "On Video, Rajasthan BJP Lawmaker's Son Drags Man Out Of Car, Slaps Him\n",
    "No police case has been filed against the lawmaker's son.\n",
    "\n",
    "NEW DELHI: In yet another blatant misuse of power, the son of a BJP lawmaker thrashed a man on a busy road after he allegedly did not let his vehicle pass by. \"\"\"\n"
   ]
  },
  {
   "cell_type": "code",
   "execution_count": null,
   "metadata": {},
   "outputs": [],
   "source": [
    "import nltk\n",
    "import re\n",
    "import pandas as pd\n",
    "import heapq"
   ]
  },
  {
   "cell_type": "code",
   "execution_count": null,
   "metadata": {},
   "outputs": [],
   "source": [
    "sentence=nltk.sent_tokenize(paragraph)\n",
    "#type(sentence)\n",
    "#sentence_df=pd.DaparaaFrame(sentence, columns=['sentence'])\n",
    "#sentence_df"
   ]
  },
  {
   "cell_type": "code",
   "execution_count": 66,
   "metadata": {},
   "outputs": [
    {
     "name": "stdout",
     "output_type": "stream",
     "text": [
      "on video, rajasthan bjp lawmaker's son drags man out of car, slaps him\n",
      "bjp lawmaker thrashed a man on a busy road after he allegedly did not let his vehicle pass by.\n",
      "all india | edited by arun nair (with inputs from ani) | updated: july 01, 2018 08:27 ist\n",
      "  by taboola sponsored links sponsored\n",
      "pg diploma in machine learning & ai - start application (amity & arizona state university)\n",
      "do you know - how your term insurance premium is calculated?\n",
      "(coverfox.com)\n",
      " \n",
      "share\n",
      "email\n",
      "print\n",
      "4\n",
      "comments\n",
      "on video, rajasthan bjp lawmaker's son drags man out of car, slaps him\n",
      "no police case has been filed against the lawmaker's son.\n",
      "new delhi: in yet another blatant misuse of power, the son of a bjp lawmaker thrashed a man on a busy road after he allegedly did not let his vehicle pass by.\n"
     ]
    }
   ],
   "source": [
    "for i in range(len(sentence)):\n",
    "    sentence[i]=sentence[i].lower()\n",
    "    #sentence[i]=re.sub(r'\\w',' ',sentence[i])a\n",
    "\n",
    "word2count={}\n",
    "for data in sentence:\n",
    "    print(data)\n",
    "    words=nltk.word_tokenize(data)\n",
    "    for word in words:\n",
    "        if word not in word2count.keys():\n",
    "            word2count[word]=1\n",
    "        else:\n",
    "            word2count[word]+=1\n",
    "freq_words=heapq.nlargest(100,word2count,key=word2count.get)"
   ]
  },
  {
   "cell_type": "code",
   "execution_count": 67,
   "metadata": {},
   "outputs": [
    {
     "name": "stdout",
     "output_type": "stream",
     "text": [
      "[1, 1, 1, 1, 1, 1, 1, 1, 1, 1, 1, 0, 0, 1, 1, 1, 1, 1, 1, 1, 1, 1, 1, 1, 1, 1, 1, 1, 1, 1, 1, 1, 0, 0, 0, 0, 0, 0, 0, 0, 0, 0, 0, 0, 0, 0, 0, 0, 0, 0, 0, 0, 0, 0, 0, 0, 0, 0, 0, 0, 0, 0, 0, 0, 0, 0, 0, 0, 0, 0, 0, 0, 0, 0, 0, 0, 0, 0, 0, 0, 0, 0, 0, 0, 0, 0, 0, 0, 0, 0, 0, 0, 0, 0, 0, 0, 0, 0]\n",
      "[1, 0, 0, 0, 0, 0, 0, 0, 1, 0, 0, 1, 1, 0, 0, 0, 0, 0, 0, 0, 0, 0, 0, 0, 0, 0, 0, 0, 0, 0, 0, 0, 1, 1, 1, 1, 1, 1, 0, 1, 1, 1, 1, 1, 1, 1, 1, 1, 1, 1, 1, 1, 1, 1, 1, 1, 1, 1, 1, 1, 1, 1, 1, 1, 1, 1, 1, 1, 1, 1, 1, 1, 1, 1, 1, 1, 1, 1, 0, 0, 0, 0, 0, 0, 0, 0, 0, 0, 0, 0, 0, 0, 0, 0, 0, 0, 0, 0]\n",
      "[1, 1, 0, 1, 1, 1, 1, 1, 0, 1, 1, 1, 1, 1, 1, 1, 1, 1, 1, 1, 0, 0, 0, 0, 0, 0, 0, 0, 0, 0, 0, 0, 0, 0, 0, 0, 0, 0, 1, 0, 0, 0, 0, 0, 0, 0, 0, 0, 0, 0, 0, 0, 0, 0, 0, 0, 0, 0, 0, 0, 0, 0, 0, 0, 0, 0, 0, 0, 0, 0, 0, 0, 0, 0, 0, 0, 0, 0, 1, 1, 1, 1, 1, 1, 1, 1, 1, 1, 1, 1, 1, 0, 0, 0, 0, 0, 0, 0]\n",
      "[1, 1, 1, 1, 1, 1, 1, 1, 1, 0, 1, 0, 0, 0, 0, 0, 0, 0, 0, 0, 1, 1, 1, 1, 1, 1, 1, 1, 1, 1, 1, 1, 0, 1, 0, 1, 0, 0, 1, 0, 0, 0, 0, 0, 0, 0, 0, 0, 0, 0, 0, 0, 0, 0, 0, 0, 0, 0, 0, 0, 0, 0, 0, 0, 0, 0, 0, 0, 0, 0, 0, 0, 0, 0, 0, 0, 0, 0, 0, 0, 0, 0, 0, 0, 0, 0, 0, 0, 0, 0, 0, 1, 1, 1, 1, 1, 1, 1]\n"
     ]
    }
   ],
   "source": [
    "X=[]\n",
    "for i in range(len(sentence)):\n",
    "    #print(sentence[i])\n",
    "    words=nltk.word_tokenize(sentence[i])\n",
    "    vector=[]\n",
    "    for word in freq_words:\n",
    "        if word in words:\n",
    "            vector.append(1)\n",
    "            #print(1)\n",
    "        else: \n",
    "            vector.append(0)\n",
    "    print(vector)\n",
    "    X.append(vector)"
   ]
  },
  {
   "cell_type": "code",
   "execution_count": null,
   "metadata": {},
   "outputs": [],
   "source": [
    "import numpy as np\n",
    "#X=np.asarray(X)\n",
    "#X.draw()"
   ]
  },
  {
   "cell_type": "code",
   "execution_count": null,
   "metadata": {},
   "outputs": [],
   "source": [
    "words_idf={}\n",
    "for i in range(len(sentence)):\n",
    "    words=nltk.word_tokenize(sentence[i])\n",
    "    for word in freq_words:\n",
    "        if word in words:\n",
    "            print(word)\n",
    "            doc_count+=1\n",
    "words_idf[word]=np.log((len(sentence))/(doc_count)+1)\n",
    "        \n",
    "        "
   ]
  },
  {
   "cell_type": "code",
   "execution_count": null,
   "metadata": {},
   "outputs": [],
   "source": [
    "#pragraph=nltk.sent_tokenize(paragraph)\n",
    "for word in freq_words:\n",
    "    doc_count=0\n",
    "    for data in sentence:\n",
    "        words=nltk.word_tokenize(data)\n",
    "        if word in words:\n",
    "            doc_count+=1\n",
    "    words_idf[word]=np.log((len(sentence))/(doc_count)+1)      \n",
    "    "
   ]
  },
  {
   "cell_type": "code",
   "execution_count": null,
   "metadata": {},
   "outputs": [],
   "source": [
    "for i in range(len(sentence)):\n",
    "    words=nltk.word_tokenize(sentence[i])\n",
    "    \n",
    "        "
   ]
  },
  {
   "cell_type": "code",
   "execution_count": null,
   "metadata": {},
   "outputs": [],
   "source": [
    "words_idf"
   ]
  },
  {
   "cell_type": "code",
   "execution_count": null,
   "metadata": {},
   "outputs": [],
   "source": [
    "dict={}\n",
    "list=[2,3,4]\n",
    "dict['self']=list\n",
    "dict"
   ]
  },
  {
   "cell_type": "code",
   "execution_count": null,
   "metadata": {},
   "outputs": [],
   "source": [
    "tf_matrix={}\n",
    "for word in freq_words:\n",
    "    doc_tf=[]\n",
    "    for data in sentence:\n",
    "        frequency=0\n",
    "        words=nltk.word_tokenize(data)\n",
    "        for w in words:\n",
    "            if w==word:\n",
    "                frequency+=1\n",
    "        tf_word=frequency/(len(words))\n",
    "        doc_tf.append(tf_word)\n",
    "    tf_matrix[word]=doc_tf"
   ]
  },
  {
   "cell_type": "code",
   "execution_count": null,
   "metadata": {},
   "outputs": [],
   "source": [
    "tf_matrix"
   ]
  },
  {
   "cell_type": "code",
   "execution_count": 52,
   "metadata": {},
   "outputs": [],
   "source": [
    "tfidf_matrix=[]\n",
    "for word in tf_matrix.keys():\n",
    "    tfidf=[]\n",
    "    for value in tf_matrix[word]:\n",
    "        score=value*words_idf[word]\n",
    "        tfidf.append(score)\n",
    "    tfidf_matrix.append(tfidf)"
   ]
  },
  {
   "cell_type": "code",
   "execution_count": 58,
   "metadata": {},
   "outputs": [
    {
     "data": {
      "text/plain": [
       "[0.03850817669777474,\n",
       " 0.012377628224284737,\n",
       " 0.03850817669777474,\n",
       " 0.01980420515885558]"
      ]
     },
     "execution_count": 58,
     "metadata": {},
     "output_type": "execute_result"
    }
   ],
   "source": [
    "tfidf_matrix[0]"
   ]
  },
  {
   "cell_type": "code",
   "execution_count": 64,
   "metadata": {},
   "outputs": [
    {
     "data": {
      "text/plain": [
       "array([[0.03850818, 0.01237763, 0.03850818, 0.01980421],\n",
       "       [0.0470721 , 0.        , 0.0470721 , 0.02420851],\n",
       "       [0.06103402, 0.        , 0.        , 0.09416677],\n",
       "       [0.0470721 , 0.        , 0.02353605, 0.02420851],\n",
       "       [0.0470721 , 0.        , 0.02353605, 0.02420851],\n",
       "       [0.02353605, 0.        , 0.0470721 , 0.02420851],\n",
       "       [0.0470721 , 0.        , 0.02353605, 0.02420851],\n",
       "       [0.02353605, 0.        , 0.02353605, 0.04841702],\n",
       "       [0.02353605, 0.03026064, 0.        , 0.02420851],\n",
       "       [0.03051701, 0.        , 0.06103402, 0.        ],\n",
       "       [0.02353605, 0.        , 0.02353605, 0.02420851],\n",
       "       [0.        , 0.03923615, 0.03051701, 0.        ],\n",
       "       [0.        , 0.03923615, 0.03051701, 0.        ],\n",
       "       [0.03051701, 0.        , 0.03051701, 0.        ],\n",
       "       [0.03051701, 0.        , 0.03051701, 0.        ],\n",
       "       [0.03051701, 0.        , 0.03051701, 0.        ],\n",
       "       [0.03051701, 0.        , 0.03051701, 0.        ],\n",
       "       [0.03051701, 0.        , 0.03051701, 0.        ],\n",
       "       [0.03051701, 0.        , 0.03051701, 0.        ],\n",
       "       [0.03051701, 0.        , 0.03051701, 0.        ],\n",
       "       [0.03051701, 0.        , 0.        , 0.03138892],\n",
       "       [0.03051701, 0.        , 0.        , 0.03138892],\n",
       "       [0.03051701, 0.        , 0.        , 0.03138892],\n",
       "       [0.03051701, 0.        , 0.        , 0.03138892],\n",
       "       [0.03051701, 0.        , 0.        , 0.03138892],\n",
       "       [0.03051701, 0.        , 0.        , 0.03138892],\n",
       "       [0.03051701, 0.        , 0.        , 0.03138892],\n",
       "       [0.03051701, 0.        , 0.        , 0.03138892],\n",
       "       [0.03051701, 0.        , 0.        , 0.03138892],\n",
       "       [0.03051701, 0.        , 0.        , 0.03138892],\n",
       "       [0.03051701, 0.        , 0.        , 0.03138892],\n",
       "       [0.03051701, 0.        , 0.        , 0.03138892],\n",
       "       [0.        , 0.05747993, 0.        , 0.        ],\n",
       "       [0.        , 0.01961808, 0.        , 0.03138892],\n",
       "       [0.        , 0.05747993, 0.        , 0.        ],\n",
       "       [0.        , 0.01961808, 0.        , 0.03138892],\n",
       "       [0.        , 0.05747993, 0.        , 0.        ],\n",
       "       [0.        , 0.05747993, 0.        , 0.        ],\n",
       "       [0.        , 0.        , 0.03051701, 0.03138892],\n",
       "       [0.        , 0.02873996, 0.        , 0.        ],\n",
       "       [0.        , 0.02873996, 0.        , 0.        ],\n",
       "       [0.        , 0.02873996, 0.        , 0.        ],\n",
       "       [0.        , 0.02873996, 0.        , 0.        ],\n",
       "       [0.        , 0.02873996, 0.        , 0.        ],\n",
       "       [0.        , 0.02873996, 0.        , 0.        ],\n",
       "       [0.        , 0.02873996, 0.        , 0.        ],\n",
       "       [0.        , 0.02873996, 0.        , 0.        ],\n",
       "       [0.        , 0.02873996, 0.        , 0.        ],\n",
       "       [0.        , 0.02873996, 0.        , 0.        ],\n",
       "       [0.        , 0.02873996, 0.        , 0.        ],\n",
       "       [0.        , 0.02873996, 0.        , 0.        ],\n",
       "       [0.        , 0.02873996, 0.        , 0.        ],\n",
       "       [0.        , 0.02873996, 0.        , 0.        ],\n",
       "       [0.        , 0.02873996, 0.        , 0.        ],\n",
       "       [0.        , 0.02873996, 0.        , 0.        ],\n",
       "       [0.        , 0.02873996, 0.        , 0.        ],\n",
       "       [0.        , 0.02873996, 0.        , 0.        ],\n",
       "       [0.        , 0.02873996, 0.        , 0.        ],\n",
       "       [0.        , 0.02873996, 0.        , 0.        ],\n",
       "       [0.        , 0.02873996, 0.        , 0.        ],\n",
       "       [0.        , 0.02873996, 0.        , 0.        ],\n",
       "       [0.        , 0.02873996, 0.        , 0.        ],\n",
       "       [0.        , 0.02873996, 0.        , 0.        ],\n",
       "       [0.        , 0.02873996, 0.        , 0.        ],\n",
       "       [0.        , 0.02873996, 0.        , 0.        ],\n",
       "       [0.        , 0.02873996, 0.        , 0.        ],\n",
       "       [0.        , 0.02873996, 0.        , 0.        ],\n",
       "       [0.        , 0.02873996, 0.        , 0.        ],\n",
       "       [0.        , 0.02873996, 0.        , 0.        ],\n",
       "       [0.        , 0.02873996, 0.        , 0.        ],\n",
       "       [0.        , 0.02873996, 0.        , 0.        ],\n",
       "       [0.        , 0.02873996, 0.        , 0.        ],\n",
       "       [0.        , 0.02873996, 0.        , 0.        ],\n",
       "       [0.        , 0.02873996, 0.        , 0.        ],\n",
       "       [0.        , 0.02873996, 0.        , 0.        ],\n",
       "       [0.        , 0.02873996, 0.        , 0.        ],\n",
       "       [0.        , 0.02873996, 0.        , 0.        ],\n",
       "       [0.        , 0.02873996, 0.        , 0.        ],\n",
       "       [0.        , 0.        , 0.04470661, 0.        ],\n",
       "       [0.        , 0.        , 0.04470661, 0.        ],\n",
       "       [0.        , 0.        , 0.04470661, 0.        ],\n",
       "       [0.        , 0.        , 0.04470661, 0.        ],\n",
       "       [0.        , 0.        , 0.04470661, 0.        ],\n",
       "       [0.        , 0.        , 0.04470661, 0.        ],\n",
       "       [0.        , 0.        , 0.04470661, 0.        ],\n",
       "       [0.        , 0.        , 0.04470661, 0.        ],\n",
       "       [0.        , 0.        , 0.04470661, 0.        ],\n",
       "       [0.        , 0.        , 0.04470661, 0.        ],\n",
       "       [0.        , 0.        , 0.04470661, 0.        ],\n",
       "       [0.        , 0.        , 0.04470661, 0.        ],\n",
       "       [0.        , 0.        , 0.04470661, 0.        ],\n",
       "       [0.        , 0.        , 0.        , 0.04598394],\n",
       "       [0.        , 0.        , 0.        , 0.04598394],\n",
       "       [0.        , 0.        , 0.        , 0.04598394],\n",
       "       [0.        , 0.        , 0.        , 0.04598394],\n",
       "       [0.        , 0.        , 0.        , 0.04598394],\n",
       "       [0.        , 0.        , 0.        , 0.04598394],\n",
       "       [0.        , 0.        , 0.        , 0.04598394]])"
      ]
     },
     "execution_count": 64,
     "metadata": {},
     "output_type": "execute_result"
    }
   ],
   "source": [
    "X=np.asarray(tfidf_matrix)\n",
    "X[0]\n",
    "len(X)\n",
    "X"
   ]
  },
  {
   "cell_type": "code",
   "execution_count": 62,
   "metadata": {},
   "outputs": [],
   "source": [
    "X_T=np.transpose(X)"
   ]
  },
  {
   "cell_type": "code",
   "execution_count": 63,
   "metadata": {},
   "outputs": [
    {
     "data": {
      "text/plain": [
       "array([[0.03850818, 0.0470721 , 0.06103402, 0.0470721 , 0.0470721 ,\n",
       "        0.02353605, 0.0470721 , 0.02353605, 0.02353605, 0.03051701,\n",
       "        0.02353605, 0.        , 0.        , 0.03051701, 0.03051701,\n",
       "        0.03051701, 0.03051701, 0.03051701, 0.03051701, 0.03051701,\n",
       "        0.03051701, 0.03051701, 0.03051701, 0.03051701, 0.03051701,\n",
       "        0.03051701, 0.03051701, 0.03051701, 0.03051701, 0.03051701,\n",
       "        0.03051701, 0.03051701, 0.        , 0.        , 0.        ,\n",
       "        0.        , 0.        , 0.        , 0.        , 0.        ,\n",
       "        0.        , 0.        , 0.        , 0.        , 0.        ,\n",
       "        0.        , 0.        , 0.        , 0.        , 0.        ,\n",
       "        0.        , 0.        , 0.        , 0.        , 0.        ,\n",
       "        0.        , 0.        , 0.        , 0.        , 0.        ,\n",
       "        0.        , 0.        , 0.        , 0.        , 0.        ,\n",
       "        0.        , 0.        , 0.        , 0.        , 0.        ,\n",
       "        0.        , 0.        , 0.        , 0.        , 0.        ,\n",
       "        0.        , 0.        , 0.        , 0.        , 0.        ,\n",
       "        0.        , 0.        , 0.        , 0.        , 0.        ,\n",
       "        0.        , 0.        , 0.        , 0.        , 0.        ,\n",
       "        0.        , 0.        , 0.        , 0.        , 0.        ,\n",
       "        0.        , 0.        , 0.        ],\n",
       "       [0.01237763, 0.        , 0.        , 0.        , 0.        ,\n",
       "        0.        , 0.        , 0.        , 0.03026064, 0.        ,\n",
       "        0.        , 0.03923615, 0.03923615, 0.        , 0.        ,\n",
       "        0.        , 0.        , 0.        , 0.        , 0.        ,\n",
       "        0.        , 0.        , 0.        , 0.        , 0.        ,\n",
       "        0.        , 0.        , 0.        , 0.        , 0.        ,\n",
       "        0.        , 0.        , 0.05747993, 0.01961808, 0.05747993,\n",
       "        0.01961808, 0.05747993, 0.05747993, 0.        , 0.02873996,\n",
       "        0.02873996, 0.02873996, 0.02873996, 0.02873996, 0.02873996,\n",
       "        0.02873996, 0.02873996, 0.02873996, 0.02873996, 0.02873996,\n",
       "        0.02873996, 0.02873996, 0.02873996, 0.02873996, 0.02873996,\n",
       "        0.02873996, 0.02873996, 0.02873996, 0.02873996, 0.02873996,\n",
       "        0.02873996, 0.02873996, 0.02873996, 0.02873996, 0.02873996,\n",
       "        0.02873996, 0.02873996, 0.02873996, 0.02873996, 0.02873996,\n",
       "        0.02873996, 0.02873996, 0.02873996, 0.02873996, 0.02873996,\n",
       "        0.02873996, 0.02873996, 0.02873996, 0.        , 0.        ,\n",
       "        0.        , 0.        , 0.        , 0.        , 0.        ,\n",
       "        0.        , 0.        , 0.        , 0.        , 0.        ,\n",
       "        0.        , 0.        , 0.        , 0.        , 0.        ,\n",
       "        0.        , 0.        , 0.        ],\n",
       "       [0.03850818, 0.0470721 , 0.        , 0.02353605, 0.02353605,\n",
       "        0.0470721 , 0.02353605, 0.02353605, 0.        , 0.06103402,\n",
       "        0.02353605, 0.03051701, 0.03051701, 0.03051701, 0.03051701,\n",
       "        0.03051701, 0.03051701, 0.03051701, 0.03051701, 0.03051701,\n",
       "        0.        , 0.        , 0.        , 0.        , 0.        ,\n",
       "        0.        , 0.        , 0.        , 0.        , 0.        ,\n",
       "        0.        , 0.        , 0.        , 0.        , 0.        ,\n",
       "        0.        , 0.        , 0.        , 0.03051701, 0.        ,\n",
       "        0.        , 0.        , 0.        , 0.        , 0.        ,\n",
       "        0.        , 0.        , 0.        , 0.        , 0.        ,\n",
       "        0.        , 0.        , 0.        , 0.        , 0.        ,\n",
       "        0.        , 0.        , 0.        , 0.        , 0.        ,\n",
       "        0.        , 0.        , 0.        , 0.        , 0.        ,\n",
       "        0.        , 0.        , 0.        , 0.        , 0.        ,\n",
       "        0.        , 0.        , 0.        , 0.        , 0.        ,\n",
       "        0.        , 0.        , 0.        , 0.04470661, 0.04470661,\n",
       "        0.04470661, 0.04470661, 0.04470661, 0.04470661, 0.04470661,\n",
       "        0.04470661, 0.04470661, 0.04470661, 0.04470661, 0.04470661,\n",
       "        0.04470661, 0.        , 0.        , 0.        , 0.        ,\n",
       "        0.        , 0.        , 0.        ],\n",
       "       [0.01980421, 0.02420851, 0.09416677, 0.02420851, 0.02420851,\n",
       "        0.02420851, 0.02420851, 0.04841702, 0.02420851, 0.        ,\n",
       "        0.02420851, 0.        , 0.        , 0.        , 0.        ,\n",
       "        0.        , 0.        , 0.        , 0.        , 0.        ,\n",
       "        0.03138892, 0.03138892, 0.03138892, 0.03138892, 0.03138892,\n",
       "        0.03138892, 0.03138892, 0.03138892, 0.03138892, 0.03138892,\n",
       "        0.03138892, 0.03138892, 0.        , 0.03138892, 0.        ,\n",
       "        0.03138892, 0.        , 0.        , 0.03138892, 0.        ,\n",
       "        0.        , 0.        , 0.        , 0.        , 0.        ,\n",
       "        0.        , 0.        , 0.        , 0.        , 0.        ,\n",
       "        0.        , 0.        , 0.        , 0.        , 0.        ,\n",
       "        0.        , 0.        , 0.        , 0.        , 0.        ,\n",
       "        0.        , 0.        , 0.        , 0.        , 0.        ,\n",
       "        0.        , 0.        , 0.        , 0.        , 0.        ,\n",
       "        0.        , 0.        , 0.        , 0.        , 0.        ,\n",
       "        0.        , 0.        , 0.        , 0.        , 0.        ,\n",
       "        0.        , 0.        , 0.        , 0.        , 0.        ,\n",
       "        0.        , 0.        , 0.        , 0.        , 0.        ,\n",
       "        0.        , 0.04598394, 0.04598394, 0.04598394, 0.04598394,\n",
       "        0.04598394, 0.04598394, 0.04598394]])"
      ]
     },
     "execution_count": 63,
     "metadata": {},
     "output_type": "execute_result"
    }
   ],
   "source": [
    "X_T"
   ]
  },
  {
   "cell_type": "code",
   "execution_count": 65,
   "metadata": {},
   "outputs": [
    {
     "data": {
      "text/plain": [
       "98"
      ]
     },
     "execution_count": 65,
     "metadata": {},
     "output_type": "execute_result"
    }
   ],
   "source": [
    "len(freq_words)"
   ]
  }
 ],
 "metadata": {
  "kernelspec": {
   "display_name": "Python 3",
   "language": "python",
   "name": "python3"
  },
  "language_info": {
   "codemirror_mode": {
    "name": "ipython",
    "version": 3
   },
   "file_extension": ".py",
   "mimetype": "text/x-python",
   "name": "python",
   "nbconvert_exporter": "python",
   "pygments_lexer": "ipython3",
   "version": "3.6.4"
  }
 },
 "nbformat": 4,
 "nbformat_minor": 2
}
