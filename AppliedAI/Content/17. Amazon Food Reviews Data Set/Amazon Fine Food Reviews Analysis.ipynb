{
 "cells": [
  {
   "cell_type": "markdown",
   "metadata": {},
   "source": [
    "# [7] Amazon Fine Food Reviews Analysis\n",
    "\n",
    "\n",
    "Data Source: https://www.kaggle.com/snap/amazon-fine-food-reviews\n",
    "\n",
    "The Amazon Fine Food Reviews dataset consists of reviews of fine foods from Amazon.<br>\n",
    "\n",
    "Number of reviews: 568,454<br>\n",
    "Number of users: 256,059<br>\n",
    "Number of products: 74,258<br>\n",
    "Timespan: Oct 1999 - Oct 2012<br>\n",
    "Number of Attributes/Columns in data: 10 \n",
    "\n",
    "Attribute Information:\n",
    "\n",
    "1. Id\n",
    "2. ProductId - unique identifier for the product\n",
    "3. UserId - unqiue identifier for the user\n",
    "4. ProfileName\n",
    "5. HelpfulnessNumerator - number of users who found the review helpful\n",
    "6. HelpfulnessDenominator - number of users who indicated whether they found the review helpful or not\n",
    "7. Score - rating between 1 and 5\n",
    "8. Time - timestamp for the review\n",
    "9. Summary - brief summary of the review\n",
    "10. Text - text of the review\n",
    "\n",
    "\n",
    "#### Objective:\n",
    "Given a review, determine whether the review is positive (Rating of 4 or 5) or negative (rating of 1 or 2).\n",
    "\n",
    "<br>\n",
    "[Q] How to determine if a review is positive or negative?<br>\n",
    "<br> \n",
    "[Ans] We could use the Score/Rating. A rating of 4 or 5 could be cosnidered a positive review. A review of 1 or 2 could be considered negative. A review of 3 is nuetral and ignored. This is an approximate and proxy way of determining the polarity (positivity/negativity) of a review.\n",
    "\n",
    "\n"
   ]
  },
  {
   "cell_type": "markdown",
   "metadata": {},
   "source": [
    "## [7.1] Loading the data\n",
    "\n",
    "The dataset is available in two forms\n",
    "1. .csv file\n",
    "2. SQLite Database\n",
    "\n",
    "In order to load the data, We have used the SQLITE dataset as it easier to query the data and visualise the data efficiently.\n",
    "<br> \n",
    "\n",
    "Here as we only want to get the global sentiment of the recommendations (positive or negative), we will purposefully ignore all Scores equal to 3. If the score id above 3, then the recommendation wil be set to \"positive\". Otherwise, it will be set to \"negative\"."
   ]
  },
  {
   "cell_type": "code",
   "execution_count": 158,
   "metadata": {},
   "outputs": [],
   "source": [
    "%matplotlib inline\n",
    "\n",
    "import sqlite3\n",
    "import pandas as pd\n",
    "import numpy as np\n",
    "import nltk\n",
    "import string\n",
    "import matplotlib.pyplot as plt\n",
    "import seaborn as sns\n",
    "from sklearn.feature_extraction.text import TfidfTransformer\n",
    "from sklearn.feature_extraction.text import TfidfVectorizer\n",
    "\n",
    "from sklearn.feature_extraction.text import CountVectorizer\n",
    "from sklearn.metrics import confusion_matrix\n",
    "from sklearn import metrics\n",
    "from sklearn.metrics import roc_curve, auc\n",
    "from nltk.stem.porter import PorterStemmer\n",
    "\n",
    "import os\n",
    "## Office path\n",
    "#os.chdir('C:\\\\Users\\\\Administrator\\\\Desktop\\\\Data\\\\AmazonFineFood\\\\database.sqlite')\n",
    "## Home\n",
    "os.chdir('C:\\\\Users\\\\Admin\\\\Desktop\\\\Data\\\\Amazon Fine Food Reviews\\\\database.sqlite')\n",
    "\n",
    "# using the SQLite Table to read data.\n",
    "con = sqlite3.connect('database.sqlite') \n",
    "\n",
    "#filtering only positive and negative reviews i.e. \n",
    "# not taking into consideration those reviews with Score=3\n",
    "filtered_data = pd.read_sql_query(\"\"\"\n",
    "SELECT *\n",
    "FROM Reviews\n",
    "WHERE Score != 3\n",
    "\"\"\", con) \n",
    "\n",
    "# Give reviews with Score>3 a positive rating, and reviews with a score<3 a negative rating.\n",
    "def partition(x):\n",
    "    if x < 3:\n",
    "        return 'negative'\n",
    "    return 'positive'\n",
    "\n",
    "#changing reviews with score less than 3 to be positive and vice-versa\n",
    "actualScore = filtered_data['Score']\n",
    "positiveNegative = actualScore.map(partition) \n",
    "filtered_data['Score'] = positiveNegative"
   ]
  },
  {
   "cell_type": "code",
<<<<<<< HEAD
   "execution_count": 2,
=======
   "execution_count": 159,
>>>>>>> 9d21e52f3773069c53a1812c4b3b265b7c954710
   "metadata": {},
   "outputs": [
    {
     "name": "stdout",
     "output_type": "stream",
     "text": [
      "(443777, 10)\n",
      "(82037, 10)\n",
      "positive    3000\n",
      "negative     800\n",
      "Name: Score, dtype: int64\n"
     ]
    }
   ],
   "source": [
    "filtered_data.shape #looking at the number of attributes and size of the data\n",
    "Positive=filtered_data.loc[filtered_data['Score']=='positive',:]\n",
    "Negative=filtered_data.loc[filtered_data['Score']=='negative',:]\n",
    "print(Positive.shape)\n",
    "print(Negative.shape)\n",
    "#filtered_data.head()\n",
    "Positive=Positive.iloc[0:3000,:].reset_index(drop=True)\n",
    "Negative=Negative.iloc[0:800,:].reset_index(drop=True)\n",
    "\n",
<<<<<<< HEAD
    "filtered_data=pd.concat([Positive,Negative],axis=0)\n"
   ]
  },
  {
   "cell_type": "code",
   "execution_count": 3,
   "metadata": {},
   "outputs": [
    {
     "data": {
      "text/plain": [
       "positive    3000\n",
       "negative     800\n",
       "Name: Score, dtype: int64"
      ]
     },
     "execution_count": 3,
     "metadata": {},
     "output_type": "execute_result"
    }
   ],
   "source": [
    "filtered_data['Score'].value_counts()"
=======
    "filtered_data=pd.concat([Positive,Negative],axis=0)\n",
    "filtered_data=filtered_data.reset_index(drop=True)\n",
    "print(filtered_data['Score'].value_counts())"
>>>>>>> 9d21e52f3773069c53a1812c4b3b265b7c954710
   ]
  },
  {
   "cell_type": "markdown",
   "metadata": {},
   "source": [
    "#  Exploratory Data Analysis\n",
    "\n",
    "## [7.1.2] Data Cleaning: Deduplication\n",
    "\n",
    "It is observed (as shown in the table below) that the reviews data had many duplicate entries. Hence it was necessary to remove duplicates in order to get unbiased results for the analysis of the data.  Following is an example:"
   ]
  },
  {
   "cell_type": "code",
   "execution_count": 160,
   "metadata": {
    "scrolled": true
   },
   "outputs": [
    {
     "data": {
      "text/html": [
       "<div>\n",
       "<style scoped>\n",
       "    .dataframe tbody tr th:only-of-type {\n",
       "        vertical-align: middle;\n",
       "    }\n",
       "\n",
       "    .dataframe tbody tr th {\n",
       "        vertical-align: top;\n",
       "    }\n",
       "\n",
       "    .dataframe thead th {\n",
       "        text-align: right;\n",
       "    }\n",
       "</style>\n",
       "<table border=\"1\" class=\"dataframe\">\n",
       "  <thead>\n",
       "    <tr style=\"text-align: right;\">\n",
       "      <th></th>\n",
       "      <th>Id</th>\n",
       "      <th>ProductId</th>\n",
       "      <th>UserId</th>\n",
       "      <th>ProfileName</th>\n",
       "      <th>HelpfulnessNumerator</th>\n",
       "      <th>HelpfulnessDenominator</th>\n",
       "      <th>Score</th>\n",
       "      <th>Time</th>\n",
       "      <th>Summary</th>\n",
       "      <th>Text</th>\n",
       "    </tr>\n",
       "  </thead>\n",
       "  <tbody>\n",
       "    <tr>\n",
       "      <th>0</th>\n",
       "      <td>78445</td>\n",
       "      <td>B000HDL1RQ</td>\n",
       "      <td>AR5J8UI46CURR</td>\n",
       "      <td>Geetha Krishnan</td>\n",
       "      <td>2</td>\n",
       "      <td>2</td>\n",
       "      <td>5</td>\n",
       "      <td>1199577600</td>\n",
       "      <td>LOACKER QUADRATINI VANILLA WAFERS</td>\n",
       "      <td>DELICIOUS WAFERS. I FIND THAT EUROPEAN WAFERS ...</td>\n",
       "    </tr>\n",
       "    <tr>\n",
       "      <th>1</th>\n",
       "      <td>138317</td>\n",
       "      <td>B000HDOPYC</td>\n",
       "      <td>AR5J8UI46CURR</td>\n",
       "      <td>Geetha Krishnan</td>\n",
       "      <td>2</td>\n",
       "      <td>2</td>\n",
       "      <td>5</td>\n",
       "      <td>1199577600</td>\n",
       "      <td>LOACKER QUADRATINI VANILLA WAFERS</td>\n",
       "      <td>DELICIOUS WAFERS. I FIND THAT EUROPEAN WAFERS ...</td>\n",
       "    </tr>\n",
       "    <tr>\n",
       "      <th>2</th>\n",
       "      <td>138277</td>\n",
       "      <td>B000HDOPYM</td>\n",
       "      <td>AR5J8UI46CURR</td>\n",
       "      <td>Geetha Krishnan</td>\n",
       "      <td>2</td>\n",
       "      <td>2</td>\n",
       "      <td>5</td>\n",
       "      <td>1199577600</td>\n",
       "      <td>LOACKER QUADRATINI VANILLA WAFERS</td>\n",
       "      <td>DELICIOUS WAFERS. I FIND THAT EUROPEAN WAFERS ...</td>\n",
       "    </tr>\n",
       "    <tr>\n",
       "      <th>3</th>\n",
       "      <td>73791</td>\n",
       "      <td>B000HDOPZG</td>\n",
       "      <td>AR5J8UI46CURR</td>\n",
       "      <td>Geetha Krishnan</td>\n",
       "      <td>2</td>\n",
       "      <td>2</td>\n",
       "      <td>5</td>\n",
       "      <td>1199577600</td>\n",
       "      <td>LOACKER QUADRATINI VANILLA WAFERS</td>\n",
       "      <td>DELICIOUS WAFERS. I FIND THAT EUROPEAN WAFERS ...</td>\n",
       "    </tr>\n",
       "    <tr>\n",
       "      <th>4</th>\n",
       "      <td>155049</td>\n",
       "      <td>B000PAQ75C</td>\n",
       "      <td>AR5J8UI46CURR</td>\n",
       "      <td>Geetha Krishnan</td>\n",
       "      <td>2</td>\n",
       "      <td>2</td>\n",
       "      <td>5</td>\n",
       "      <td>1199577600</td>\n",
       "      <td>LOACKER QUADRATINI VANILLA WAFERS</td>\n",
       "      <td>DELICIOUS WAFERS. I FIND THAT EUROPEAN WAFERS ...</td>\n",
       "    </tr>\n",
       "  </tbody>\n",
       "</table>\n",
       "</div>"
      ],
      "text/plain": [
       "       Id   ProductId         UserId      ProfileName  HelpfulnessNumerator  \\\n",
       "0   78445  B000HDL1RQ  AR5J8UI46CURR  Geetha Krishnan                     2   \n",
       "1  138317  B000HDOPYC  AR5J8UI46CURR  Geetha Krishnan                     2   \n",
       "2  138277  B000HDOPYM  AR5J8UI46CURR  Geetha Krishnan                     2   \n",
       "3   73791  B000HDOPZG  AR5J8UI46CURR  Geetha Krishnan                     2   \n",
       "4  155049  B000PAQ75C  AR5J8UI46CURR  Geetha Krishnan                     2   \n",
       "\n",
       "   HelpfulnessDenominator  Score        Time  \\\n",
       "0                       2      5  1199577600   \n",
       "1                       2      5  1199577600   \n",
       "2                       2      5  1199577600   \n",
       "3                       2      5  1199577600   \n",
       "4                       2      5  1199577600   \n",
       "\n",
       "                             Summary  \\\n",
       "0  LOACKER QUADRATINI VANILLA WAFERS   \n",
       "1  LOACKER QUADRATINI VANILLA WAFERS   \n",
       "2  LOACKER QUADRATINI VANILLA WAFERS   \n",
       "3  LOACKER QUADRATINI VANILLA WAFERS   \n",
       "4  LOACKER QUADRATINI VANILLA WAFERS   \n",
       "\n",
       "                                                Text  \n",
       "0  DELICIOUS WAFERS. I FIND THAT EUROPEAN WAFERS ...  \n",
       "1  DELICIOUS WAFERS. I FIND THAT EUROPEAN WAFERS ...  \n",
       "2  DELICIOUS WAFERS. I FIND THAT EUROPEAN WAFERS ...  \n",
       "3  DELICIOUS WAFERS. I FIND THAT EUROPEAN WAFERS ...  \n",
       "4  DELICIOUS WAFERS. I FIND THAT EUROPEAN WAFERS ...  "
      ]
     },
     "execution_count": 160,
     "metadata": {},
     "output_type": "execute_result"
    }
   ],
   "source": [
    "display= pd.read_sql_query(\"\"\"\n",
    "SELECT *\n",
    "FROM Reviews\n",
    "WHERE Score != 3 AND UserId=\"AR5J8UI46CURR\"\n",
    "ORDER BY ProductID\n",
    "\"\"\", con)\n",
    "display"
   ]
  },
  {
   "cell_type": "markdown",
   "metadata": {},
   "source": [
    "As can be seen above the same user has multiple reviews of the with the same values for HelpfulnessNumerator, HelpfulnessDenominator, Score, Time, Summary and Text  and on doing analysis it was found that <br>\n",
    "<br> \n",
    "ProductId=B000HDOPZG was Loacker Quadratini Vanilla Wafer Cookies, 8.82-Ounce Packages (Pack of 8)<br>\n",
    "<br> \n",
    "ProductId=B000HDL1RQ was Loacker Quadratini Lemon Wafer Cookies, 8.82-Ounce Packages (Pack of 8) and so on<br>\n",
    "\n",
    "It was inferred after analysis that reviews with same parameters other than ProductId belonged to the same product just having different flavour or quantity. Hence in order to reduce redundancy it was decided to eliminate the rows having same parameters.<br>\n",
    "\n",
    "The method used for the same was that we first sort the data according to ProductId and then just keep the first similar product review and delelte the others. for eg. in the above just the review for ProductId=B000HDL1RQ remains. This method ensures that there is only one representative for each product and deduplication without sorting would lead to possibility of different representatives still existing for the same product."
   ]
  },
  {
   "cell_type": "code",
<<<<<<< HEAD
   "execution_count": 5,
=======
   "execution_count": 161,
>>>>>>> 9d21e52f3773069c53a1812c4b3b265b7c954710
   "metadata": {},
   "outputs": [],
   "source": [
    "#Sorting data according to ProductId in ascending order\n",
    "sorted_data=filtered_data.sort_values('ProductId', axis=0, ascending=True, inplace=False, kind='quicksort', na_position='last')"
   ]
  },
  {
   "cell_type": "code",
<<<<<<< HEAD
   "execution_count": 6,
=======
   "execution_count": 162,
>>>>>>> 9d21e52f3773069c53a1812c4b3b265b7c954710
   "metadata": {},
   "outputs": [
    {
     "data": {
      "text/plain": [
       "(3789, 10)"
      ]
     },
<<<<<<< HEAD
     "execution_count": 6,
=======
     "execution_count": 162,
>>>>>>> 9d21e52f3773069c53a1812c4b3b265b7c954710
     "metadata": {},
     "output_type": "execute_result"
    }
   ],
   "source": [
    "#Deduplication of entries\n",
    "final=sorted_data.drop_duplicates(subset={\"UserId\",\"ProfileName\",\"Time\",\"Text\"}, keep='first', inplace=False)\n",
    "final.shape"
   ]
  },
  {
   "cell_type": "code",
<<<<<<< HEAD
   "execution_count": 7,
=======
   "execution_count": 163,
>>>>>>> 9d21e52f3773069c53a1812c4b3b265b7c954710
   "metadata": {},
   "outputs": [
    {
     "data": {
      "text/plain": [
       "99.71052631578947"
      ]
     },
<<<<<<< HEAD
     "execution_count": 7,
=======
     "execution_count": 163,
>>>>>>> 9d21e52f3773069c53a1812c4b3b265b7c954710
     "metadata": {},
     "output_type": "execute_result"
    }
   ],
   "source": [
    "#Checking to see how much % of data still remains\n",
    "(final['Id'].size*1.0)/(filtered_data['Id'].size*1.0)*100"
   ]
  },
  {
   "cell_type": "markdown",
   "metadata": {},
   "source": [
    "<b>Observation:-</b> It was also seen that in two rows given below the value of HelpfulnessNumerator is greater than HelpfulnessDenominator which is not practically possible hence these two rows too are removed from calcualtions"
   ]
  },
  {
   "cell_type": "code",
<<<<<<< HEAD
   "execution_count": 8,
=======
   "execution_count": 164,
>>>>>>> 9d21e52f3773069c53a1812c4b3b265b7c954710
   "metadata": {},
   "outputs": [
    {
     "data": {
      "text/html": [
       "<div>\n",
       "<style scoped>\n",
       "    .dataframe tbody tr th:only-of-type {\n",
       "        vertical-align: middle;\n",
       "    }\n",
       "\n",
       "    .dataframe tbody tr th {\n",
       "        vertical-align: top;\n",
       "    }\n",
       "\n",
       "    .dataframe thead th {\n",
       "        text-align: right;\n",
       "    }\n",
       "</style>\n",
       "<table border=\"1\" class=\"dataframe\">\n",
       "  <thead>\n",
       "    <tr style=\"text-align: right;\">\n",
       "      <th></th>\n",
       "      <th>Id</th>\n",
       "      <th>ProductId</th>\n",
       "      <th>UserId</th>\n",
       "      <th>ProfileName</th>\n",
       "      <th>HelpfulnessNumerator</th>\n",
       "      <th>HelpfulnessDenominator</th>\n",
       "      <th>Score</th>\n",
       "      <th>Time</th>\n",
       "      <th>Summary</th>\n",
       "      <th>Text</th>\n",
       "    </tr>\n",
       "  </thead>\n",
       "  <tbody>\n",
       "    <tr>\n",
       "      <th>0</th>\n",
       "      <td>64422</td>\n",
       "      <td>B000MIDROQ</td>\n",
       "      <td>A161DK06JJMCYF</td>\n",
       "      <td>J. E. Stephens \"Jeanne\"</td>\n",
       "      <td>3</td>\n",
       "      <td>1</td>\n",
       "      <td>5</td>\n",
       "      <td>1224892800</td>\n",
       "      <td>Bought This for My Son at College</td>\n",
       "      <td>My son loves spaghetti so I didn't hesitate or...</td>\n",
       "    </tr>\n",
       "    <tr>\n",
       "      <th>1</th>\n",
       "      <td>44737</td>\n",
       "      <td>B001EQ55RW</td>\n",
       "      <td>A2V0I904FH7ABY</td>\n",
       "      <td>Ram</td>\n",
       "      <td>3</td>\n",
       "      <td>2</td>\n",
       "      <td>4</td>\n",
       "      <td>1212883200</td>\n",
       "      <td>Pure cocoa taste with crunchy almonds inside</td>\n",
       "      <td>It was almost a 'love at first bite' - the per...</td>\n",
       "    </tr>\n",
       "  </tbody>\n",
       "</table>\n",
       "</div>"
      ],
      "text/plain": [
       "      Id   ProductId          UserId              ProfileName  \\\n",
       "0  64422  B000MIDROQ  A161DK06JJMCYF  J. E. Stephens \"Jeanne\"   \n",
       "1  44737  B001EQ55RW  A2V0I904FH7ABY                      Ram   \n",
       "\n",
       "   HelpfulnessNumerator  HelpfulnessDenominator  Score        Time  \\\n",
       "0                     3                       1      5  1224892800   \n",
       "1                     3                       2      4  1212883200   \n",
       "\n",
       "                                        Summary  \\\n",
       "0             Bought This for My Son at College   \n",
       "1  Pure cocoa taste with crunchy almonds inside   \n",
       "\n",
       "                                                Text  \n",
       "0  My son loves spaghetti so I didn't hesitate or...  \n",
       "1  It was almost a 'love at first bite' - the per...  "
      ]
     },
<<<<<<< HEAD
     "execution_count": 8,
=======
     "execution_count": 164,
>>>>>>> 9d21e52f3773069c53a1812c4b3b265b7c954710
     "metadata": {},
     "output_type": "execute_result"
    }
   ],
   "source": [
    "display= pd.read_sql_query(\"\"\"\n",
    "SELECT *\n",
    "FROM Reviews\n",
    "WHERE Score != 3 AND Id=44737 OR Id=64422\n",
    "ORDER BY ProductID\n",
    "\"\"\", con)\n",
    "display\n"
   ]
  },
  {
   "cell_type": "code",
<<<<<<< HEAD
   "execution_count": 9,
=======
   "execution_count": 165,
>>>>>>> 9d21e52f3773069c53a1812c4b3b265b7c954710
   "metadata": {},
   "outputs": [],
   "source": [
    "final=final[final.HelpfulnessNumerator<=final.HelpfulnessDenominator]\n",
    "final=final.reset_index(drop=True)"
   ]
  },
  {
   "cell_type": "code",
<<<<<<< HEAD
   "execution_count": 10,
=======
   "execution_count": 166,
>>>>>>> 9d21e52f3773069c53a1812c4b3b265b7c954710
   "metadata": {},
   "outputs": [
    {
     "name": "stdout",
     "output_type": "stream",
     "text": [
      "(3789, 10)\n"
     ]
    },
    {
     "data": {
      "text/plain": [
       "positive    2994\n",
       "negative     795\n",
       "Name: Score, dtype: int64"
      ]
     },
<<<<<<< HEAD
     "execution_count": 10,
=======
     "execution_count": 166,
>>>>>>> 9d21e52f3773069c53a1812c4b3b265b7c954710
     "metadata": {},
     "output_type": "execute_result"
    }
   ],
   "source": [
    "#Before starting the next phase of preprocessing lets see the number of entries left\n",
    "print(final.shape)\n",
    "\n",
    "#How many positive and negative reviews are present in our dataset?\n",
    "final['Score'].value_counts()"
   ]
  },
  {
   "cell_type": "markdown",
   "metadata": {},
   "source": [
    "## 7.2.3  Text Preprocessing: Stemming, stop-word removal and Lemmatization.\n",
    "\n",
    "Now that we have finished deduplication our data requires some preprocessing before we go on further with analysis and making the prediction model.\n",
    "\n",
    "Hence in the Preprocessing phase we do the following in the order below:-\n",
    "\n",
    "1. Begin by removing the html tags\n",
    "2. Remove any punctuations or limited set of special characters like , or . or # etc.\n",
    "3. Check if the word is made up of english letters and is not alpha-numeric\n",
    "4. Check to see if the length of the word is greater than 2 (as it was researched that there is no adjective in 2-letters)\n",
    "5. Convert the word to lowercase\n",
    "6. Remove Stopwords\n",
    "7. Finally Snowball Stemming the word (it was obsereved to be better than Porter Stemming)<br>\n",
    "\n",
    "After which we collect the words used to describe positive and negative reviews"
   ]
  },
  {
   "cell_type": "code",
<<<<<<< HEAD
   "execution_count": 11,
=======
   "execution_count": 167,
>>>>>>> 9d21e52f3773069c53a1812c4b3b265b7c954710
   "metadata": {},
   "outputs": [
    {
     "name": "stdout",
     "output_type": "stream",
     "text": [
      "1\n",
      "Why is this $[...] when the same product is available for $[...] here?<br />http://www.amazon.com/VICTOR-FLY-MAGNET-BAIT-REFILL/dp/B00004RBDY<br /><br />The Victor M380 and M502 traps are unreal, of course -- total fly genocide. Pretty stinky, but only right nearby.\n"
     ]
    }
   ],
   "source": [
    "# find sentences containing HTML tags\n",
    "import re\n",
    "i=0;\n",
    "for sent in final['Text'].values:\n",
    "    if (len(re.findall('<.*?>', sent))):\n",
    "        print(i)\n",
    "        print(sent)\n",
    "        break;\n",
    "    i += 1;    \n",
    "\n",
    "        "
   ]
  },
  {
   "cell_type": "code",
<<<<<<< HEAD
   "execution_count": 12,
=======
   "execution_count": 168,
>>>>>>> 9d21e52f3773069c53a1812c4b3b265b7c954710
   "metadata": {},
   "outputs": [
    {
     "name": "stdout",
     "output_type": "stream",
     "text": [
<<<<<<< HEAD
      "{'both', 'hers', 'an', 'and', 'why', \"didn't\", 'ma', \"it's\", 'about', 'isn', 'been', 'her', 'the', \"don't\", 'after', 'from', 'i', 'by', 'o', 'then', \"hadn't\", 'is', 'through', 'his', 'ourselves', 'where', 'yourself', 'who', 'hasn', 'your', 'very', 'won', \"aren't\", 'not', \"mightn't\", 'have', 'other', 'they', \"needn't\", 'you', 'but', \"you'd\", 'for', 'its', 'of', 'doing', 'below', \"shan't\", \"you're\", 'out', 'or', 'myself', 'm', 'nor', 'just', 'themselves', 'aren', \"weren't\", 'did', 'in', 'wouldn', 'down', 'itself', 'now', 'at', 'should', \"haven't\", 'what', 'my', 'ain', 'when', 'it', 'haven', \"won't\", 'because', 'into', 'him', 'between', 'which', \"you'll\", 'mustn', 'he', 'as', 'if', 'be', 'most', 'had', 'will', 'don', 'll', 'having', \"you've\", 'same', 'theirs', 'me', \"isn't\", 'under', 're', 'them', \"wouldn't\", 've', 'didn', 'that', 'ours', 'was', \"she's\", 'wasn', 'more', \"doesn't\", 'those', 'once', 'too', \"mustn't\", \"hasn't\", \"couldn't\", 'are', 'hadn', 'during', 'no', 'needn', \"wasn't\", 'd', 'whom', 'over', 'were', 'such', 'doesn', 'shouldn', 'himself', \"that'll\", 'all', 'so', 'some', 'y', 'further', 'being', 'she', 'with', 'does', 'our', 'do', 'these', 't', 'mightn', 'we', 'yours', 'few', 'there', 'own', 'off', 'has', 'above', 'this', 'here', 'can', 'up', 'yourselves', 'shan', 'weren', 'couldn', 'only', 'am', 'than', \"shouldn't\", 'their', 'any', 'how', 'to', 'until', 'herself', 'before', 'on', 'each', 's', \"should've\", 'again', 'against', 'a', 'while'}\n",
=======
      "{'your', 're', 'further', 'nor', \"you're\", 'into', 'our', 'both', \"didn't\", 'at', \"doesn't\", 'off', 'how', 'these', 'has', \"aren't\", 'he', 'that', 'herself', 'during', 'mustn', 'd', \"hasn't\", 'she', 'there', \"wasn't\", 'between', 'such', 'what', \"it's\", 've', 'isn', 'haven', 'who', 'from', 'yourself', 'about', 'no', 's', 'it', 'before', 'aren', 'been', 'their', 'can', 'wasn', 'hasn', 'as', 'itself', 'weren', 'those', 'just', 'against', \"you've\", 'why', 'when', 't', 'are', 'to', 'on', 'the', \"needn't\", \"haven't\", 'but', 'a', 'will', 'through', \"you'd\", 'and', 'hadn', 'you', 'theirs', 'so', 'were', 'ma', 'doesn', 'shan', 'myself', \"you'll\", 'this', 'too', 'doing', 'couldn', 'her', 'ain', 'other', 'up', 'here', 'being', 'only', 'yours', \"mustn't\", 'is', 'whom', 'than', 'mightn', 'or', 'am', 'shouldn', 'himself', \"shouldn't\", 'of', 'over', 'them', 'his', 'i', 'do', \"don't\", \"hadn't\", 'ourselves', \"couldn't\", 'we', 'out', 'below', 'under', 'does', 'themselves', 'above', 'again', 'now', 'until', 'had', 'wouldn', 'most', 'which', 'some', 'while', 'once', \"won't\", 'll', \"she's\", 'down', 'where', 'then', 'needn', 'own', \"should've\", 'have', 'me', 'o', 'be', 'any', 'having', 'yourselves', 'did', 'an', 'y', \"mightn't\", 'each', 'don', 'all', 'same', 'few', 'very', 'with', 'should', 'they', \"wouldn't\", 'my', 'won', 'its', \"weren't\", \"shan't\", 'not', 'more', 'for', 'm', \"that'll\", 'didn', 'was', 'if', 'hers', 'by', \"isn't\", 'because', 'ours', 'him', 'after', 'in'}\n",
>>>>>>> 9d21e52f3773069c53a1812c4b3b265b7c954710
      "************************************\n",
      "tasti\n"
     ]
    }
   ],
   "source": [
    "import re\n",
    "# Tutorial about Python regular expressions: https://pymotw.com/2/re/\n",
    "import string\n",
    "from nltk.corpus import stopwords\n",
    "from nltk.stem import PorterStemmer\n",
    "from nltk.stem.wordnet import WordNetLemmatizer\n",
    "\n",
    "stop = set(stopwords.words('english')) #set of stopwords\n",
    "sno = nltk.stem.SnowballStemmer('english') #initialising the snowball stemmer\n",
    "\n",
    "def cleanhtml(sentence): #function to clean the word of any html-tags\n",
    "    cleanr = re.compile('<.*?>')\n",
    "    cleantext = re.sub(cleanr, ' ', sentence)\n",
    "    return cleantext\n",
    "def cleanpunc(sentence): #function to clean the word of any punctuation or special characters\n",
    "    cleaned = re.sub(r'[?|!|\\'|\"|#]',r'',sentence)\n",
    "    cleaned = re.sub(r'[.|,|)|(|\\|/]',r' ',cleaned)\n",
    "    return  cleaned\n",
    "print(stop)\n",
    "print('************************************')\n",
    "print(sno.stem('tasty'))"
   ]
  },
  {
   "cell_type": "code",
<<<<<<< HEAD
   "execution_count": 13,
=======
   "execution_count": 169,
>>>>>>> 9d21e52f3773069c53a1812c4b3b265b7c954710
   "metadata": {},
   "outputs": [],
   "source": [
    "#Code for implementing step-by-step the checks mentioned in the pre-processing phase\n",
    "# this code takes a while to run as it needs to run on 500k sentences.\n",
    "i=0\n",
    "str1=' '\n",
    "final_string=[]\n",
    "all_positive_words=[] # store words from +ve reviews here\n",
    "all_negative_words=[] # store words from -ve reviews here.\n",
    "s=''\n",
    "for sent in final['Text'].values:\n",
    "    filtered_sentence=[]\n",
    "    #print(sent);\n",
    "    sent=cleanhtml(sent) # remove HTMl tags\n",
    "    for w in sent.split():\n",
    "        for cleaned_words in cleanpunc(w).split():\n",
    "            if((cleaned_words.isalpha()) & (len(cleaned_words)>2)):    \n",
    "                if(cleaned_words.lower() not in stop):\n",
    "                    s=(sno.stem(cleaned_words.lower())).encode('utf8')\n",
    "                    filtered_sentence.append(s)\n",
    "                    if (final['Score'].values)[i] == 'positive': \n",
    "                        all_positive_words.append(s) #list of all words used to describe positive reviews\n",
    "                    if(final['Score'].values)[i] == 'negative':\n",
    "                        all_negative_words.append(s) #list of all words used to describe negative reviews reviews\n",
    "                else:\n",
    "                    continue\n",
    "            else:\n",
    "                continue \n",
    "    #print(filtered_sentence)\n",
    "    str1 = b\" \".join(filtered_sentence) #final string of cleaned words\n",
    "    #print(\"***********************************************************************\")\n",
    "    \n",
    "    final_string.append(str1)\n",
    "    i+=1"
   ]
  },
  {
   "cell_type": "code",
<<<<<<< HEAD
   "execution_count": 14,
=======
   "execution_count": 170,
>>>>>>> 9d21e52f3773069c53a1812c4b3b265b7c954710
   "metadata": {},
   "outputs": [],
   "source": [
    "final['CleanedText']=final_string #adding a column of CleanedText which displays the data after pre-processing of the review "
   ]
  },
  {
   "cell_type": "code",
<<<<<<< HEAD
   "execution_count": 15,
=======
   "execution_count": 171,
>>>>>>> 9d21e52f3773069c53a1812c4b3b265b7c954710
   "metadata": {
    "scrolled": false
   },
   "outputs": [],
   "source": [
    "final.head(3) #below the processed review can be seen in the CleanedText Column \n",
    "\n",
    "\n",
    "# store final table into an SQlLite table for future.\n",
    "conn = sqlite3.connect('final.sqlite')\n",
    "c=conn.cursor()\n",
    "conn.text_factory = str\n",
    "final.to_sql('Reviews', conn, schema=None, if_exists='replace', index=True, index_label=None, chunksize=None, dtype=None)"
   ]
  },
  {
   "cell_type": "markdown",
   "metadata": {},
   "source": [
    "# [7.2.2] Bag of Words (BoW)"
   ]
  },
  {
   "cell_type": "code",
<<<<<<< HEAD
   "execution_count": 16,
=======
   "execution_count": 172,
>>>>>>> 9d21e52f3773069c53a1812c4b3b265b7c954710
   "metadata": {},
   "outputs": [],
   "source": [
    "#BoW\n",
    "count_vect = CountVectorizer() #in scikit-learn\n",
    "count_vect.fit(final['Text'].values)\n",
    "final_counts = count_vect.transform(final['Text'].values)\n",
    "features=count_vect.get_feature_names()\n",
    "final_counts=final_counts.toarray()\n",
    "final_counts=pd.DataFrame(final_counts,columns=features)"
   ]
  },
  {
   "cell_type": "code",
<<<<<<< HEAD
   "execution_count": 17,
=======
   "execution_count": 173,
>>>>>>> 9d21e52f3773069c53a1812c4b3b265b7c954710
   "metadata": {},
   "outputs": [],
   "source": [
    "y=final['Score']"
   ]
  },
  {
   "cell_type": "code",
<<<<<<< HEAD
   "execution_count": 18,
=======
   "execution_count": 174,
>>>>>>> 9d21e52f3773069c53a1812c4b3b265b7c954710
   "metadata": {},
   "outputs": [],
   "source": [
    "## Train and Test Split"
   ]
  },
  {
   "cell_type": "code",
<<<<<<< HEAD
   "execution_count": 19,
=======
   "execution_count": 175,
>>>>>>> 9d21e52f3773069c53a1812c4b3b265b7c954710
   "metadata": {},
   "outputs": [],
   "source": [
    "from sklearn.model_selection import train_test_split\n"
   ]
  },
  {
   "cell_type": "code",
<<<<<<< HEAD
   "execution_count": 20,
=======
   "execution_count": 176,
>>>>>>> 9d21e52f3773069c53a1812c4b3b265b7c954710
   "metadata": {},
   "outputs": [],
   "source": [
    "X_train,X_test,y_train,y_test=train_test_split(final_counts,y,test_size=0.3,random_state=42)"
   ]
  },
  {
   "cell_type": "code",
<<<<<<< HEAD
   "execution_count": 21,
=======
   "execution_count": 65,
>>>>>>> 9d21e52f3773069c53a1812c4b3b265b7c954710
   "metadata": {},
   "outputs": [
    {
     "data": {
      "text/plain": [
       "1852    positive\n",
       "265     positive\n",
       "2140    positive\n",
       "1798    positive\n",
       "723     positive\n",
       "225     positive\n",
       "625     positive\n",
       "2582    positive\n",
       "3167    negative\n",
       "2869    negative\n",
       "1433    positive\n",
       "1227    positive\n",
       "2689    positive\n",
       "718     positive\n",
       "1010    positive\n",
       "3606    negative\n",
       "2117    positive\n",
       "2734    negative\n",
       "1116    negative\n",
       "301     positive\n",
       "1119    positive\n",
       "1377    negative\n",
       "1782    negative\n",
       "104     positive\n",
       "1678    positive\n",
       "2105    negative\n",
       "2813    positive\n",
       "3342    positive\n",
       "3525    positive\n",
       "543     positive\n",
       "          ...   \n",
       "136     positive\n",
       "1341    positive\n",
       "2965    positive\n",
       "2870    negative\n",
       "2008    positive\n",
       "1301    positive\n",
       "1090    positive\n",
       "3261    positive\n",
       "1082    positive\n",
       "3455    positive\n",
       "3271    positive\n",
       "2748    positive\n",
       "729     negative\n",
       "418     positive\n",
       "852     negative\n",
       "1628    positive\n",
       "2654    positive\n",
       "3323    positive\n",
       "2705    negative\n",
       "1429    negative\n",
       "3749    negative\n",
       "3514    positive\n",
       "983     positive\n",
       "2159    positive\n",
       "909     positive\n",
       "2836    positive\n",
       "2826    positive\n",
       "2857    positive\n",
       "613     positive\n",
       "53      positive\n",
       "Name: Score, Length: 1137, dtype: object"
      ]
     },
<<<<<<< HEAD
     "execution_count": 21,
=======
     "execution_count": 65,
>>>>>>> 9d21e52f3773069c53a1812c4b3b265b7c954710
     "metadata": {},
     "output_type": "execute_result"
    }
   ],
   "source": [
<<<<<<< HEAD
=======
    "y_test\n"
   ]
  },
  {
   "cell_type": "code",
   "execution_count": 21,
   "metadata": {},
   "outputs": [
    {
     "data": {
      "text/plain": [
       "(1137,)"
      ]
     },
     "execution_count": 21,
     "metadata": {},
     "output_type": "execute_result"
    }
   ],
   "source": [
>>>>>>> 9d21e52f3773069c53a1812c4b3b265b7c954710
    "y_test.shape"
   ]
  },
  {
   "cell_type": "code",
   "execution_count": 74,
   "metadata": {},
   "outputs": [],
   "source": [
    "from sklearn.decomposition import PCA\n",
    "pca=PCA(n_components=500)\n",
    "pca.fit(X_train)\n",
    "pca_data=pca.transform(X_train)"
   ]
  },
  {
   "cell_type": "code",
   "execution_count": 75,
   "metadata": {},
   "outputs": [
    {
     "name": "stdout",
     "output_type": "stream",
     "text": [
      "(500, 11621)\n",
      "(2652, 11621)\n",
      "(2652, 500)\n"
     ]
    }
   ],
   "source": [
    "print(pca.components_.shape)\n",
    "print(X_train.shape)\n",
    "print(pca_data.shape)"
   ]
  },
  {
   "cell_type": "code",
   "execution_count": 76,
   "metadata": {
    "scrolled": true
   },
   "outputs": [
    {
     "name": "stdout",
     "output_type": "stream",
     "text": [
      "shape of pca_reduced.shape =  (2652, 500)\n"
     ]
    },
    {
     "data": {
      "text/html": [
       "<div>\n",
       "<style scoped>\n",
       "    .dataframe tbody tr th:only-of-type {\n",
       "        vertical-align: middle;\n",
       "    }\n",
       "\n",
       "    .dataframe tbody tr th {\n",
       "        vertical-align: top;\n",
       "    }\n",
       "\n",
       "    .dataframe thead th {\n",
       "        text-align: right;\n",
       "    }\n",
       "</style>\n",
       "<table border=\"1\" class=\"dataframe\">\n",
       "  <thead>\n",
       "    <tr style=\"text-align: right;\">\n",
       "      <th></th>\n",
       "      <th>0</th>\n",
       "      <th>1</th>\n",
       "      <th>2</th>\n",
       "      <th>3</th>\n",
       "      <th>4</th>\n",
       "      <th>5</th>\n",
       "      <th>6</th>\n",
       "      <th>7</th>\n",
       "      <th>8</th>\n",
       "      <th>9</th>\n",
       "      <th>...</th>\n",
       "      <th>491</th>\n",
       "      <th>492</th>\n",
       "      <th>493</th>\n",
       "      <th>494</th>\n",
       "      <th>495</th>\n",
       "      <th>496</th>\n",
       "      <th>497</th>\n",
       "      <th>498</th>\n",
       "      <th>499</th>\n",
       "      <th>500</th>\n",
       "    </tr>\n",
       "  </thead>\n",
       "  <tbody>\n",
       "    <tr>\n",
       "      <th>0</th>\n",
       "      <td>2.97199</td>\n",
       "      <td>-2.72212</td>\n",
       "      <td>0.966632</td>\n",
       "      <td>-1.21379</td>\n",
       "      <td>0.301464</td>\n",
       "      <td>-0.209535</td>\n",
       "      <td>-0.0787734</td>\n",
       "      <td>-0.0885533</td>\n",
       "      <td>3.09032</td>\n",
       "      <td>0.587701</td>\n",
       "      <td>...</td>\n",
       "      <td>-0.219913</td>\n",
       "      <td>0.136923</td>\n",
       "      <td>0.00543294</td>\n",
       "      <td>0.115642</td>\n",
       "      <td>0.162903</td>\n",
       "      <td>0.304424</td>\n",
       "      <td>0.00449056</td>\n",
       "      <td>-0.114887</td>\n",
       "      <td>-0.039698</td>\n",
       "      <td>positive</td>\n",
       "    </tr>\n",
       "    <tr>\n",
       "      <th>1</th>\n",
       "      <td>-2.16426</td>\n",
       "      <td>-0.999709</td>\n",
       "      <td>1.27651</td>\n",
       "      <td>-1.60547</td>\n",
       "      <td>0.378015</td>\n",
       "      <td>-0.495626</td>\n",
       "      <td>-1.03789</td>\n",
       "      <td>-0.187944</td>\n",
       "      <td>1.19893</td>\n",
       "      <td>0.11626</td>\n",
       "      <td>...</td>\n",
       "      <td>0.0633308</td>\n",
       "      <td>-0.122086</td>\n",
       "      <td>-0.0296865</td>\n",
       "      <td>0.00359057</td>\n",
       "      <td>0.133311</td>\n",
       "      <td>0.0640455</td>\n",
       "      <td>-0.0913589</td>\n",
       "      <td>0.122725</td>\n",
       "      <td>0.0187035</td>\n",
       "      <td>negative</td>\n",
       "    </tr>\n",
       "    <tr>\n",
       "      <th>2</th>\n",
       "      <td>20.2688</td>\n",
       "      <td>-6.14334</td>\n",
       "      <td>-4.00125</td>\n",
       "      <td>-7.05674</td>\n",
       "      <td>0.943716</td>\n",
       "      <td>0.654317</td>\n",
       "      <td>-5.82614</td>\n",
       "      <td>0.71502</td>\n",
       "      <td>8.31639</td>\n",
       "      <td>-2.74345</td>\n",
       "      <td>...</td>\n",
       "      <td>-0.152416</td>\n",
       "      <td>-0.294072</td>\n",
       "      <td>0.164928</td>\n",
       "      <td>0.0206952</td>\n",
       "      <td>-0.0217094</td>\n",
       "      <td>0.161905</td>\n",
       "      <td>-0.0569038</td>\n",
       "      <td>0.23332</td>\n",
       "      <td>0.0436457</td>\n",
       "      <td>positive</td>\n",
       "    </tr>\n",
       "    <tr>\n",
       "      <th>3</th>\n",
       "      <td>-3.52662</td>\n",
       "      <td>0.842417</td>\n",
       "      <td>-0.536026</td>\n",
       "      <td>1.73268</td>\n",
       "      <td>-0.439674</td>\n",
       "      <td>1.12988</td>\n",
       "      <td>0.458347</td>\n",
       "      <td>1.78647</td>\n",
       "      <td>0.722198</td>\n",
       "      <td>-0.156296</td>\n",
       "      <td>...</td>\n",
       "      <td>-0.126503</td>\n",
       "      <td>-0.381526</td>\n",
       "      <td>0.180125</td>\n",
       "      <td>-0.168377</td>\n",
       "      <td>0.0685579</td>\n",
       "      <td>0.0180017</td>\n",
       "      <td>0.200752</td>\n",
       "      <td>0.00130139</td>\n",
       "      <td>-0.125384</td>\n",
       "      <td>positive</td>\n",
       "    </tr>\n",
       "    <tr>\n",
       "      <th>4</th>\n",
       "      <td>-0.684182</td>\n",
       "      <td>-0.61107</td>\n",
       "      <td>0.224842</td>\n",
       "      <td>-2.50103</td>\n",
       "      <td>-0.421372</td>\n",
       "      <td>-1.01221</td>\n",
       "      <td>-0.359107</td>\n",
       "      <td>2.78259</td>\n",
       "      <td>0.414517</td>\n",
       "      <td>1.68143</td>\n",
       "      <td>...</td>\n",
       "      <td>-0.167683</td>\n",
       "      <td>0.120329</td>\n",
       "      <td>0.18906</td>\n",
       "      <td>0.0100149</td>\n",
       "      <td>-0.102532</td>\n",
       "      <td>-0.0103483</td>\n",
       "      <td>-0.008972</td>\n",
       "      <td>-0.00271227</td>\n",
       "      <td>-0.182538</td>\n",
       "      <td>positive</td>\n",
       "    </tr>\n",
       "  </tbody>\n",
       "</table>\n",
       "<p>5 rows × 501 columns</p>\n",
       "</div>"
      ],
      "text/plain": [
       "        0         1         2        3         4         5          6    \\\n",
       "0   2.97199  -2.72212  0.966632 -1.21379  0.301464 -0.209535 -0.0787734   \n",
       "1  -2.16426 -0.999709   1.27651 -1.60547  0.378015 -0.495626   -1.03789   \n",
       "2   20.2688  -6.14334  -4.00125 -7.05674  0.943716  0.654317   -5.82614   \n",
       "3  -3.52662  0.842417 -0.536026  1.73268 -0.439674   1.12988   0.458347   \n",
       "4 -0.684182  -0.61107  0.224842 -2.50103 -0.421372  -1.01221  -0.359107   \n",
       "\n",
       "         7         8         9      ...           491       492         493  \\\n",
       "0 -0.0885533   3.09032  0.587701    ...     -0.219913  0.136923  0.00543294   \n",
       "1  -0.187944   1.19893   0.11626    ...     0.0633308 -0.122086  -0.0296865   \n",
       "2    0.71502   8.31639  -2.74345    ...     -0.152416 -0.294072    0.164928   \n",
       "3    1.78647  0.722198 -0.156296    ...     -0.126503 -0.381526    0.180125   \n",
       "4    2.78259  0.414517   1.68143    ...     -0.167683  0.120329     0.18906   \n",
       "\n",
       "          494        495        496         497         498        499  \\\n",
       "0    0.115642   0.162903   0.304424  0.00449056   -0.114887  -0.039698   \n",
       "1  0.00359057   0.133311  0.0640455  -0.0913589    0.122725  0.0187035   \n",
       "2   0.0206952 -0.0217094   0.161905  -0.0569038     0.23332  0.0436457   \n",
       "3   -0.168377  0.0685579  0.0180017    0.200752  0.00130139  -0.125384   \n",
       "4   0.0100149  -0.102532 -0.0103483   -0.008972 -0.00271227  -0.182538   \n",
       "\n",
       "        500  \n",
       "0  positive  \n",
       "1  negative  \n",
       "2  positive  \n",
       "3  positive  \n",
       "4  positive  \n",
       "\n",
       "[5 rows x 501 columns]"
      ]
     },
     "execution_count": 76,
     "metadata": {},
     "output_type": "execute_result"
    }
   ],
   "source": [
    "print(\"shape of pca_reduced.shape = \", pca_data.shape)\n",
    "pca_data=np.vstack((pca_data.T,y_train)).T\n",
    "pca_data=pd.DataFrame(pca_data)\n",
    "pca_data.head()"
   ]
  },
  {
   "cell_type": "code",
   "execution_count": 82,
   "metadata": {},
   "outputs": [
    {
     "name": "stdout",
     "output_type": "stream",
     "text": [
      "[3.43974076e+01 5.45335086e+00 4.62282786e+00 3.36834844e+00\n",
      " 2.17347817e+00 2.02134749e+00 1.84184415e+00 1.76053380e+00\n",
      " 1.47464809e+00 1.28936873e+00 1.14002862e+00 1.11534117e+00\n",
      " 1.09888803e+00 1.06618154e+00 1.03159158e+00 9.45467970e-01\n",
      " 8.79492455e-01 8.42511550e-01 8.09868491e-01 7.82199781e-01\n",
      " 7.50202446e-01 7.13966551e-01 6.93342950e-01 6.54189735e-01\n",
      " 6.28639758e-01 6.16545272e-01 6.07356853e-01 5.62303456e-01\n",
      " 5.55858239e-01 5.36414325e-01 5.27905775e-01 5.15825074e-01\n",
      " 4.92230346e-01 4.78647212e-01 4.68906369e-01 4.60375786e-01\n",
      " 4.54254772e-01 4.35514476e-01 4.15963781e-01 4.10017409e-01\n",
      " 4.01429651e-01 3.87749054e-01 3.80807113e-01 3.78098767e-01\n",
      " 3.70723166e-01 3.66408056e-01 3.50382772e-01 3.47751099e-01\n",
      " 3.40246094e-01 3.37456743e-01 3.27839530e-01 3.27542723e-01\n",
      " 3.20593813e-01 3.08907113e-01 3.05461779e-01 2.98532616e-01\n",
      " 2.90719746e-01 2.89654567e-01 2.81813333e-01 2.77863569e-01\n",
      " 2.73015365e-01 2.70054133e-01 2.64966272e-01 2.60419660e-01\n",
      " 2.58727171e-01 2.53909848e-01 2.49519052e-01 2.49298803e-01\n",
      " 2.46202982e-01 2.38854430e-01 2.37355382e-01 2.33821053e-01\n",
      " 2.29912732e-01 2.27112212e-01 2.23740099e-01 2.19442369e-01\n",
      " 2.17225751e-01 2.14451590e-01 2.11556675e-01 2.09778804e-01\n",
      " 2.05429850e-01 2.04221434e-01 2.01807049e-01 1.98813557e-01\n",
      " 1.96752615e-01 1.95072403e-01 1.90586685e-01 1.89005756e-01\n",
      " 1.88167353e-01 1.84965826e-01 1.83676998e-01 1.80975149e-01\n",
      " 1.79708439e-01 1.78510488e-01 1.76161673e-01 1.74788438e-01\n",
      " 1.72963675e-01 1.71109854e-01 1.69363939e-01 1.66548264e-01\n",
      " 1.66276824e-01 1.63736403e-01 1.61319680e-01 1.60891501e-01\n",
      " 1.59696263e-01 1.59048360e-01 1.56739815e-01 1.55430049e-01\n",
      " 1.53981981e-01 1.51564040e-01 1.49822544e-01 1.48556486e-01\n",
      " 1.47336832e-01 1.46141577e-01 1.44479671e-01 1.43020478e-01\n",
      " 1.41908476e-01 1.41276620e-01 1.39579888e-01 1.38699944e-01\n",
      " 1.37466399e-01 1.36049888e-01 1.34394052e-01 1.33162312e-01\n",
      " 1.32210273e-01 1.31375627e-01 1.30007636e-01 1.29082682e-01\n",
      " 1.28333374e-01 1.27706225e-01 1.26280083e-01 1.25065500e-01\n",
      " 1.22895176e-01 1.22616443e-01 1.21868480e-01 1.20453169e-01\n",
      " 1.19435436e-01 1.19052850e-01 1.17641043e-01 1.17037242e-01\n",
      " 1.16355873e-01 1.15682521e-01 1.15144817e-01 1.14587235e-01\n",
      " 1.13058289e-01 1.11711597e-01 1.11243884e-01 1.10428542e-01\n",
      " 1.09479202e-01 1.09104588e-01 1.08181173e-01 1.07660437e-01\n",
      " 1.07056137e-01 1.06388949e-01 1.05864571e-01 1.05164847e-01\n",
      " 1.04780352e-01 1.03831891e-01 1.03084571e-01 1.02049589e-01\n",
      " 1.01831015e-01 1.01057481e-01 1.00573253e-01 1.00067712e-01\n",
      " 9.97964265e-02 9.88730069e-02 9.82956258e-02 9.70722370e-02\n",
      " 9.67729497e-02 9.57216821e-02 9.49697453e-02 9.46231559e-02\n",
      " 9.41598709e-02 9.37987128e-02 9.29899512e-02 9.28949528e-02\n",
      " 9.22655717e-02 9.15152646e-02 9.09452950e-02 9.03672046e-02\n",
      " 8.93625464e-02 8.88695812e-02 8.82998083e-02 8.76225627e-02\n",
      " 8.72273854e-02 8.69609674e-02 8.60745414e-02 8.55011582e-02\n",
      " 8.50776124e-02 8.46821147e-02 8.41119856e-02 8.38057486e-02\n",
      " 8.33889859e-02 8.29293659e-02 8.25282553e-02 8.20588756e-02\n",
      " 8.15537591e-02 8.07261755e-02 8.03933436e-02 8.02009682e-02\n",
      " 7.94735637e-02 7.90107453e-02 7.89732498e-02 7.79997522e-02\n",
      " 7.76953791e-02 7.74772708e-02 7.70198081e-02 7.68682750e-02\n",
      " 7.64393114e-02 7.58545816e-02 7.55095271e-02 7.52354807e-02\n",
      " 7.45786092e-02 7.40154192e-02 7.35971393e-02 7.33817598e-02\n",
      " 7.30147440e-02 7.25819480e-02 7.22332156e-02 7.20756256e-02\n",
      " 7.17372019e-02 7.12867965e-02 7.08376160e-02 7.04710987e-02\n",
      " 7.01833800e-02 6.98864076e-02 6.96247425e-02 6.93048165e-02\n",
      " 6.87998362e-02 6.85724408e-02 6.83074928e-02 6.80484678e-02\n",
      " 6.79546789e-02 6.75286272e-02 6.71809818e-02 6.65453878e-02\n",
      " 6.62601494e-02 6.59423979e-02 6.57901444e-02 6.54792041e-02\n",
      " 6.52918221e-02 6.48687315e-02 6.44789262e-02 6.42947672e-02\n",
      " 6.36408160e-02 6.35137906e-02 6.30232226e-02 6.23708129e-02\n",
      " 6.21544462e-02 6.20031808e-02 6.19809966e-02 6.16166371e-02\n",
      " 6.15394825e-02 6.12040745e-02 6.08217381e-02 6.06791596e-02\n",
      " 6.04524807e-02 6.01197886e-02 5.96303846e-02 5.92937215e-02\n",
      " 5.90711596e-02 5.87483636e-02 5.86112749e-02 5.82238929e-02\n",
      " 5.80640827e-02 5.76606379e-02 5.73962514e-02 5.72348254e-02\n",
      " 5.71670587e-02 5.67505927e-02 5.63277954e-02 5.61272914e-02\n",
      " 5.59569102e-02 5.57814405e-02 5.54434602e-02 5.53257218e-02\n",
      " 5.50039279e-02 5.48526281e-02 5.45080774e-02 5.44698171e-02\n",
      " 5.41738787e-02 5.39332130e-02 5.36928820e-02 5.33239454e-02\n",
      " 5.31294944e-02 5.28223663e-02 5.26418076e-02 5.23853751e-02\n",
      " 5.19896166e-02 5.18206169e-02 5.15086743e-02 5.13462089e-02\n",
      " 5.11499910e-02 5.09045703e-02 5.06900338e-02 5.03275605e-02\n",
      " 5.01257834e-02 4.97914420e-02 4.97574622e-02 4.95243755e-02\n",
      " 4.94818165e-02 4.91574181e-02 4.89402583e-02 4.87331288e-02\n",
      " 4.83741206e-02 4.82080460e-02 4.80411718e-02 4.78474910e-02\n",
      " 4.77507070e-02 4.75169966e-02 4.73351933e-02 4.70327708e-02\n",
      " 4.69595747e-02 4.68413067e-02 4.66369146e-02 4.62889610e-02\n",
      " 4.61278781e-02 4.58696232e-02 4.56313592e-02 4.55645972e-02\n",
      " 4.54072597e-02 4.52726391e-02 4.49724708e-02 4.48493817e-02\n",
      " 4.47603712e-02 4.46763059e-02 4.43813740e-02 4.41789599e-02\n",
      " 4.39410017e-02 4.38877237e-02 4.38185818e-02 4.34443225e-02\n",
      " 4.31515217e-02 4.31028538e-02 4.29729763e-02 4.27463833e-02\n",
      " 4.26052534e-02 4.24071031e-02 4.20572719e-02 4.19108754e-02\n",
      " 4.18495324e-02 4.16762269e-02 4.15584849e-02 4.14348020e-02\n",
      " 4.13624859e-02 4.12316749e-02 4.09596193e-02 4.08103628e-02\n",
      " 4.07612941e-02 4.04822067e-02 4.02199593e-02 4.00775226e-02\n",
      " 3.99931989e-02 3.99009963e-02 3.96314377e-02 3.95391374e-02\n",
      " 3.94377658e-02 3.93486855e-02 3.92085827e-02 3.90776845e-02\n",
      " 3.88183729e-02 3.86153142e-02 3.84362912e-02 3.83961770e-02\n",
      " 3.83573455e-02 3.80642031e-02 3.79074045e-02 3.76431837e-02\n",
      " 3.76394389e-02 3.74604200e-02 3.73928291e-02 3.72289190e-02\n",
      " 3.71914092e-02 3.67983269e-02 3.67736222e-02 3.65838339e-02\n",
      " 3.63748109e-02 3.62737834e-02 3.61008648e-02 3.59835912e-02\n",
      " 3.58446210e-02 3.58255617e-02 3.56372130e-02 3.55221946e-02\n",
      " 3.54540709e-02 3.52454871e-02 3.51301115e-02 3.50424140e-02\n",
      " 3.50173477e-02 3.48769698e-02 3.46150652e-02 3.44862402e-02\n",
      " 3.43439228e-02 3.42546156e-02 3.41086370e-02 3.39549255e-02\n",
      " 3.38686371e-02 3.37093778e-02 3.34991335e-02 3.33679001e-02\n",
      " 3.32965357e-02 3.32599341e-02 3.30476488e-02 3.29470800e-02\n",
      " 3.28145650e-02 3.27230597e-02 3.25735933e-02 3.25073674e-02\n",
      " 3.24301239e-02 3.22201718e-02 3.21638980e-02 3.19592200e-02\n",
      " 3.18234145e-02 3.17490687e-02 3.15266624e-02 3.14662700e-02\n",
      " 3.13886833e-02 3.12324203e-02 3.12195958e-02 3.10529924e-02\n",
      " 3.08939113e-02 3.08151631e-02 3.07123867e-02 3.05866405e-02\n",
      " 3.03955236e-02 3.02970385e-02 3.02524537e-02 3.01367945e-02\n",
      " 3.00420962e-02 2.99241467e-02 2.97271126e-02 2.95957768e-02\n",
      " 2.94889041e-02 2.92807601e-02 2.91921463e-02 2.90931924e-02\n",
      " 2.90135633e-02 2.88747583e-02 2.87696026e-02 2.86846984e-02\n",
      " 2.86568703e-02 2.85144613e-02 2.83941201e-02 2.83677811e-02\n",
      " 2.82270622e-02 2.81693185e-02 2.79896755e-02 2.78427246e-02\n",
      " 2.76740556e-02 2.75173299e-02 2.74195506e-02 2.73531803e-02\n",
      " 2.72672463e-02 2.71742222e-02 2.70538038e-02 2.69155470e-02\n",
      " 2.68273597e-02 2.67956745e-02 2.66957591e-02 2.65512256e-02\n",
      " 2.64970917e-02 2.64212400e-02 2.62684200e-02 2.61700993e-02\n",
      " 2.60696880e-02 2.59163589e-02 2.58821937e-02 2.58081609e-02\n",
      " 2.56758076e-02 2.55462362e-02 2.53914099e-02 2.52391664e-02\n",
      " 2.51960689e-02 2.49956457e-02 2.49242324e-02 2.48013069e-02\n",
      " 2.47043789e-02 2.46501765e-02 2.45780328e-02 2.44527251e-02\n",
      " 2.43772666e-02 2.41832434e-02 2.41035359e-02 2.40568793e-02\n",
      " 2.39548953e-02 2.38112790e-02 2.36475553e-02 2.35747256e-02\n",
      " 2.34364498e-02 2.33340876e-02 2.32013833e-02 2.31557278e-02\n",
      " 2.29613855e-02 2.28995796e-02 2.26730885e-02 2.24792449e-02\n",
      " 2.24275073e-02 2.22658215e-02 2.21011876e-02 2.20560581e-02]\n"
     ]
    }
   ],
   "source": [
    "variance_explained=pca.explained_variance_/np.sum(pca.explained_variance_)\n",
    "explained_variance=pca.explained_variance_\n",
    "print(explained_variance)"
   ]
  },
  {
   "cell_type": "code",
   "execution_count": 78,
   "metadata": {},
   "outputs": [
    {
     "data": {
      "text/plain": [
       "118.76491560814003"
      ]
     },
     "execution_count": 78,
     "metadata": {},
     "output_type": "execute_result"
    }
   ],
   "source": [
    "np.sum(pca.explained_variance_)"
   ]
  },
  {
   "cell_type": "code",
   "execution_count": 79,
   "metadata": {},
   "outputs": [],
   "source": [
    "cum_vari=np.cumsum(variance_explained)"
   ]
  },
  {
   "cell_type": "code",
   "execution_count": 81,
   "metadata": {},
   "outputs": [
    {
     "data": {
      "text/plain": [
       "(0, 700)"
      ]
     },
     "execution_count": 81,
     "metadata": {},
     "output_type": "execute_result"
    },
    {
     "data": {
      "image/png": "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\n",
      "text/plain": [
       "<matplotlib.figure.Figure at 0x659d3940>"
      ]
     },
     "metadata": {},
     "output_type": "display_data"
    }
   ],
   "source": [
    "import matplotlib.pyplot as plt\n",
    "plt.figure(1, figsize=(6, 4))\n",
    "plt.clf()\n",
    "plt.plot(cum_vari)\n",
    "plt.xlim(0,700)"
   ]
  },
  {
   "cell_type": "code",
   "execution_count": null,
   "metadata": {},
   "outputs": [],
   "source": []
  },
  {
   "cell_type": "code",
<<<<<<< HEAD
   "execution_count": 23,
=======
   "execution_count": 22,
>>>>>>> 9d21e52f3773069c53a1812c4b3b265b7c954710
   "metadata": {},
   "outputs": [
    {
     "data": {
      "text/plain": [
       "TSNE(angle=0.5, early_exaggeration=12.0, init='random', learning_rate=200.0,\n",
       "   method='barnes_hut', metric='euclidean', min_grad_norm=1e-07,\n",
       "   n_components=2, n_iter=1000, n_iter_without_progress=300,\n",
       "   perplexity=30.0, random_state=0, verbose=0)"
      ]
     },
<<<<<<< HEAD
     "execution_count": 23,
=======
     "execution_count": 22,
>>>>>>> 9d21e52f3773069c53a1812c4b3b265b7c954710
     "metadata": {},
     "output_type": "execute_result"
    }
   ],
   "source": [
    "from sklearn.manifold import TSNE\n",
    "model=TSNE(n_components=2,random_state=0)\n",
    "model.fit(X_train)\n",
    "#tsne=model.transform(X_train)\n",
    "#tsne=np.vstack((tsne.T,y_train)).T\n",
    "#tsne_df=pad.DataFrame(tsne,columns=['PC1','PC2','Class'])"
   ]
  },
  {
   "cell_type": "code",
<<<<<<< HEAD
   "execution_count": 26,
=======
   "execution_count": 23,
>>>>>>> 9d21e52f3773069c53a1812c4b3b265b7c954710
   "metadata": {},
   "outputs": [],
   "source": [
    "tsne_data=model.fit_transform(X_train)"
   ]
  },
  {
   "cell_type": "code",
<<<<<<< HEAD
   "execution_count": 28,
=======
   "execution_count": 25,
>>>>>>> 9d21e52f3773069c53a1812c4b3b265b7c954710
   "metadata": {},
   "outputs": [
    {
     "data": {
      "text/plain": [
       "(2652, 2)"
      ]
     },
<<<<<<< HEAD
     "execution_count": 28,
=======
     "execution_count": 25,
>>>>>>> 9d21e52f3773069c53a1812c4b3b265b7c954710
     "metadata": {},
     "output_type": "execute_result"
    }
   ],
   "source": [
    "tsne_data.shape"
   ]
  },
  {
   "cell_type": "code",
<<<<<<< HEAD
   "execution_count": 29,
=======
   "execution_count": 24,
>>>>>>> 9d21e52f3773069c53a1812c4b3b265b7c954710
   "metadata": {},
   "outputs": [],
   "source": [
    "tsne_df=pd.DataFrame(tsne_data,columns=['Dim_1','Dim_2'])"
   ]
  },
  {
   "cell_type": "code",
<<<<<<< HEAD
   "execution_count": 31,
=======
   "execution_count": 26,
>>>>>>> 9d21e52f3773069c53a1812c4b3b265b7c954710
   "metadata": {},
   "outputs": [
    {
     "data": {
      "text/html": [
       "<div>\n",
       "<style scoped>\n",
       "    .dataframe tbody tr th:only-of-type {\n",
       "        vertical-align: middle;\n",
       "    }\n",
       "\n",
       "    .dataframe tbody tr th {\n",
       "        vertical-align: top;\n",
       "    }\n",
       "\n",
       "    .dataframe thead th {\n",
       "        text-align: right;\n",
       "    }\n",
       "</style>\n",
       "<table border=\"1\" class=\"dataframe\">\n",
       "  <thead>\n",
       "    <tr style=\"text-align: right;\">\n",
       "      <th></th>\n",
       "      <th>Dim_1</th>\n",
       "      <th>Dim_2</th>\n",
       "    </tr>\n",
       "  </thead>\n",
       "  <tbody>\n",
       "    <tr>\n",
       "      <th>0</th>\n",
       "      <td>-10.231874</td>\n",
       "      <td>-4.413886</td>\n",
       "    </tr>\n",
       "    <tr>\n",
       "      <th>1</th>\n",
       "      <td>-5.611214</td>\n",
       "      <td>-17.234678</td>\n",
       "    </tr>\n",
       "    <tr>\n",
       "      <th>2</th>\n",
       "      <td>-17.319897</td>\n",
       "      <td>14.278970</td>\n",
       "    </tr>\n",
       "    <tr>\n",
       "      <th>3</th>\n",
       "      <td>8.755753</td>\n",
       "      <td>0.219542</td>\n",
       "    </tr>\n",
       "    <tr>\n",
       "      <th>4</th>\n",
       "      <td>-14.299272</td>\n",
       "      <td>-5.019505</td>\n",
       "    </tr>\n",
       "  </tbody>\n",
       "</table>\n",
       "</div>"
      ],
      "text/plain": [
       "       Dim_1      Dim_2\n",
       "0 -10.231874  -4.413886\n",
       "1  -5.611214 -17.234678\n",
       "2 -17.319897  14.278970\n",
       "3   8.755753   0.219542\n",
       "4 -14.299272  -5.019505"
      ]
     },
<<<<<<< HEAD
     "execution_count": 31,
=======
     "execution_count": 26,
>>>>>>> 9d21e52f3773069c53a1812c4b3b265b7c954710
     "metadata": {},
     "output_type": "execute_result"
    }
   ],
   "source": [
    "tsne_df.head()"
   ]
  },
  {
   "cell_type": "code",
   "execution_count": 25,
   "metadata": {},
   "outputs": [
    {
     "data": {
      "text/plain": [
       "200.0"
      ]
     },
     "execution_count": 25,
     "metadata": {},
     "output_type": "execute_result"
    }
   ],
   "source": [
    "model.learning_rate"
   ]
  },
  {
   "cell_type": "code",
   "execution_count": 33,
   "metadata": {},
   "outputs": [
    {
     "name": "stdout",
     "output_type": "stream",
     "text": [
      "(2652, 2)\n",
      "(2652,)\n"
     ]
    }
   ],
   "source": [
    "## Applying KNN on the Filtered DataSet\n",
    "print(tsne_df.shape)\n",
    "print(y_train.shape)"
   ]
  },
  {
   "cell_type": "code",
<<<<<<< HEAD
   "execution_count": 36,
=======
   "execution_count": 193,
>>>>>>> 9d21e52f3773069c53a1812c4b3b265b7c954710
   "metadata": {},
   "outputs": [],
   "source": [
    "from sklearn.naive_bayes import GaussianNB\n",
<<<<<<< HEAD
    "gnb=GaussianNB()"
=======
    "gnb=GaussianNB()\n",
    "gnb.fit(X_train,y_train)\n",
    "gnbpredict=gnb.predict(X_train)\n",
    "gnbpredictprob=gnb.predict_log_proba(X_train)"
   ]
  },
  {
   "cell_type": "code",
   "execution_count": 194,
   "metadata": {},
   "outputs": [
    {
     "data": {
      "text/plain": [
       "array(['positive', 'negative', 'positive', ..., 'positive', 'positive',\n",
       "       'negative'], dtype='<U8')"
      ]
     },
     "execution_count": 194,
     "metadata": {},
     "output_type": "execute_result"
    }
   ],
   "source": [
    "gnbpredict"
   ]
  },
  {
   "cell_type": "code",
   "execution_count": 195,
   "metadata": {},
   "outputs": [
    {
     "data": {
      "text/plain": [
       "array([[-1.14985969e+08,  0.00000000e+00],\n",
       "       [ 0.00000000e+00, -3.45039262e+08],\n",
       "       [-1.07336754e+09,  0.00000000e+00],\n",
       "       ...,\n",
       "       [-3.83170421e+07,  0.00000000e+00],\n",
       "       [-3.83171989e+07,  0.00000000e+00],\n",
       "       [ 0.00000000e+00, -3.06707553e+08]])"
      ]
     },
     "execution_count": 195,
     "metadata": {},
     "output_type": "execute_result"
    }
   ],
   "source": [
    "gnbpredictprob"
   ]
  },
  {
   "cell_type": "code",
   "execution_count": 47,
   "metadata": {},
   "outputs": [],
   "source": [
    "y_pred=gnb.predict_log_proba(tsne_data)"
   ]
  },
  {
   "cell_type": "code",
   "execution_count": 48,
   "metadata": {},
   "outputs": [
    {
     "data": {
      "text/plain": [
       "array([[-1.42515973, -0.27505552],\n",
       "       [-1.53269591, -0.24328592],\n",
       "       [-1.16409953, -0.37426251],\n",
       "       ...,\n",
       "       [-1.84837399, -0.17137336],\n",
       "       [-1.37267064, -0.29226487],\n",
       "       [-1.3297546 , -0.30726208]])"
      ]
     },
     "execution_count": 48,
     "metadata": {},
     "output_type": "execute_result"
    }
   ],
   "source": [
    "y_pred"
   ]
  },
  {
   "cell_type": "code",
   "execution_count": 196,
   "metadata": {},
   "outputs": [
    {
     "data": {
      "text/plain": [
       "BernoulliNB(alpha=1.0, binarize=0.0, class_prior=None, fit_prior=True)"
      ]
     },
     "execution_count": 196,
     "metadata": {},
     "output_type": "execute_result"
    }
   ],
   "source": [
    "from sklearn.naive_bayes import BernoulliNB\n",
    "bnb=BernoulliNB()\n",
    "bnb.fit(X_train,y_train)"
   ]
  },
  {
   "cell_type": "code",
   "execution_count": 197,
   "metadata": {},
   "outputs": [
    {
     "data": {
      "text/plain": [
       "array([[ 9.,  0.,  0., ...,  0.,  0.,  0.],\n",
       "       [14.,  2.,  0., ...,  0.,  1.,  0.]])"
      ]
     },
     "execution_count": 197,
     "metadata": {},
     "output_type": "execute_result"
    }
   ],
   "source": [
    "bnb.feature_count_"
   ]
  },
  {
   "cell_type": "code",
   "execution_count": 183,
   "metadata": {},
   "outputs": [],
   "source": [
    "neg_class_prob_sorted=bnb.feature_log_prob_[0,:].argsort()\n",
    "pos_class_prob_sorted=bnb.feature_log_prob_[1,:].argsort()"
   ]
  },
  {
   "cell_type": "code",
   "execution_count": 184,
   "metadata": {},
   "outputs": [
    {
     "name": "stdout",
     "output_type": "stream",
     "text": [
      "['labs' 'mugs' 'muggs' 'mueslix' 'muck' 'mtbe' 'ms' 'mozzarella'\n",
      " 'mozarella' 'mowing']\n"
     ]
    }
   ],
   "source": [
    "print(np.take(count_vect.get_feature_names(),neg_class_prob_sorted[:10]))"
   ]
  },
  {
   "cell_type": "code",
   "execution_count": 212,
   "metadata": {},
   "outputs": [
    {
     "data": {
      "text/plain": [
       "array([[18.,  0.,  0., ...,  0.,  0.,  0.],\n",
       "       [16.,  2.,  0., ...,  0.,  1.,  0.]])"
      ]
     },
     "execution_count": 212,
     "metadata": {},
     "output_type": "execute_result"
    }
   ],
   "source": [
    "from sklearn.naive_bayes import MultinomialNB\n",
    "mnb=MultinomialNB()\n",
    "mnb.fit(X_train,y_train)\n",
    "mnb.feature_count_"
   ]
  },
  {
   "cell_type": "code",
   "execution_count": 112,
   "metadata": {},
   "outputs": [
    {
     "name": "stdout",
     "output_type": "stream",
     "text": [
      "(3789, 11621)\n",
      "(3789,)\n"
     ]
    }
   ],
   "source": [
    "print(final_counts.shape)\n",
    "print(y.shape)"
   ]
  },
  {
   "cell_type": "code",
   "execution_count": 113,
   "metadata": {},
   "outputs": [
    {
     "name": "stdout",
     "output_type": "stream",
     "text": [
      "[   2    3    4 ... 3786 3787 3788]\n"
     ]
    }
   ],
   "source": [
    "print(train_index)"
   ]
  },
  {
   "cell_type": "code",
   "execution_count": 149,
   "metadata": {},
   "outputs": [
    {
     "ename": "IndexError",
     "evalue": "index 5 is out of bounds for axis 0 with size 5",
     "output_type": "error",
     "traceback": [
      "\u001b[1;31m---------------------------------------------------------------------------\u001b[0m",
      "\u001b[1;31mIndexError\u001b[0m                                Traceback (most recent call last)",
      "\u001b[1;32m<ipython-input-149-917562c406d1>\u001b[0m in \u001b[0;36m<module>\u001b[1;34m()\u001b[0m\n\u001b[0;32m      4\u001b[0m     \u001b[1;31m#print(\"Train:\", train_index, \"Validation:\",test_index)\u001b[0m\u001b[1;33m\u001b[0m\u001b[1;33m\u001b[0m\u001b[0m\n\u001b[0;32m      5\u001b[0m     \u001b[0mX_train1\u001b[0m\u001b[1;33m,\u001b[0m \u001b[0mX_test1\u001b[0m \u001b[1;33m=\u001b[0m \u001b[0mfinal_counts\u001b[0m\u001b[1;33m.\u001b[0m\u001b[0mix\u001b[0m\u001b[1;33m[\u001b[0m\u001b[0mtrain_index\u001b[0m\u001b[1;33m]\u001b[0m\u001b[1;33m,\u001b[0m \u001b[0mfinal_counts\u001b[0m\u001b[1;33m.\u001b[0m\u001b[0mix\u001b[0m\u001b[1;33m[\u001b[0m\u001b[0mtest_index\u001b[0m\u001b[1;33m]\u001b[0m\u001b[1;33m\u001b[0m\u001b[0m\n\u001b[1;32m----> 6\u001b[1;33m     \u001b[0my_train1\u001b[0m\u001b[1;33m,\u001b[0m \u001b[0my_test1\u001b[0m \u001b[1;33m=\u001b[0m \u001b[0my\u001b[0m\u001b[1;33m[\u001b[0m\u001b[0mtrain_index\u001b[0m\u001b[1;33m]\u001b[0m\u001b[1;33m,\u001b[0m \u001b[0my\u001b[0m\u001b[1;33m[\u001b[0m\u001b[0mtest_index\u001b[0m\u001b[1;33m]\u001b[0m\u001b[1;33m\u001b[0m\u001b[0m\n\u001b[0m",
      "\u001b[1;31mIndexError\u001b[0m: index 5 is out of bounds for axis 0 with size 5"
     ]
    }
   ],
   "source": [
    "from sklearn.model_selection import RepeatedKFold\n",
    "kf=RepeatedKFold(n_splits=3,n_repeats=1,random_state=None)\n",
    "for train_index,test_index in kf.split(final_counts):\n",
    "    #print(\"Train:\", train_index, \"Validation:\",test_index)\n",
    "    X_train1, X_test1 = final_counts.ix[train_index], final_counts.ix[test_index] \n",
    "    y_train1, y_test1 = y[train_index], y[test_index]"
   ]
  },
  {
   "cell_type": "code",
   "execution_count": 145,
   "metadata": {},
   "outputs": [
    {
     "ename": "IndexError",
     "evalue": "index 1263 is out of bounds for axis 0 with size 5",
     "output_type": "error",
     "traceback": [
      "\u001b[1;31m---------------------------------------------------------------------------\u001b[0m",
      "\u001b[1;31mIndexError\u001b[0m                                Traceback (most recent call last)",
      "\u001b[1;32m<ipython-input-145-1a2a4a93a2e1>\u001b[0m in \u001b[0;36m<module>\u001b[1;34m()\u001b[0m\n\u001b[0;32m      3\u001b[0m \u001b[1;32mfor\u001b[0m \u001b[0mtrain_index\u001b[0m\u001b[1;33m,\u001b[0m\u001b[0mtest_index\u001b[0m \u001b[1;32min\u001b[0m \u001b[0mkf\u001b[0m\u001b[1;33m.\u001b[0m\u001b[0msplit\u001b[0m\u001b[1;33m(\u001b[0m\u001b[0mfinal_counts\u001b[0m\u001b[1;33m)\u001b[0m\u001b[1;33m:\u001b[0m\u001b[1;33m\u001b[0m\u001b[0m\n\u001b[0;32m      4\u001b[0m     \u001b[0mX_trainkf\u001b[0m\u001b[1;33m,\u001b[0m\u001b[0mX_testkf\u001b[0m\u001b[1;33m=\u001b[0m\u001b[0mfinal_counts\u001b[0m\u001b[1;33m.\u001b[0m\u001b[0mix\u001b[0m\u001b[1;33m[\u001b[0m\u001b[0mtrain_index\u001b[0m\u001b[1;33m]\u001b[0m\u001b[1;33m,\u001b[0m\u001b[0mfinal_counts\u001b[0m\u001b[1;33m.\u001b[0m\u001b[0mix\u001b[0m\u001b[1;33m[\u001b[0m\u001b[0mtest_index\u001b[0m\u001b[1;33m]\u001b[0m\u001b[1;33m\u001b[0m\u001b[0m\n\u001b[1;32m----> 5\u001b[1;33m     \u001b[0my_trainkf\u001b[0m\u001b[1;33m,\u001b[0m\u001b[0my_testkf\u001b[0m\u001b[1;33m=\u001b[0m\u001b[0my\u001b[0m\u001b[1;33m[\u001b[0m\u001b[0mtrain_index\u001b[0m\u001b[1;33m]\u001b[0m\u001b[1;33m,\u001b[0m\u001b[0my\u001b[0m\u001b[1;33m[\u001b[0m\u001b[0mtest_index\u001b[0m\u001b[1;33m]\u001b[0m\u001b[1;33m\u001b[0m\u001b[0m\n\u001b[0m",
      "\u001b[1;31mIndexError\u001b[0m: index 1263 is out of bounds for axis 0 with size 5"
     ]
    }
   ],
   "source": [
    "from sklearn.model_selection import KFold\n",
    "kf=KFold(n_splits=3)\n",
    "for train_index,test_index in kf.split(final_counts):\n",
    "    X_trainkf,X_testkf=final_counts.ix[train_index],final_counts.ix[test_index]\n",
    "    y_trainkf,y_testkf=y[train_index],y[test_index]"
   ]
  },
  {
   "cell_type": "code",
   "execution_count": 144,
   "metadata": {},
   "outputs": [
    {
     "name": "stdout",
     "output_type": "stream",
     "text": [
      "StratifiedKFold(n_splits=2, random_state=None, shuffle=False)\n"
     ]
    },
    {
     "ename": "ValueError",
     "evalue": "Found input variables with inconsistent numbers of samples: [6, 5]",
     "output_type": "error",
     "traceback": [
      "\u001b[1;31m---------------------------------------------------------------------------\u001b[0m",
      "\u001b[1;31mValueError\u001b[0m                                Traceback (most recent call last)",
      "\u001b[1;32m<ipython-input-144-b4f1574a6473>\u001b[0m in \u001b[0;36m<module>\u001b[1;34m()\u001b[0m\n\u001b[0;32m      7\u001b[0m \u001b[0mprint\u001b[0m\u001b[1;33m(\u001b[0m\u001b[0mskf\u001b[0m\u001b[1;33m)\u001b[0m\u001b[1;33m\u001b[0m\u001b[0m\n\u001b[0;32m      8\u001b[0m \u001b[0mStratifiedKFold\u001b[0m\u001b[1;33m(\u001b[0m\u001b[0mn_splits\u001b[0m\u001b[1;33m=\u001b[0m\u001b[1;36m2\u001b[0m\u001b[1;33m,\u001b[0m \u001b[0mrandom_state\u001b[0m\u001b[1;33m=\u001b[0m\u001b[1;32mNone\u001b[0m\u001b[1;33m,\u001b[0m \u001b[0mshuffle\u001b[0m\u001b[1;33m=\u001b[0m\u001b[1;32mFalse\u001b[0m\u001b[1;33m)\u001b[0m\u001b[1;33m\u001b[0m\u001b[0m\n\u001b[1;32m----> 9\u001b[1;33m \u001b[1;32mfor\u001b[0m \u001b[0mtrain_index\u001b[0m\u001b[1;33m,\u001b[0m \u001b[0mtest_index\u001b[0m \u001b[1;32min\u001b[0m \u001b[0mskf\u001b[0m\u001b[1;33m.\u001b[0m\u001b[0msplit\u001b[0m\u001b[1;33m(\u001b[0m\u001b[0mX\u001b[0m\u001b[1;33m,\u001b[0m \u001b[0my\u001b[0m\u001b[1;33m)\u001b[0m\u001b[1;33m:\u001b[0m\u001b[1;33m\u001b[0m\u001b[0m\n\u001b[0m\u001b[0;32m     10\u001b[0m     \u001b[0mprint\u001b[0m\u001b[1;33m(\u001b[0m\u001b[1;34m\"TRAIN:\"\u001b[0m\u001b[1;33m,\u001b[0m \u001b[0mtrain_index\u001b[0m\u001b[1;33m,\u001b[0m \u001b[1;34m\"TEST:\"\u001b[0m\u001b[1;33m,\u001b[0m \u001b[0mtest_index\u001b[0m\u001b[1;33m)\u001b[0m\u001b[1;33m\u001b[0m\u001b[0m\n\u001b[0;32m     11\u001b[0m     \u001b[0mX_train\u001b[0m\u001b[1;33m,\u001b[0m \u001b[0mX_test\u001b[0m \u001b[1;33m=\u001b[0m \u001b[0mX\u001b[0m\u001b[1;33m[\u001b[0m\u001b[0mtrain_index\u001b[0m\u001b[1;33m]\u001b[0m\u001b[1;33m,\u001b[0m \u001b[0mX\u001b[0m\u001b[1;33m[\u001b[0m\u001b[0mtest_index\u001b[0m\u001b[1;33m]\u001b[0m\u001b[1;33m\u001b[0m\u001b[0m\n",
      "\u001b[1;32mC:\\ProgramData\\Anaconda3\\lib\\site-packages\\sklearn\\model_selection\\_split.py\u001b[0m in \u001b[0;36msplit\u001b[1;34m(self, X, y, groups)\u001b[0m\n\u001b[0;32m    322\u001b[0m         \u001b[0mto\u001b[0m \u001b[0man\u001b[0m \u001b[0minteger\u001b[0m\u001b[1;33m.\u001b[0m\u001b[1;33m\u001b[0m\u001b[0m\n\u001b[0;32m    323\u001b[0m         \"\"\"\n\u001b[1;32m--> 324\u001b[1;33m         \u001b[0mX\u001b[0m\u001b[1;33m,\u001b[0m \u001b[0my\u001b[0m\u001b[1;33m,\u001b[0m \u001b[0mgroups\u001b[0m \u001b[1;33m=\u001b[0m \u001b[0mindexable\u001b[0m\u001b[1;33m(\u001b[0m\u001b[0mX\u001b[0m\u001b[1;33m,\u001b[0m \u001b[0my\u001b[0m\u001b[1;33m,\u001b[0m \u001b[0mgroups\u001b[0m\u001b[1;33m)\u001b[0m\u001b[1;33m\u001b[0m\u001b[0m\n\u001b[0m\u001b[0;32m    325\u001b[0m         \u001b[0mn_samples\u001b[0m \u001b[1;33m=\u001b[0m \u001b[0m_num_samples\u001b[0m\u001b[1;33m(\u001b[0m\u001b[0mX\u001b[0m\u001b[1;33m)\u001b[0m\u001b[1;33m\u001b[0m\u001b[0m\n\u001b[0;32m    326\u001b[0m         \u001b[1;32mif\u001b[0m \u001b[0mself\u001b[0m\u001b[1;33m.\u001b[0m\u001b[0mn_splits\u001b[0m \u001b[1;33m>\u001b[0m \u001b[0mn_samples\u001b[0m\u001b[1;33m:\u001b[0m\u001b[1;33m\u001b[0m\u001b[0m\n",
      "\u001b[1;32mC:\\ProgramData\\Anaconda3\\lib\\site-packages\\sklearn\\utils\\validation.py\u001b[0m in \u001b[0;36mindexable\u001b[1;34m(*iterables)\u001b[0m\n\u001b[0;32m    227\u001b[0m         \u001b[1;32melse\u001b[0m\u001b[1;33m:\u001b[0m\u001b[1;33m\u001b[0m\u001b[0m\n\u001b[0;32m    228\u001b[0m             \u001b[0mresult\u001b[0m\u001b[1;33m.\u001b[0m\u001b[0mappend\u001b[0m\u001b[1;33m(\u001b[0m\u001b[0mnp\u001b[0m\u001b[1;33m.\u001b[0m\u001b[0marray\u001b[0m\u001b[1;33m(\u001b[0m\u001b[0mX\u001b[0m\u001b[1;33m)\u001b[0m\u001b[1;33m)\u001b[0m\u001b[1;33m\u001b[0m\u001b[0m\n\u001b[1;32m--> 229\u001b[1;33m     \u001b[0mcheck_consistent_length\u001b[0m\u001b[1;33m(\u001b[0m\u001b[1;33m*\u001b[0m\u001b[0mresult\u001b[0m\u001b[1;33m)\u001b[0m\u001b[1;33m\u001b[0m\u001b[0m\n\u001b[0m\u001b[0;32m    230\u001b[0m     \u001b[1;32mreturn\u001b[0m \u001b[0mresult\u001b[0m\u001b[1;33m\u001b[0m\u001b[0m\n\u001b[0;32m    231\u001b[0m \u001b[1;33m\u001b[0m\u001b[0m\n",
      "\u001b[1;32mC:\\ProgramData\\Anaconda3\\lib\\site-packages\\sklearn\\utils\\validation.py\u001b[0m in \u001b[0;36mcheck_consistent_length\u001b[1;34m(*arrays)\u001b[0m\n\u001b[0;32m    202\u001b[0m     \u001b[1;32mif\u001b[0m \u001b[0mlen\u001b[0m\u001b[1;33m(\u001b[0m\u001b[0muniques\u001b[0m\u001b[1;33m)\u001b[0m \u001b[1;33m>\u001b[0m \u001b[1;36m1\u001b[0m\u001b[1;33m:\u001b[0m\u001b[1;33m\u001b[0m\u001b[0m\n\u001b[0;32m    203\u001b[0m         raise ValueError(\"Found input variables with inconsistent numbers of\"\n\u001b[1;32m--> 204\u001b[1;33m                          \" samples: %r\" % [int(l) for l in lengths])\n\u001b[0m\u001b[0;32m    205\u001b[0m \u001b[1;33m\u001b[0m\u001b[0m\n\u001b[0;32m    206\u001b[0m \u001b[1;33m\u001b[0m\u001b[0m\n",
      "\u001b[1;31mValueError\u001b[0m: Found input variables with inconsistent numbers of samples: [6, 5]"
     ]
    }
   ],
   "source": [
    "\n",
    "from sklearn.model_selection import StratifiedKFold\n",
    "X = np.array([[1, 2], [3, 4], [1, 2], [3, 4],[5,6],[7,8]])\n",
    "y = np.array([0, 0, 1, 1,11])\n",
    "skf = StratifiedKFold(n_splits=2)\n",
    "skf.get_n_splits(X, y)\n",
    "print(skf)  \n",
    "StratifiedKFold(n_splits=2, random_state=None, shuffle=False)\n",
    "for train_index, test_index in skf.split(X, y):\n",
    "    print(\"TRAIN:\", train_index, \"TEST:\", test_index)\n",
    "    X_train, X_test = X[train_index], X[test_index]\n",
    "    y_train, y_test = y[train_index], y[test_index]"
   ]
  },
  {
   "cell_type": "code",
   "execution_count": 130,
   "metadata": {},
   "outputs": [
    {
     "data": {
      "text/plain": [
       "30"
      ]
     },
     "execution_count": 130,
     "metadata": {},
     "output_type": "execute_result"
    }
   ],
   "source": [
    "kf.get_n_splits(final_counts)"
   ]
  },
  {
   "cell_type": "code",
   "execution_count": 125,
   "metadata": {},
   "outputs": [
    {
     "name": "stdout",
     "output_type": "stream",
     "text": [
      "(2526, 11621)\n",
      "(1263, 11621)\n",
      "(2526,)\n",
      "(1263,)\n"
     ]
    }
   ],
   "source": [
    "print(X_train1.shape)\n",
    "print(X_test1.shape)\n",
    "print(y_train1.shape)\n",
    "print(y_test1.shape)"
   ]
  },
  {
   "cell_type": "code",
   "execution_count": 44,
   "metadata": {},
   "outputs": [
    {
     "name": "stdout",
     "output_type": "stream",
     "text": [
      "Class Priors: [0.20852187 0.79147813]\n",
      "Classes: ['negative' 'positive']\n",
      "predict log proba: <bound method BaseNB.predict_log_proba of GaussianNB(priors=None)>\n",
      "predict proba: <bound method BaseNB.predict_proba of GaussianNB(priors=None)>\n",
      "priors: None\n"
     ]
    },
    {
     "data": {
      "text/plain": [
       "<bound method BaseEstimator.get_params of GaussianNB(priors=None)>"
      ]
     },
     "execution_count": 44,
     "metadata": {},
     "output_type": "execute_result"
    }
   ],
   "source": [
    "print('Class Priors:',gnb.class_prior_)\n",
    "print('Classes:',gnb.classes_)\n",
    "print('predict log proba:',gnb.predict_log_proba)\n",
    "print('predict proba:',gnb.predict_proba)\n",
    "print('priors:',gnb.priors)\n",
    "gnb.get_params"
   ]
  },
  {
   "cell_type": "code",
   "execution_count": 69,
   "metadata": {},
   "outputs": [
    {
     "name": "stdout",
     "output_type": "stream",
     "text": [
      "2547    positive\n",
      "2546    positive\n",
      "1146    positive\n",
      "1145    positive\n",
      "2941    positive\n",
      "2942    positive\n",
      "1071    positive\n",
      "2187    positive\n",
      "2069    negative\n",
      "2068    negative\n",
      "2805    positive\n",
      "2806    positive\n",
      "1328    positive\n",
      "1329    positive\n",
      "1330    positive\n",
      "1332    negative\n",
      "1331    positive\n",
      "2479    positive\n",
      "2478    positive\n",
      "2477    positive\n",
      "2476    positive\n",
      "3456    positive\n",
      "3455    positive\n",
      "3454    positive\n",
      "3453    positive\n",
      "3452    positive\n",
      "3466    positive\n",
      "3448    positive\n",
      "3449    positive\n",
      "3457    positive\n",
      "          ...   \n",
      "2225    positive\n",
      "2248    negative\n",
      "2227    positive\n",
      "2226    positive\n",
      "2228    positive\n",
      "2222    positive\n",
      "2221    positive\n",
      "2220    positive\n",
      "2219    positive\n",
      "2252    negative\n",
      "2217    positive\n",
      "677     positive\n",
      "678     positive\n",
      "3580    positive\n",
      "1106    positive\n",
      "1107    positive\n",
      "1108    positive\n",
      "1109    positive\n",
      "1110    positive\n",
      "1232    positive\n",
      "2013    positive\n",
      "3567    negative\n",
      "3271    positive\n",
      "220     positive\n",
      "710     positive\n",
      "711     positive\n",
      "712     positive\n",
      "713     positive\n",
      "709     positive\n",
      "1362    negative\n",
      "Name: Score, Length: 3789, dtype: object\n"
     ]
    }
   ],
   "source": [
    "print(y)"
>>>>>>> 9d21e52f3773069c53a1812c4b3b265b7c954710
   ]
  },
  {
   "cell_type": "code",
   "execution_count": null,
   "metadata": {},
   "outputs": [],
   "source": []
  },
  {
   "cell_type": "code",
   "execution_count": null,
   "metadata": {},
   "outputs": [],
   "source": []
  },
  {
   "cell_type": "code",
   "execution_count": null,
   "metadata": {},
   "outputs": [],
   "source": []
  },
  {
   "cell_type": "code",
   "execution_count": null,
   "metadata": {},
   "outputs": [],
   "source": []
  },
  {
   "cell_type": "code",
   "execution_count": null,
   "metadata": {},
   "outputs": [],
   "source": []
  },
  {
   "cell_type": "code",
   "execution_count": null,
   "metadata": {},
   "outputs": [],
   "source": []
  },
  {
   "cell_type": "code",
   "execution_count": 34,
   "metadata": {},
   "outputs": [
    {
     "name": "stdout",
     "output_type": "stream",
     "text": [
      "Train accuracy 0.8261689291101055\n"
     ]
    }
   ],
   "source": [
    "from sklearn.neighbors import KNeighborsClassifier\n",
    "neigh=KNeighborsClassifier(n_neighbors=5, weights='uniform',algorithm='auto',p=2)\n",
    "neigh.fit(tsne_df,y_train)\n",
    "predict=neigh.predict(tsne_df)\n",
    "\n",
    "from sklearn.metrics import accuracy_score\n",
    "print('Train accuracy',accuracy_score(y_train,predict))\n",
    "\n",
    "#predict_test=neigh.predict(X_test)\n",
    "#print('Test accuracy',accuracy_score(y_test,predict_test))"
   ]
  },
  {
   "cell_type": "code",
   "execution_count": 80,
   "metadata": {},
   "outputs": [
    {
     "data": {
      "text/plain": [
       "{'algorithm': 'auto',\n",
       " 'leaf_size': 30,\n",
       " 'metric': 'minkowski',\n",
       " 'metric_params': None,\n",
       " 'n_jobs': 1,\n",
       " 'n_neighbors': 5,\n",
       " 'p': 2,\n",
       " 'weights': 'uniform'}"
      ]
     },
     "execution_count": 80,
     "metadata": {},
     "output_type": "execute_result"
    }
   ],
   "source": [
    "neigh.get_params(1)"
   ]
  },
  {
   "cell_type": "code",
   "execution_count": 82,
   "metadata": {},
   "outputs": [],
   "source": [
    "kneighbors=neigh.kneighbors(return_distance=False)"
   ]
  },
  {
   "cell_type": "code",
   "execution_count": 85,
   "metadata": {},
   "outputs": [
    {
     "data": {
      "text/plain": [
       "array([[0.2, 0.8],\n",
       "       [0.4, 0.6],\n",
       "       [0.4, 0.6],\n",
       "       ...,\n",
       "       [0. , 1. ],\n",
       "       [0. , 1. ],\n",
       "       [0.4, 0.6]])"
      ]
     },
     "execution_count": 85,
     "metadata": {},
     "output_type": "execute_result"
    }
   ],
   "source": [
    "neigh.predict_proba(X_train)"
   ]
  },
  {
   "cell_type": "code",
   "execution_count": 86,
   "metadata": {},
   "outputs": [
    {
     "data": {
      "text/plain": [
       "1.0"
      ]
     },
     "execution_count": 86,
     "metadata": {},
     "output_type": "execute_result"
    }
   ],
   "source": [
    "from sklearn.neighbors import KNeighborsClassifier\n",
    "neigh=KNeighborsClassifier(n_neighbors=5, weights='distance',algorithm='auto',p=2)\n",
    "neigh.fit(X_train,y_train)\n",
    "predict=neigh.predict(X_train)\n",
    "\n",
    "from sklearn.metrics import accuracy_score\n",
    "accuracy_score(y_train,predict)"
   ]
  },
  {
   "cell_type": "code",
   "execution_count": 88,
   "metadata": {},
   "outputs": [
    {
     "name": "stdout",
     "output_type": "stream",
     "text": [
      "Test accuracy 1.0\n",
      "Test accuracy 0.793315743183817\n"
     ]
    }
   ],
   "source": [
    "from sklearn.neighbors import KNeighborsClassifier\n",
    "neigh=KNeighborsClassifier(n_neighbors=5, weights='distance',algorithm='kd_tree',p=2)\n",
    "neigh.fit(X_train,y_train)\n",
    "predict=neigh.predict(X_train)\n",
    "\n",
    "from sklearn.metrics import accuracy_score\n",
    "print('Test accuracy',accuracy_score(y_train,predict))\n",
    "\n",
    "predict_test=neigh.predict(X_test)\n",
    "print('Test accuracy',accuracy_score(y_test,predict_test))"
   ]
  },
  {
   "cell_type": "code",
   "execution_count": null,
   "metadata": {},
   "outputs": [],
   "source": []
  },
  {
   "cell_type": "code",
   "execution_count": null,
   "metadata": {},
   "outputs": [],
   "source": []
  },
  {
   "cell_type": "code",
   "execution_count": null,
   "metadata": {},
   "outputs": [],
   "source": []
  },
  {
   "cell_type": "code",
   "execution_count": null,
   "metadata": {},
   "outputs": [],
   "source": []
  },
  {
   "cell_type": "code",
   "execution_count": null,
   "metadata": {},
   "outputs": [],
   "source": []
  },
  {
   "cell_type": "code",
   "execution_count": 96,
   "metadata": {},
   "outputs": [
    {
     "data": {
      "text/html": [
       "<div>\n",
       "<style scoped>\n",
       "    .dataframe tbody tr th:only-of-type {\n",
       "        vertical-align: middle;\n",
       "    }\n",
       "\n",
       "    .dataframe tbody tr th {\n",
       "        vertical-align: top;\n",
       "    }\n",
       "\n",
       "    .dataframe thead th {\n",
       "        text-align: right;\n",
       "    }\n",
       "</style>\n",
       "<table border=\"1\" class=\"dataframe\">\n",
       "  <thead>\n",
       "    <tr style=\"text-align: right;\">\n",
       "      <th></th>\n",
       "      <th>0</th>\n",
       "      <th>1</th>\n",
       "      <th>2</th>\n",
       "      <th>3</th>\n",
       "      <th>4</th>\n",
       "      <th>5</th>\n",
       "      <th>6</th>\n",
       "      <th>7</th>\n",
       "      <th>8</th>\n",
       "      <th>9</th>\n",
       "      <th>...</th>\n",
       "      <th>11611</th>\n",
       "      <th>11612</th>\n",
       "      <th>11613</th>\n",
       "      <th>11614</th>\n",
       "      <th>11615</th>\n",
       "      <th>11616</th>\n",
       "      <th>11617</th>\n",
       "      <th>11618</th>\n",
       "      <th>11619</th>\n",
       "      <th>11620</th>\n",
       "    </tr>\n",
       "  </thead>\n",
       "  <tbody>\n",
       "    <tr>\n",
       "      <th>0</th>\n",
       "      <td>0.001171</td>\n",
       "      <td>0.000820</td>\n",
       "      <td>1.107355e-22</td>\n",
       "      <td>0.000288</td>\n",
       "      <td>2.252204e-24</td>\n",
       "      <td>-0.000007</td>\n",
       "      <td>0.000279</td>\n",
       "      <td>0.000286</td>\n",
       "      <td>-0.000058</td>\n",
       "      <td>0.000286</td>\n",
       "      <td>...</td>\n",
       "      <td>0.000562</td>\n",
       "      <td>-0.000033</td>\n",
       "      <td>0.000050</td>\n",
       "      <td>0.000032</td>\n",
       "      <td>-0.000013</td>\n",
       "      <td>0.000145</td>\n",
       "      <td>0.000130</td>\n",
       "      <td>0.0</td>\n",
       "      <td>0.000005</td>\n",
       "      <td>0.0</td>\n",
       "    </tr>\n",
       "    <tr>\n",
       "      <th>1</th>\n",
       "      <td>-0.002408</td>\n",
       "      <td>0.002033</td>\n",
       "      <td>-7.676104e-17</td>\n",
       "      <td>0.000910</td>\n",
       "      <td>-3.482762e-18</td>\n",
       "      <td>-0.000059</td>\n",
       "      <td>0.001612</td>\n",
       "      <td>-0.000549</td>\n",
       "      <td>0.000067</td>\n",
       "      <td>-0.000549</td>\n",
       "      <td>...</td>\n",
       "      <td>-0.000178</td>\n",
       "      <td>0.000033</td>\n",
       "      <td>0.000416</td>\n",
       "      <td>0.000384</td>\n",
       "      <td>-0.000066</td>\n",
       "      <td>-0.000798</td>\n",
       "      <td>-0.000561</td>\n",
       "      <td>0.0</td>\n",
       "      <td>0.000101</td>\n",
       "      <td>0.0</td>\n",
       "    </tr>\n",
       "  </tbody>\n",
       "</table>\n",
       "<p>2 rows × 11621 columns</p>\n",
       "</div>"
      ],
      "text/plain": [
       "      0         1             2         3             4         5      \\\n",
       "0  0.001171  0.000820  1.107355e-22  0.000288  2.252204e-24 -0.000007   \n",
       "1 -0.002408  0.002033 -7.676104e-17  0.000910 -3.482762e-18 -0.000059   \n",
       "\n",
       "      6         7         8         9      ...       11611     11612  \\\n",
       "0  0.000279  0.000286 -0.000058  0.000286  ...    0.000562 -0.000033   \n",
       "1  0.001612 -0.000549  0.000067 -0.000549  ...   -0.000178  0.000033   \n",
       "\n",
       "      11613     11614     11615     11616     11617  11618     11619  11620  \n",
       "0  0.000050  0.000032 -0.000013  0.000145  0.000130    0.0  0.000005    0.0  \n",
       "1  0.000416  0.000384 -0.000066 -0.000798 -0.000561    0.0  0.000101    0.0  \n",
       "\n",
       "[2 rows x 11621 columns]"
      ]
     },
     "execution_count": 96,
     "metadata": {},
     "output_type": "execute_result"
    }
   ],
   "source": [
    "components=pd.DataFrame(pca.components_)\n",
    "components.head()"
   ]
  },
  {
   "cell_type": "code",
   "execution_count": 97,
   "metadata": {},
   "outputs": [
    {
     "data": {
      "text/plain": [
       "(2652, 11621)"
      ]
     },
     "execution_count": 97,
     "metadata": {},
     "output_type": "execute_result"
    }
   ],
   "source": [
    "X_train.shape"
   ]
  },
  {
   "cell_type": "code",
   "execution_count": 100,
   "metadata": {},
   "outputs": [
    {
     "data": {
      "text/plain": [
       "array([0.26513145, 0.04203383])"
      ]
     },
     "execution_count": 100,
     "metadata": {},
     "output_type": "execute_result"
    }
   ],
   "source": [
    "pca.explained_variance_ratio_"
   ]
  },
  {
   "cell_type": "markdown",
   "metadata": {},
   "source": [
    "## [7.2.4] Bi-Grams and n-Grams.\n",
    "\n",
    "**Motivation**\n",
    "\n",
    "Now that we have our list of words describing positive and negative reviews lets analyse them.<br>\n",
    "\n",
    "We begin analysis by getting the frequency distribution of the words as shown below"
   ]
  },
  {
   "cell_type": "code",
   "execution_count": 44,
   "metadata": {},
   "outputs": [
    {
     "name": "stdout",
     "output_type": "stream",
     "text": [
      "Most Common Positive Words :  [(b'like', 139429), (b'tast', 129047), (b'good', 112766), (b'flavor', 109624), (b'love', 107357), (b'use', 103888), (b'great', 103870), (b'one', 96726), (b'product', 91033), (b'tri', 86791), (b'tea', 83888), (b'coffe', 78814), (b'make', 75107), (b'get', 72125), (b'food', 64802), (b'would', 55568), (b'time', 55264), (b'buy', 54198), (b'realli', 52715), (b'eat', 52004)]\n",
      "Most Common Negative Words :  [(b'tast', 34585), (b'like', 32330), (b'product', 28218), (b'one', 20569), (b'flavor', 19575), (b'would', 17972), (b'tri', 17753), (b'use', 15302), (b'good', 15041), (b'coffe', 14716), (b'get', 13786), (b'buy', 13752), (b'order', 12871), (b'food', 12754), (b'dont', 11877), (b'tea', 11665), (b'even', 11085), (b'box', 10844), (b'amazon', 10073), (b'make', 9840)]\n"
     ]
    }
   ],
   "source": [
    "freq_dist_positive=nltk.FreqDist(all_positive_words)\n",
    "freq_dist_negative=nltk.FreqDist(all_negative_words)\n",
    "print(\"Most Common Positive Words : \",freq_dist_positive.most_common(20))\n",
    "print(\"Most Common Negative Words : \",freq_dist_negative.most_common(20))"
   ]
  },
  {
   "cell_type": "markdown",
   "metadata": {},
   "source": [
    "<b>Observation:-</b> From the above it can be seen that the most common positive and the negative words overlap for eg. 'like' could be used as 'not like' etc. <br>\n",
    "So, it is a good idea to consider pairs of consequent words (bi-grams) or q sequnce of n consecutive words (n-grams)"
   ]
  },
  {
   "cell_type": "code",
   "execution_count": 79,
   "metadata": {
    "collapsed": true
   },
   "outputs": [],
   "source": [
    "#bi-gram, tri-gram and n-gram\n",
    "\n",
    "#removing stop words like \"not\" should be avoided before building n-grams\n",
    "count_vect = CountVectorizer(ngram_range=(1,2) ) #in scikit-learn\n",
    "final_bigram_counts = count_vect.fit_transform(final['Text'].values)\n"
   ]
  },
  {
   "cell_type": "code",
   "execution_count": 81,
   "metadata": {},
   "outputs": [
    {
     "data": {
      "text/plain": [
       "(364171, 2910192)"
      ]
     },
     "execution_count": 81,
     "metadata": {},
     "output_type": "execute_result"
    }
   ],
   "source": [
    "final_bigram_counts.get_shape()"
   ]
  },
  {
   "cell_type": "markdown",
   "metadata": {},
   "source": [
    "# [7.2.5] TF-IDF"
   ]
  },
  {
   "cell_type": "code",
   "execution_count": 91,
   "metadata": {},
   "outputs": [],
   "source": [
    "\n",
    "tf_idf_vect = TfidfVectorizer(ngram_range=(1,2))\n",
    "final_tf_idf = tf_idf_vect.fit_transform(final['Text'].values)\n"
   ]
  },
  {
   "cell_type": "code",
   "execution_count": 92,
   "metadata": {},
   "outputs": [
    {
     "data": {
      "text/plain": [
       "(364171, 2910192)"
      ]
     },
     "execution_count": 92,
     "metadata": {},
     "output_type": "execute_result"
    }
   ],
   "source": [
    "final_tf_idf.get_shape()\n"
   ]
  },
  {
   "cell_type": "code",
   "execution_count": 106,
   "metadata": {},
   "outputs": [
    {
     "data": {
      "text/plain": [
       "2910192"
      ]
     },
     "execution_count": 106,
     "metadata": {},
     "output_type": "execute_result"
    }
   ],
   "source": [
    "features = tf_idf_vect.get_feature_names()\n",
    "len(features)\n"
   ]
  },
  {
   "cell_type": "code",
   "execution_count": 111,
   "metadata": {},
   "outputs": [
    {
     "data": {
      "text/plain": [
       "['ales until',\n",
       " 'ales ve',\n",
       " 'ales would',\n",
       " 'ales you',\n",
       " 'alessandra',\n",
       " 'alessandra ambrosia',\n",
       " 'alessi',\n",
       " 'alessi added',\n",
       " 'alessi also',\n",
       " 'alessi and']"
      ]
     },
     "execution_count": 111,
     "metadata": {},
     "output_type": "execute_result"
    }
   ],
   "source": [
    "features[100000:100010]\n"
   ]
  },
  {
   "cell_type": "code",
   "execution_count": 127,
   "metadata": {},
   "outputs": [
    {
     "name": "stdout",
     "output_type": "stream",
     "text": [
      "[ 0.  0.  0. ...,  0.  0.  0.]\n"
     ]
    }
   ],
   "source": [
    "# covnert a row in saprsematrix to a numpy array\n",
    "print(final_tf_idf[3,:].toarray()[0]) \n"
   ]
  },
  {
   "cell_type": "code",
   "execution_count": 123,
   "metadata": {},
   "outputs": [],
   "source": [
    "# source: https://buhrmann.github.io/tfidf-analysis.html\n",
    "def top_tfidf_feats(row, features, top_n=25):\n",
    "    ''' Get top n tfidf values in row and return them with their corresponding feature names.'''\n",
    "    topn_ids = np.argsort(row)[::-1][:top_n]\n",
    "    top_feats = [(features[i], row[i]) for i in topn_ids]\n",
    "    df = pd.DataFrame(top_feats)\n",
    "    df.columns = ['feature', 'tfidf']\n",
    "    return df\n",
    "\n",
    "top_tfidf = top_tfidf_feats(final_tf_idf[1,:].toarray()[0],features,25)"
   ]
  },
  {
   "cell_type": "code",
   "execution_count": 124,
   "metadata": {},
   "outputs": [
    {
     "data": {
      "text/html": [
       "<div>\n",
       "<style>\n",
       "    .dataframe thead tr:only-child th {\n",
       "        text-align: right;\n",
       "    }\n",
       "\n",
       "    .dataframe thead th {\n",
       "        text-align: left;\n",
       "    }\n",
       "\n",
       "    .dataframe tbody tr th {\n",
       "        vertical-align: top;\n",
       "    }\n",
       "</style>\n",
       "<table border=\"1\" class=\"dataframe\">\n",
       "  <thead>\n",
       "    <tr style=\"text-align: right;\">\n",
       "      <th></th>\n",
       "      <th>feature</th>\n",
       "      <th>tfidf</th>\n",
       "    </tr>\n",
       "  </thead>\n",
       "  <tbody>\n",
       "    <tr>\n",
       "      <th>0</th>\n",
       "      <td>sendak books</td>\n",
       "      <td>0.173437</td>\n",
       "    </tr>\n",
       "    <tr>\n",
       "      <th>1</th>\n",
       "      <td>rosie movie</td>\n",
       "      <td>0.173437</td>\n",
       "    </tr>\n",
       "    <tr>\n",
       "      <th>2</th>\n",
       "      <td>paperbacks seem</td>\n",
       "      <td>0.173437</td>\n",
       "    </tr>\n",
       "    <tr>\n",
       "      <th>3</th>\n",
       "      <td>cover version</td>\n",
       "      <td>0.173437</td>\n",
       "    </tr>\n",
       "    <tr>\n",
       "      <th>4</th>\n",
       "      <td>these sendak</td>\n",
       "      <td>0.173437</td>\n",
       "    </tr>\n",
       "    <tr>\n",
       "      <th>5</th>\n",
       "      <td>the paperbacks</td>\n",
       "      <td>0.173437</td>\n",
       "    </tr>\n",
       "    <tr>\n",
       "      <th>6</th>\n",
       "      <td>pages open</td>\n",
       "      <td>0.173437</td>\n",
       "    </tr>\n",
       "    <tr>\n",
       "      <th>7</th>\n",
       "      <td>really rosie</td>\n",
       "      <td>0.168074</td>\n",
       "    </tr>\n",
       "    <tr>\n",
       "      <th>8</th>\n",
       "      <td>incorporates them</td>\n",
       "      <td>0.168074</td>\n",
       "    </tr>\n",
       "    <tr>\n",
       "      <th>9</th>\n",
       "      <td>paperbacks</td>\n",
       "      <td>0.168074</td>\n",
       "    </tr>\n",
       "    <tr>\n",
       "      <th>10</th>\n",
       "      <td>however miss</td>\n",
       "      <td>0.164269</td>\n",
       "    </tr>\n",
       "    <tr>\n",
       "      <th>11</th>\n",
       "      <td>hard cover</td>\n",
       "      <td>0.164269</td>\n",
       "    </tr>\n",
       "    <tr>\n",
       "      <th>12</th>\n",
       "      <td>seem kind</td>\n",
       "      <td>0.161317</td>\n",
       "    </tr>\n",
       "    <tr>\n",
       "      <th>13</th>\n",
       "      <td>up reading</td>\n",
       "      <td>0.156867</td>\n",
       "    </tr>\n",
       "    <tr>\n",
       "      <th>14</th>\n",
       "      <td>that incorporates</td>\n",
       "      <td>0.155100</td>\n",
       "    </tr>\n",
       "    <tr>\n",
       "      <th>15</th>\n",
       "      <td>the pages</td>\n",
       "      <td>0.149737</td>\n",
       "    </tr>\n",
       "    <tr>\n",
       "      <th>16</th>\n",
       "      <td>sendak</td>\n",
       "      <td>0.149737</td>\n",
       "    </tr>\n",
       "    <tr>\n",
       "      <th>17</th>\n",
       "      <td>rosie</td>\n",
       "      <td>0.146786</td>\n",
       "    </tr>\n",
       "    <tr>\n",
       "      <th>18</th>\n",
       "      <td>of flimsy</td>\n",
       "      <td>0.146786</td>\n",
       "    </tr>\n",
       "    <tr>\n",
       "      <th>19</th>\n",
       "      <td>two hands</td>\n",
       "      <td>0.145130</td>\n",
       "    </tr>\n",
       "    <tr>\n",
       "      <th>20</th>\n",
       "      <td>movie that</td>\n",
       "      <td>0.144374</td>\n",
       "    </tr>\n",
       "    <tr>\n",
       "      <th>21</th>\n",
       "      <td>reading these</td>\n",
       "      <td>0.137184</td>\n",
       "    </tr>\n",
       "    <tr>\n",
       "      <th>22</th>\n",
       "      <td>too do</td>\n",
       "      <td>0.134491</td>\n",
       "    </tr>\n",
       "    <tr>\n",
       "      <th>23</th>\n",
       "      <td>incorporates</td>\n",
       "      <td>0.134147</td>\n",
       "    </tr>\n",
       "    <tr>\n",
       "      <th>24</th>\n",
       "      <td>flimsy and</td>\n",
       "      <td>0.132254</td>\n",
       "    </tr>\n",
       "  </tbody>\n",
       "</table>\n",
       "</div>"
      ],
      "text/plain": [
       "              feature     tfidf\n",
       "0        sendak books  0.173437\n",
       "1         rosie movie  0.173437\n",
       "2     paperbacks seem  0.173437\n",
       "3       cover version  0.173437\n",
       "4        these sendak  0.173437\n",
       "5      the paperbacks  0.173437\n",
       "6          pages open  0.173437\n",
       "7        really rosie  0.168074\n",
       "8   incorporates them  0.168074\n",
       "9          paperbacks  0.168074\n",
       "10       however miss  0.164269\n",
       "11         hard cover  0.164269\n",
       "12          seem kind  0.161317\n",
       "13         up reading  0.156867\n",
       "14  that incorporates  0.155100\n",
       "15          the pages  0.149737\n",
       "16             sendak  0.149737\n",
       "17              rosie  0.146786\n",
       "18          of flimsy  0.146786\n",
       "19          two hands  0.145130\n",
       "20         movie that  0.144374\n",
       "21      reading these  0.137184\n",
       "22             too do  0.134491\n",
       "23       incorporates  0.134147\n",
       "24         flimsy and  0.132254"
      ]
     },
     "execution_count": 124,
     "metadata": {},
     "output_type": "execute_result"
    }
   ],
   "source": [
    "top_tfidf\n"
   ]
  },
  {
   "cell_type": "markdown",
   "metadata": {},
   "source": [
    "# [7.2.6] Word2Vec"
   ]
  },
  {
   "cell_type": "code",
   "execution_count": 7,
   "metadata": {
    "collapsed": true
   },
   "outputs": [],
   "source": [
    "# Using Google News Word2Vectors\n",
    "from gensim.models import Word2Vec\n",
    "from gensim.models import KeyedVectors\n",
    "import pickle\n",
    "\n",
    "# in this project we are using a pretrained model by google\n",
    "# its 3.3G file, once you load this into your memory \n",
    "# it occupies ~9Gb, so please do this step only if you have >12G of ram\n",
    "# we will provide a pickle file wich contains a dict , \n",
    "# and it contains all our courpus words as keys and  model[word] as values\n",
    "# To use this code-snippet, download \"GoogleNews-vectors-negative300.bin\" \n",
    "# from https://drive.google.com/file/d/0B7XkCwpI5KDYNlNUTTlSS21pQmM/edit\n",
    "# it's 1.9GB in size.\n",
    "\n",
    "\n",
    "model = KeyedVectors.load_word2vec_format('GoogleNews-vectors-negative300.bin', binary=True)\n",
    "\n"
   ]
  },
  {
   "cell_type": "code",
   "execution_count": 129,
   "metadata": {},
   "outputs": [
    {
     "data": {
      "text/plain": [
       "array([  1.07421875e-01,  -2.01171875e-01,   1.23046875e-01,\n",
       "         2.11914062e-01,  -9.13085938e-02,   2.16796875e-01,\n",
       "        -1.31835938e-01,   8.30078125e-02,   2.02148438e-01,\n",
       "         4.78515625e-02,   3.66210938e-02,  -2.45361328e-02,\n",
       "         2.39257812e-02,  -1.60156250e-01,  -2.61230469e-02,\n",
       "         9.71679688e-02,  -6.34765625e-02,   1.84570312e-01,\n",
       "         1.70898438e-01,  -1.63085938e-01,  -1.09375000e-01,\n",
       "         1.49414062e-01,  -4.65393066e-04,   9.61914062e-02,\n",
       "         1.68945312e-01,   2.60925293e-03,   8.93554688e-02,\n",
       "         6.49414062e-02,   3.56445312e-02,  -6.93359375e-02,\n",
       "        -1.46484375e-01,  -1.21093750e-01,  -2.27539062e-01,\n",
       "         2.45361328e-02,  -1.24511719e-01,  -3.18359375e-01,\n",
       "        -2.20703125e-01,   1.30859375e-01,   3.66210938e-02,\n",
       "        -3.63769531e-02,  -1.13281250e-01,   1.95312500e-01,\n",
       "         9.76562500e-02,   1.26953125e-01,   6.59179688e-02,\n",
       "         6.93359375e-02,   1.02539062e-02,   1.75781250e-01,\n",
       "        -1.68945312e-01,   1.21307373e-03,  -2.98828125e-01,\n",
       "        -1.15234375e-01,   5.66406250e-02,  -1.77734375e-01,\n",
       "        -2.08984375e-01,   1.76757812e-01,   2.38037109e-02,\n",
       "        -2.57812500e-01,  -4.46777344e-02,   1.88476562e-01,\n",
       "         5.51757812e-02,   5.02929688e-02,  -1.06933594e-01,\n",
       "         1.89453125e-01,  -1.16210938e-01,   8.49609375e-02,\n",
       "        -1.71875000e-01,   2.45117188e-01,  -1.73828125e-01,\n",
       "        -8.30078125e-03,   4.56542969e-02,  -1.61132812e-02,\n",
       "         1.86523438e-01,  -6.05468750e-02,  -4.17480469e-02,\n",
       "         1.82617188e-01,   2.20703125e-01,  -1.22558594e-01,\n",
       "        -2.55126953e-02,  -3.08593750e-01,   9.13085938e-02,\n",
       "         1.60156250e-01,   1.70898438e-01,   1.19628906e-01,\n",
       "         7.08007812e-02,  -2.64892578e-02,  -3.08837891e-02,\n",
       "         4.06250000e-01,  -1.01562500e-01,   5.71289062e-02,\n",
       "        -7.26318359e-03,  -9.17968750e-02,  -1.50390625e-01,\n",
       "        -2.55859375e-01,   2.16796875e-01,  -3.63769531e-02,\n",
       "         2.24609375e-01,   8.00781250e-02,   1.56250000e-01,\n",
       "         5.27343750e-02,   1.50390625e-01,  -1.14746094e-01,\n",
       "        -8.64257812e-02,   1.19140625e-01,  -7.17773438e-02,\n",
       "         2.73437500e-01,  -1.64062500e-01,   7.29370117e-03,\n",
       "         4.21875000e-01,  -1.12792969e-01,  -1.35742188e-01,\n",
       "        -1.31835938e-01,  -1.37695312e-01,  -7.66601562e-02,\n",
       "         6.25000000e-02,   4.98046875e-02,  -1.91406250e-01,\n",
       "        -6.03027344e-02,   2.27539062e-01,   5.88378906e-02,\n",
       "        -3.24218750e-01,   5.41992188e-02,  -1.35742188e-01,\n",
       "         8.17871094e-03,  -5.24902344e-02,  -1.74713135e-03,\n",
       "        -9.81445312e-02,  -2.86865234e-02,   3.61328125e-02,\n",
       "         2.15820312e-01,   5.98144531e-02,  -3.08593750e-01,\n",
       "        -2.27539062e-01,   2.61718750e-01,   9.86328125e-02,\n",
       "        -5.07812500e-02,   1.78222656e-02,   1.31835938e-01,\n",
       "        -5.35156250e-01,  -1.81640625e-01,   1.38671875e-01,\n",
       "        -3.10546875e-01,  -9.71679688e-02,   1.31835938e-01,\n",
       "        -1.16210938e-01,   7.03125000e-02,   2.85156250e-01,\n",
       "         3.51562500e-02,  -1.01562500e-01,  -3.75976562e-02,\n",
       "         1.41601562e-01,   1.42578125e-01,  -5.68847656e-02,\n",
       "         2.65625000e-01,  -2.09960938e-01,   9.64355469e-03,\n",
       "        -6.68945312e-02,  -4.83398438e-02,  -6.10351562e-02,\n",
       "         2.45117188e-01,  -9.66796875e-02,   1.78222656e-02,\n",
       "        -1.27929688e-01,  -4.78515625e-02,  -7.26318359e-03,\n",
       "         1.79687500e-01,   2.78320312e-02,  -2.10937500e-01,\n",
       "        -1.43554688e-01,  -1.27929688e-01,   1.73339844e-02,\n",
       "        -3.60107422e-03,  -2.04101562e-01,   3.63159180e-03,\n",
       "        -1.19628906e-01,  -6.15234375e-02,   5.93261719e-02,\n",
       "        -3.23486328e-03,  -1.70898438e-01,  -3.14941406e-02,\n",
       "        -8.88671875e-02,  -2.89062500e-01,   3.44238281e-02,\n",
       "        -1.87500000e-01,   2.94921875e-01,   1.58203125e-01,\n",
       "        -1.19628906e-01,   7.61718750e-02,   6.39648438e-02,\n",
       "        -4.68750000e-02,  -6.83593750e-02,   1.21459961e-02,\n",
       "        -1.44531250e-01,   4.54101562e-02,   3.68652344e-02,\n",
       "         3.88671875e-01,   1.45507812e-01,  -2.55859375e-01,\n",
       "        -4.46777344e-02,  -1.33789062e-01,  -1.38671875e-01,\n",
       "         6.59179688e-02,   1.37695312e-01,   1.14746094e-01,\n",
       "         2.03125000e-01,  -4.78515625e-02,   1.80664062e-02,\n",
       "        -8.54492188e-02,  -2.48046875e-01,  -3.39843750e-01,\n",
       "        -2.83203125e-02,   1.05468750e-01,  -2.14843750e-01,\n",
       "        -8.74023438e-02,   7.12890625e-02,   1.87500000e-01,\n",
       "        -1.12304688e-01,   2.73437500e-01,  -3.26171875e-01,\n",
       "        -1.77734375e-01,  -4.24804688e-02,  -2.69531250e-01,\n",
       "         6.64062500e-02,  -6.88476562e-02,  -1.99218750e-01,\n",
       "        -7.03125000e-02,  -2.43164062e-01,  -3.66210938e-02,\n",
       "        -7.37304688e-02,  -1.77734375e-01,   9.17968750e-02,\n",
       "        -1.25000000e-01,  -1.65039062e-01,  -3.57421875e-01,\n",
       "        -2.85156250e-01,  -1.66992188e-01,   1.97265625e-01,\n",
       "        -1.53320312e-01,   2.31933594e-02,   2.06054688e-01,\n",
       "         1.80664062e-01,  -2.74658203e-02,  -1.92382812e-01,\n",
       "        -9.61914062e-02,  -1.06811523e-02,  -4.73632812e-02,\n",
       "         6.54296875e-02,  -1.25732422e-02,   1.78222656e-02,\n",
       "        -8.00781250e-02,  -2.59765625e-01,   9.37500000e-02,\n",
       "        -7.81250000e-02,   4.68750000e-02,  -2.22167969e-02,\n",
       "         1.86767578e-02,   3.11279297e-02,   1.04980469e-02,\n",
       "        -1.69921875e-01,   2.58789062e-02,  -3.41796875e-02,\n",
       "        -1.44042969e-02,  -5.46875000e-02,  -8.78906250e-02,\n",
       "         1.96838379e-03,   2.23632812e-01,  -1.36718750e-01,\n",
       "         1.75781250e-01,  -1.63085938e-01,   1.87500000e-01,\n",
       "         3.44238281e-02,  -5.63964844e-02,  -2.27689743e-05,\n",
       "         4.27246094e-02,   5.81054688e-02,  -1.07910156e-01,\n",
       "        -3.88183594e-02,  -2.69531250e-01,   3.34472656e-02,\n",
       "         9.81445312e-02,   5.63964844e-02,   2.23632812e-01,\n",
       "        -5.49316406e-02,   1.46484375e-01,   5.93261719e-02,\n",
       "        -2.19726562e-01,   6.39648438e-02,   1.66015625e-02,\n",
       "         4.56542969e-02,   3.26171875e-01,  -3.80859375e-01,\n",
       "         1.70898438e-01,   5.66406250e-02,  -1.04492188e-01,\n",
       "         1.38671875e-01,  -1.57226562e-01,   3.23486328e-03,\n",
       "        -4.80957031e-02,  -2.48046875e-01,  -6.20117188e-02], dtype=float32)"
      ]
     },
     "execution_count": 129,
     "metadata": {},
     "output_type": "execute_result"
    }
   ],
   "source": [
    "model.wv['computer']\n"
   ]
  },
  {
   "cell_type": "code",
   "execution_count": 12,
   "metadata": {},
   "outputs": [
    {
     "data": {
      "text/plain": [
       "0.76640122309953518"
      ]
     },
     "execution_count": 12,
     "metadata": {},
     "output_type": "execute_result"
    }
   ],
   "source": [
    "model.wv.similarity('woman', 'man')"
   ]
  },
  {
   "cell_type": "code",
   "execution_count": 131,
   "metadata": {},
   "outputs": [
    {
     "data": {
      "text/plain": [
       "[('man', 0.7664012312889099),\n",
       " ('girl', 0.7494641542434692),\n",
       " ('teenage_girl', 0.7336830496788025),\n",
       " ('teenager', 0.6317086219787598),\n",
       " ('lady', 0.6288787126541138),\n",
       " ('teenaged_girl', 0.6141784191131592),\n",
       " ('mother', 0.607630729675293),\n",
       " ('policewoman', 0.6069462299346924),\n",
       " ('boy', 0.5975908041000366),\n",
       " ('Woman', 0.5770982503890991)]"
      ]
     },
     "execution_count": 131,
     "metadata": {},
     "output_type": "execute_result"
    }
   ],
   "source": [
    "model.wv.most_similar('woman')"
   ]
  },
  {
   "cell_type": "code",
   "execution_count": 14,
   "metadata": {},
   "outputs": [
    {
     "ename": "KeyError",
     "evalue": "\"word 'tasti' not in vocabulary\"",
     "output_type": "error",
     "traceback": [
      "\u001b[0;31m---------------------------------------------------------------------------\u001b[0m",
      "\u001b[0;31mKeyError\u001b[0m                                  Traceback (most recent call last)",
      "\u001b[0;32m<ipython-input-14-275c3585c172>\u001b[0m in \u001b[0;36m<module>\u001b[0;34m()\u001b[0m\n\u001b[0;32m----> 1\u001b[0;31m \u001b[0mmodel\u001b[0m\u001b[0;34m.\u001b[0m\u001b[0mwv\u001b[0m\u001b[0;34m.\u001b[0m\u001b[0mmost_similar\u001b[0m\u001b[0;34m(\u001b[0m\u001b[0;34m'tasti'\u001b[0m\u001b[0;34m)\u001b[0m  \u001b[0;31m# \"tasti\" is the stemmed word for tasty, tastful\u001b[0m\u001b[0;34m\u001b[0m\u001b[0m\n\u001b[0m",
      "\u001b[0;32m/Library/Frameworks/Python.framework/Versions/3.6/lib/python3.6/site-packages/gensim/models/keyedvectors.py\u001b[0m in \u001b[0;36mmost_similar\u001b[0;34m(self, positive, negative, topn, restrict_vocab, indexer)\u001b[0m\n\u001b[1;32m    334\u001b[0m                 \u001b[0mmean\u001b[0m\u001b[0;34m.\u001b[0m\u001b[0mappend\u001b[0m\u001b[0;34m(\u001b[0m\u001b[0mweight\u001b[0m \u001b[0;34m*\u001b[0m \u001b[0mword\u001b[0m\u001b[0;34m)\u001b[0m\u001b[0;34m\u001b[0m\u001b[0m\n\u001b[1;32m    335\u001b[0m             \u001b[0;32melse\u001b[0m\u001b[0;34m:\u001b[0m\u001b[0;34m\u001b[0m\u001b[0m\n\u001b[0;32m--> 336\u001b[0;31m                 \u001b[0mmean\u001b[0m\u001b[0;34m.\u001b[0m\u001b[0mappend\u001b[0m\u001b[0;34m(\u001b[0m\u001b[0mweight\u001b[0m \u001b[0;34m*\u001b[0m \u001b[0mself\u001b[0m\u001b[0;34m.\u001b[0m\u001b[0mword_vec\u001b[0m\u001b[0;34m(\u001b[0m\u001b[0mword\u001b[0m\u001b[0;34m,\u001b[0m \u001b[0muse_norm\u001b[0m\u001b[0;34m=\u001b[0m\u001b[0;32mTrue\u001b[0m\u001b[0;34m)\u001b[0m\u001b[0;34m)\u001b[0m\u001b[0;34m\u001b[0m\u001b[0m\n\u001b[0m\u001b[1;32m    337\u001b[0m                 \u001b[0;32mif\u001b[0m \u001b[0mword\u001b[0m \u001b[0;32min\u001b[0m \u001b[0mself\u001b[0m\u001b[0;34m.\u001b[0m\u001b[0mvocab\u001b[0m\u001b[0;34m:\u001b[0m\u001b[0;34m\u001b[0m\u001b[0m\n\u001b[1;32m    338\u001b[0m                     \u001b[0mall_words\u001b[0m\u001b[0;34m.\u001b[0m\u001b[0madd\u001b[0m\u001b[0;34m(\u001b[0m\u001b[0mself\u001b[0m\u001b[0;34m.\u001b[0m\u001b[0mvocab\u001b[0m\u001b[0;34m[\u001b[0m\u001b[0mword\u001b[0m\u001b[0;34m]\u001b[0m\u001b[0;34m.\u001b[0m\u001b[0mindex\u001b[0m\u001b[0;34m)\u001b[0m\u001b[0;34m\u001b[0m\u001b[0m\n",
      "\u001b[0;32m/Library/Frameworks/Python.framework/Versions/3.6/lib/python3.6/site-packages/gensim/models/keyedvectors.py\u001b[0m in \u001b[0;36mword_vec\u001b[0;34m(self, word, use_norm)\u001b[0m\n\u001b[1;32m    282\u001b[0m                 \u001b[0;32mreturn\u001b[0m \u001b[0mself\u001b[0m\u001b[0;34m.\u001b[0m\u001b[0msyn0\u001b[0m\u001b[0;34m[\u001b[0m\u001b[0mself\u001b[0m\u001b[0;34m.\u001b[0m\u001b[0mvocab\u001b[0m\u001b[0;34m[\u001b[0m\u001b[0mword\u001b[0m\u001b[0;34m]\u001b[0m\u001b[0;34m.\u001b[0m\u001b[0mindex\u001b[0m\u001b[0;34m]\u001b[0m\u001b[0;34m\u001b[0m\u001b[0m\n\u001b[1;32m    283\u001b[0m         \u001b[0;32melse\u001b[0m\u001b[0;34m:\u001b[0m\u001b[0;34m\u001b[0m\u001b[0m\n\u001b[0;32m--> 284\u001b[0;31m             \u001b[0;32mraise\u001b[0m \u001b[0mKeyError\u001b[0m\u001b[0;34m(\u001b[0m\u001b[0;34m\"word '%s' not in vocabulary\"\u001b[0m \u001b[0;34m%\u001b[0m \u001b[0mword\u001b[0m\u001b[0;34m)\u001b[0m\u001b[0;34m\u001b[0m\u001b[0m\n\u001b[0m\u001b[1;32m    285\u001b[0m \u001b[0;34m\u001b[0m\u001b[0m\n\u001b[1;32m    286\u001b[0m     \u001b[0;32mdef\u001b[0m \u001b[0mmost_similar\u001b[0m\u001b[0;34m(\u001b[0m\u001b[0mself\u001b[0m\u001b[0;34m,\u001b[0m \u001b[0mpositive\u001b[0m\u001b[0;34m=\u001b[0m\u001b[0;32mNone\u001b[0m\u001b[0;34m,\u001b[0m \u001b[0mnegative\u001b[0m\u001b[0;34m=\u001b[0m\u001b[0;32mNone\u001b[0m\u001b[0;34m,\u001b[0m \u001b[0mtopn\u001b[0m\u001b[0;34m=\u001b[0m\u001b[0;36m10\u001b[0m\u001b[0;34m,\u001b[0m \u001b[0mrestrict_vocab\u001b[0m\u001b[0;34m=\u001b[0m\u001b[0;32mNone\u001b[0m\u001b[0;34m,\u001b[0m \u001b[0mindexer\u001b[0m\u001b[0;34m=\u001b[0m\u001b[0;32mNone\u001b[0m\u001b[0;34m)\u001b[0m\u001b[0;34m:\u001b[0m\u001b[0;34m\u001b[0m\u001b[0m\n",
      "\u001b[0;31mKeyError\u001b[0m: \"word 'tasti' not in vocabulary\""
     ]
    }
   ],
   "source": [
    "model.wv.most_similar('tasti')  # \"tasti\" is the stemmed word for tasty, tastful"
   ]
  },
  {
   "cell_type": "code",
   "execution_count": 155,
   "metadata": {},
   "outputs": [
    {
     "data": {
      "text/plain": [
       "[('delicious', 0.8730389475822449),\n",
       " ('scrumptious', 0.8007042407989502),\n",
       " ('yummy', 0.7856923341751099),\n",
       " ('flavorful', 0.7420164346694946),\n",
       " ('delectable', 0.7385422587394714),\n",
       " ('juicy_flavorful', 0.7114803791046143),\n",
       " ('appetizing', 0.701721727848053),\n",
       " ('crunchy_salty', 0.7012301087379456),\n",
       " ('flavourful', 0.6912214159965515),\n",
       " ('flavoursome', 0.6857703328132629)]"
      ]
     },
     "execution_count": 155,
     "metadata": {},
     "output_type": "execute_result"
    }
   ],
   "source": [
    "model.wv.most_similar('tasty') \n"
   ]
  },
  {
   "cell_type": "code",
   "execution_count": 137,
   "metadata": {},
   "outputs": [
    {
     "data": {
      "text/plain": [
       "0.44035054190088901"
      ]
     },
     "execution_count": 137,
     "metadata": {},
     "output_type": "execute_result"
    }
   ],
   "source": [
    "model.wv.similarity('tasty', 'tast')\n"
   ]
  },
  {
   "cell_type": "code",
   "execution_count": 185,
   "metadata": {
    "collapsed": true
   },
   "outputs": [],
   "source": [
    "# Train your own Word2Vec model using your own text corpus\n",
    "import gensim\n",
    "i=0\n",
    "list_of_sent=[]\n",
    "for sent in final['Text'].values:\n",
    "    filtered_sentence=[]\n",
    "    sent=cleanhtml(sent)\n",
    "    for w in sent.split():\n",
    "        for cleaned_words in cleanpunc(w).split():\n",
    "            if(cleaned_words.isalpha()):    \n",
    "                filtered_sentence.append(cleaned_words.lower())\n",
    "            else:\n",
    "                continue \n",
    "    list_of_sent.append(filtered_sentence)\n",
    "    "
   ]
  },
  {
   "cell_type": "code",
   "execution_count": 186,
   "metadata": {},
   "outputs": [
    {
     "name": "stdout",
     "output_type": "stream",
     "text": [
      "this witty little book makes my son laugh at loud. i recite it in the car as we're driving along and he always can sing the refrain. he's learned about whales, India, drooping roses:  i love all the new words this book  introduces and the silliness of it all.  this is a classic book i am  willing to bet my son will STILL be able to recite from memory when he is  in college\n",
      "*****************************************************************\n",
      "['this', 'witty', 'little', 'book', 'makes', 'my', 'son', 'laugh', 'at', 'loud', 'i', 'recite', 'it', 'in', 'the', 'car', 'as', 'were', 'driving', 'along', 'and', 'he', 'always', 'can', 'sing', 'the', 'refrain', 'hes', 'learned', 'about', 'whales', 'india', 'drooping', 'i', 'love', 'all', 'the', 'new', 'words', 'this', 'book', 'introduces', 'and', 'the', 'silliness', 'of', 'it', 'all', 'this', 'is', 'a', 'classic', 'book', 'i', 'am', 'willing', 'to', 'bet', 'my', 'son', 'will', 'still', 'be', 'able', 'to', 'recite', 'from', 'memory', 'when', 'he', 'is', 'in', 'college']\n"
     ]
    }
   ],
   "source": [
    "print(final['Text'].values[0])\n",
    "print(\"*****************************************************************\")\n",
    "print(list_of_sent[0])"
   ]
  },
  {
   "cell_type": "code",
   "execution_count": 187,
   "metadata": {},
   "outputs": [],
   "source": [
    "w2v_model=gensim.models.Word2Vec(list_of_sent,min_count=5,size=50, workers=4)    \n"
   ]
  },
  {
   "cell_type": "code",
   "execution_count": 190,
   "metadata": {},
   "outputs": [
    {
     "name": "stdout",
     "output_type": "stream",
     "text": [
      "33783\n"
     ]
    }
   ],
   "source": [
    "words = list(w2v_model.wv.vocab)\n",
    "print(len(words))"
   ]
  },
  {
   "cell_type": "code",
   "execution_count": 191,
   "metadata": {},
   "outputs": [
    {
     "data": {
      "text/plain": [
       "[('tastey', 0.909038245677948),\n",
       " ('satisfying', 0.8556904792785645),\n",
       " ('yummy', 0.8543208837509155),\n",
       " ('filling', 0.8233586549758911),\n",
       " ('delicious', 0.8229926228523254),\n",
       " ('flavorful', 0.8061250448226929),\n",
       " ('addicting', 0.771919846534729),\n",
       " ('delish', 0.7653154730796814),\n",
       " ('nutritious', 0.7626035213470459),\n",
       " ('tasteful', 0.7547359466552734)]"
      ]
     },
     "execution_count": 191,
     "metadata": {},
     "output_type": "execute_result"
    }
   ],
   "source": [
    "w2v_model.wv.most_similar('tasty')"
   ]
  },
  {
   "cell_type": "code",
   "execution_count": 199,
   "metadata": {},
   "outputs": [
    {
     "data": {
      "text/plain": [
       "[('resemble', 0.7139369249343872),\n",
       " ('mean', 0.651788055896759),\n",
       " ('prefer', 0.646423876285553),\n",
       " ('dislike', 0.6413203477859497),\n",
       " ('overpower', 0.6197512745857239),\n",
       " ('think', 0.5993291735649109),\n",
       " ('overwhelm', 0.5929116606712341),\n",
       " ('enjoy', 0.5895069241523743),\n",
       " ('gross', 0.5853881239891052),\n",
       " ('alright', 0.5824472308158875)]"
      ]
     },
     "execution_count": 199,
     "metadata": {},
     "output_type": "execute_result"
    }
   ],
   "source": [
    "w2v_model.wv.most_similar('like')"
   ]
  },
  {
   "cell_type": "code",
   "execution_count": 204,
   "metadata": {},
   "outputs": [
    {
     "name": "stdout",
     "output_type": "stream",
     "text": [
      "like\n"
     ]
    }
   ],
   "source": [
    "count_vect_feat = count_vect.get_feature_names() # list of words in the BoW\n",
    "count_vect_feat.index('like')\n",
    "print(count_vect_feat[64055])"
   ]
  },
  {
   "cell_type": "markdown",
   "metadata": {},
   "source": [
    "# [7.2.7] Avg W2V, TFIDF-W2V"
   ]
  },
  {
   "cell_type": "code",
   "execution_count": 215,
   "metadata": {},
   "outputs": [
    {
     "name": "stderr",
     "output_type": "stream",
     "text": [
      "/Library/Frameworks/Python.framework/Versions/3.6/lib/python3.6/site-packages/ipykernel_launcher.py:14: RuntimeWarning: invalid value encountered in true_divide\n",
      "  \n"
     ]
    },
    {
     "name": "stdout",
     "output_type": "stream",
     "text": [
      "364171\n",
      "50\n"
     ]
    }
   ],
   "source": [
    "# average Word2Vec\n",
    "# compute average word2vec for each review.\n",
    "sent_vectors = []; # the avg-w2v for each sentence/review is stored in this list\n",
    "for sent in list_of_sent: # for each review/sentence\n",
    "    sent_vec = np.zeros(50) # as word vectors are of zero length\n",
    "    cnt_words =0; # num of words with a valid vector in the sentence/review\n",
    "    for word in sent: # for each word in a review/sentence\n",
    "        try:\n",
    "            vec = w2v_model.wv[word]\n",
    "            sent_vec += vec\n",
    "            cnt_words += 1\n",
    "        except:\n",
    "            pass\n",
    "    sent_vec /= cnt_words\n",
    "    sent_vectors.append(sent_vec)\n",
    "print(len(sent_vectors))\n",
    "print(len(sent_vectors[0]))"
   ]
  },
  {
   "cell_type": "code",
   "execution_count": null,
   "metadata": {},
   "outputs": [],
   "source": [
    "# TF-IDF weighted Word2Vec\n",
    "tfidf_feat = tf_idf_vect.get_feature_names() # tfidf words/col-names\n",
    "# final_tf_idf is the sparse matrix with row= sentence, col=word and cell_val = tfidf\n",
    "\n",
    "tfidf_sent_vectors = []; # the tfidf-w2v for each sentence/review is stored in this list\n",
    "row=0;\n",
    "for sent in list_of_sent: # for each review/sentence\n",
    "    sent_vec = np.zeros(50) # as word vectors are of zero length\n",
    "    weight_sum =0; # num of words with a valid vector in the sentence/review\n",
    "    for word in sent: # for each word in a review/sentence\n",
    "        try:\n",
    "            vec = w2v_model.wv[word]\n",
    "            # obtain the tf_idfidf of a word in a sentence/review\n",
    "            tfidf = final_tf_idf[row, tfidf_feat.index(word)]\n",
    "            sent_vec += (vec * tf_idf)\n",
    "            weight_sum += tf_idf\n",
    "        except:\n",
    "            pass\n",
    "    sent_vec /= weight_sum\n",
    "    tfidf_sent_vectors.append(sent_vec)\n",
    "    row += 1\n",
    "    \n",
    "\n",
    "    "
   ]
  },
  {
   "cell_type": "code",
   "execution_count": null,
   "metadata": {
    "collapsed": true
   },
   "outputs": [],
   "source": []
  },
  {
   "cell_type": "code",
   "execution_count": null,
   "metadata": {
    "collapsed": true
   },
   "outputs": [],
   "source": []
  },
  {
   "cell_type": "code",
   "execution_count": null,
   "metadata": {
    "collapsed": true
   },
   "outputs": [],
   "source": []
  },
  {
   "cell_type": "code",
   "execution_count": null,
   "metadata": {
    "collapsed": true
   },
   "outputs": [],
   "source": []
  },
  {
   "cell_type": "code",
   "execution_count": null,
   "metadata": {
    "collapsed": true
   },
   "outputs": [],
   "source": []
  },
  {
   "cell_type": "code",
   "execution_count": null,
   "metadata": {
    "collapsed": true
   },
   "outputs": [],
   "source": []
  },
  {
   "cell_type": "code",
   "execution_count": null,
   "metadata": {
    "collapsed": true
   },
   "outputs": [],
   "source": []
  },
  {
   "cell_type": "code",
   "execution_count": null,
   "metadata": {
    "collapsed": true
   },
   "outputs": [],
   "source": []
  },
  {
   "cell_type": "code",
   "execution_count": null,
   "metadata": {
    "collapsed": true
   },
   "outputs": [],
   "source": []
  }
 ],
 "metadata": {
  "kernelspec": {
   "display_name": "Python 3",
   "language": "python",
   "name": "python3"
  },
  "language_info": {
   "codemirror_mode": {
    "name": "ipython",
    "version": 3
   },
   "file_extension": ".py",
   "mimetype": "text/x-python",
   "name": "python",
   "nbconvert_exporter": "python",
   "pygments_lexer": "ipython3",
   "version": "3.6.4"
  }
 },
 "nbformat": 4,
 "nbformat_minor": 2
}
