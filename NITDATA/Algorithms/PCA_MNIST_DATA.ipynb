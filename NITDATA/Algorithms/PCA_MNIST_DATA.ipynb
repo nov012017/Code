{
 "cells": [
  {
   "cell_type": "code",
   "execution_count": 1,
   "metadata": {},
   "outputs": [],
   "source": [
    "import sklearn\n",
    "import numpy as np\n",
    "import pandas as pd\n",
    "import matplotlib.pyplot as plt\n",
    "import seaborn as sns\n",
    "import scipy as scp"
   ]
  },
  {
   "cell_type": "code",
   "execution_count": 2,
   "metadata": {},
   "outputs": [],
   "source": [
    "import os\n",
    "os.chdir('C:\\\\Users\\\\prudi\\\\Desktop\\\\Data Sets\\\\MNIST')\n",
    "data=pd.read_csv('train.csv')"
   ]
  },
  {
   "cell_type": "code",
   "execution_count": 3,
   "metadata": {},
   "outputs": [],
   "source": [
    "label=data['label']\n",
    "data=data.drop('label',axis=1)"
   ]
  },
  {
   "cell_type": "code",
   "execution_count": 4,
   "metadata": {},
   "outputs": [
    {
     "data": {
      "text/html": [
       "<div>\n",
       "<style scoped>\n",
       "    .dataframe tbody tr th:only-of-type {\n",
       "        vertical-align: middle;\n",
       "    }\n",
       "\n",
       "    .dataframe tbody tr th {\n",
       "        vertical-align: top;\n",
       "    }\n",
       "\n",
       "    .dataframe thead th {\n",
       "        text-align: right;\n",
       "    }\n",
       "</style>\n",
       "<table border=\"1\" class=\"dataframe\">\n",
       "  <thead>\n",
       "    <tr style=\"text-align: right;\">\n",
       "      <th></th>\n",
       "      <th>pixel0</th>\n",
       "      <th>pixel1</th>\n",
       "      <th>pixel2</th>\n",
       "      <th>pixel3</th>\n",
       "      <th>pixel4</th>\n",
       "      <th>pixel5</th>\n",
       "      <th>pixel6</th>\n",
       "      <th>pixel7</th>\n",
       "      <th>pixel8</th>\n",
       "      <th>pixel9</th>\n",
       "      <th>...</th>\n",
       "      <th>pixel774</th>\n",
       "      <th>pixel775</th>\n",
       "      <th>pixel776</th>\n",
       "      <th>pixel777</th>\n",
       "      <th>pixel778</th>\n",
       "      <th>pixel779</th>\n",
       "      <th>pixel780</th>\n",
       "      <th>pixel781</th>\n",
       "      <th>pixel782</th>\n",
       "      <th>pixel783</th>\n",
       "    </tr>\n",
       "  </thead>\n",
       "  <tbody>\n",
       "    <tr>\n",
       "      <td>0</td>\n",
       "      <td>0</td>\n",
       "      <td>0</td>\n",
       "      <td>0</td>\n",
       "      <td>0</td>\n",
       "      <td>0</td>\n",
       "      <td>0</td>\n",
       "      <td>0</td>\n",
       "      <td>0</td>\n",
       "      <td>0</td>\n",
       "      <td>0</td>\n",
       "      <td>...</td>\n",
       "      <td>0</td>\n",
       "      <td>0</td>\n",
       "      <td>0</td>\n",
       "      <td>0</td>\n",
       "      <td>0</td>\n",
       "      <td>0</td>\n",
       "      <td>0</td>\n",
       "      <td>0</td>\n",
       "      <td>0</td>\n",
       "      <td>0</td>\n",
       "    </tr>\n",
       "    <tr>\n",
       "      <td>1</td>\n",
       "      <td>0</td>\n",
       "      <td>0</td>\n",
       "      <td>0</td>\n",
       "      <td>0</td>\n",
       "      <td>0</td>\n",
       "      <td>0</td>\n",
       "      <td>0</td>\n",
       "      <td>0</td>\n",
       "      <td>0</td>\n",
       "      <td>0</td>\n",
       "      <td>...</td>\n",
       "      <td>0</td>\n",
       "      <td>0</td>\n",
       "      <td>0</td>\n",
       "      <td>0</td>\n",
       "      <td>0</td>\n",
       "      <td>0</td>\n",
       "      <td>0</td>\n",
       "      <td>0</td>\n",
       "      <td>0</td>\n",
       "      <td>0</td>\n",
       "    </tr>\n",
       "  </tbody>\n",
       "</table>\n",
       "<p>2 rows × 784 columns</p>\n",
       "</div>"
      ],
      "text/plain": [
       "   pixel0  pixel1  pixel2  pixel3  pixel4  pixel5  pixel6  pixel7  pixel8  \\\n",
       "0       0       0       0       0       0       0       0       0       0   \n",
       "1       0       0       0       0       0       0       0       0       0   \n",
       "\n",
       "   pixel9  ...  pixel774  pixel775  pixel776  pixel777  pixel778  pixel779  \\\n",
       "0       0  ...         0         0         0         0         0         0   \n",
       "1       0  ...         0         0         0         0         0         0   \n",
       "\n",
       "   pixel780  pixel781  pixel782  pixel783  \n",
       "0         0         0         0         0  \n",
       "1         0         0         0         0  \n",
       "\n",
       "[2 rows x 784 columns]"
      ]
     },
     "execution_count": 4,
     "metadata": {},
     "output_type": "execute_result"
    }
   ],
   "source": [
    "data.head(2)"
   ]
  },
  {
   "cell_type": "code",
   "execution_count": 6,
   "metadata": {},
   "outputs": [
    {
     "name": "stdout",
     "output_type": "stream",
     "text": [
      "(42000, 784)\n"
     ]
    }
   ],
   "source": [
    "from sklearn.preprocessing import StandardScaler\n",
    "standardized_data = StandardScaler().fit_transform(data)\n",
    "print(standardized_data.shape)"
   ]
  },
  {
   "cell_type": "markdown",
   "metadata": {},
   "source": [
    "2 — Compute covariance matrix"
   ]
  },
  {
   "cell_type": "code",
   "execution_count": 7,
   "metadata": {},
   "outputs": [
    {
     "name": "stdout",
     "output_type": "stream",
     "text": [
      "The shape of variance matrix =  (784, 784)\n"
     ]
    }
   ],
   "source": [
    "#find the co-variance matrix which is : A^T * A\n",
    "sample_data = standardized_data\n",
    "# matrix multiplication using numpy\n",
    "covar_matrix = np.matmul(sample_data.T , sample_data)\n",
    "print(\"The shape of variance matrix = \", covar_matrix.shape)"
   ]
  },
  {
   "cell_type": "markdown",
   "metadata": {},
   "source": [
    "3 — Compute eigenvalue and eigenvector\n",
    "\n",
    "#### finding the top two eigen-values and corresponding eigen-vectors \n",
    "#### for projecting onto a 2-Dim space.\n",
    "#### https://docs.scipy.org/doc/scipy-0.14.0/reference/generated/scipy.linalg.eigh.html"
   ]
  },
  {
   "cell_type": "code",
   "execution_count": 12,
   "metadata": {},
   "outputs": [],
   "source": [
    "from scipy.linalg import eigh\n",
    "# the parameter ‘eigvals’ is defined (low value to heigh value) \n",
    "# eigh function will return the eigen values in asending order\n",
    "# this code generates only the top 2 (782 and 783)(index) eigenvalues.\n",
    "values, vectors = eigh(covar_matrix, eigvals=(782,783))"
   ]
  },
  {
   "cell_type": "code",
   "execution_count": 13,
   "metadata": {},
   "outputs": [
    {
     "name": "stdout",
     "output_type": "stream",
     "text": [
      "Shape of eigen vectors =  (784, 2)\n"
     ]
    }
   ],
   "source": [
    "print(\"Shape of eigen vectors = \",vectors.shape)\n",
    "# converting the eigen vectors into (2,d) shape for easyness of further computations\n",
    "vectors = vectors.T"
   ]
  },
  {
   "cell_type": "code",
   "execution_count": 81,
   "metadata": {},
   "outputs": [
    {
     "name": "stdout",
     "output_type": "stream",
     "text": [
      "Updated shape of eigen vectors =  (2, 784)\n"
     ]
    }
   ],
   "source": [
    "print(\"Updated shape of eigen vectors = \",vectors.shape)\n",
    "# here the vectors[1] represent the eigen vector corresponding 1st principal eigen vector\n",
    "# here the vectors[0] represent the eigen vector corresponding 2nd principal eigen vector"
   ]
  },
  {
   "cell_type": "code",
   "execution_count": 14,
   "metadata": {},
   "outputs": [
    {
     "name": "stdout",
     "output_type": "stream",
     "text": [
      "(2, 42000)\n"
     ]
    }
   ],
   "source": [
    "import matplotlib.pyplot as plt\n",
    "new_coordinates = np.matmul(vectors, sample_data.T)\n",
    "print(new_coordinates.shape)"
   ]
  },
  {
   "cell_type": "code",
   "execution_count": 10,
   "metadata": {},
   "outputs": [
    {
     "name": "stdout",
     "output_type": "stream",
     "text": [
      "(3,)\n",
      "(3,)\n"
     ]
    },
    {
     "data": {
      "text/html": [
       "<div>\n",
       "<style scoped>\n",
       "    .dataframe tbody tr th:only-of-type {\n",
       "        vertical-align: middle;\n",
       "    }\n",
       "\n",
       "    .dataframe tbody tr th {\n",
       "        vertical-align: top;\n",
       "    }\n",
       "\n",
       "    .dataframe thead th {\n",
       "        text-align: right;\n",
       "    }\n",
       "</style>\n",
       "<table border=\"1\" class=\"dataframe\">\n",
       "  <thead>\n",
       "    <tr style=\"text-align: right;\">\n",
       "      <th></th>\n",
       "      <th>0</th>\n",
       "      <th>1</th>\n",
       "    </tr>\n",
       "  </thead>\n",
       "  <tbody>\n",
       "    <tr>\n",
       "      <td>0</td>\n",
       "      <td>1</td>\n",
       "      <td>2</td>\n",
       "    </tr>\n",
       "    <tr>\n",
       "      <td>1</td>\n",
       "      <td>2</td>\n",
       "      <td>3</td>\n",
       "    </tr>\n",
       "    <tr>\n",
       "      <td>2</td>\n",
       "      <td>3</td>\n",
       "      <td>4</td>\n",
       "    </tr>\n",
       "  </tbody>\n",
       "</table>\n",
       "</div>"
      ],
      "text/plain": [
       "   0  1\n",
       "0  1  2\n",
       "1  2  3\n",
       "2  3  4"
      ]
     },
     "execution_count": 10,
     "metadata": {},
     "output_type": "execute_result"
    }
   ],
   "source": [
    "# Example of VSTACK\n",
    "a = np.array([1, 2, 3])\n",
    "print(a.shape)\n",
    "b = np.array([2, 3, 4])\n",
    "print(b.shape)\n",
    "pd.DataFrame(np.vstack((a,b)).T)"
   ]
  },
  {
   "cell_type": "code",
   "execution_count": 84,
   "metadata": {},
   "outputs": [
    {
     "name": "stdout",
     "output_type": "stream",
     "text": [
      "   1st_principal  2nd_principal  label\n",
      "0      -5.226445      -5.140478    1.0\n",
      "1       6.032996      19.292332    0.0\n",
      "2      -1.705813      -7.644503    1.0\n",
      "3       5.836139      -0.474207    4.0\n",
      "4       6.024818      26.559574    0.0\n"
     ]
    }
   ],
   "source": [
    "import pandas as pd\n",
    "new_coordinates = np.vstack((new_coordinates, label)).T\n",
    "dataframe = pd.DataFrame(data=new_coordinates, columns=(\"1st_principal\", \"2nd_principal\", \"label\"))\n",
    "print(dataframe.head())"
   ]
  },
  {
   "cell_type": "code",
   "execution_count": 88,
   "metadata": {},
   "outputs": [
    {
     "name": "stderr",
     "output_type": "stream",
     "text": [
      "/home/exe002/anaconda3/lib/python3.7/site-packages/seaborn/axisgrid.py:230: UserWarning: The `size` paramter has been renamed to `height`; please update your code.\n",
      "  warnings.warn(msg, UserWarning)\n"
     ]
    },
    {
     "data": {
      "image/png": "[encoded data removed]",
      "text/plain": [
       "<Figure size 483.875x432 with 1 Axes>"
      ]
     },
     "metadata": {
      "needs_background": "light"
     },
     "output_type": "display_data"
    }
   ],
   "source": [
    "# plotting the 2d data points with seaborn\n",
    "import seaborn as sn\n",
    "sn.FacetGrid(dataframe, hue=\"label\", size=6).map(plt.scatter, '1st_principal', '2nd_principal').add_legend()\n",
    "plt.show()"
   ]
  },
  {
   "cell_type": "markdown",
   "metadata": {},
   "source": [
    "There is a lot of overlapping among classes means PCA not very good for the high dimensional dataset. Very few classes can be separated but most of them are mixed. PCA is mainly used for dimensionality reduction, not for visualization. To visualize high dimension data, we mostly use T-SNE"
   ]
  },
  {
   "cell_type": "markdown",
   "metadata": {},
   "source": [
    "PCA for dimension reduction"
   ]
  },
  {
   "cell_type": "code",
   "execution_count": 18,
   "metadata": {},
   "outputs": [],
   "source": [
    "# initializing the pca\n",
    "from sklearn import decomposition\n",
    "pca = decomposition.PCA(n_components = 784)\n",
    "# PCA for dimensionality redcution (non-visualization)\n",
    "pca_data = pca.fit_transform(sample_data)\n",
    "percentage_var_explained = pca.explained_variance_ / np.sum(pca.explained_variance_);\n",
    "cum_var_explained = np.cumsum(percentage_var_explained)"
   ]
  },
  {
   "cell_type": "code",
   "execution_count": 19,
   "metadata": {},
   "outputs": [
    {
     "data": {
      "image/png": "[encoded data removed]",
      "text/plain": [
       "<Figure size 432x288 with 1 Axes>"
      ]
     },
     "metadata": {
      "needs_background": "light"
     },
     "output_type": "display_data"
    }
   ],
   "source": [
    "# Plot the PCA spectrum\n",
    "plt.figure(1, figsize=(6, 4))\n",
    "plt.clf()\n",
    "plt.plot(cum_var_explained, linewidth=2)\n",
    "plt.axis('tight')\n",
    "plt.grid()\n",
    "plt.xlabel('n_components')\n",
    "plt.ylabel('Cumulative_explained_variance')\n",
    "plt.show()"
   ]
  },
  {
   "cell_type": "code",
   "execution_count": 22,
   "metadata": {},
   "outputs": [
    {
     "data": {
      "text/html": [
       "<div>\n",
       "<style scoped>\n",
       "    .dataframe tbody tr th:only-of-type {\n",
       "        vertical-align: middle;\n",
       "    }\n",
       "\n",
       "    .dataframe tbody tr th {\n",
       "        vertical-align: top;\n",
       "    }\n",
       "\n",
       "    .dataframe thead th {\n",
       "        text-align: right;\n",
       "    }\n",
       "</style>\n",
       "<table border=\"1\" class=\"dataframe\">\n",
       "  <thead>\n",
       "    <tr style=\"text-align: right;\">\n",
       "      <th></th>\n",
       "      <th>0</th>\n",
       "      <th>1</th>\n",
       "      <th>2</th>\n",
       "      <th>3</th>\n",
       "      <th>4</th>\n",
       "      <th>5</th>\n",
       "      <th>6</th>\n",
       "      <th>7</th>\n",
       "      <th>8</th>\n",
       "      <th>9</th>\n",
       "      <th>...</th>\n",
       "      <th>774</th>\n",
       "      <th>775</th>\n",
       "      <th>776</th>\n",
       "      <th>777</th>\n",
       "      <th>778</th>\n",
       "      <th>779</th>\n",
       "      <th>780</th>\n",
       "      <th>781</th>\n",
       "      <th>782</th>\n",
       "      <th>783</th>\n",
       "    </tr>\n",
       "  </thead>\n",
       "  <tbody>\n",
       "    <tr>\n",
       "      <td>0</td>\n",
       "      <td>-5.140478</td>\n",
       "      <td>-5.226445</td>\n",
       "      <td>3.887001</td>\n",
       "      <td>-0.901512</td>\n",
       "      <td>4.929111</td>\n",
       "      <td>2.035413</td>\n",
       "      <td>4.706946</td>\n",
       "      <td>-4.767184</td>\n",
       "      <td>0.230958</td>\n",
       "      <td>-1.460962</td>\n",
       "      <td>...</td>\n",
       "      <td>-0.000000e+00</td>\n",
       "      <td>-0.000000e+00</td>\n",
       "      <td>0.0</td>\n",
       "      <td>0.0</td>\n",
       "      <td>0.0</td>\n",
       "      <td>0.0</td>\n",
       "      <td>0.000000e+00</td>\n",
       "      <td>-0.000000e+00</td>\n",
       "      <td>0.000000e+00</td>\n",
       "      <td>0.000000e+00</td>\n",
       "    </tr>\n",
       "    <tr>\n",
       "      <td>1</td>\n",
       "      <td>19.292332</td>\n",
       "      <td>6.032996</td>\n",
       "      <td>1.308148</td>\n",
       "      <td>-2.383294</td>\n",
       "      <td>3.095188</td>\n",
       "      <td>-1.791095</td>\n",
       "      <td>-3.772790</td>\n",
       "      <td>0.153865</td>\n",
       "      <td>-4.115192</td>\n",
       "      <td>-4.299357</td>\n",
       "      <td>...</td>\n",
       "      <td>2.456232e-16</td>\n",
       "      <td>2.676008e-16</td>\n",
       "      <td>0.0</td>\n",
       "      <td>0.0</td>\n",
       "      <td>0.0</td>\n",
       "      <td>0.0</td>\n",
       "      <td>-5.950691e-15</td>\n",
       "      <td>-1.059648e-15</td>\n",
       "      <td>3.000390e-15</td>\n",
       "      <td>-1.911065e-15</td>\n",
       "    </tr>\n",
       "    <tr>\n",
       "      <td>2</td>\n",
       "      <td>-7.644503</td>\n",
       "      <td>-1.705813</td>\n",
       "      <td>2.289326</td>\n",
       "      <td>2.241135</td>\n",
       "      <td>5.094426</td>\n",
       "      <td>-4.152058</td>\n",
       "      <td>-1.012004</td>\n",
       "      <td>1.732559</td>\n",
       "      <td>0.436261</td>\n",
       "      <td>-0.073687</td>\n",
       "      <td>...</td>\n",
       "      <td>1.402711e-16</td>\n",
       "      <td>1.705257e-16</td>\n",
       "      <td>0.0</td>\n",
       "      <td>0.0</td>\n",
       "      <td>0.0</td>\n",
       "      <td>0.0</td>\n",
       "      <td>-6.682179e-15</td>\n",
       "      <td>-1.990758e-15</td>\n",
       "      <td>3.091608e-15</td>\n",
       "      <td>-1.879086e-15</td>\n",
       "    </tr>\n",
       "    <tr>\n",
       "      <td>3</td>\n",
       "      <td>-0.474207</td>\n",
       "      <td>5.836139</td>\n",
       "      <td>2.008617</td>\n",
       "      <td>4.271106</td>\n",
       "      <td>2.377777</td>\n",
       "      <td>2.179913</td>\n",
       "      <td>4.398030</td>\n",
       "      <td>-0.353712</td>\n",
       "      <td>0.992308</td>\n",
       "      <td>5.501253</td>\n",
       "      <td>...</td>\n",
       "      <td>4.032218e-17</td>\n",
       "      <td>-1.317747e-16</td>\n",
       "      <td>0.0</td>\n",
       "      <td>0.0</td>\n",
       "      <td>0.0</td>\n",
       "      <td>0.0</td>\n",
       "      <td>-6.001745e-15</td>\n",
       "      <td>-1.554977e-15</td>\n",
       "      <td>1.081516e-15</td>\n",
       "      <td>-5.012035e-16</td>\n",
       "    </tr>\n",
       "    <tr>\n",
       "      <td>4</td>\n",
       "      <td>26.559574</td>\n",
       "      <td>6.024818</td>\n",
       "      <td>0.933179</td>\n",
       "      <td>-3.012645</td>\n",
       "      <td>9.489179</td>\n",
       "      <td>-2.331195</td>\n",
       "      <td>-6.149597</td>\n",
       "      <td>-1.783637</td>\n",
       "      <td>-4.123302</td>\n",
       "      <td>-5.757361</td>\n",
       "      <td>...</td>\n",
       "      <td>2.014238e-17</td>\n",
       "      <td>2.895320e-16</td>\n",
       "      <td>0.0</td>\n",
       "      <td>0.0</td>\n",
       "      <td>0.0</td>\n",
       "      <td>0.0</td>\n",
       "      <td>1.354092e-14</td>\n",
       "      <td>-1.505323e-15</td>\n",
       "      <td>2.263573e-15</td>\n",
       "      <td>-6.140125e-16</td>\n",
       "    </tr>\n",
       "  </tbody>\n",
       "</table>\n",
       "<p>5 rows × 784 columns</p>\n",
       "</div>"
      ],
      "text/plain": [
       "         0         1         2         3         4         5         6    \\\n",
       "0  -5.140478 -5.226445  3.887001 -0.901512  4.929111  2.035413  4.706946   \n",
       "1  19.292332  6.032996  1.308148 -2.383294  3.095188 -1.791095 -3.772790   \n",
       "2  -7.644503 -1.705813  2.289326  2.241135  5.094426 -4.152058 -1.012004   \n",
       "3  -0.474207  5.836139  2.008617  4.271106  2.377777  2.179913  4.398030   \n",
       "4  26.559574  6.024818  0.933179 -3.012645  9.489179 -2.331195 -6.149597   \n",
       "\n",
       "        7         8         9    ...           774           775  776  777  \\\n",
       "0 -4.767184  0.230958 -1.460962  ... -0.000000e+00 -0.000000e+00  0.0  0.0   \n",
       "1  0.153865 -4.115192 -4.299357  ...  2.456232e-16  2.676008e-16  0.0  0.0   \n",
       "2  1.732559  0.436261 -0.073687  ...  1.402711e-16  1.705257e-16  0.0  0.0   \n",
       "3 -0.353712  0.992308  5.501253  ...  4.032218e-17 -1.317747e-16  0.0  0.0   \n",
       "4 -1.783637 -4.123302 -5.757361  ...  2.014238e-17  2.895320e-16  0.0  0.0   \n",
       "\n",
       "   778  779           780           781           782           783  \n",
       "0  0.0  0.0  0.000000e+00 -0.000000e+00  0.000000e+00  0.000000e+00  \n",
       "1  0.0  0.0 -5.950691e-15 -1.059648e-15  3.000390e-15 -1.911065e-15  \n",
       "2  0.0  0.0 -6.682179e-15 -1.990758e-15  3.091608e-15 -1.879086e-15  \n",
       "3  0.0  0.0 -6.001745e-15 -1.554977e-15  1.081516e-15 -5.012035e-16  \n",
       "4  0.0  0.0  1.354092e-14 -1.505323e-15  2.263573e-15 -6.140125e-16  \n",
       "\n",
       "[5 rows x 784 columns]"
      ]
     },
     "execution_count": 22,
     "metadata": {},
     "output_type": "execute_result"
    }
   ],
   "source": [
    "from sklearn import decomposition\n",
    "pca = decomposition.PCA(n_components = 784)\n",
    "# PCA for dimensionality redcution (non-visualization)\n",
    "pca_data = pca.fit_transform(sample_data)\n",
    "pca_data=pd.DataFrame(pca_data)\n",
    "pca_data.head()"
   ]
  },
  {
   "cell_type": "code",
   "execution_count": 23,
   "metadata": {},
   "outputs": [
    {
     "data": {
      "text/html": [
       "<div>\n",
       "<style scoped>\n",
       "    .dataframe tbody tr th:only-of-type {\n",
       "        vertical-align: middle;\n",
       "    }\n",
       "\n",
       "    .dataframe tbody tr th {\n",
       "        vertical-align: top;\n",
       "    }\n",
       "\n",
       "    .dataframe thead th {\n",
       "        text-align: right;\n",
       "    }\n",
       "</style>\n",
       "<table border=\"1\" class=\"dataframe\">\n",
       "  <thead>\n",
       "    <tr style=\"text-align: right;\">\n",
       "      <th></th>\n",
       "      <th>0</th>\n",
       "      <th>1</th>\n",
       "      <th>2</th>\n",
       "      <th>3</th>\n",
       "      <th>4</th>\n",
       "      <th>5</th>\n",
       "      <th>6</th>\n",
       "      <th>7</th>\n",
       "      <th>8</th>\n",
       "      <th>9</th>\n",
       "      <th>...</th>\n",
       "      <th>290</th>\n",
       "      <th>291</th>\n",
       "      <th>292</th>\n",
       "      <th>293</th>\n",
       "      <th>294</th>\n",
       "      <th>295</th>\n",
       "      <th>296</th>\n",
       "      <th>297</th>\n",
       "      <th>298</th>\n",
       "      <th>299</th>\n",
       "    </tr>\n",
       "  </thead>\n",
       "  <tbody>\n",
       "    <tr>\n",
       "      <td>0</td>\n",
       "      <td>-5.140478</td>\n",
       "      <td>-5.226445</td>\n",
       "      <td>3.887001</td>\n",
       "      <td>-0.901512</td>\n",
       "      <td>4.929111</td>\n",
       "      <td>2.035413</td>\n",
       "      <td>4.706946</td>\n",
       "      <td>-4.767184</td>\n",
       "      <td>0.230958</td>\n",
       "      <td>-1.460962</td>\n",
       "      <td>...</td>\n",
       "      <td>0.186850</td>\n",
       "      <td>-0.250027</td>\n",
       "      <td>0.155587</td>\n",
       "      <td>0.054389</td>\n",
       "      <td>0.100089</td>\n",
       "      <td>-0.234413</td>\n",
       "      <td>-0.243503</td>\n",
       "      <td>0.025103</td>\n",
       "      <td>-0.474519</td>\n",
       "      <td>0.011323</td>\n",
       "    </tr>\n",
       "    <tr>\n",
       "      <td>1</td>\n",
       "      <td>19.292332</td>\n",
       "      <td>6.032996</td>\n",
       "      <td>1.308148</td>\n",
       "      <td>-2.383294</td>\n",
       "      <td>3.095188</td>\n",
       "      <td>-1.791095</td>\n",
       "      <td>-3.772790</td>\n",
       "      <td>0.153865</td>\n",
       "      <td>-4.115191</td>\n",
       "      <td>-4.299357</td>\n",
       "      <td>...</td>\n",
       "      <td>0.123104</td>\n",
       "      <td>-0.013233</td>\n",
       "      <td>-0.595507</td>\n",
       "      <td>0.460744</td>\n",
       "      <td>0.488449</td>\n",
       "      <td>0.287271</td>\n",
       "      <td>0.157265</td>\n",
       "      <td>0.217794</td>\n",
       "      <td>0.093615</td>\n",
       "      <td>-0.168768</td>\n",
       "    </tr>\n",
       "    <tr>\n",
       "      <td>2</td>\n",
       "      <td>-7.644503</td>\n",
       "      <td>-1.705813</td>\n",
       "      <td>2.289326</td>\n",
       "      <td>2.241135</td>\n",
       "      <td>5.094426</td>\n",
       "      <td>-4.152058</td>\n",
       "      <td>-1.012004</td>\n",
       "      <td>1.732559</td>\n",
       "      <td>0.436262</td>\n",
       "      <td>-0.073687</td>\n",
       "      <td>...</td>\n",
       "      <td>0.185082</td>\n",
       "      <td>0.094426</td>\n",
       "      <td>0.127598</td>\n",
       "      <td>0.206938</td>\n",
       "      <td>0.174374</td>\n",
       "      <td>-0.164572</td>\n",
       "      <td>0.126374</td>\n",
       "      <td>0.344347</td>\n",
       "      <td>0.017771</td>\n",
       "      <td>0.150041</td>\n",
       "    </tr>\n",
       "    <tr>\n",
       "      <td>3</td>\n",
       "      <td>-0.474207</td>\n",
       "      <td>5.836139</td>\n",
       "      <td>2.008617</td>\n",
       "      <td>4.271106</td>\n",
       "      <td>2.377777</td>\n",
       "      <td>2.179913</td>\n",
       "      <td>4.398029</td>\n",
       "      <td>-0.353713</td>\n",
       "      <td>0.992309</td>\n",
       "      <td>5.501253</td>\n",
       "      <td>...</td>\n",
       "      <td>-1.381446</td>\n",
       "      <td>-0.875324</td>\n",
       "      <td>0.478806</td>\n",
       "      <td>-0.660104</td>\n",
       "      <td>-0.798068</td>\n",
       "      <td>1.107886</td>\n",
       "      <td>1.609837</td>\n",
       "      <td>0.240195</td>\n",
       "      <td>-0.056880</td>\n",
       "      <td>-0.903778</td>\n",
       "    </tr>\n",
       "    <tr>\n",
       "      <td>4</td>\n",
       "      <td>26.559574</td>\n",
       "      <td>6.024818</td>\n",
       "      <td>0.933180</td>\n",
       "      <td>-3.012645</td>\n",
       "      <td>9.489179</td>\n",
       "      <td>-2.331195</td>\n",
       "      <td>-6.149597</td>\n",
       "      <td>-1.783637</td>\n",
       "      <td>-4.123301</td>\n",
       "      <td>-5.757361</td>\n",
       "      <td>...</td>\n",
       "      <td>-0.143526</td>\n",
       "      <td>-0.691937</td>\n",
       "      <td>-1.063897</td>\n",
       "      <td>0.186669</td>\n",
       "      <td>-0.700977</td>\n",
       "      <td>1.153674</td>\n",
       "      <td>-0.458229</td>\n",
       "      <td>-0.113689</td>\n",
       "      <td>-0.296278</td>\n",
       "      <td>0.735769</td>\n",
       "    </tr>\n",
       "  </tbody>\n",
       "</table>\n",
       "<p>5 rows × 300 columns</p>\n",
       "</div>"
      ],
      "text/plain": [
       "         0         1         2         3         4         5         6    \\\n",
       "0  -5.140478 -5.226445  3.887001 -0.901512  4.929111  2.035413  4.706946   \n",
       "1  19.292332  6.032996  1.308148 -2.383294  3.095188 -1.791095 -3.772790   \n",
       "2  -7.644503 -1.705813  2.289326  2.241135  5.094426 -4.152058 -1.012004   \n",
       "3  -0.474207  5.836139  2.008617  4.271106  2.377777  2.179913  4.398029   \n",
       "4  26.559574  6.024818  0.933180 -3.012645  9.489179 -2.331195 -6.149597   \n",
       "\n",
       "        7         8         9    ...       290       291       292       293  \\\n",
       "0 -4.767184  0.230958 -1.460962  ...  0.186850 -0.250027  0.155587  0.054389   \n",
       "1  0.153865 -4.115191 -4.299357  ...  0.123104 -0.013233 -0.595507  0.460744   \n",
       "2  1.732559  0.436262 -0.073687  ...  0.185082  0.094426  0.127598  0.206938   \n",
       "3 -0.353713  0.992309  5.501253  ... -1.381446 -0.875324  0.478806 -0.660104   \n",
       "4 -1.783637 -4.123301 -5.757361  ... -0.143526 -0.691937 -1.063897  0.186669   \n",
       "\n",
       "        294       295       296       297       298       299  \n",
       "0  0.100089 -0.234413 -0.243503  0.025103 -0.474519  0.011323  \n",
       "1  0.488449  0.287271  0.157265  0.217794  0.093615 -0.168768  \n",
       "2  0.174374 -0.164572  0.126374  0.344347  0.017771  0.150041  \n",
       "3 -0.798068  1.107886  1.609837  0.240195 -0.056880 -0.903778  \n",
       "4 -0.700977  1.153674 -0.458229 -0.113689 -0.296278  0.735769  \n",
       "\n",
       "[5 rows x 300 columns]"
      ]
     },
     "execution_count": 23,
     "metadata": {},
     "output_type": "execute_result"
    }
   ],
   "source": [
    "from sklearn import decomposition\n",
    "pca = decomposition.PCA(n_components = 300)\n",
    "# PCA for dimensionality redcution (non-visualization)\n",
    "pca_data = pca.fit_transform(sample_data)\n",
    "pca_data=pd.DataFrame(pca_data)\n",
    "pca_data.head()"
   ]
  },
  {
   "cell_type": "code",
   "execution_count": null,
   "metadata": {},
   "outputs": [],
   "source": []
  },
  {
   "cell_type": "code",
   "execution_count": null,
   "metadata": {},
   "outputs": [],
   "source": []
  }
 ],
 "metadata": {
  "kernelspec": {
   "display_name": "Python 3",
   "language": "python",
   "name": "python3"
  },
  "language_info": {
   "codemirror_mode": {
    "name": "ipython",
    "version": 3
   },
   "file_extension": ".py",
   "mimetype": "text/x-python",
   "name": "python",
   "nbconvert_exporter": "python",
   "pygments_lexer": "ipython3",
   "version": "3.7.4"
  }
 },
 "nbformat": 4,
 "nbformat_minor": 2
}
