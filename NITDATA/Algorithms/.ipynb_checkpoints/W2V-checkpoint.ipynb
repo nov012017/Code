{
 "cells": [
  {
   "cell_type": "code",
   "execution_count": 1,
   "metadata": {},
   "outputs": [],
   "source": [
    "import en_core_web_sm\n",
    "nlp = en_core_web_sm.load()"
   ]
  },
  {
   "cell_type": "code",
   "execution_count": 8,
   "metadata": {},
   "outputs": [
    {
     "name": "stderr",
     "output_type": "stream",
     "text": [
      "[nltk_data] Downloading package stopwords to\n",
      "[nltk_data]     C:\\Users\\prudi\\AppData\\Roaming\\nltk_data...\n",
      "[nltk_data]   Package stopwords is already up-to-date!\n"
     ]
    }
   ],
   "source": [
    "import nltk\n",
    "import pandas as pd\n",
    "pd.set_option(\"display.max_colwidth\", 200)\n",
    "import numpy as np\n",
    "import re\n",
    "import nltk\n",
    "import matplotlib.pyplot as plt\n",
    "import seaborn as sns              \n",
    "from nltk import FreqDist\n",
    "nltk.download('stopwords') # run this one time\n",
    "from tqdm import tqdm_notebook as tqdm"
   ]
  },
  {
   "cell_type": "code",
   "execution_count": 371,
   "metadata": {},
   "outputs": [],
   "source": [
    "#import spacy\n",
    "#import gensim\n",
    "#from gensim import corpora"
   ]
  },
  {
   "cell_type": "code",
   "execution_count": 3,
   "metadata": {},
   "outputs": [],
   "source": [
    "import os\n",
    "#os.chdir('C:\\\\Users\\\\Administrator\\\\Desktop\\\\Data\\\\reviews_Automotive_5.json')\n",
    "os.chdir('C:\\\\Users\\\\prudi\\\\Desktop\\\\Data Sets\\\\amazon-fine-food-reviews')\n",
    "#df = pd.read_json('Reviews.json', lines=True)\n",
    "df=pd.read_csv('Reviews.csv')"
   ]
  },
  {
   "cell_type": "code",
   "execution_count": 4,
   "metadata": {},
   "outputs": [],
   "source": [
    "doc1=nlp('Human Animal Ethics')\n",
    "vec=[]\n",
    "mean_vec1 = np.zeros([len(doc1), 384])\n",
    "for word in doc1:\n",
    "    vec1=word.vector\n",
    "    vec.append(vec1)"
   ]
  },
  {
   "cell_type": "code",
   "execution_count": 5,
   "metadata": {},
   "outputs": [
    {
     "data": {
      "text/plain": [
       "[array([-0.1407477 , -3.8205848 , -1.9092069 , -3.459029  , -2.8608959 ,\n",
       "         1.9412229 ,  6.460883  ,  2.0057597 , -2.8395827 ,  1.6788514 ,\n",
       "         0.09250405, -0.12935656, -3.0249598 , -3.337937  , -2.4874969 ,\n",
       "        -1.724994  ,  1.9900078 ,  0.14034599, -2.182682  , -0.30507046,\n",
       "        -0.49640828, -2.5845437 ,  2.049661  ,  3.0134783 , -2.8402097 ,\n",
       "        -0.8955729 ,  2.2587662 , -4.043387  ,  4.559689  ,  6.274294  ,\n",
       "         0.08622986,  0.4455865 ,  1.3939152 , -0.89190996,  0.17441948,\n",
       "        -1.9247003 ,  0.870615  ,  1.830676  ,  3.7783766 ,  1.0114413 ,\n",
       "        -0.66622275,  1.4696226 , -0.05447087, -3.027906  , -1.6008918 ,\n",
       "        -2.874867  ,  1.4515915 , -0.10064247, -1.0473218 ,  0.16622335,\n",
       "        -7.3992996 , -0.18344222, -1.3154362 , -3.9597945 , -1.4793339 ,\n",
       "         2.1579897 ,  3.0519557 ,  2.1065664 , -5.552466  , -1.4586897 ,\n",
       "        -0.6324294 ,  3.8437097 ,  2.1839788 ,  1.5182453 ,  0.35355854,\n",
       "         3.1410687 ,  3.6514344 , -5.353481  ,  1.5485568 , -0.654976  ,\n",
       "        -0.23186374,  2.0670447 ,  1.7126255 ,  2.2544093 ,  2.5355911 ,\n",
       "        -0.77916294,  0.690855  ,  0.35533535,  2.7718086 , -2.2544594 ,\n",
       "        -1.5844353 , -1.5321095 , -3.1476054 , -0.15549964, -2.1512847 ,\n",
       "         2.4197245 ,  2.756043  ,  4.602571  ,  1.4578176 ,  1.5308444 ,\n",
       "         4.720999  , -1.017976  , -5.5326586 , -0.65321636,  2.376873  ,\n",
       "         0.88492906], dtype=float32),\n",
       " array([ 2.242925  , -4.9774275 ,  0.51021236, -1.7958035 , -1.6205711 ,\n",
       "         0.75482714,  5.766159  ,  3.0457792 , -1.9935255 ,  3.5212576 ,\n",
       "         2.4713593 ,  3.1999104 , -2.4783974 , -1.9850688 , -0.70914495,\n",
       "        -0.41125095,  6.8524847 ,  1.5789143 ,  2.0121436 ,  4.577138  ,\n",
       "        -0.49150258, -3.0919676 , -0.60285735,  4.8213544 , -4.0014873 ,\n",
       "         0.35021305, -1.8870589 , -4.9227457 ,  2.163525  ,  5.650091  ,\n",
       "         1.3964667 , -2.8280065 ,  0.8209153 , -2.7679505 ,  2.0514581 ,\n",
       "        -1.2244993 , -1.7679443 , -0.23735318,  0.22428617,  0.2329773 ,\n",
       "        -0.9448184 ,  1.8578463 ,  2.134305  , -0.74610513, -1.1413513 ,\n",
       "        -2.254809  ,  0.27765894,  3.0278168 , -0.20809442,  2.3046207 ,\n",
       "        -5.687871  ,  1.1559057 , -3.751959  , -4.1382737 , -2.3888423 ,\n",
       "        -1.0437515 ,  1.8426511 , -2.1317763 , -3.5247574 ,  1.2449691 ,\n",
       "         0.41268173,  1.6290425 ,  1.7524918 ,  1.2579601 , -3.3258815 ,\n",
       "         3.2113788 ,  4.1159225 , -2.3501623 , -2.8641417 , -0.07147619,\n",
       "        -2.5406048 ,  1.1949172 ,  0.5747152 ,  0.8893774 ,  0.6600449 ,\n",
       "         0.8317737 ,  1.4338577 , -0.2799297 ,  0.20105913, -3.9048383 ,\n",
       "        -2.298612  , -1.2108936 , -0.950902  ,  2.255044  ,  1.7360055 ,\n",
       "         2.4084613 ,  1.7595599 ,  0.06042057, -2.60434   , -3.5582871 ,\n",
       "         2.447625  , -0.3294841 , -2.9379878 , -2.2081041 , -0.04407513,\n",
       "         4.699421  ], dtype=float32),\n",
       " array([ 1.9211180e+00,  1.2190732e-01,  1.8671031e+00, -1.9415522e+00,\n",
       "        -2.3351951e+00,  3.2876902e+00,  4.9993839e+00, -1.0268378e+00,\n",
       "        -1.6871815e+00,  1.1906708e+00, -8.7101728e-01,  5.7205286e-02,\n",
       "        -3.3416986e+00, -1.5427685e-01, -3.4327328e+00, -4.5842820e-01,\n",
       "         3.2383099e+00,  1.7496705e-01,  1.5081213e+00, -5.0232261e-03,\n",
       "        -2.1367226e+00, -1.1045066e+00, -1.9551830e+00, -1.7481143e+00,\n",
       "        -2.0182309e+00,  4.9642363e+00,  1.5267748e-01, -2.8643155e+00,\n",
       "         3.5047460e+00, -2.9569826e+00,  1.8364588e+00,  9.7992897e-01,\n",
       "         1.0548552e+00, -1.2882208e+00,  3.9869025e+00,  2.2264025e+00,\n",
       "        -1.8926623e+00,  1.0117548e+00,  1.9400239e-02, -2.3225038e+00,\n",
       "        -2.3655851e+00, -2.1131086e+00, -6.3505095e-01,  3.4439106e+00,\n",
       "         5.1064405e+00, -1.0895629e+00, -7.4534321e-01,  3.8148208e+00,\n",
       "         2.4334581e+00,  2.3167801e+00, -4.0976105e+00,  3.2803637e-01,\n",
       "        -2.1947703e+00, -1.5785396e+00, -6.3819945e-01, -1.0108442e+00,\n",
       "         9.8033518e-01,  3.4604154e+00,  3.8653463e-02,  2.0327866e-01,\n",
       "        -5.0674558e-02,  7.0066047e-01,  5.0357952e+00,  9.1443485e-01,\n",
       "         5.3244495e-01,  2.9056668e+00,  2.4105291e+00,  1.7136996e+00,\n",
       "         5.2904713e-01,  1.9726427e+00, -1.3634986e+00,  1.2170254e+00,\n",
       "         9.9415481e-01, -2.4885716e+00, -3.7684262e+00, -2.1114757e+00,\n",
       "         2.1376538e+00, -1.1523521e+00, -2.5047393e+00,  3.7876701e-01,\n",
       "        -3.6295748e+00, -1.2271323e+00, -3.8850489e+00, -7.8996789e-01,\n",
       "         3.1898475e+00, -3.1879461e+00,  5.8641708e-01,  2.6063526e+00,\n",
       "        -8.4431714e-01, -6.2517905e-01, -4.6237177e-01, -2.7044706e+00,\n",
       "        -6.7587066e-01, -2.6286674e-01,  1.2436998e+00, -3.0890496e+00],\n",
       "       dtype=float32)]"
      ]
     },
     "execution_count": 5,
     "metadata": {},
     "output_type": "execute_result"
    }
   ],
   "source": [
    "vec"
   ]
  },
  {
   "cell_type": "code",
   "execution_count": null,
   "metadata": {},
   "outputs": [],
   "source": [
    "import warnings\n",
    "# en_vectors_web_lg, which includes over 1 million unique vectors.\n",
    "#nlp = spacy.load('en_core_web_sm')\n",
    "import en_core_web_sm\n",
    "nlp = en_core_web_sm.load()\n",
    "vecs1 = []\n",
    "# https://github.com/noamraph/tqdm\n",
    "# tqdm is used to print the progress bar\n",
    "for qu1 in tqdm(list(df['question1'])):\n",
    "    doc1 = nlp(qu1) \n",
    "    # 384 is the number of dimensions of vectors \n",
    "    mean_vec1 = np.zeros([len(doc1), 384])\n",
    "    for word1 in doc1:\n",
    "        # word2vec\n",
    "        vec1 = word1.vector\n",
    "        # fetch df score\n",
    "        try:\n",
    "            idf = word2tfidf[str(word1)]\n",
    "        except:\n",
    "            idf = 0\n",
    "        # compute final vec\n",
    "        mean_vec1 += vec1 * idf\n",
    "    mean_vec1 = mean_vec1.mean(axis=0)\n",
    "    vecs1.append(mean_vec1)\n",
    "df['q1_feats_m'] = list(vecs1)\n"
   ]
  },
  {
   "cell_type": "code",
   "execution_count": null,
   "metadata": {},
   "outputs": [],
   "source": [
    "Geopolitics: Iraq - Violence = Jordan\n",
    "Distinction: Human - Animal = Ethics\n",
    "President - Power = Prime Minister\n",
    "Library - Books = Hall\n",
    "Analogy: Stock Market ≈ Thermometer"
   ]
  },
  {
   "cell_type": "code",
   "execution_count": null,
   "metadata": {},
   "outputs": [],
   "source": [
    "import gensim\n",
    "import gensim.downloader as api\n",
    "\n",
    "from gensim.models.tfidfmodel import TfidfModel\n",
    "\n",
    "word2vec_model300 = api.load('word2vec-google-news-300')\n",
    "\n",
    "#len(word2vec_model300[''])"
   ]
  }
 ],
 "metadata": {
  "kernelspec": {
   "display_name": "Python 3",
   "language": "python",
   "name": "python3"
  },
  "language_info": {
   "codemirror_mode": {
    "name": "ipython",
    "version": 3
   },
   "file_extension": ".py",
   "mimetype": "text/x-python",
   "name": "python",
   "nbconvert_exporter": "python",
   "pygments_lexer": "ipython3",
   "version": "3.6.8"
  }
 },
 "nbformat": 4,
 "nbformat_minor": 2
}
