{
 "cells": [
  {
   "cell_type": "markdown",
   "metadata": {},
   "source": [
    "### Grid Search Parameter Tuning\n",
    "Grid search is an approach to parameter tuning that will methodically build and evaluate a model for each combination of algorithm parameters specified in a grid.\n",
    "\n",
    "The recipe below evaluates different alpha values for the Ridge Regression algorithm on the standard diabetes dataset. This is a one-dimensional grid search."
   ]
  },
  {
   "cell_type": "markdown",
   "metadata": {},
   "source": [
    "Grid Search can be thought of as an exhaustive search for selecting a model. In Grid Search, the data scientist sets up a grid of hyperparameter values and for each combination, trains a model and scores on the testing data. In this approach, every combination of hyperparameter values is tried which can be very inefficient. For example, searching 20 different parameter values for each of 4 parameters will require 160,000 trials of cross-validation. This equates to 1,600,000 model fits and 1,600,000 predictions if 10-fold cross validation is used. While Scikit Learn offers the GridSearchCV function to simplify the process, it would be an extremely costly execution both in computing power and time."
   ]
  },
  {
   "cell_type": "code",
   "execution_count": 3,
   "metadata": {},
   "outputs": [],
   "source": [
    "from sklearn import datasets\n",
    "from sklearn.model_selection import GridSearchCV\n",
    "from sklearn.tree import DecisionTreeClassifier\n",
    "from sklearn.neighbors import KNeighborsClassifier"
   ]
  },
  {
   "cell_type": "code",
   "execution_count": 4,
   "metadata": {},
   "outputs": [],
   "source": [
    "iris = datasets.load_iris()"
   ]
  },
  {
   "cell_type": "code",
   "execution_count": 13,
   "metadata": {},
   "outputs": [],
   "source": [
    "parameters = {'n_neighbors':(1,3,5,7,9,11),\n",
    "              'p':[1,2,3],\n",
    "             'leaf_size':[30,35]}"
   ]
  },
  {
   "cell_type": "code",
   "execution_count": 14,
   "metadata": {},
   "outputs": [],
   "source": [
    "KNN = KNeighborsClassifier()"
   ]
  },
  {
   "cell_type": "code",
   "execution_count": 26,
   "metadata": {},
   "outputs": [
    {
     "data": {
      "text/plain": [
       "GridSearchCV(cv=5, error_score=nan,\n",
       "             estimator=KNeighborsClassifier(algorithm='auto', leaf_size=30,\n",
       "                                            metric='minkowski',\n",
       "                                            metric_params=None, n_jobs=None,\n",
       "                                            n_neighbors=5, p=2,\n",
       "                                            weights='uniform'),\n",
       "             iid='deprecated', n_jobs=None,\n",
       "             param_grid={'leaf_size': [30, 35],\n",
       "                         'n_neighbors': (1, 3, 5, 7, 9, 11), 'p': [1, 2, 3]},\n",
       "             pre_dispatch='2*n_jobs', refit=True, return_train_score=False,\n",
       "             scoring='f1_macro', verbose=0)"
      ]
     },
     "execution_count": 26,
     "metadata": {},
     "output_type": "execute_result"
    }
   ],
   "source": [
    "clf = GridSearchCV(KNN, parameters, cv=5,scoring='f1_macro')\n",
    "clf.fit(iris.data, iris.target)"
   ]
  },
  {
   "cell_type": "code",
   "execution_count": 16,
   "metadata": {},
   "outputs": [
    {
     "data": {
      "text/plain": [
       "KNeighborsClassifier(algorithm='auto', leaf_size=30, metric='minkowski',\n",
       "                     metric_params=None, n_jobs=None, n_neighbors=9, p=3,\n",
       "                     weights='uniform')"
      ]
     },
     "execution_count": 16,
     "metadata": {},
     "output_type": "execute_result"
    }
   ],
   "source": [
    "clf.best_estimator_"
   ]
  },
  {
   "cell_type": "code",
   "execution_count": 40,
   "metadata": {},
   "outputs": [
    {
     "data": {
      "text/plain": [
       "0.9866332497911445"
      ]
     },
     "execution_count": 40,
     "metadata": {},
     "output_type": "execute_result"
    }
   ],
   "source": [
    "clf.best_score_"
   ]
  },
  {
   "cell_type": "code",
   "execution_count": 42,
   "metadata": {},
   "outputs": [
    {
     "data": {
      "text/plain": [
       "KNeighborsClassifier(algorithm='auto', leaf_size=30, metric='minkowski',\n",
       "                     metric_params=None, n_jobs=None, n_neighbors=5, p=2,\n",
       "                     weights='uniform')"
      ]
     },
     "execution_count": 42,
     "metadata": {},
     "output_type": "execute_result"
    }
   ],
   "source": [
    "clf."
   ]
  },
  {
   "cell_type": "code",
   "execution_count": 18,
   "metadata": {},
   "outputs": [
    {
     "data": {
      "text/plain": [
       "{'mean_fit_time': array([0.00083055, 0.00040054, 0.        , 0.0018157 , 0.00313916,\n",
       "        0.00314097, 0.        , 0.        , 0.0001996 , 0.        ,\n",
       "        0.00315452, 0.00020018, 0.        , 0.00312438, 0.        ,\n",
       "        0.        , 0.00312419, 0.        , 0.00332384, 0.        ,\n",
       "        0.        , 0.00649443, 0.00039835, 0.        , 0.00316944,\n",
       "        0.00313811, 0.        , 0.        , 0.00312495, 0.        ,\n",
       "        0.        , 0.        , 0.        , 0.00020652, 0.        ,\n",
       "        0.        ]),\n",
       " 'std_fit_time': array([0.00041684, 0.00049056, 0.        , 0.00173439, 0.00627832,\n",
       "        0.00628195, 0.        , 0.        , 0.00039921, 0.        ,\n",
       "        0.00630903, 0.00040035, 0.        , 0.00624876, 0.        ,\n",
       "        0.        , 0.00624838, 0.        , 0.0061607 , 0.        ,\n",
       "        0.        , 0.00795699, 0.00048788, 0.        , 0.00633888,\n",
       "        0.00627623, 0.        , 0.        , 0.0062499 , 0.        ,\n",
       "        0.        , 0.        , 0.        , 0.00041304, 0.        ,\n",
       "        0.        ]),\n",
       " 'mean_score_time': array([0.00216484, 0.00558085, 0.00480294, 0.00040021, 0.00028186,\n",
       "        0.00312428, 0.        , 0.00312424, 0.00646281, 0.00348792,\n",
       "        0.00624132, 0.00359592, 0.00313978, 0.00312409, 0.        ,\n",
       "        0.00312438, 0.00312419, 0.        , 0.        , 0.00312724,\n",
       "        0.00360761, 0.00040689, 0.00351167, 0.00626631, 0.0002068 ,\n",
       "        0.        , 0.00312443, 0.00312419, 0.00312324, 0.        ,\n",
       "        0.00341339, 0.00315189, 0.00351095, 0.00313368, 0.00312448,\n",
       "        0.00316434]),\n",
       " 'std_score_time': array([0.00178241, 0.00304188, 0.00049106, 0.00049015, 0.00056372,\n",
       "        0.00624857, 0.        , 0.00624847, 0.00651915, 0.00697584,\n",
       "        0.00764404, 0.00624242, 0.00627956, 0.00624819, 0.        ,\n",
       "        0.00624876, 0.00624838, 0.        , 0.        , 0.00625448,\n",
       "        0.00721521, 0.00049847, 0.00510777, 0.00767467, 0.00041361,\n",
       "        0.        , 0.00624886, 0.00624838, 0.00624647, 0.        ,\n",
       "        0.00682678, 0.00630379, 0.0070219 , 0.00626736, 0.00624895,\n",
       "        0.00632868]),\n",
       " 'param_leaf_size': masked_array(data=[30, 30, 30, 30, 30, 30, 30, 30, 30, 30, 30, 30, 30, 30,\n",
       "                    30, 30, 30, 30, 35, 35, 35, 35, 35, 35, 35, 35, 35, 35,\n",
       "                    35, 35, 35, 35, 35, 35, 35, 35],\n",
       "              mask=[False, False, False, False, False, False, False, False,\n",
       "                    False, False, False, False, False, False, False, False,\n",
       "                    False, False, False, False, False, False, False, False,\n",
       "                    False, False, False, False, False, False, False, False,\n",
       "                    False, False, False, False],\n",
       "        fill_value='?',\n",
       "             dtype=object),\n",
       " 'param_n_neighbors': masked_array(data=[1, 1, 1, 3, 3, 3, 5, 5, 5, 7, 7, 7, 9, 9, 9, 11, 11,\n",
       "                    11, 1, 1, 1, 3, 3, 3, 5, 5, 5, 7, 7, 7, 9, 9, 9, 11,\n",
       "                    11, 11],\n",
       "              mask=[False, False, False, False, False, False, False, False,\n",
       "                    False, False, False, False, False, False, False, False,\n",
       "                    False, False, False, False, False, False, False, False,\n",
       "                    False, False, False, False, False, False, False, False,\n",
       "                    False, False, False, False],\n",
       "        fill_value='?',\n",
       "             dtype=object),\n",
       " 'param_p': masked_array(data=[1, 2, 3, 1, 2, 3, 1, 2, 3, 1, 2, 3, 1, 2, 3, 1, 2, 3,\n",
       "                    1, 2, 3, 1, 2, 3, 1, 2, 3, 1, 2, 3, 1, 2, 3, 1, 2, 3],\n",
       "              mask=[False, False, False, False, False, False, False, False,\n",
       "                    False, False, False, False, False, False, False, False,\n",
       "                    False, False, False, False, False, False, False, False,\n",
       "                    False, False, False, False, False, False, False, False,\n",
       "                    False, False, False, False],\n",
       "        fill_value='?',\n",
       "             dtype=object),\n",
       " 'params': [{'leaf_size': 30, 'n_neighbors': 1, 'p': 1},\n",
       "  {'leaf_size': 30, 'n_neighbors': 1, 'p': 2},\n",
       "  {'leaf_size': 30, 'n_neighbors': 1, 'p': 3},\n",
       "  {'leaf_size': 30, 'n_neighbors': 3, 'p': 1},\n",
       "  {'leaf_size': 30, 'n_neighbors': 3, 'p': 2},\n",
       "  {'leaf_size': 30, 'n_neighbors': 3, 'p': 3},\n",
       "  {'leaf_size': 30, 'n_neighbors': 5, 'p': 1},\n",
       "  {'leaf_size': 30, 'n_neighbors': 5, 'p': 2},\n",
       "  {'leaf_size': 30, 'n_neighbors': 5, 'p': 3},\n",
       "  {'leaf_size': 30, 'n_neighbors': 7, 'p': 1},\n",
       "  {'leaf_size': 30, 'n_neighbors': 7, 'p': 2},\n",
       "  {'leaf_size': 30, 'n_neighbors': 7, 'p': 3},\n",
       "  {'leaf_size': 30, 'n_neighbors': 9, 'p': 1},\n",
       "  {'leaf_size': 30, 'n_neighbors': 9, 'p': 2},\n",
       "  {'leaf_size': 30, 'n_neighbors': 9, 'p': 3},\n",
       "  {'leaf_size': 30, 'n_neighbors': 11, 'p': 1},\n",
       "  {'leaf_size': 30, 'n_neighbors': 11, 'p': 2},\n",
       "  {'leaf_size': 30, 'n_neighbors': 11, 'p': 3},\n",
       "  {'leaf_size': 35, 'n_neighbors': 1, 'p': 1},\n",
       "  {'leaf_size': 35, 'n_neighbors': 1, 'p': 2},\n",
       "  {'leaf_size': 35, 'n_neighbors': 1, 'p': 3},\n",
       "  {'leaf_size': 35, 'n_neighbors': 3, 'p': 1},\n",
       "  {'leaf_size': 35, 'n_neighbors': 3, 'p': 2},\n",
       "  {'leaf_size': 35, 'n_neighbors': 3, 'p': 3},\n",
       "  {'leaf_size': 35, 'n_neighbors': 5, 'p': 1},\n",
       "  {'leaf_size': 35, 'n_neighbors': 5, 'p': 2},\n",
       "  {'leaf_size': 35, 'n_neighbors': 5, 'p': 3},\n",
       "  {'leaf_size': 35, 'n_neighbors': 7, 'p': 1},\n",
       "  {'leaf_size': 35, 'n_neighbors': 7, 'p': 2},\n",
       "  {'leaf_size': 35, 'n_neighbors': 7, 'p': 3},\n",
       "  {'leaf_size': 35, 'n_neighbors': 9, 'p': 1},\n",
       "  {'leaf_size': 35, 'n_neighbors': 9, 'p': 2},\n",
       "  {'leaf_size': 35, 'n_neighbors': 9, 'p': 3},\n",
       "  {'leaf_size': 35, 'n_neighbors': 11, 'p': 1},\n",
       "  {'leaf_size': 35, 'n_neighbors': 11, 'p': 2},\n",
       "  {'leaf_size': 35, 'n_neighbors': 11, 'p': 3}],\n",
       " 'split0_test_score': array([0.96666667, 0.96666667, 0.96666667, 0.96666667, 0.96666667,\n",
       "        0.96666667, 0.96666667, 0.96666667, 0.96666667, 0.96666667,\n",
       "        0.96666667, 0.96666667, 0.96666667, 0.96666667, 0.96666667,\n",
       "        0.96666667, 0.93333333, 0.93333333, 0.96666667, 0.96666667,\n",
       "        0.96666667, 0.96666667, 0.96666667, 0.96666667, 0.96666667,\n",
       "        0.96666667, 0.96666667, 0.96666667, 0.96666667, 0.96666667,\n",
       "        0.96666667, 0.96666667, 0.96666667, 0.96666667, 0.93333333,\n",
       "        0.93333333]),\n",
       " 'split1_test_score': array([0.96666667, 0.96666667, 0.96666667, 0.96666667, 0.96666667,\n",
       "        0.96666667, 0.96666667, 1.        , 1.        , 1.        ,\n",
       "        1.        , 1.        , 1.        , 1.        , 1.        ,\n",
       "        1.        , 1.        , 1.        , 0.96666667, 0.96666667,\n",
       "        0.96666667, 0.96666667, 0.96666667, 0.96666667, 0.96666667,\n",
       "        1.        , 1.        , 1.        , 1.        , 1.        ,\n",
       "        1.        , 1.        , 1.        , 1.        , 1.        ,\n",
       "        1.        ]),\n",
       " 'split2_test_score': array([0.93333333, 0.93333333, 0.93333333, 0.93333333, 0.93333333,\n",
       "        0.93333333, 0.9       , 0.93333333, 0.93333333, 0.96666667,\n",
       "        0.96666667, 0.96666667, 0.96666667, 0.96666667, 1.        ,\n",
       "        0.96666667, 1.        , 1.        , 0.93333333, 0.93333333,\n",
       "        0.93333333, 0.93333333, 0.93333333, 0.93333333, 0.9       ,\n",
       "        0.93333333, 0.93333333, 0.96666667, 0.96666667, 0.96666667,\n",
       "        0.96666667, 0.96666667, 1.        , 0.96666667, 1.        ,\n",
       "        1.        ]),\n",
       " 'split3_test_score': array([0.93333333, 0.93333333, 0.93333333, 0.93333333, 0.96666667,\n",
       "        0.96666667, 0.96666667, 0.96666667, 0.96666667, 0.93333333,\n",
       "        0.96666667, 0.96666667, 0.93333333, 0.93333333, 0.96666667,\n",
       "        0.96666667, 0.96666667, 0.96666667, 0.93333333, 0.93333333,\n",
       "        0.93333333, 0.93333333, 0.96666667, 0.96666667, 0.96666667,\n",
       "        0.96666667, 0.96666667, 0.93333333, 0.96666667, 0.96666667,\n",
       "        0.93333333, 0.93333333, 0.96666667, 0.96666667, 0.96666667,\n",
       "        0.96666667]),\n",
       " 'split4_test_score': array([1., 1., 1., 1., 1., 1., 1., 1., 1., 1., 1., 1., 1., 1., 1., 1., 1.,\n",
       "        1., 1., 1., 1., 1., 1., 1., 1., 1., 1., 1., 1., 1., 1., 1., 1., 1.,\n",
       "        1., 1.]),\n",
       " 'mean_test_score': array([0.96      , 0.96      , 0.96      , 0.96      , 0.96666667,\n",
       "        0.96666667, 0.96      , 0.97333333, 0.97333333, 0.97333333,\n",
       "        0.98      , 0.98      , 0.97333333, 0.97333333, 0.98666667,\n",
       "        0.98      , 0.98      , 0.98      , 0.96      , 0.96      ,\n",
       "        0.96      , 0.96      , 0.96666667, 0.96666667, 0.96      ,\n",
       "        0.97333333, 0.97333333, 0.97333333, 0.98      , 0.98      ,\n",
       "        0.97333333, 0.97333333, 0.98666667, 0.98      , 0.98      ,\n",
       "        0.98      ]),\n",
       " 'std_test_score': array([0.02494438, 0.02494438, 0.02494438, 0.02494438, 0.02108185,\n",
       "        0.02108185, 0.03265986, 0.02494438, 0.02494438, 0.02494438,\n",
       "        0.01632993, 0.01632993, 0.02494438, 0.02494438, 0.01632993,\n",
       "        0.01632993, 0.02666667, 0.02666667, 0.02494438, 0.02494438,\n",
       "        0.02494438, 0.02494438, 0.02108185, 0.02108185, 0.03265986,\n",
       "        0.02494438, 0.02494438, 0.02494438, 0.01632993, 0.01632993,\n",
       "        0.02494438, 0.02494438, 0.01632993, 0.01632993, 0.02666667,\n",
       "        0.02666667]),\n",
       " 'rank_test_score': array([29, 29, 29, 29, 23, 23, 27, 13, 13, 13,  3,  3, 13, 13,  1,  3,  3,\n",
       "         3, 29, 29, 29, 29, 23, 23, 27, 13, 13, 13,  3,  3, 13, 13,  1,  3,\n",
       "         3,  3])}"
      ]
     },
     "execution_count": 18,
     "metadata": {},
     "output_type": "execute_result"
    }
   ],
   "source": [
    "clf.cv_results_"
   ]
  },
  {
   "cell_type": "code",
   "execution_count": 17,
   "metadata": {},
   "outputs": [
    {
     "data": {
      "text/plain": [
       "['mean_fit_time',\n",
       " 'mean_score_time',\n",
       " 'mean_test_score',\n",
       " 'param_leaf_size',\n",
       " 'param_n_neighbors',\n",
       " 'param_p',\n",
       " 'params',\n",
       " 'rank_test_score',\n",
       " 'split0_test_score',\n",
       " 'split1_test_score',\n",
       " 'split2_test_score',\n",
       " 'split3_test_score',\n",
       " 'split4_test_score',\n",
       " 'std_fit_time',\n",
       " 'std_score_time',\n",
       " 'std_test_score']"
      ]
     },
     "execution_count": 17,
     "metadata": {},
     "output_type": "execute_result"
    }
   ],
   "source": [
    "sorted(clf.cv_results_.keys())"
   ]
  },
  {
   "cell_type": "code",
   "execution_count": 43,
   "metadata": {},
   "outputs": [
    {
     "name": "stdout",
     "output_type": "stream",
     "text": [
      "Confusion Matrix :\n",
      "[[50  0  0]\n",
      " [ 0 47  3]\n",
      " [ 0  2 48]]\n",
      "Accuracy Score : 0.9666666666666667\n",
      "Report : \n",
      "              precision    recall  f1-score   support\n",
      "\n",
      "           0       1.00      1.00      1.00        50\n",
      "           1       0.96      0.94      0.95        50\n",
      "           2       0.94      0.96      0.95        50\n",
      "\n",
      "    accuracy                           0.97       150\n",
      "   macro avg       0.97      0.97      0.97       150\n",
      "weighted avg       0.97      0.97      0.97       150\n",
      "\n"
     ]
    }
   ],
   "source": [
    "Log_Reg=KNeighborsClassifier(algorithm='auto', leaf_size=30, metric='minkowski',\n",
    "                     metric_params=None, n_jobs=None, n_neighbors=5, p=2,\n",
    "                     weights='uniform')\n",
    "Log_Reg\n",
    "Log_Reg.fit(iris.data, iris.target)\n",
    "\n",
    "predicted_xtest=list(Log_Reg.predict(iris.data))\n",
    "actual_test=list(iris.target)\n",
    "\n",
    "from sklearn.metrics import confusion_matrix \n",
    "from sklearn.metrics import accuracy_score \n",
    "from sklearn.metrics import classification_report \n",
    "\n",
    "results =confusion_matrix(actual_test, predicted_xtest) \n",
    "\n",
    "print('Confusion Matrix :')\n",
    "print(results) \n",
    "print('Accuracy Score :',accuracy_score(actual_test, predicted_xtest) )\n",
    "print('Report : ')\n",
    "print (classification_report(actual_test, predicted_xtest) )"
   ]
  },
  {
   "cell_type": "code",
   "execution_count": 50,
   "metadata": {},
   "outputs": [],
   "source": [
    "from sklearn.metrics import f1_score"
   ]
  },
  {
   "cell_type": "code",
   "execution_count": 51,
   "metadata": {},
   "outputs": [
    {
     "data": {
      "text/plain": [
       "0.9666633329999667"
      ]
     },
     "execution_count": 51,
     "metadata": {},
     "output_type": "execute_result"
    }
   ],
   "source": [
    "f1_score(actual_test, predicted_xtest, average='macro')"
   ]
  },
  {
   "cell_type": "code",
   "execution_count": null,
   "metadata": {},
   "outputs": [],
   "source": []
  },
  {
   "cell_type": "code",
   "execution_count": null,
   "metadata": {},
   "outputs": [],
   "source": []
  },
  {
   "cell_type": "code",
   "execution_count": null,
   "metadata": {},
   "outputs": [],
   "source": []
  },
  {
   "cell_type": "code",
   "execution_count": null,
   "metadata": {},
   "outputs": [],
   "source": []
  },
  {
   "cell_type": "code",
   "execution_count": null,
   "metadata": {},
   "outputs": [],
   "source": []
  },
  {
   "cell_type": "markdown",
   "metadata": {},
   "source": [
    "### Random Search Parameter Tuning\n",
    "Random search is an approach to parameter tuning that will sample algorithm parameters from a random distribution (i.e. uniform) for a fixed number of iterations. A model is constructed and evaluated for each combination of parameters chosen.\n",
    "\n",
    "The recipe below evaluates different alpha random values between 0 and 1 for the Ridge Regression algorithm on the standard diabetes dataset."
   ]
  },
  {
   "cell_type": "markdown",
   "metadata": {},
   "source": [
    "While it’s possible that RandomizedSearchCV will not find as accurate of a result as GridSearchCV, it surprisingly picks the best result more often than not and in a fraction of the time it takes GridSearchCV would have taken. Given the same resources, Randomized Search can even outperform Grid Search. This can be visualized in the graphic below when continuous parameters are used."
   ]
  },
  {
   "cell_type": "code",
   "execution_count": 38,
   "metadata": {},
   "outputs": [
    {
     "name": "stdout",
     "output_type": "stream",
     "text": [
      "RandomizedSearchCV(cv=None, error_score=nan,\n",
      "                   estimator=Ridge(alpha=1.0, copy_X=True, fit_intercept=True,\n",
      "                                   max_iter=None, normalize=False,\n",
      "                                   random_state=None, solver='auto',\n",
      "                                   tol=0.001),\n",
      "                   iid='deprecated', n_iter=100, n_jobs=None,\n",
      "                   param_distributions={'alpha': <scipy.stats._distn_infrastructure.rv_frozen object at 0x000002024E492C08>},\n",
      "                   pre_dispatch='2*n_jobs', random_state=None, refit=True,\n",
      "                   return_train_score=False, scoring=None, verbose=0)\n"
     ]
    }
   ],
   "source": [
    "import numpy as np\n",
    "from scipy.stats import uniform as sp_rand\n",
    "from sklearn import datasets\n",
    "from sklearn.linear_model import Ridge\n",
    "from sklearn.model_selection import RandomizedSearchCV\n",
    "# load the diabetes datasets\n",
    "dataset = datasets.load_diabetes()\n",
    "# prepare a uniform distribution to sample for the alpha parameter\n",
    "param_grid = {'alpha': sp_rand()}\n",
    "# create and fit a ridge regression model, testing random alpha values\n",
    "model = Ridge()\n",
    "rsearch = RandomizedSearchCV(estimator=model, param_distributions=param_grid, n_iter=100)\n",
    "rsearch.fit(dataset.data, dataset.target)\n",
    "print(rsearch)\n"
   ]
  },
  {
   "cell_type": "code",
   "execution_count": 39,
   "metadata": {},
   "outputs": [
    {
     "name": "stdout",
     "output_type": "stream",
     "text": [
      "0.4821549081098828\n",
      "0.0026304647186116137\n"
     ]
    }
   ],
   "source": [
    "# summarize the results of the random parameter search\n",
    "print(rsearch.best_score_)\n",
    "print(rsearch.best_estimator_.alpha)"
   ]
  },
  {
   "cell_type": "markdown",
   "metadata": {},
   "source": [
    "### Conclusions and key takeaways:\n",
    "Model tuning is the process of finding the best machine learning model hyperparameters for a particular data set. Random and Grid Search are two uniformed methods for hyperparameter tuning and Scikit Learn offers these functions through GridSearchCV and RandomizedSearchCV.\n",
    "\n",
    "With small data sets and lots of resources, Grid Search will produce accurate results. However, with large data sets, the high dimensions will greatly slow down computation time and be very costly. In this instance, it is advised to use Randomized Search since the number of iterations is explicitly defined by the data scientist."
   ]
  },
  {
   "cell_type": "code",
   "execution_count": 37,
   "metadata": {},
   "outputs": [
    {
     "data": {
      "text/plain": [
       "scipy.stats._distn_infrastructure.rv_frozen"
      ]
     },
     "execution_count": 37,
     "metadata": {},
     "output_type": "execute_result"
    }
   ],
   "source": [
    "from scipy.stats import uniform as sp_rand\n",
    "type(sp_rand())"
   ]
  }
 ],
 "metadata": {
  "kernelspec": {
   "display_name": "Python 3",
   "language": "python",
   "name": "python3"
  },
  "language_info": {
   "codemirror_mode": {
    "name": "ipython",
    "version": 3
   },
   "file_extension": ".py",
   "mimetype": "text/x-python",
   "name": "python",
   "nbconvert_exporter": "python",
   "pygments_lexer": "ipython3",
   "version": "3.7.4"
  }
 },
 "nbformat": 4,
 "nbformat_minor": 2
}
