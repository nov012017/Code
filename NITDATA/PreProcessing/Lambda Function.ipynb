{
 "cells": [
  {
   "cell_type": "markdown",
   "metadata": {},
   "source": [
    "##############################################################################\n",
    "#### Python Session                       \n",
    "#### Date:  10/30/2019\n",
    "#### Author: Prudhvi\n",
    "\n",
    "##### Description: This session will cover:\n",
    "                     Different LAMBDA Function \n",
    "                     \n",
    "##############################################################################\n"
   ]
  },
  {
   "cell_type": "markdown",
   "metadata": {},
   "source": [
    "What are lambda functions in Python?\n",
    "In Python, anonymous function is a function that is defined without a name.\n",
    "\n",
    "While normal functions are defined using the def keyword, in Python anonymous functions are defined using the lambda keyword.\n",
    "\n",
    "Hence, anonymous functions are also called lambda functions."
   ]
  },
  {
   "cell_type": "markdown",
   "metadata": {},
   "source": [
    "How to use lambda Functions in Python?\n",
    "A lambda function in python has the following syntax."
   ]
  },
  {
   "cell_type": "markdown",
   "metadata": {},
   "source": [
    "Syntax of Lambda Function in python\n",
    "\n",
    "lambda arguments: expression"
   ]
  },
  {
   "cell_type": "markdown",
   "metadata": {},
   "source": [
    "Lambda functions can have any number of arguments but only one expression. The expression is evaluated and returned. Lambda functions can be used wherever function objects are required."
   ]
  },
  {
   "cell_type": "code",
   "execution_count": 1,
   "metadata": {},
   "outputs": [
    {
     "name": "stdout",
     "output_type": "stream",
     "text": [
      "10\n"
     ]
    }
   ],
   "source": [
    "# Example of Lambda Function in python\n",
    "# Here is an example of lambda function that doubles the input value.\n",
    "\n",
    "# Program to show the use of lambda functions\n",
    "\n",
    "double = lambda x: x * 2\n",
    "\n",
    "# Output: 10\n",
    "print(double(5))"
   ]
  },
  {
   "cell_type": "markdown",
   "metadata": {},
   "source": [
    "In the above program, lambda x: x * 2 is the lambda function. Here x is the argument and x * 2 is the expression that gets evaluated and returned.\n",
    "\n",
    "This function has no name. It returns a function object which is assigned to the identifier double. We can now call it as a normal function. The statement"
   ]
  },
  {
   "cell_type": "code",
   "execution_count": 2,
   "metadata": {},
   "outputs": [],
   "source": [
    "double = lambda x: x * 2"
   ]
  },
  {
   "cell_type": "code",
   "execution_count": 3,
   "metadata": {},
   "outputs": [],
   "source": [
    "def double(x):\n",
    "    return x * 2"
   ]
  },
  {
   "cell_type": "markdown",
   "metadata": {},
   "source": [
    "Use of Lambda Function in python\n",
    "We use lambda functions when we require a nameless function for a short period of time.\n",
    "\n",
    "In Python, we generally use it as an argument to a higher-order function (a function that takes in other functions as arguments). Lambda functions are used along with built-in functions like filter(), map() etc."
   ]
  },
  {
   "cell_type": "markdown",
   "metadata": {},
   "source": [
    "Example use with filter()\n",
    "The filter() function in Python takes in a function and a list as arguments.\n",
    "\n",
    "The function is called with all the items in the list and a new list is returned which contains items for which the function evaluats to True.\n",
    "\n",
    "Here is an example use of filter() function to filter out only even numbers from a list."
   ]
  },
  {
   "cell_type": "code",
   "execution_count": 4,
   "metadata": {},
   "outputs": [
    {
     "name": "stdout",
     "output_type": "stream",
     "text": [
      "[4, 6, 8, 12]\n"
     ]
    }
   ],
   "source": [
    "# Program to filter out only the even items from a list\n",
    "\n",
    "my_list = [1, 5, 4, 6, 8, 11, 3, 12]\n",
    "\n",
    "new_list = list(filter(lambda x: (x%2 == 0) , my_list))\n",
    "\n",
    "# Output: [4, 6, 8, 12]\n",
    "print(new_list)"
   ]
  },
  {
   "cell_type": "markdown",
   "metadata": {},
   "source": [
    "Example use with map()\n",
    "The map() function in Python takes in a function and a list.\n",
    "\n",
    "The function is called with all the items in the list and a new list is returned which contains items returned by that function for each item.\n",
    "\n",
    "Here is an example use of map() function to double all the items in a list."
   ]
  },
  {
   "cell_type": "code",
   "execution_count": 5,
   "metadata": {},
   "outputs": [
    {
     "name": "stdout",
     "output_type": "stream",
     "text": [
      "[2, 10, 8, 12, 16, 22, 6, 24]\n"
     ]
    }
   ],
   "source": [
    "# Program to double each item in a list using map()\n",
    "\n",
    "my_list = [1, 5, 4, 6, 8, 11, 3, 12]\n",
    "\n",
    "new_list = list(map(lambda x: x * 2 , my_list))\n",
    "\n",
    "# Output: [2, 10, 8, 12, 16, 22, 6, 24]\n",
    "print(new_list)"
   ]
  },
  {
   "cell_type": "code",
   "execution_count": null,
   "metadata": {},
   "outputs": [],
   "source": []
  }
 ],
 "metadata": {
  "kernelspec": {
   "display_name": "Python 3",
   "language": "python",
   "name": "python3"
  },
  "language_info": {
   "codemirror_mode": {
    "name": "ipython",
    "version": 3
   },
   "file_extension": ".py",
   "mimetype": "text/x-python",
   "name": "python",
   "nbconvert_exporter": "python",
   "pygments_lexer": "ipython3",
   "version": "3.7.4"
  }
 },
 "nbformat": 4,
 "nbformat_minor": 2
}
