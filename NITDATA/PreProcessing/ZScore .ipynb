{
 "cells": [
  {
   "cell_type": "code",
   "execution_count": 4,
   "metadata": {},
   "outputs": [
    {
     "data": {
      "text/plain": [
       "array([[ 1.30082778],\n",
       "       [-0.17942452],\n",
       "       [ 0.22428065],\n",
       "       [-0.4485613 ],\n",
       "       [ 0.89712261],\n",
       "       [-1.79424522]])"
      ]
     },
     "execution_count": 4,
     "metadata": {},
     "output_type": "execute_result"
    }
   ],
   "source": [
    "import pandas as pd\n",
    "import numpy as np\n",
    "from sklearn.preprocessing import StandardScaler #Zscore\n",
    "\n",
    "temperature=[98,87,90,85,95,75]\n",
    "numberofcustomers=[15,12,10,10,16,7]\n",
    "\n",
    "## Creating the dataframe from the above two lists\n",
    "dframe= pd.DataFrame(list(zip(temperature, numberofcustomers)), columns =['temperature', 'numberofcustomers'])\n",
    "\n",
    "temp=StandardScaler()\n",
    "\n",
    "temp.fit(np.array(dframe['temperature']).reshape(-1, 1))\n",
    "\n",
    "temp_transformed_values=temp.transform(np.array(dframe['temperature']).reshape(-1, 1))\n",
    "\n",
    "temp_transformed_values"
   ]
  },
  {
   "cell_type": "code",
   "execution_count": 2,
   "metadata": {},
   "outputs": [
    {
     "data": {
      "text/plain": [
       "array([[ 1.07832773],\n",
       "       [ 0.10783277],\n",
       "       [-0.53916387],\n",
       "       [-0.53916387],\n",
       "       [ 1.40182605],\n",
       "       [-1.50965882]])"
      ]
     },
     "execution_count": 2,
     "metadata": {},
     "output_type": "execute_result"
    }
   ],
   "source": [
    "\n",
    "customer=StandardScaler()\n",
    "\n",
    "customer.fit(np.array(dframe['numberofcustomers']).reshape(-1, 1))\n",
    "\n",
    "customer_transformed_values=customer.transform(np.array(dframe['numberofcustomers']).reshape(-1, 1))\n",
    "\n",
    "customer_transformed_values"
   ]
  },
  {
   "cell_type": "code",
   "execution_count": null,
   "metadata": {},
   "outputs": [],
   "source": []
  },
  {
   "cell_type": "code",
   "execution_count": null,
   "metadata": {},
   "outputs": [],
   "source": []
  }
 ],
 "metadata": {
  "kernelspec": {
   "display_name": "Python 3",
   "language": "python",
   "name": "python3"
  },
  "language_info": {
   "codemirror_mode": {
    "name": "ipython",
    "version": 3
   },
   "file_extension": ".py",
   "mimetype": "text/x-python",
   "name": "python",
   "nbconvert_exporter": "python",
   "pygments_lexer": "ipython3",
   "version": "3.7.4"
  }
 },
 "nbformat": 4,
 "nbformat_minor": 2
}
