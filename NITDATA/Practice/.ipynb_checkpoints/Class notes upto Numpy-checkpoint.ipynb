{
 "cells": [
  {
   "cell_type": "markdown",
   "metadata": {},
   "source": [
    "#functions used for reusability.\n",
    "#code maintanability.\n",
    "#function begi with keyword def,function name and parenthesis(())\n"
   ]
  },
  {
   "cell_type": "code",
   "execution_count": 9,
   "metadata": {},
   "outputs": [
    {
     "name": "stdout",
     "output_type": "stream",
     "text": [
      "value inside function: 30\n",
      "value outside fun: 30\n"
     ]
    }
   ],
   "source": [
    "\n",
    "def my_fun():\n",
    "    print(\"value inside function:\",x)\n",
    "    \n",
    "x=30    \n",
    "my_fun()\n",
    "print(\"value outside fun:\",x)"
   ]
  },
  {
   "cell_type": "code",
   "execution_count": 5,
   "metadata": {
    "scrolled": true
   },
   "outputs": [
    {
     "name": "stdout",
     "output_type": "stream",
     "text": [
      "1D zero matrix [ 0.  0.  0.  0.  0.]\n",
      "2D zero matrix:\n",
      " [[ 0.  0.  0.]\n",
      " [ 0.  0.  0.]\n",
      " [ 0.  0.  0.]\n",
      " [ 0.  0.  0.]\n",
      " [ 0.  0.  0.]]\n"
     ]
    }
   ],
   "source": [
    "print(\"1D zero matrix\",np.zeros(5))\n",
    "print(\"2D zero matrix:\\n\",np.zeros((5,3)))"
   ]
  },
  {
   "cell_type": "code",
   "execution_count": 22,
   "metadata": {},
   "outputs": [
    {
     "name": "stdout",
     "output_type": "stream",
     "text": [
      "3D zero matrix:\n",
      " [[[ 0.  0.  0.  0.  0.]\n",
      "  [ 0.  0.  0.  0.  0.]\n",
      "  [ 0.  0.  0.  0.  0.]]\n",
      "\n",
      " [[ 0.  0.  0.  0.  0.]\n",
      "  [ 0.  0.  0.  0.  0.]\n",
      "  [ 0.  0.  0.  0.  0.]]]\n"
     ]
    }
   ],
   "source": [
    "print(\"3D zero matrix:\\n\",np.zeros(((2,3,5))))"
   ]
  },
  {
   "cell_type": "code",
   "execution_count": 33,
   "metadata": {},
   "outputs": [
    {
     "name": "stdout",
     "output_type": "stream",
     "text": [
      "[5 0 3 3 7]\n",
      "[[9 3 5]\n",
      " [2 4 7]]\n",
      "[[[6 8 8 1 6]\n",
      "  [7 7 8 1 5]\n",
      "  [9 8 9 4 3]]\n",
      "\n",
      " [[0 3 5 0 2]\n",
      "  [3 8 1 3 3]\n",
      "  [3 7 0 1 9]]]\n"
     ]
    }
   ],
   "source": [
    "np.random.seed(0)\n",
    "x1=np.random.randint(10,size=5)\n",
    "x2=np.random.randint(10,size=(2,3))\n",
    "x3=np.random.randint(10,size=(2,3,5))\n",
    "print(x1)\n",
    "print(x2)\n",
    "print(x3)"
   ]
  },
  {
   "cell_type": "code",
   "execution_count": 37,
   "metadata": {},
   "outputs": [
    {
     "name": "stdout",
     "output_type": "stream",
     "text": [
      "x3 ndim: 3\n",
      "x3 shape: (2, 3, 5)\n",
      "x3 size: 30\n"
     ]
    }
   ],
   "source": [
    "print(\"x3 ndim:\",x3.ndim)\n",
    "print(\"x3 shape:\",x3.shape)\n",
    "print(\"x3 size:\",x3.size)"
   ]
  },
  {
   "cell_type": "markdown",
   "metadata": {},
   "source": [
    "# itemsize\n",
    "# nbytes"
   ]
  },
  {
   "cell_type": "code",
   "execution_count": 38,
   "metadata": {},
   "outputs": [
    {
     "data": {
      "text/plain": [
       "4"
      ]
     },
     "execution_count": 38,
     "metadata": {},
     "output_type": "execute_result"
    }
   ],
   "source": [
    "x3.itemsize"
   ]
  },
  {
   "cell_type": "code",
   "execution_count": 39,
   "metadata": {},
   "outputs": [
    {
     "data": {
      "text/plain": [
       "120"
      ]
     },
     "execution_count": 39,
     "metadata": {},
     "output_type": "execute_result"
    }
   ],
   "source": [
    "x3.nbytes"
   ]
  },
  {
   "cell_type": "code",
   "execution_count": 7,
   "metadata": {},
   "outputs": [
    {
     "data": {
      "text/plain": [
       "array([[1, 2, 3],\n",
       "       [4, 5, 6]])"
      ]
     },
     "execution_count": 7,
     "metadata": {},
     "output_type": "execute_result"
    }
   ],
   "source": [
    "import numpy as np\n",
    "arr=np.array([[1, 2, 3],[4, 5, 6]])\n",
    "arr"
   ]
  },
  {
   "cell_type": "code",
   "execution_count": 9,
   "metadata": {},
   "outputs": [
    {
     "data": {
      "text/plain": [
       "array([[ 2,  4,  6],\n",
       "       [ 8, 10, 12]])"
      ]
     },
     "execution_count": 9,
     "metadata": {},
     "output_type": "execute_result"
    }
   ],
   "source": [
    "array1=arr+arr\n",
    "array1"
   ]
  },
  {
   "cell_type": "code",
   "execution_count": 10,
   "metadata": {},
   "outputs": [
    {
     "data": {
      "text/plain": [
       "array([[2, 3, 4],\n",
       "       [5, 6, 7]])"
      ]
     },
     "execution_count": 10,
     "metadata": {},
     "output_type": "execute_result"
    }
   ],
   "source": [
    "#broadcasting--->operations b/w diff sized\n",
    "#scalar addition\n",
    "arr+1"
   ]
  },
  {
   "cell_type": "code",
   "execution_count": 4,
   "metadata": {},
   "outputs": [
    {
     "name": "stdout",
     "output_type": "stream",
     "text": [
      "my first array: [ 6.   7.5  8.   1. ]\n"
     ]
    }
   ],
   "source": [
    "import numpy as np\n",
    "data1=[6,7.5,8,1]\n",
    "arr1=np.array(data1)\n",
    "print(\"my first array:\",arr1)"
   ]
  },
  {
   "cell_type": "code",
   "execution_count": 15,
   "metadata": {},
   "outputs": [
    {
     "name": "stdout",
     "output_type": "stream",
     "text": [
      "My array is:\n",
      "[0 1 2 3 4 5 6 7 8 9]\n",
      "5\n"
     ]
    }
   ],
   "source": [
    "arr1=np.arange(10)\n",
    "print(\"My array is:\")\n",
    "print(arr1)\n",
    "print(arr1[5])"
   ]
  },
  {
   "cell_type": "code",
   "execution_count": 34,
   "metadata": {},
   "outputs": [
    {
     "name": "stdout",
     "output_type": "stream",
     "text": [
      "Original array: \n",
      " [[5 0 3 3]\n",
      " [7 9 3 5]\n",
      " [2 4 7 6]]\n",
      "Slice: 5\n",
      "Slice: 3\n",
      "Slice: [5 3]\n"
     ]
    }
   ],
   "source": [
    "#multi dimensional array\n",
    "import numpy as np\n",
    "np.random.seed(0)\n",
    "x2=np.random.randint(10, size=(3,4))\n",
    "print(\"Original array: \\n\",x2)\n",
    "print(\"Slice:\",x2[(0,0)])\n",
    "print(\"Slice:\",x2[(0,-1)])\n",
    "print(\"Slice:\",x2[(0,0),(0,2)])## 1 row only\n",
    "#print(\"Slice:\",x2[(0,0),(0,-1),(1,1)])##3 dimensional"
   ]
  },
  {
   "cell_type": "code",
   "execution_count": 39,
   "metadata": {},
   "outputs": [
    {
     "name": "stdout",
     "output_type": "stream",
     "text": [
      "Slice: [9 0]\n"
     ]
    }
   ],
   "source": [
    "print(\"Slice:\",x2[(1,0),(1,1)])"
   ]
  },
  {
   "cell_type": "code",
   "execution_count": 49,
   "metadata": {},
   "outputs": [
    {
     "name": "stdout",
     "output_type": "stream",
     "text": [
      "[0 1 2 3 4 5 6 7 8 9]\n",
      "First 5 elements: [0 1 2 3 4]\n",
      "\n",
      "[1 4 7]\n",
      "\n",
      "2nd rows,3rd column:\n",
      " [[5 0 3]\n",
      " [7 9 3]]\n",
      "\n",
      "all rows,every other column:\n",
      " [[0 3]\n",
      " [9 5]\n",
      " [4 6]]\n"
     ]
    }
   ],
   "source": [
    "##x[start:stop:step]\n",
    "x=np.arange(10)\n",
    "print(x)\n",
    "print(\"First 5 elements:\",x[:5])\n",
    "print(\"\")\n",
    "print(x[1::3])\n",
    "print(\"\")\n",
    "print(\"2nd rows,3rd column:\\n\",x2[:2,:3])\n",
    "print(\"\")\n",
    "print(\"all rows,every other column:\\n\",x2[:3,1::2])\n"
   ]
  },
  {
   "cell_type": "code",
   "execution_count": 50,
   "metadata": {},
   "outputs": [
    {
     "data": {
      "text/plain": [
       "array([[ 0,  1,  2,  3,  4],\n",
       "       [ 5,  6,  7,  8,  9],\n",
       "       [10, 11, 12, 13, 14]])"
      ]
     },
     "execution_count": 50,
     "metadata": {},
     "output_type": "execute_result"
    }
   ],
   "source": [
    "arr2=np.arange(15).reshape(3,5)\n",
    "arr2"
   ]
  },
  {
   "cell_type": "code",
   "execution_count": 54,
   "metadata": {},
   "outputs": [
    {
     "name": "stdout",
     "output_type": "stream",
     "text": [
      "[[[ 0  1  2  3]\n",
      "  [ 4  5  6  7]]\n",
      "\n",
      " [[ 8  9 10 11]\n",
      "  [12 13 14 15]]]\n",
      "\n",
      "[[[ 0  4]\n",
      "  [ 1  5]\n",
      "  [ 2  6]\n",
      "  [ 3  7]]\n",
      "\n",
      " [[ 8 12]\n",
      "  [ 9 13]\n",
      "  [10 14]\n",
      "  [11 15]]]\n"
     ]
    }
   ],
   "source": [
    "arr3=np.arange(16).reshape(2,2,4)\n",
    "print(arr3)\n",
    "print(\"\")\n",
    "print(arr3.swapaxes(1,2))"
   ]
  },
  {
   "cell_type": "code",
   "execution_count": null,
   "metadata": {
    "collapsed": true
   },
   "outputs": [],
   "source": []
  }
 ],
 "metadata": {
  "kernelspec": {
   "display_name": "Python 3",
   "language": "python",
   "name": "python3"
  },
  "language_info": {
   "codemirror_mode": {
    "name": "ipython",
    "version": 3
   },
   "file_extension": ".py",
   "mimetype": "text/x-python",
   "name": "python",
   "nbconvert_exporter": "python",
   "pygments_lexer": "ipython3",
   "version": "3.6.3"
  }
 },
 "nbformat": 4,
 "nbformat_minor": 2
}
