{
 "cells": [
  {
   "cell_type": "code",
   "execution_count": 1,
   "metadata": {},
   "outputs": [],
   "source": [
    "import re"
   ]
  },
  {
   "cell_type": "code",
   "execution_count": 10,
   "metadata": {},
   "outputs": [],
   "source": [
    "line = \"AV Analytics Vidhya AV\""
   ]
  },
  {
   "cell_type": "code",
   "execution_count": 14,
   "metadata": {},
   "outputs": [
    {
     "name": "stdout",
     "output_type": "stream",
     "text": [
      "<_sre.SRE_Match object; span=(0, 2), match='AV'>\n",
      "AV\n"
     ]
    }
   ],
   "source": [
    "#Use “r” at the start of the pattern string, it designates a python raw string.\n",
    "\n",
    "result=re.match(r'AV',line)\n",
    "print(result)\n",
    "print(result.group(0))"
   ]
  },
  {
   "cell_type": "code",
   "execution_count": 25,
   "metadata": {},
   "outputs": [],
   "source": [
    "result = re.match(r'Analytics', 'AV Analytics Vidhya AV')\n",
    "#print(result.start())\n",
    "#print(result.end())"
   ]
  },
  {
   "cell_type": "code",
   "execution_count": 30,
   "metadata": {},
   "outputs": [
    {
     "name": "stdout",
     "output_type": "stream",
     "text": [
      "<_sre.SRE_Match object; span=(3, 12), match='Analytics'>\n",
      "Analytics\n"
     ]
    }
   ],
   "source": [
    "result=re.search(r'Analytics',line)\n",
    "print(result)\n",
    "print(result.group(0))"
   ]
  },
  {
   "cell_type": "code",
   "execution_count": 39,
   "metadata": {},
   "outputs": [
    {
     "name": "stdout",
     "output_type": "stream",
     "text": [
      "['AV', 'AV']\n"
     ]
    },
    {
     "data": {
      "text/plain": [
       "2"
      ]
     },
     "execution_count": 39,
     "metadata": {},
     "output_type": "execute_result"
    }
   ],
   "source": [
    "result=re.findall(r'AV',line)\n",
    "print(result)"
   ]
  },
  {
   "cell_type": "code",
   "execution_count": 41,
   "metadata": {},
   "outputs": [
    {
     "name": "stdout",
     "output_type": "stream",
     "text": [
      "['AV Anal', 'tics Vidh', 'a AV']\n"
     ]
    }
   ],
   "source": [
    "result=re.split(r'y', line)\n",
    "print(result)"
   ]
  },
  {
   "cell_type": "code",
   "execution_count": 42,
   "metadata": {},
   "outputs": [
    {
     "name": "stdout",
     "output_type": "stream",
     "text": [
      "['AV Anal', 'tics Vidhya AV']\n"
     ]
    }
   ],
   "source": [
    "result=re.split(r'y', line,maxsplit=1)\n",
    "print(result)"
   ]
  },
  {
   "cell_type": "code",
   "execution_count": 46,
   "metadata": {},
   "outputs": [
    {
     "name": "stdout",
     "output_type": "stream",
     "text": [
      "Prudiv Analytics Vidhya Prudiv\n"
     ]
    }
   ],
   "source": [
    "result=re.sub(r'AV','Prudiv',line)\n",
    "print(result)"
   ]
  },
  {
   "cell_type": "code",
   "execution_count": 143,
   "metadata": {},
   "outputs": [
    {
     "name": "stdout",
     "output_type": "stream",
     "text": [
      "['AV', 'AV']\n",
      "['AV']\n"
     ]
    }
   ],
   "source": [
    "pattern=re.compile('AV')\n",
    "result=pattern.findall(line)\n",
    "print(result)\n",
    "result2=pattern.findall('AV is largest analytics community of India')\n",
    "print(result2)"
   ]
  },
  {
   "cell_type": "code",
   "execution_count": 144,
   "metadata": {},
   "outputs": [
    {
     "name": "stdout",
     "output_type": "stream",
     "text": [
      "using .\n",
      "['A', 'V', ' ', 'A', 'n', 'a', 'l', 'y', 't', 'i', 'c', 's', ' ', 'V', 'i', 'd', 'h', 'y', 'a', ' ', 'A', 'V', ' ', '1', '2', '3']\n",
      "\n",
      "using \\w\n",
      "['A', 'V', 'A', 'n', 'a', 'l', 'y', 't', 'i', 'c', 's', 'V', 'i', 'd', 'h', 'y', 'a', 'A', 'V', '1', '2', '3']\n",
      "\n",
      "using \\W\n",
      "[' ', ' ', ' ', ' ']\n",
      "\n",
      "using \\w.\n",
      "['AV', 'An', 'al', 'yt', 'ic', 's ', 'Vi', 'dh', 'ya', 'AV']\n",
      "\n",
      "using \\w?\n",
      "['A', 'V', '', 'A', 'n', 'a', 'l', 'y', 't', 'i', 'c', 's', '', 'V', 'i', 'd', 'h', 'y', 'a', '', 'A', 'V', '']\n",
      "\n",
      "using \\w+\n",
      "['AV', 'Analytics', 'Vidhya', 'AV']\n",
      "\n",
      "using \\w*\n",
      "['AV', '', 'Analytics', '', 'Vidhya', '', 'AV', '']\n",
      "\n",
      "using ^\\w+\n",
      "['AV']\n",
      "\n",
      "using \\w+$\n",
      "['India']\n",
      "\n",
      "using \\w+^\n",
      "[]\n",
      "\n"
     ]
    }
   ],
   "source": [
    "#Problem 1: Return the first word of a given string\n",
    "\n",
    "line1 = \"AV Analytics Vidhya AV 123\"\n",
    "\n",
    "print('using .')\n",
    "result=re.findall(r'.',line1)\n",
    "print(result)\n",
    "print('')\n",
    "\n",
    "print('using \\w')\n",
    "result=re.findall(r'\\w',line1)\n",
    "print(result)\n",
    "print('')\n",
    "\n",
    "print('using \\W')\n",
    "result=re.findall(r'\\W',line1)\n",
    "print(result)\n",
    "print('')\n",
    "\n",
    "print('using \\w.')\n",
    "result=re.findall(r'\\w.',line)\n",
    "print(result)\n",
    "print('')\n",
    "\n",
    "print('using \\w?')\n",
    "result=re.findall(r'\\w?',line)\n",
    "print(result)\n",
    "print('')\n",
    "\n",
    "print('using \\w+')\n",
    "result=re.findall(r'\\w+',line)\n",
    "print(result)\n",
    "print('')\n",
    "\n",
    "print('using \\w*')\n",
    "result=re.findall(r'\\w*',line)\n",
    "print(result)\n",
    "print('')\n",
    "\n",
    "print('using ^\\w+')\n",
    "result=re.findall(r'^\\w+','AV is largest Analytics community of India')\n",
    "print(result)\n",
    "print('')\n",
    "\n",
    "print('using \\w+$')\n",
    "result=re.findall(r'\\w+$','AV is largest Analytics community of India')\n",
    "print(result)\n",
    "print('')\n",
    "\n",
    "print('using \\w+^')\n",
    "result=re.findall(r'\\w+^','AV is largest Analytics community of India')\n",
    "print(result)\n",
    "print('')"
   ]
  },
  {
   "cell_type": "code",
   "execution_count": 66,
   "metadata": {},
   "outputs": [
    {
     "name": "stdout",
     "output_type": "stream",
     "text": [
      "['AV', 'An', 'al', 'yt', 'ic', 's ', 'Vi', 'dh', 'ya', 'AV']\n"
     ]
    }
   ],
   "source": [
    "result=re.findall(r'\\w.',line)\n",
    "print(result)"
   ]
  },
  {
   "cell_type": "code",
   "execution_count": 150,
   "metadata": {},
   "outputs": [
    {
     "name": "stdout",
     "output_type": "stream",
     "text": [
      "['lar', 'ges', 'Ana', 'lyt', 'ics', 'com', 'mun', 'ity', 'Ind']\n",
      "\n",
      "['AV ', 'is ', 'lar', 'Ana', 'com', 'of ', 'Ind']\n",
      "\n"
     ]
    }
   ],
   "source": [
    "#Problem 2: Return the first two character of each word\n",
    "result=re.findall(r'\\w\\w\\w','AV is largest Analytics community of India')\n",
    "print(result)\n",
    "print('')\n",
    "\n",
    "result=re.findall(r'\\b\\w\\w.','AV is largest Analytics community of India')\n",
    "print(result)\n",
    "print('')\n"
   ]
  },
  {
   "cell_type": "code",
   "execution_count": 161,
   "metadata": {},
   "outputs": [
    {
     "name": "stdout",
     "output_type": "stream",
     "text": [
      "['hi', 'prudhvi', 'gmail', 'com']\n",
      "['hi', '', 'prudhvi', '', 'gmail', '', 'com', '']\n",
      "['h', 'i', '', 'p', 'r', 'u', 'd', 'h', 'v', 'i', '', 'g', 'm', 'a', 'i', 'l', '', 'c', 'o', 'm', '']\n",
      "['hi', 'pr', 'ud', 'hv', 'i@', 'gm', 'ai', 'l.', 'co']\n",
      "['h', 'i', 'p', 'r', 'u', 'd', 'h', 'v', 'i', 'g', 'm', 'a', 'i', 'l', 'c', 'o', 'm']\n",
      "['h', 'i', ' ', 'p', 'r', 'u', 'd', 'h', 'v', 'i', '@', 'g', 'm', 'a', 'i', 'l', '.', 'c', 'o', 'm']\n"
     ]
    }
   ],
   "source": [
    "print(re.findall(r'\\w+', 'hi prudhvi@gmail.com'))\n",
    "print(re.findall(r'\\w*', 'hi prudhvi@gmail.com'))\n",
    "print(re.findall(r'\\w?', 'hi prudhvi@gmail.com'))\n",
    "print(re.findall(r'\\w.', 'hi prudhvi@gmail.com'))\n",
    "print(re.findall(r'\\w', 'hi prudhvi@gmail.com'))\n",
    "print(re.findall(r'.', 'hi prudhvi@gmail.com'))"
   ]
  },
  {
   "cell_type": "code",
   "execution_count": 163,
   "metadata": {},
   "outputs": [
    {
     "name": "stdout",
     "output_type": "stream",
     "text": [
      "['@gmail', '@test', '@analyticsvidhya', '@rest']\n",
      "\n",
      "['@gmail.com', '@test.in', '@analyticsvidhya.com', '@rest.biz']\n",
      "\n",
      "['com', 'in', 'com', 'biz']\n",
      "\n",
      "['com', 'in', 'com', 'biz']\n"
     ]
    }
   ],
   "source": [
    "#Problem 3: Return the domain type of given email-ids\n",
    "#Solution-1  Extract all characters after “@”\n",
    "result=re.findall(r'@\\w+','@ abc.test@gmail.com, xyz@test.in, test.first@analyticsvidhya.com, first.test@rest.biz')\n",
    "print(result)\n",
    "print('')\n",
    "\n",
    "result=re.findall(r'@\\w+.\\w+','abc.test@gmail.com, xyz@test.in, test.first@analyticsvidhya.com, first.test@rest.biz')\n",
    "print(result)\n",
    "print('')\n",
    "\n",
    "result=re.findall(r'@\\w+.(\\w+)','abc.test@gmail.com, xyz@test.in, test.first@analyticsvidhya.com, first.test@rest.biz')\n",
    "print(result)\n",
    "print('')\n",
    "\n",
    "result=re.findall(r'@\\w+.(\\w+){1}','abc.test@gmail.com, xyz@test.in, test.first@analyticsvidhya.com, first.test@rest.biz')\n",
    "print(result)"
   ]
  },
  {
   "cell_type": "code",
   "execution_count": 126,
   "metadata": {},
   "outputs": [
    {
     "name": "stdout",
     "output_type": "stream",
     "text": [
      "['12-05-2007', '11-11-2011', '12-01-2009']\n",
      "\n",
      "['2007', '2011', '2009']\n"
     ]
    }
   ],
   "source": [
    "#Problem 4: Return date from given string\n",
    "result=re.findall(r'\\d{2}-\\d{2}-\\d{4}','Amit 34-3456 12-05-2007, XYZ 56-4532 11-11-2011, ABC 67-8945 12-01-2009')\n",
    "print(result)\n",
    "print('')\n",
    "\n",
    "result=re.findall(r'\\d{2}-\\d{2}-(\\d{4})','Amit 34-3456 12-05-2007, XYZ 56-4532 11-11-2011, ABC 67-8945 12-01-2009')\n",
    "print(result)"
   ]
  },
  {
   "cell_type": "code",
   "execution_count": 171,
   "metadata": {},
   "outputs": [
    {
     "name": "stdout",
     "output_type": "stream",
     "text": [
      "using \\w+ -1\n",
      "['AV', 'is', 'largest', 'Analytics', 'community', 'of', 'India']\n",
      "\n",
      "using [aeiouAEIOU]\\w+ -2\n",
      "['AV', 'is', 'argest', 'Analytics', 'ommunity', 'of', 'India']\n",
      "\n",
      "using \b[aeiouAEIOU]\\w+ -3\n",
      "['AV', 'is', 'Analytics', 'of', 'India']\n",
      "\n",
      "using \b[^aeiouAEIOU]\\w+ -4\n",
      "[' is', ' largest', ' Analytics', ' community', ' of', ' India']\n",
      "\n",
      "using \b[^aeiouAEIOU ]\\w+ -5\n",
      "['largest', 'community']\n",
      "\n"
     ]
    }
   ],
   "source": [
    "#Problem 5: Return all words of a string those starts with vowel\n",
    "print('using \\w+','-1')\n",
    "result=re.findall(r'\\w+','AV is largest Analytics community of India')\n",
    "print(result)\n",
    "print('')\n",
    "\n",
    "print('using [aeiouAEIOU]\\w+','-2')\n",
    "result=re.findall(r'[aeiouAEIOU]\\w+','AV is largest Analytics community of India')\n",
    "print(result)\n",
    "print('')\n",
    "\n",
    "print('using \\b[aeiouAEIOU]\\w+','-3')\n",
    "result=re.findall(r'\\b[aeiouAEIOU]\\w+','AV is largest Analytics community of India')\n",
    "print(result)\n",
    "print('')\n",
    "\n",
    "print('using \\b[^aeiouAEIOU]\\w+','-4')\n",
    "result=re.findall(r'\\b[^aeiouAEIOU]\\w+','AV is largest Analytics community of India')\n",
    "print(result)\n",
    "print('')\n",
    "\n",
    "print('using \\b[^aeiouAEIOU ]\\w+','-5')\n",
    "result=re.findall(r'\\b[^aeiouAEIOU ]\\w+','AV is largest Analytics community of India')\n",
    "print(result)\n",
    "print('')"
   ]
  },
  {
   "cell_type": "code",
   "execution_count": 176,
   "metadata": {},
   "outputs": [
    {
     "ename": "TypeError",
     "evalue": "expected string or bytes-like object",
     "output_type": "error",
     "traceback": [
      "\u001b[1;31m---------------------------------------------------------------------------\u001b[0m",
      "\u001b[1;31mTypeError\u001b[0m                                 Traceback (most recent call last)",
      "\u001b[1;32m<ipython-input-176-3f092ebedb0e>\u001b[0m in \u001b[0;36m<module>\u001b[1;34m()\u001b[0m\n\u001b[0;32m      1\u001b[0m \u001b[0mli\u001b[0m\u001b[1;33m=\u001b[0m\u001b[1;33m[\u001b[0m\u001b[1;34m'9999999999'\u001b[0m\u001b[1;33m,\u001b[0m\u001b[1;34m'999999-999'\u001b[0m\u001b[1;33m,\u001b[0m\u001b[1;34m'99999x9999'\u001b[0m\u001b[1;33m]\u001b[0m\u001b[1;33m\u001b[0m\u001b[0m\n\u001b[0;32m      2\u001b[0m \u001b[1;32mfor\u001b[0m \u001b[0mval\u001b[0m \u001b[1;32min\u001b[0m \u001b[0mli\u001b[0m\u001b[1;33m:\u001b[0m\u001b[1;33m\u001b[0m\u001b[0m\n\u001b[1;32m----> 3\u001b[1;33m     \u001b[0mprint\u001b[0m\u001b[1;33m(\u001b[0m\u001b[0mre\u001b[0m\u001b[1;33m.\u001b[0m\u001b[0mfindall\u001b[0m\u001b[1;33m(\u001b[0m\u001b[1;34mr'[8-9]\\d{1}'\u001b[0m\u001b[1;33m,\u001b[0m\u001b[0mli\u001b[0m\u001b[1;33m)\u001b[0m\u001b[1;33m)\u001b[0m\u001b[1;33m\u001b[0m\u001b[0m\n\u001b[0m\u001b[0;32m      4\u001b[0m \u001b[1;33m\u001b[0m\u001b[0m\n",
      "\u001b[1;32mC:\\ProgramData\\Anaconda3\\lib\\re.py\u001b[0m in \u001b[0;36mfindall\u001b[1;34m(pattern, string, flags)\u001b[0m\n\u001b[0;32m    220\u001b[0m \u001b[1;33m\u001b[0m\u001b[0m\n\u001b[0;32m    221\u001b[0m     Empty matches are included in the result.\"\"\"\n\u001b[1;32m--> 222\u001b[1;33m     \u001b[1;32mreturn\u001b[0m \u001b[0m_compile\u001b[0m\u001b[1;33m(\u001b[0m\u001b[0mpattern\u001b[0m\u001b[1;33m,\u001b[0m \u001b[0mflags\u001b[0m\u001b[1;33m)\u001b[0m\u001b[1;33m.\u001b[0m\u001b[0mfindall\u001b[0m\u001b[1;33m(\u001b[0m\u001b[0mstring\u001b[0m\u001b[1;33m)\u001b[0m\u001b[1;33m\u001b[0m\u001b[0m\n\u001b[0m\u001b[0;32m    223\u001b[0m \u001b[1;33m\u001b[0m\u001b[0m\n\u001b[0;32m    224\u001b[0m \u001b[1;32mdef\u001b[0m \u001b[0mfinditer\u001b[0m\u001b[1;33m(\u001b[0m\u001b[0mpattern\u001b[0m\u001b[1;33m,\u001b[0m \u001b[0mstring\u001b[0m\u001b[1;33m,\u001b[0m \u001b[0mflags\u001b[0m\u001b[1;33m=\u001b[0m\u001b[1;36m0\u001b[0m\u001b[1;33m)\u001b[0m\u001b[1;33m:\u001b[0m\u001b[1;33m\u001b[0m\u001b[0m\n",
      "\u001b[1;31mTypeError\u001b[0m: expected string or bytes-like object"
     ]
    }
   ],
   "source": [
    "li=['9999999999','999999-999','99999x9999']\n",
    "for val in li:\n",
    "    print(re.findall(r'[8-9]\\d{1}',li))\n",
    "    "
   ]
  },
  {
   "cell_type": "code",
   "execution_count": 178,
   "metadata": {},
   "outputs": [
    {
     "name": "stdout",
     "output_type": "stream",
     "text": [
      "['asdf', 'fjdk', 'afed', 'fjek', 'asdf', 'foo']\n",
      "asdf fjdk afed fjek asdf foo\n"
     ]
    }
   ],
   "source": [
    "line = 'asdf fjdk;afed,fjek,asdf,foo' # String has multiple delimiters (\";\",\",\",\" \").\n",
    "result= re.split(r'[;,\\s]', line)\n",
    "print(result)\n",
    "\n",
    "line = 'asdf fjdk;afed,fjek,asdf,foo'\n",
    "result= re.sub(r'[;,\\s]',' ', line)\n",
    "print(result)"
   ]
  },
  {
   "cell_type": "code",
   "execution_count": 188,
   "metadata": {},
   "outputs": [
    {
     "name": "stdout",
     "output_type": "stream",
     "text": [
      "<tr align=\"center\"><td>1</td> <td>Noah</td> <td>Emma</td></tr>\n"
     ]
    },
    {
     "data": {
      "text/plain": [
       "[('1', 'Noah', 'Emma')]"
      ]
     },
     "execution_count": 188,
     "metadata": {},
     "output_type": "execute_result"
    }
   ],
   "source": [
    "#Problem 8: Retrieve Information from HTML file\n",
    "line='<tr align=\"center\"><td>1</td> <td>Noah</td> <td>Emma</td></tr>'\n",
    "print(line)\n",
    "re.findall(r'<td>(\\w+)</td>\\s<td>(\\w+)</td>\\s<td>(\\w+)</td>',line)"
   ]
  },
  {
   "cell_type": "code",
   "execution_count": 192,
   "metadata": {},
   "outputs": [
    {
     "name": "stdout",
     "output_type": "stream",
     "text": [
      "<_sre.SRE_Match object; span=(35, 39), match='[on]'>\n",
      "None\n",
      "Forgot to enter a pattern!\n",
      "Forgot to enter a pattern!\n",
      "Forgot to enter a pattern!\n"
     ]
    }
   ],
   "source": [
    "import re\n",
    "pattern = re.compile(r\"\\[(on|off)\\]\") # Slight optimization\n",
    "print(re.search(pattern, \"Mono: Playback 65 [75%] [-16.50dB] [on]\"))\n",
    "# Returns a Match object!\n",
    "print(re.search(pattern, \"Nada...:-(\"))\n",
    "# Doesn't return anything.\n",
    "# End Example\n",
    "\n",
    "# Exercise: make a regular expression that will match an email\n",
    "def test_email(your_pattern):\n",
    "    pattern = re.compile(your_pattern)\n",
    "    emails = [\"john@example.com\", \"python-list@python.org\", \"wha.t.`1an?ug{}ly@email.com\"]\n",
    "    for email in emails:\n",
    "        if not re.match(pattern, email):\n",
    "            print(\"You failed to match %s\" % (email))\n",
    "        elif not your_pattern:\n",
    "            print(\"Forgot to enter a pattern!\")\n",
    "        else:\n",
    "            print(\"Pass\")\n",
    "pattern = r\"\" # Your pattern here!\n",
    "test_email(pattern)"
   ]
  },
  {
   "cell_type": "code",
   "execution_count": 191,
   "metadata": {},
   "outputs": [
    {
     "name": "stdout",
     "output_type": "stream",
     "text": [
      "<_sre.SRE_Match object; span=(35, 39), match='[on]'>\n",
      "None\n"
     ]
    }
   ],
   "source": [
    "import re\n",
    "pattern = re.compile(r\"\\[(on|off)\\]\") # Slight optimization\n",
    "print(re.search(pattern, \"Mono: Playback 65 [75%] [-16.50dB] [on]\"))\n",
    "print(re.search(pattern, \"Nada...:-(\"))"
   ]
  }
 ],
 "metadata": {
  "kernelspec": {
   "display_name": "Python 3",
   "language": "python",
   "name": "python3"
  },
  "language_info": {
   "codemirror_mode": {
    "name": "ipython",
    "version": 3
   },
   "file_extension": ".py",
   "mimetype": "text/x-python",
   "name": "python",
   "nbconvert_exporter": "python",
   "pygments_lexer": "ipython3",
   "version": "3.7.4"
  }
 },
 "nbformat": 4,
 "nbformat_minor": 2
}
